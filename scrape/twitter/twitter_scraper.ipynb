{
 "cells": [
  {
   "cell_type": "code",
   "execution_count": 5,
   "metadata": {
    "collapsed": false
   },
   "outputs": [],
   "source": [
    "import media_mapper  #has my secret keys"
   ]
  },
  {
   "cell_type": "code",
   "execution_count": 6,
   "metadata": {
    "collapsed": false
   },
   "outputs": [],
   "source": [
    "from tweepy.streaming import StreamListener\n",
    "from tweepy import OAuthHandler\n",
    "from tweepy import Stream\n",
    "import json\n",
    "import sys\n",
    "import time\n",
    "import os"
   ]
  },
  {
   "cell_type": "code",
   "execution_count": 19,
   "metadata": {
    "collapsed": true
   },
   "outputs": [],
   "source": [
    "class StdOutListener(StreamListener):\n",
    "\n",
    "    def __init__(self,file_handle, production = True, stop = 1000):\n",
    "        self.file_handle = file_handle\n",
    "        self.production = production\n",
    "        self.counter = 0\n",
    "        self.stop = stop\n",
    "    #This function gets called every time a new tweet is received on the stream\n",
    "    def on_data(self, data):\n",
    "        #Just write data to one line in the file\n",
    "        self.file_handle.write(data)\n",
    "        self.counter += 1\n",
    "\n",
    "        if self.production == False:\n",
    "            #Convert the data to a json object (shouldn't do this in production; might slow down and miss tweets)\n",
    "            j=json.loads(data)\n",
    "\n",
    "            #See Twitter reference for what fields are included -- https://dev.twitter.com/docs/platform-objects/tweets\n",
    "            text=j[\"text\"] #The text of the tweet\n",
    "            print(text) #Print it out\n",
    "        if self.counter >= self.stop:\n",
    "            broken\n",
    "\n",
    "    def on_error(self, status):\n",
    "        print(\"ERROR\")\n",
    "        print(status)"
   ]
  },
  {
   "cell_type": "markdown",
   "metadata": {},
   "source": [
    "###Run Script.\n",
    "###Stream twitter data. Save it to ouputfile --> output.json\n",
    "if you are in ipython notebook, then sys.argv[1] equals -f.\n",
    "\n",
    "This way it knows you are in notebook and want limited streaming\n",
    "\n",
    "Else, assume you are running the entire script."
   ]
  },
  {
   "cell_type": "code",
   "execution_count": 12,
   "metadata": {
    "collapsed": false
   },
   "outputs": [
    {
     "name": "stdout",
     "output_type": "stream",
     "text": [
      "production is  False  stop in:  4\n"
     ]
    }
   ],
   "source": [
    "if sys.argv[1] == '-f':\n",
    "    production = False\n",
    "    stop = 4\n",
    "else:\n",
    "    production = True\n",
    "    stop = 1000\n",
    "    \n",
    "print 'production is ',production,' stop in: ',stop\n",
    "\n",
    "try:\n",
    "    os.mkdir('./results')\n",
    "except:\n",
    "    pass"
   ]
  },
  {
   "cell_type": "code",
   "execution_count": 22,
   "metadata": {
    "collapsed": false
   },
   "outputs": [
    {
     "name": "stdout",
     "output_type": "stream",
     "text": [
      "I'm at Target in Colma, CA https://t.co/GnLD2od060\n",
      "I really hate when people spell definitely wrong 😩 like what is wrong with you people, it really is not that hard 😅\n",
      "We're #hiring! Click to apply: Sr Maintenance Manager - http://t.co/nFiTe5euxO #RealEstate #nowhiring #SanFrancisco, CA #Job #Jobs\n",
      "An amazing visit to Yosemite - this place makes you feel so small! #Yosemite #californiaroadtrip… https://t.co/silMVY5TGr\n"
     ]
    }
   ],
   "source": [
    "def write_stream(out_file, production = False, stop = 1000, locations = [-122.75,36.8,-121.75,37.8]):\n",
    "    try:\n",
    "        #Create a file to store output. \"a\" means append (add on to previous file)\n",
    "        fhOut = open(out_file,\"a\")\n",
    "\n",
    "        #Create the listener\n",
    "        l = StdOutListener(fhOut, production = production, stop = stop)\n",
    "        \n",
    "        auth = OAuthHandler(media_mapper.keys.TWITTER_CONSUMER_KEY, media_mapper.keys.TWITTER_CONSUMER_SECRET)\n",
    "        auth.set_access_token(media_mapper.keys.TWITTER_ACCESS_TOKEN, media_mapper.keys.TWITTER_TOKEN_SECRET)\n",
    "\n",
    "        #Connect to the Twitter stream\n",
    "        stream = Stream(auth, l, timeout=60)\n",
    "\n",
    "        #Terms to track\n",
    "        #stream.filter(track = key_words_list) #track=[\"oxford\",\"london\",\"wolverhampton\"])\n",
    "\n",
    "        #Alternatively, location box  for geotagged tweets\n",
    "        stream.filter(locations=locations)#[-122.3145,37.3643,-122.2037,37.4855])\n",
    "\n",
    "        #stream.filter(locations=[-122.75,36.8,-121.75,37.8])\n",
    "        #$$c(W 122°31'45\"--W 122°20'37\"/N 37°48'55\"--N 37°36'43\")\n",
    "\n",
    "    except (RuntimeError, TypeError, NameError, KeyboardInterrupt):\n",
    "        #User pressed ctrl+c -- get ready to exit the program\n",
    "        #Close the \n",
    "        fhOut.close()\n",
    "\n",
    "\n",
    "if __name__=='__main__':\n",
    "#     while True:\n",
    "    if production:\n",
    "        while True:\n",
    "            try:\n",
    "                write_stream('./results/tweets'+str(int(time.time()))+'.json', \n",
    "                             production = production, \n",
    "                             stop = stop, \n",
    "                             locations = [-122.75,36.66,-122.35,37.82])\n",
    "\n",
    "            except:\n",
    "                continue  #if something fails, it loops up and trie again\n",
    "    \n",
    "    else:  #you are testing in notebook, production = false by default\n",
    "        try:\n",
    "            write_stream('./results/tweets'+str(int(time.time()))+'.json', \n",
    "                         production = production, \n",
    "                         stop = stop, \n",
    "                         locations = [-122.75,36.66,-122.35,37.82])\n",
    "\n",
    "        except Exception as e:\n",
    "            print e#continue"
   ]
  },
  {
   "cell_type": "code",
   "execution_count": null,
   "metadata": {
    "collapsed": true
   },
   "outputs": [],
   "source": []
  }
 ],
 "metadata": {
  "kernelspec": {
   "display_name": "Python 2",
   "language": "python",
   "name": "python2"
  },
  "language_info": {
   "codemirror_mode": {
    "name": "ipython",
    "version": 2
   },
   "file_extension": ".py",
   "mimetype": "text/x-python",
   "name": "python",
   "nbconvert_exporter": "python",
   "pygments_lexer": "ipython2",
   "version": "2.7.10"
  }
 },
 "nbformat": 4,
 "nbformat_minor": 0
}
