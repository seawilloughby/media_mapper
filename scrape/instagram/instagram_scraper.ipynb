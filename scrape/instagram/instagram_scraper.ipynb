{
 "cells": [
  {
   "cell_type": "markdown",
   "metadata": {},
   "source": [
    "###install main packages:"
   ]
  },
  {
   "cell_type": "code",
   "execution_count": 22,
   "metadata": {
    "collapsed": false
   },
   "outputs": [],
   "source": [
    "import media_mapper \n",
    "import json\n",
    "import sys\n",
    "import time\n",
    "import os\n",
    "import instagram\n",
    "from instagram.client import InstagramAPI\n",
    "from instagram import subscriptions\n",
    "from collections import defaultdict"
   ]
  },
  {
   "cell_type": "code",
   "execution_count": 23,
   "metadata": {
    "collapsed": false
   },
   "outputs": [],
   "source": [
    "import time\n",
    "import calendar\n",
    "import ast\n",
    "from time import sleep"
   ]
  },
  {
   "cell_type": "code",
   "execution_count": 24,
   "metadata": {
    "collapsed": false
   },
   "outputs": [
    {
     "name": "stdout",
     "output_type": "stream",
     "text": [
      "production is  False\n"
     ]
    }
   ],
   "source": [
    "#if running in notebook, just do a few.\n",
    "#else, do a bunch.\n",
    "\n",
    "if sys.argv[1] == '-f':\n",
    "    production = False\n",
    "\n",
    "else:\n",
    "    production = True\n",
    "\n",
    "    \n",
    "print 'production is ',production\n",
    "\n",
    "try:\n",
    "    os.mkdir('./results')\n",
    "except:\n",
    "    pass"
   ]
  },
  {
   "cell_type": "code",
   "execution_count": 28,
   "metadata": {
    "collapsed": false
   },
   "outputs": [
    {
     "name": "stdout",
     "output_type": "stream",
     "text": [
      "for me: seconds left: 3611\n"
     ]
    }
   ],
   "source": [
    "def write_stream(out_file, production = False, iterations = 61):\n",
    "\n",
    "    #Create a file to store output. \"a\" means append (add on to previous file)\n",
    "    fhOut = open(out_file,\"a\")\n",
    "\n",
    "    #authorize \n",
    "    access_token = media_mapper.keys.INSTAGRAM_ACCESS_TOKEN\n",
    "    client_secret = media_mapper.keys.INSTAGRAM_CLIENT_SECRET\n",
    "    api = InstagramAPI(access_token=access_token, client_secret=client_secret)\n",
    "\n",
    "    #set time limit for the current time\n",
    "    time_marker = calendar.timegm(time.gmtime())\n",
    "    begin_time = time_marker\n",
    "    sleep(10) #sleep ten seconds so some instagrams have some time to come in\n",
    "\n",
    "    #query for a new batch of 20 photos\n",
    "    \n",
    "    for i in xrange(iterations): #make sure that it only loops 60 times \n",
    "        media_search = api.media_search(lat=\"37.7833\",lng=\"-122.4167\",distance=5000, min_timestamp=time_marker)\n",
    "   \n",
    "        #get all the metadata in a list\n",
    "        instagram_list = instagram_metadata(media_search, time_marker)\n",
    "        [json.dump(item, fhOut, indent = 1) for item in instagram_list]\n",
    "        time_marker = calendar.timegm(time.gmtime()) \n",
    "    \n",
    "    #check to make sure that this cycle has taken an hour for request limits\n",
    "    end_time = calendar.timegm(time.gmtime()) \n",
    "    seconds_left = 3600 -(begin_time-end_time) #find out how much time has passed\n",
    "    if seconds_left > 0:  #if an hour hasn't passed, sleep so I don't overrequest\n",
    "        sleep(seconds_left)\n",
    "    fhOut.close()\n",
    "\n",
    "    #make a timestamp so only photos in the future from now will be found\n",
    "\n",
    "def instagram_metadata(media_search, time_marker):\n",
    "    '''Takes in a list of instagram media tags. \n",
    "    Iterates through all of them, and extracts relevant information. Comments, time, ect'''\n",
    "    instagram_list = []\n",
    "                                        \n",
    "    for media in media_search:\n",
    "        #The info from each instragram is turned into a dictionary\n",
    "        #There will be a list of dictionaries. \n",
    "        name = media\n",
    "        name = 'insgstr' + str(name)[7:]\n",
    "        instadic = defaultdict(str)\n",
    "        instadic['id']= name  #give each item a key which is the name\n",
    "        if media.caption:\n",
    "            instadic['caption'] = str(media.caption)[8:] #the text we want\n",
    "        if media.created_time:\n",
    "            instadic['created_time'] = str(media.created_time)  #a date and time\n",
    "        if media.location:\n",
    "            loc= media.location.point\n",
    "            instadic['loc'] = ast.literal_eval(str(loc)[7:])  #a tuple of location\n",
    "        if media.tags:\n",
    "            instadic['tags'] = str(media.tags)  \n",
    "        instagram_list.append(instadic)\n",
    "    return instagram_list\n",
    "    \n",
    "\n",
    "if __name__=='__main__':\n",
    "#     while True:\n",
    "    if production:\n",
    "        while True:\n",
    "            try:\n",
    "                write_stream('./results/instagram'+str(int(time.time()))+'.json', \n",
    "                             production = production)\n",
    "\n",
    "            except:\n",
    "                continue  #if something fails, try again! \n",
    "    \n",
    "    else:  #you are testing in notebook, production = false by default\n",
    "        try:\n",
    "            write_stream('./results/instagram'+str(int(time.time()))+'.json', \n",
    "                         production = production, iterations = 1)\n",
    "    \n",
    "        except Exception as e:\n",
    "            print e#continue"
   ]
  },
  {
   "cell_type": "code",
   "execution_count": null,
   "metadata": {
    "collapsed": true
   },
   "outputs": [],
   "source": []
  }
 ],
 "metadata": {
  "kernelspec": {
   "display_name": "Python 2",
   "language": "python",
   "name": "python2"
  },
  "language_info": {
   "codemirror_mode": {
    "name": "ipython",
    "version": 2
   },
   "file_extension": ".py",
   "mimetype": "text/x-python",
   "name": "python",
   "nbconvert_exporter": "python",
   "pygments_lexer": "ipython2",
   "version": "2.7.10"
  }
 },
 "nbformat": 4,
 "nbformat_minor": 0
}
