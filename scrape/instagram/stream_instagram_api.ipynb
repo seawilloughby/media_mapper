{
 "cells": [
  {
   "cell_type": "markdown",
   "metadata": {},
   "source": [
    "#Basic Installation:"
   ]
  },
  {
   "cell_type": "code",
   "execution_count": 1,
   "metadata": {
    "collapsed": false
   },
   "outputs": [
    {
     "name": "stdout",
     "output_type": "stream",
     "text": [
      "TWITTER_CONSUMER_KEY not found.\n"
     ]
    }
   ],
   "source": [
    "import media_mapper.keys"
   ]
  },
  {
   "cell_type": "raw",
   "metadata": {},
   "source": []
  },
  {
   "cell_type": "code",
   "execution_count": 14,
   "metadata": {
    "collapsed": true
   },
   "outputs": [],
   "source": [
    "import instagram"
   ]
  },
  {
   "cell_type": "markdown",
   "metadata": {},
   "source": [
    "1. pip install \n",
    "`pip install python-instagram `\n",
    "\n",
    "Registered My Id:\n",
    "\n",
    "WEBSITE URL\thttps://github.com/seawilloughby/media_mapper\n",
    "REDIRECT URI\thttps://github.com/seawilloughby/media_mapper\n",
    "SUPPORT EMAIL\tclwilloughby@gmail.com`"
   ]
  },
  {
   "cell_type": "markdown",
   "metadata": {},
   "source": [
    "https://instagram.com/accounts/login/?force_classic_login=&next=/oauth/authorize%3Fscope%3Dbasic%26redirect_uri%3Dhttps%3A//github.com/seawilloughby/media_mapper%26response_type%3Dcode%26client_id%3Daaedde36c4194b33ba89b0b565bf9ca9"
   ]
  },
  {
   "cell_type": "markdown",
   "metadata": {},
   "source": [
    "#How to run a very basic, undirected query:"
   ]
  },
  {
   "cell_type": "code",
   "execution_count": 60,
   "metadata": {
    "collapsed": false
   },
   "outputs": [],
   "source": [
    "from instagram.client import InstagramAPI\n",
    "from instagram import subscriptions\n",
    "import media_mapper.keys"
   ]
  },
  {
   "cell_type": "code",
   "execution_count": 61,
   "metadata": {
    "collapsed": false
   },
   "outputs": [],
   "source": [
    "access_token = media_mapper.keys.INSTAGRAM_ACCESS_TOKEN\n",
    "client_secret = media_mapper.keys.INSTAGRAM_CLIENT_SECRET\n",
    "api = InstagramAPI(access_token=access_token, client_secret=client_secret)\n",
    "from time import sleep\n"
   ]
  },
  {
   "cell_type": "code",
   "execution_count": 62,
   "metadata": {
    "collapsed": true
   },
   "outputs": [],
   "source": [
    "#MIN_TIMESTAMP  #unix timestamp. only return stuff later. \n",
    "\n",
    "media_search = api.media_search(lat=\"37.7833\",lng=\"-122.4167\",distance=5000, )"
   ]
  },
  {
   "cell_type": "code",
   "execution_count": 63,
   "metadata": {
    "collapsed": false
   },
   "outputs": [
    {
     "data": {
      "text/plain": [
       "18"
      ]
     },
     "execution_count": 63,
     "metadata": {},
     "output_type": "execute_result"
    }
   ],
   "source": [
    "len(media_search)"
   ]
  },
  {
   "cell_type": "code",
   "execution_count": 67,
   "metadata": {
    "collapsed": false
   },
   "outputs": [
    {
     "name": "stdout",
     "output_type": "stream",
     "text": [
      "Comment: jzamudio072363 said \"Oakland. Shuttle run. Cake.\"\n",
      "2015-08-01 22:01:10\n",
      "Location: 0 (Point: (37.75546074, -122.39097833))\n",
      "\n",
      "\n",
      "https://scontent.cdninstagram.com/hphotos-xaf1/t51.2885-15/s320x320/e15/11348325_284911718345911_985372553_n.jpg\n",
      "Comment: valeriaarlanti said \"\"I believe I'm going to die doing the things I love\" #sanfrancisco #SFO #streetart #California #ca #usa\"\n",
      "2015-08-01 22:01:10\n",
      "Location: 888210433 (Point: (37.79181222, -122.40933079))\n",
      "[Tag: sfo, Tag: sanfrancisco, Tag: streetart, Tag: usa, Tag: california, Tag: ca]\n",
      "\n",
      "\n",
      "https://scontent.cdninstagram.com/hphotos-xaf1/t51.2885-15/s320x320/e15/11312277_638169449657433_1030237230_n.jpg\n",
      "Comment: bussitbaybee said \"Lunch at the beach for Jeremiah's b day #Blessed\"\n",
      "2015-08-01 22:01:01\n",
      "Location: 28908599 (Point: (37.808411186, -122.414351894))\n",
      "[User: strictlindy]\n",
      "[Tag: blessed]\n",
      "\n",
      "\n",
      "https://scontent.cdninstagram.com/hphotos-xaf1/t51.2885-15/s320x320/e15/11282664_1599259537006245_1981729652_n.jpg\n",
      "Comment: jwpettit said \"Just a lonely sideboard on the street. #sanfrancisco #sf #streetfurniture\"\n",
      "2015-08-01 22:00:59\n",
      "Location: 0 (Point: (37.761221667, -122.439408333))\n",
      "[Tag: sanfrancisco, Tag: sf, Tag: streetfurniture]\n",
      "\n",
      "\n",
      "https://scontent.cdninstagram.com/hphotos-xfa1/t51.2885-15/s320x320/e15/11426243_1623091901240870_1429134735_n.jpg\n",
      "Comment: hazelcough said \"Stairwell art.\"\n",
      "2015-08-01 22:00:55\n",
      "Location: 1746 (Point: (37.7855797, -122.4305573))\n",
      "\n",
      "\n",
      "https://scontent.cdninstagram.com/hphotos-xaf1/t51.2885-15/s320x320/e15/11324970_529028470583081_1996399586_n.jpg\n"
     ]
    }
   ],
   "source": [
    "for media in media_search[:5]:\n",
    "    if media.caption:\n",
    "        print media.caption\n",
    "    if media.created_time:\n",
    "        print media.created_time\n",
    "    if media.location:\n",
    "        print media.location\n",
    "    if media.comment_count:\n",
    "        print media.comment_count\n",
    "    if media.likes:\n",
    "        print media.likes\n",
    "    if media.tags:\n",
    "        print media.tags\n",
    "    print '\\n'\n",
    "\n",
    "    sleep(2)\n",
    "    print media.get_low_resolution_url()"
   ]
  },
  {
   "cell_type": "code",
   "execution_count": null,
   "metadata": {
    "collapsed": true
   },
   "outputs": [],
   "source": []
  }
 ],
 "metadata": {
  "kernelspec": {
   "display_name": "Python 2",
   "language": "python",
   "name": "python2"
  },
  "language_info": {
   "codemirror_mode": {
    "name": "ipython",
    "version": 2
   },
   "file_extension": ".py",
   "mimetype": "text/x-python",
   "name": "python",
   "nbconvert_exporter": "python",
   "pygments_lexer": "ipython2",
   "version": "2.7.10"
  }
 },
 "nbformat": 4,
 "nbformat_minor": 0
}
