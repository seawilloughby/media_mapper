{
 "cells": [
  {
   "cell_type": "code",
   "execution_count": 1,
   "metadata": {
    "collapsed": true
   },
   "outputs": [],
   "source": [
    "import pandas as pd\n",
    "import json\n",
    "import psycopg2\n",
    "import random\n",
    "from nltk.corpus import stopwords\n",
    "from nltk.stem.snowball import SnowballStemmer\n",
    "import string\n"
   ]
  },
  {
   "cell_type": "markdown",
   "metadata": {},
   "source": [
    "###Connect to database. Get tweets with geometry"
   ]
  },
  {
   "cell_type": "code",
   "execution_count": 158,
   "metadata": {
    "collapsed": true
   },
   "outputs": [],
   "source": [
    "conn_dict = {'dbname':'zipfiantwitter', 'user':'clwilloughby', 'password': '', 'host':'/tmp'}\n",
    "conn = psycopg2.connect(dbname=conn_dict['dbname'], user=conn_dict['user'], host='/tmp')\n",
    "cur = conn.cursor()\n",
    "\n",
    "map_query = \"\"\"\n",
    "SELECT timestamp_ms, text, geoid10\n",
    "FROM tweeted_neighb\n",
    "                ;\"\"\"\n",
    "\n",
    "df_tweet_shapes = pd.read_sql(map_query, conn)"
   ]
  },
  {
   "cell_type": "code",
   "execution_count": 159,
   "metadata": {
    "collapsed": false
   },
   "outputs": [],
   "source": [
    "df_tweet_shapes = df_tweet_shapes.dropna()"
   ]
  },
  {
   "cell_type": "code",
   "execution_count": 160,
   "metadata": {
    "collapsed": false
   },
   "outputs": [
    {
     "data": {
      "text/html": [
       "<div>\n",
       "<table border=\"1\" class=\"dataframe\">\n",
       "  <thead>\n",
       "    <tr style=\"text-align: right;\">\n",
       "      <th></th>\n",
       "      <th>timestamp_ms</th>\n",
       "      <th>text</th>\n",
       "      <th>geoid10</th>\n",
       "    </tr>\n",
       "  </thead>\n",
       "  <tbody>\n",
       "    <tr>\n",
       "      <th>0</th>\n",
       "      <td>1436937112887</td>\n",
       "      <td>Ok it says something else on the glass but I a...</td>\n",
       "      <td>060871207003033</td>\n",
       "    </tr>\n",
       "    <tr>\n",
       "      <th>1</th>\n",
       "      <td>1436937114489</td>\n",
       "      <td>Closed Street or Sidewalk Cleaning request at ...</td>\n",
       "      <td>060759804011003</td>\n",
       "    </tr>\n",
       "    <tr>\n",
       "      <th>2</th>\n",
       "      <td>1436937115452</td>\n",
       "      <td>being with family makes my heart so happy</td>\n",
       "      <td>060750615001028</td>\n",
       "    </tr>\n",
       "    <tr>\n",
       "      <th>3</th>\n",
       "      <td>1436937117182</td>\n",
       "      <td>joannacast x3 leilashmeila my dad</td>\n",
       "      <td>060855009012005</td>\n",
       "    </tr>\n",
       "    <tr>\n",
       "      <th>4</th>\n",
       "      <td>1436937118044</td>\n",
       "      <td>Vanilla bean frappe to pair with Papa P thanks...</td>\n",
       "      <td>060750615001040</td>\n",
       "    </tr>\n",
       "  </tbody>\n",
       "</table>\n",
       "</div>"
      ],
      "text/plain": [
       "    timestamp_ms                                               text  \\\n",
       "0  1436937112887  Ok it says something else on the glass but I a...   \n",
       "1  1436937114489  Closed Street or Sidewalk Cleaning request at ...   \n",
       "2  1436937115452         being with family makes my heart so happy    \n",
       "3  1436937117182                 joannacast x3 leilashmeila my dad    \n",
       "4  1436937118044  Vanilla bean frappe to pair with Papa P thanks...   \n",
       "\n",
       "           geoid10  \n",
       "0  060871207003033  \n",
       "1  060759804011003  \n",
       "2  060750615001028  \n",
       "3  060855009012005  \n",
       "4  060750615001040  "
      ]
     },
     "execution_count": 160,
     "metadata": {},
     "output_type": "execute_result"
    }
   ],
   "source": [
    "df_tweet_shapes.head()"
   ]
  },
  {
   "cell_type": "code",
   "execution_count": 163,
   "metadata": {
    "collapsed": false
   },
   "outputs": [],
   "source": [
    "#this gets me a count AND it gets me a \n",
    "def tokenize_tweets(text):\n",
    "    '''Called by sql_tweets_sum_and_tokenized. Tokenizes a sting.'''\n",
    "    punct = string.punctuation\n",
    "    stop_words = stopwords.words('english')\n",
    "    text_list = []\n",
    "    snowball = SnowballStemmer('english')\n",
    "    for word in text.lower().split():\n",
    "        word = word.strip(punct)\n",
    "        if word not in stop_words:\n",
    "            text_list.append(snowball.stem(word))\n",
    "    return text_list\n",
    "\n",
    "def sql_tweets_sum_and_tokenized(df, timeseries= False):\n",
    "    '''Takes a sql dataframe of tweets, geoids, and timestamps.\n",
    "    Tokenizes the tweets. Groupsby geoid and timestamp (if True) to create overal counts\n",
    "    Returns a new dataframe.'''\n",
    "    #take the string and tokenize words for a list \n",
    "    df['text'] = df.text.apply(custom_stemmer)\n",
    "    #create a column of ones for quick sum column during groupby\n",
    "    df.insert(1, 'count', 1)\n",
    "    #groupby parameters. Counts Tweets and appends tweet tokens to a master list. \n",
    "    if timeseries == False:\n",
    "        df_group = df.groupby('geoid10').apply(lambda x: x.sum())\n",
    "        #drop redundant columns\n",
    "        df_group.drop('geoid10', 1, inplace=True)\n",
    "        df_group.drop('timestamp_ms', 1, inplace=True)\n",
    "    else:\n",
    "        #somethign about time. This will be difficult. \n",
    "        pass\n",
    "    df_group = df_group.reset_index()\n",
    "    return df_group"
   ]
  },
  {
   "cell_type": "code",
   "execution_count": 164,
   "metadata": {
    "collapsed": false
   },
   "outputs": [],
   "source": [
    "df_token_counts = sql_tweets_sum_and_tokenized(df_tweet_shapes)"
   ]
  },
  {
   "cell_type": "code",
   "execution_count": 166,
   "metadata": {
    "collapsed": true
   },
   "outputs": [],
   "source": [
    "#send this out to csv for tests\n",
    "df_token_counts.to_csv('test_count_df.csv')  "
   ]
  },
  {
   "cell_type": "markdown",
   "metadata": {},
   "source": [
    "#MiniExample of How I am processing Tweets:"
   ]
  },
  {
   "cell_type": "code",
   "execution_count": 117,
   "metadata": {
    "collapsed": false
   },
   "outputs": [],
   "source": [
    "df_test2 = pd.DataFrame({'timestamp_ms':['124432','142352','345345','2535262','65767'], 'geoid10':[2,3,3,5,3], 'text':['wow that way cool', 'what is the deal?', 'i know what you are bt what am I', '', 'this is anotehr example']}) "
   ]
  },
  {
   "cell_type": "code",
   "execution_count": 118,
   "metadata": {
    "collapsed": false
   },
   "outputs": [
    {
     "data": {
      "text/html": [
       "<div>\n",
       "<table border=\"1\" class=\"dataframe\">\n",
       "  <thead>\n",
       "    <tr style=\"text-align: right;\">\n",
       "      <th></th>\n",
       "      <th>geom</th>\n",
       "      <th>text</th>\n",
       "      <th>timestamp_ms</th>\n",
       "    </tr>\n",
       "  </thead>\n",
       "  <tbody>\n",
       "    <tr>\n",
       "      <th>0</th>\n",
       "      <td>2</td>\n",
       "      <td>wow that way cool</td>\n",
       "      <td>124432</td>\n",
       "    </tr>\n",
       "    <tr>\n",
       "      <th>1</th>\n",
       "      <td>3</td>\n",
       "      <td>what is the deal?</td>\n",
       "      <td>142352</td>\n",
       "    </tr>\n",
       "    <tr>\n",
       "      <th>2</th>\n",
       "      <td>3</td>\n",
       "      <td>i know what you are bt what am I</td>\n",
       "      <td>345345</td>\n",
       "    </tr>\n",
       "    <tr>\n",
       "      <th>3</th>\n",
       "      <td>5</td>\n",
       "      <td></td>\n",
       "      <td>2535262</td>\n",
       "    </tr>\n",
       "    <tr>\n",
       "      <th>4</th>\n",
       "      <td>3</td>\n",
       "      <td>this is anotehr example</td>\n",
       "      <td>65767</td>\n",
       "    </tr>\n",
       "  </tbody>\n",
       "</table>\n",
       "</div>"
      ],
      "text/plain": [
       "   geom                              text timestamp_ms\n",
       "0     2                 wow that way cool       124432\n",
       "1     3                 what is the deal?       142352\n",
       "2     3  i know what you are bt what am I       345345\n",
       "3     5                                        2535262\n",
       "4     3           this is anotehr example        65767"
      ]
     },
     "execution_count": 118,
     "metadata": {},
     "output_type": "execute_result"
    }
   ],
   "source": [
    "df_test2.head()"
   ]
  },
  {
   "cell_type": "code",
   "execution_count": 119,
   "metadata": {
    "collapsed": false
   },
   "outputs": [
    {
     "data": {
      "text/html": [
       "<div>\n",
       "<table border=\"1\" class=\"dataframe\">\n",
       "  <thead>\n",
       "    <tr style=\"text-align: right;\">\n",
       "      <th></th>\n",
       "      <th>count</th>\n",
       "      <th>text</th>\n",
       "    </tr>\n",
       "    <tr>\n",
       "      <th>geom</th>\n",
       "      <th></th>\n",
       "      <th></th>\n",
       "    </tr>\n",
       "  </thead>\n",
       "  <tbody>\n",
       "    <tr>\n",
       "      <th>2</th>\n",
       "      <td>1</td>\n",
       "      <td>[wow, way, cool]</td>\n",
       "    </tr>\n",
       "    <tr>\n",
       "      <th>3</th>\n",
       "      <td>3</td>\n",
       "      <td>[deal, know, bt, anotehr, exampl]</td>\n",
       "    </tr>\n",
       "    <tr>\n",
       "      <th>5</th>\n",
       "      <td>1</td>\n",
       "      <td>[]</td>\n",
       "    </tr>\n",
       "  </tbody>\n",
       "</table>\n",
       "</div>"
      ],
      "text/plain": [
       "      count                               text\n",
       "geom                                          \n",
       "2         1                   [wow, way, cool]\n",
       "3         3  [deal, know, bt, anotehr, exampl]\n",
       "5         1                                 []"
      ]
     },
     "execution_count": 119,
     "metadata": {},
     "output_type": "execute_result"
    }
   ],
   "source": [
    "#run the mini function\n",
    "sql_tweets_sum_and_tokenized(df_test2)"
   ]
  },
  {
   "cell_type": "code",
   "execution_count": null,
   "metadata": {
    "collapsed": true
   },
   "outputs": [],
   "source": []
  }
 ],
 "metadata": {
  "kernelspec": {
   "display_name": "Python 2",
   "language": "python",
   "name": "python2"
  },
  "language_info": {
   "codemirror_mode": {
    "name": "ipython",
    "version": 2
   },
   "file_extension": ".py",
   "mimetype": "text/x-python",
   "name": "python",
   "nbconvert_exporter": "python",
   "pygments_lexer": "ipython2",
   "version": "2.7.10"
  }
 },
 "nbformat": 4,
 "nbformat_minor": 0
}
