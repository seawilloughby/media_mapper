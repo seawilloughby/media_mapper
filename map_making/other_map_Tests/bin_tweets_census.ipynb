{
 "cells": [
  {
   "cell_type": "code",
   "execution_count": 1,
   "metadata": {
    "collapsed": false
   },
   "outputs": [],
   "source": [
    "import pandas as pd\n",
    "import json\n",
    "import requests\n",
    "import media_mapper"
   ]
  },
  {
   "cell_type": "markdown",
   "metadata": {},
   "source": [
    "read a json file of tweets for experimentation:"
   ]
  },
  {
   "cell_type": "code",
   "execution_count": 2,
   "metadata": {
    "collapsed": false
   },
   "outputs": [],
   "source": [
    "def json_to_df(filename):\n",
    "    '''Takes in a json file. Returns a pandas dataframe'''\n",
    "    with open('tweets.json', 'r') as f:\n",
    "        l = f.readlines()\n",
    "\n",
    "    data = [json.loads(s) for s in l]\n",
    "    return pd.DataFrame(data)"
   ]
  },
  {
   "cell_type": "markdown",
   "metadata": {},
   "source": [
    "get pertinent columns"
   ]
  },
  {
   "cell_type": "code",
   "execution_count": 13,
   "metadata": {
    "collapsed": false
   },
   "outputs": [],
   "source": [
    "original_df = json_to_df('tweets.json')\n"
   ]
  },
  {
   "cell_type": "code",
   "execution_count": 4,
   "metadata": {
    "collapsed": true
   },
   "outputs": [],
   "source": [
    "def extract_columns(df):\n",
    "    '''Takes in a pandas dataframe. Returns a smaller dataframe:\n",
    "    Text, Coordinates, timestamp'''\n",
    "    #only include rows with coordinates\n",
    "    df = df[~df.coordinates.isnull()]\n",
    "    #make a new dataframe with coordinates, tweets, and timestamps\n",
    "    df = df[['coordinates', 'text' ,'timestamp_ms']]\n",
    "    #get a list of coordinates to break it into long and lat data\n",
    "    coor = df.coordinates.tolist()\n",
    "    #list of the longitude coordinates\n",
    "    lons = [c['coordinates'][0] for c in coor]\n",
    "    #list of the latitude coordinates \n",
    "    lats = [c['coordinates'][1] for c in coor]\n",
    "    \n",
    "    #turn lats and longs into panda series. Append them to the dataframe.\n",
    "    df['lons'] = pd.Series(lons)\n",
    "    df['lats'] = pd.Series(lats)\n",
    "    df.drop('coordinates', 1)\n",
    "    \n",
    "    return df "
   ]
  },
  {
   "cell_type": "code",
   "execution_count": 5,
   "metadata": {
    "collapsed": false
   },
   "outputs": [],
   "source": [
    "df = extract_columns(original_df)"
   ]
  },
  {
   "cell_type": "code",
   "execution_count": 6,
   "metadata": {
    "collapsed": false
   },
   "outputs": [
    {
     "data": {
      "text/html": [
       "<div>\n",
       "<table border=\"1\" class=\"dataframe\">\n",
       "  <thead>\n",
       "    <tr style=\"text-align: right;\">\n",
       "      <th></th>\n",
       "      <th>coordinates</th>\n",
       "      <th>text</th>\n",
       "      <th>timestamp_ms</th>\n",
       "      <th>lons</th>\n",
       "      <th>lats</th>\n",
       "    </tr>\n",
       "  </thead>\n",
       "  <tbody>\n",
       "    <tr>\n",
       "      <th>41</th>\n",
       "      <td>{u'type': u'Point', u'coordinates': [-121.799,...</td>\n",
       "      <td>Ok, it says something else on the glass, but I...</td>\n",
       "      <td>1436937112887</td>\n",
       "      <td>-122.050000</td>\n",
       "      <td>37.016667</td>\n",
       "    </tr>\n",
       "    <tr>\n",
       "      <th>45</th>\n",
       "      <td>{u'type': u'Point', u'coordinates': [-122.4055...</td>\n",
       "      <td>Closed Street or Sidewalk Cleaning request at ...</td>\n",
       "      <td>1436937114489</td>\n",
       "      <td>-123.012313</td>\n",
       "      <td>37.699791</td>\n",
       "    </tr>\n",
       "    <tr>\n",
       "      <th>46</th>\n",
       "      <td>{u'type': u'Point', u'coordinates': [-122.0565...</td>\n",
       "      <td>being with family makes my heart so happy❤</td>\n",
       "      <td>1436937115452</td>\n",
       "      <td>-122.398488</td>\n",
       "      <td>37.789027</td>\n",
       "    </tr>\n",
       "    <tr>\n",
       "      <th>51</th>\n",
       "      <td>{u'type': u'Point', u'coordinates': [-116.9142...</td>\n",
       "      <td>@joannacast_x3 @leilashmeila my dad 😂😂😂😂</td>\n",
       "      <td>1436937117182</td>\n",
       "      <td>-121.887759</td>\n",
       "      <td>37.334962</td>\n",
       "    </tr>\n",
       "    <tr>\n",
       "      <th>54</th>\n",
       "      <td>{u'type': u'Point', u'coordinates': [-121.8991...</td>\n",
       "      <td>Vanilla bean frappe to pair with Papa P! 😍 th...</td>\n",
       "      <td>1436937118044</td>\n",
       "      <td>-122.402552</td>\n",
       "      <td>37.784495</td>\n",
       "    </tr>\n",
       "  </tbody>\n",
       "</table>\n",
       "</div>"
      ],
      "text/plain": [
       "                                          coordinates  \\\n",
       "41  {u'type': u'Point', u'coordinates': [-121.799,...   \n",
       "45  {u'type': u'Point', u'coordinates': [-122.4055...   \n",
       "46  {u'type': u'Point', u'coordinates': [-122.0565...   \n",
       "51  {u'type': u'Point', u'coordinates': [-116.9142...   \n",
       "54  {u'type': u'Point', u'coordinates': [-121.8991...   \n",
       "\n",
       "                                                 text   timestamp_ms  \\\n",
       "41  Ok, it says something else on the glass, but I...  1436937112887   \n",
       "45  Closed Street or Sidewalk Cleaning request at ...  1436937114489   \n",
       "46         being with family makes my heart so happy❤  1436937115452   \n",
       "51       @joannacast_x3 @leilashmeila my dad 😂😂😂😂  1436937117182   \n",
       "54  Vanilla bean frappe to pair with Papa P! 😍 th...  1436937118044   \n",
       "\n",
       "          lons       lats  \n",
       "41 -122.050000  37.016667  \n",
       "45 -123.012313  37.699791  \n",
       "46 -122.398488  37.789027  \n",
       "51 -121.887759  37.334962  \n",
       "54 -122.402552  37.784495  "
      ]
     },
     "execution_count": 6,
     "metadata": {},
     "output_type": "execute_result"
    }
   ],
   "source": [
    "df.head()"
   ]
  },
  {
   "cell_type": "markdown",
   "metadata": {
    "collapsed": true
   },
   "source": [
    "Get Block Labels from the Census:"
   ]
  },
  {
   "cell_type": "code",
   "execution_count": 15,
   "metadata": {
    "collapsed": true
   },
   "outputs": [],
   "source": [
    "def get_census_label(df):\n",
    "    '''Takes in my standard dataframe from the Json object.\n",
    "    Returns lats and longs to poll sensus for '''\n",
    "    #select rows that have coordinates\n",
    "    df = df[~df.coordinates.isnull()]\n",
    "    #make a new dataframe with coordinates, tweets, and timestamps\n",
    "    df = df[['coordinates', 'text' ,'timestamp_ms']]\n",
    "    \n",
    "    #get a list of coordinates to break it into long and lat data\n",
    "    coor = df.coordinates.tolist()\n",
    "    #list of the longitude coordinates\n",
    "    lons = [c['coordinates'][0] for c in coor]\n",
    "    #list of the latitude coordinates \n",
    "    lats = [c['coordinates'][1] for c in coor]\n",
    "    return lats, lons"
   ]
  },
  {
   "cell_type": "code",
   "execution_count": 16,
   "metadata": {
    "collapsed": true
   },
   "outputs": [],
   "source": [
    "lats, lons = get_census_label(original_df)"
   ]
  },
  {
   "cell_type": "code",
   "execution_count": 28,
   "metadata": {
    "collapsed": true
   },
   "outputs": [],
   "source": [
    "def query_census_slowly(lats, lons):\n",
    "    results = []\n",
    "    for i in xrange(len(lats)):\n",
    "        lattitude = str(lats[i])\n",
    "        longitude = str(lons[i])\n",
    "        result = requests.get('http://data.fcc.gov/api/block/find?format=json&latitude='+lattitude+'&longitude='+longitude+'&showall=false').json()\n",
    "        results.append(result['Block']['FIPS'])\n",
    "    return results"
   ]
  },
  {
   "cell_type": "code",
   "execution_count": null,
   "metadata": {
    "collapsed": false
   },
   "outputs": [],
   "source": [
    "results = query_census_slowly(lats, lons)"
   ]
  },
  {
   "cell_type": "code",
   "execution_count": 30,
   "metadata": {
    "collapsed": false
   },
   "outputs": [
    {
     "data": {
      "text/plain": [
       "[u'060855033153011', u'060750106002002', u'060014352001012']"
      ]
     },
     "execution_count": 30,
     "metadata": {},
     "output_type": "execute_result"
    }
   ],
   "source": []
  },
  {
   "cell_type": "code",
   "execution_count": null,
   "metadata": {
    "collapsed": true
   },
   "outputs": [],
   "source": [
    "returntype = #locations or geographies? \n",
    "searchtype = #onlineaddress OR address OR coordinates\n",
    "parameters = "
   ]
  },
  {
   "cell_type": "markdown",
   "metadata": {},
   "source": [
    "##Easy Way to Turn Coordinates into Blocks / Categories"
   ]
  },
  {
   "cell_type": "markdown",
   "metadata": {},
   "source": [
    "ask census for information!\n",
    "[GeocodingCensus](http://www.census.gov/data/developers/data-sets/Geocoding-services.html)"
   ]
  },
  {
   "cell_type": "code",
   "execution_count": null,
   "metadata": {
    "collapsed": true
   },
   "outputs": [],
   "source": [
    "resp = requests.get(http://geocoding.geo.census.gov/geocoder/returntype/searchtype?parameters&format=json)\n",
    "        "
   ]
  },
  {
   "cell_type": "markdown",
   "metadata": {},
   "source": [
    "example with john's request:"
   ]
  },
  {
   "cell_type": "code",
   "execution_count": 9,
   "metadata": {
    "collapsed": false
   },
   "outputs": [
    {
     "name": "stdout",
     "output_type": "stream",
     "text": [
      "{u'County': {u'FIPS': u'06087', u'name': u'Santa Cruz'}, u'status': u'OK', u'State': {u'code': u'CA', u'FIPS': u'06', u'name': u'California'}, u'Block': {u'FIPS': u'060871207003033'}, u'executionTime': u'163'}\n"
     ]
    }
   ],
   "source": [
    "result = requests.get('http://data.fcc.gov/api/block/find?format=json&latitude='+'37.016667'+'&longitude='+'-122.050000'+'&showall=false').json()\n",
    "print result"
   ]
  },
  {
   "cell_type": "code",
   "execution_count": 11,
   "metadata": {
    "collapsed": false
   },
   "outputs": [
    {
     "name": "stdout",
     "output_type": "stream",
     "text": [
      "060871207003033\n"
     ]
    }
   ],
   "source": [
    "result = requests.get('http://data.fcc.gov/api/block/find?format=json&latitude='+'37.016667'+'&longitude='+'-122.050000'+'&showall=false').json()\n",
    "print result['Block']['FIPS']"
   ]
  },
  {
   "cell_type": "markdown",
   "metadata": {},
   "source": [
    "###registered on Mapbox\n",
    "drxtwilob, attention shhh\n",
    "\n",
    "###random notes from john about census\n",
    "\n",
    "requests direct it at the census api. geocoding services\n",
    "requests.get(http://data.fcc.gov.... +.json)format=json find lat long\n",
    "so can use this to get this \n",
    "XXstateXXXXXXcountyXXblock\n",
    "they have examples to do the full street address\n",
    "geocoding services api\n",
    "base - http://api.census.gov/data\n",
    "    \n",
    "    number of peopel really accurately. could be really interesting\n",
    "there are two surveys: the acs, or sf\n",
    "    \n",
    "    will need an api key: api cencus key\n",
    "state county tract blockgroup\n",
    "came out as unicodes.  dtype=object can force it into the correct datatype\n",
    "he loaded the text with json "
   ]
  }
 ],
 "metadata": {
  "kernelspec": {
   "display_name": "Python 2",
   "language": "python",
   "name": "python2"
  },
  "language_info": {
   "codemirror_mode": {
    "name": "ipython",
    "version": 2
   },
   "file_extension": ".py",
   "mimetype": "text/x-python",
   "name": "python",
   "nbconvert_exporter": "python",
   "pygments_lexer": "ipython2",
   "version": "2.7.10"
  }
 },
 "nbformat": 4,
 "nbformat_minor": 0
}
