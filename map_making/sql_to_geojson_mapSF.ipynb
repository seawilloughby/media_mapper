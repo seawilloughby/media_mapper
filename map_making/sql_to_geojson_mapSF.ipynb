{
 "cells": [
  {
   "cell_type": "markdown",
   "metadata": {},
   "source": [
    "##Connect to database! \n",
    "###Get Neighborhood Data"
   ]
  },
  {
   "cell_type": "code",
   "execution_count": 5,
   "metadata": {
    "collapsed": false
   },
   "outputs": [],
   "source": [
    "#send_Example.py \n",
    "import pandas as pd\n",
    "import json\n",
    "import psycopg2\n",
    "import random"
   ]
  },
  {
   "cell_type": "markdown",
   "metadata": {},
   "source": [
    "###Get tweets wtihin california, and shapes with the county of SF ('075')"
   ]
  },
  {
   "cell_type": "code",
   "execution_count": 14,
   "metadata": {
    "collapsed": true
   },
   "outputs": [],
   "source": [
    "conn_dict = {'dbname':'zipfiantwitter', 'user':'clwilloughby', 'password': '', 'host':'/tmp'}\n",
    "conn = psycopg2.connect(dbname=conn_dict['dbname'], user=conn_dict['user'], host='/tmp')\n",
    "cur = conn.cursor()\n",
    "\n",
    "map_query = \"\"\"\n",
    "        SELECT\n",
    "                DISTINCT\n",
    "                ST_asGEOJSON(wkb_geometry) geometry\n",
    "                , geoid10\n",
    "\n",
    "                FROM sf_neighb \n",
    "                WHERE countyfp10 = '075'\n",
    "                ;\"\"\"\n",
    "\n",
    "df = pd.read_sql(map_query, conn)"
   ]
  },
  {
   "cell_type": "code",
   "execution_count": 15,
   "metadata": {
    "collapsed": false
   },
   "outputs": [],
   "source": [
    "#intermediate step: not needed normally\n",
    "#df.to_csv('sf_only_sql_shapes.csv')\n",
    "#df = pd.read_csv('sql_shapes.csv')"
   ]
  },
  {
   "cell_type": "code",
   "execution_count": 16,
   "metadata": {
    "collapsed": false
   },
   "outputs": [
    {
     "data": {
      "text/html": [
       "<div>\n",
       "<table border=\"1\" class=\"dataframe\">\n",
       "  <thead>\n",
       "    <tr style=\"text-align: right;\">\n",
       "      <th></th>\n",
       "      <th>geometry</th>\n",
       "      <th>geoid10</th>\n",
       "    </tr>\n",
       "  </thead>\n",
       "  <tbody>\n",
       "    <tr>\n",
       "      <th>0</th>\n",
       "      <td>{\"type\":\"MultiPolygon\",\"coordinates\":[[[[-122....</td>\n",
       "      <td>060750179021009</td>\n",
       "    </tr>\n",
       "    <tr>\n",
       "      <th>1</th>\n",
       "      <td>{\"type\":\"MultiPolygon\",\"coordinates\":[[[[-122....</td>\n",
       "      <td>060759806001043</td>\n",
       "    </tr>\n",
       "    <tr>\n",
       "      <th>2</th>\n",
       "      <td>{\"type\":\"MultiPolygon\",\"coordinates\":[[[[-122....</td>\n",
       "      <td>060759806001041</td>\n",
       "    </tr>\n",
       "    <tr>\n",
       "      <th>3</th>\n",
       "      <td>{\"type\":\"MultiPolygon\",\"coordinates\":[[[[-122....</td>\n",
       "      <td>060759806001038</td>\n",
       "    </tr>\n",
       "    <tr>\n",
       "      <th>4</th>\n",
       "      <td>{\"type\":\"MultiPolygon\",\"coordinates\":[[[[-122....</td>\n",
       "      <td>060750179021038</td>\n",
       "    </tr>\n",
       "  </tbody>\n",
       "</table>\n",
       "</div>"
      ],
      "text/plain": [
       "                                            geometry          geoid10\n",
       "0  {\"type\":\"MultiPolygon\",\"coordinates\":[[[[-122....  060750179021009\n",
       "1  {\"type\":\"MultiPolygon\",\"coordinates\":[[[[-122....  060759806001043\n",
       "2  {\"type\":\"MultiPolygon\",\"coordinates\":[[[[-122....  060759806001041\n",
       "3  {\"type\":\"MultiPolygon\",\"coordinates\":[[[[-122....  060759806001038\n",
       "4  {\"type\":\"MultiPolygon\",\"coordinates\":[[[[-122....  060750179021038"
      ]
     },
     "execution_count": 16,
     "metadata": {},
     "output_type": "execute_result"
    }
   ],
   "source": [
    "df.head()"
   ]
  },
  {
   "cell_type": "markdown",
   "metadata": {},
   "source": [
    "###Get a Random Color For Each Neighborhood\n",
    "####Later will encode information by color and hue"
   ]
  },
  {
   "cell_type": "code",
   "execution_count": 17,
   "metadata": {
    "collapsed": true
   },
   "outputs": [],
   "source": [
    "def getrandom_color(df, color_file):\n",
    "    '''takes in a dataframe of gemoetry and geoid, and a list of hex colors\n",
    "    Creates a new colomn of shape colors. Returns the new dataframe.'''\n",
    "    #import the colors csv\n",
    "    cdf = pd.read_csv('colors.csv')\n",
    "    #make it a list\n",
    "    colors = cdf[' color'].tolist() \n",
    "    num_col = df.shape[0] \n",
    "    df['hexcolors'] = [random.choice(colors) for i in xrange(num_col)]\n",
    "    return df"
   ]
  },
  {
   "cell_type": "code",
   "execution_count": 18,
   "metadata": {
    "collapsed": false
   },
   "outputs": [],
   "source": [
    "df_col = getrandom_color(df, 'colors.csv')\n"
   ]
  },
  {
   "cell_type": "code",
   "execution_count": 19,
   "metadata": {
    "collapsed": false
   },
   "outputs": [
    {
     "data": {
      "text/html": [
       "<div>\n",
       "<table border=\"1\" class=\"dataframe\">\n",
       "  <thead>\n",
       "    <tr style=\"text-align: right;\">\n",
       "      <th></th>\n",
       "      <th>geometry</th>\n",
       "      <th>geoid10</th>\n",
       "      <th>hexcolors</th>\n",
       "    </tr>\n",
       "  </thead>\n",
       "  <tbody>\n",
       "    <tr>\n",
       "      <th>0</th>\n",
       "      <td>{\"type\":\"MultiPolygon\",\"coordinates\":[[[[-122....</td>\n",
       "      <td>060750179021009</td>\n",
       "      <td>#66FF00</td>\n",
       "    </tr>\n",
       "    <tr>\n",
       "      <th>1</th>\n",
       "      <td>{\"type\":\"MultiPolygon\",\"coordinates\":[[[[-122....</td>\n",
       "      <td>060759806001043</td>\n",
       "      <td>#66FFFF</td>\n",
       "    </tr>\n",
       "    <tr>\n",
       "      <th>2</th>\n",
       "      <td>{\"type\":\"MultiPolygon\",\"coordinates\":[[[[-122....</td>\n",
       "      <td>060759806001041</td>\n",
       "      <td>#CC9966</td>\n",
       "    </tr>\n",
       "    <tr>\n",
       "      <th>3</th>\n",
       "      <td>{\"type\":\"MultiPolygon\",\"coordinates\":[[[[-122....</td>\n",
       "      <td>060759806001038</td>\n",
       "      <td>#CC6600</td>\n",
       "    </tr>\n",
       "    <tr>\n",
       "      <th>4</th>\n",
       "      <td>{\"type\":\"MultiPolygon\",\"coordinates\":[[[[-122....</td>\n",
       "      <td>060750179021038</td>\n",
       "      <td>#99FF33</td>\n",
       "    </tr>\n",
       "  </tbody>\n",
       "</table>\n",
       "</div>"
      ],
      "text/plain": [
       "                                            geometry          geoid10  \\\n",
       "0  {\"type\":\"MultiPolygon\",\"coordinates\":[[[[-122....  060750179021009   \n",
       "1  {\"type\":\"MultiPolygon\",\"coordinates\":[[[[-122....  060759806001043   \n",
       "2  {\"type\":\"MultiPolygon\",\"coordinates\":[[[[-122....  060759806001041   \n",
       "3  {\"type\":\"MultiPolygon\",\"coordinates\":[[[[-122....  060759806001038   \n",
       "4  {\"type\":\"MultiPolygon\",\"coordinates\":[[[[-122....  060750179021038   \n",
       "\n",
       "  hexcolors  \n",
       "0   #66FF00  \n",
       "1   #66FFFF  \n",
       "2   #CC9966  \n",
       "3   #CC6600  \n",
       "4   #99FF33  "
      ]
     },
     "execution_count": 19,
     "metadata": {},
     "output_type": "execute_result"
    }
   ],
   "source": [
    "df_col.head()\n"
   ]
  },
  {
   "cell_type": "markdown",
   "metadata": {},
   "source": [
    "###Convert DataFrame to JsonFile for Mapping"
   ]
  },
  {
   "cell_type": "code",
   "execution_count": 20,
   "metadata": {
    "collapsed": false
   },
   "outputs": [],
   "source": [
    "def add_properties_geo(row):\n",
    "    geoid = row['geoid10']\n",
    "    hexcolor = row['hexcolors']\n",
    "    geo_json = {\"type\": \"Feature\", \"geometry\": json.loads(row['geometry']),  \"properties\": {'geoid': geoid , 'hexcolor' : hexcolor }}\n",
    "    return geo_json\n",
    "\n",
    "list_to_export = [add_properties_geo(row) for idx, row in df_col.iterrows()]\n",
    "\n",
    "with open('sf_geo.json', 'w') as outfile:\n",
    "    json.dump(list_to_export, outfile)"
   ]
  },
  {
   "cell_type": "code",
   "execution_count": null,
   "metadata": {
    "collapsed": true
   },
   "outputs": [],
   "source": []
  }
 ],
 "metadata": {
  "kernelspec": {
   "display_name": "Python 2",
   "language": "python",
   "name": "python2"
  },
  "language_info": {
   "codemirror_mode": {
    "name": "ipython",
    "version": 2
   },
   "file_extension": ".py",
   "mimetype": "text/x-python",
   "name": "python",
   "nbconvert_exporter": "python",
   "pygments_lexer": "ipython2",
   "version": "2.7.10"
  }
 },
 "nbformat": 4,
 "nbformat_minor": 0
}
