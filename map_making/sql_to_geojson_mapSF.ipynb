{
 "cells": [
  {
   "cell_type": "markdown",
   "metadata": {},
   "source": [
    "##Connect to database! \n",
    "###Get Neighborhood Data"
   ]
  },
  {
   "cell_type": "code",
   "execution_count": 293,
   "metadata": {
    "collapsed": false
   },
   "outputs": [],
   "source": [
    "import pandas as pd\n",
    "import json\n",
    "import psycopg2\n",
    "import random\n",
    "import matplotlib.pyplot as plt\n",
    "%matplotlib inline\n",
    "from collections import defaultdict"
   ]
  },
  {
   "cell_type": "markdown",
   "metadata": {},
   "source": [
    "###Get tweets wtihin california, and shapes with the county of SF ('075')"
   ]
  },
  {
   "cell_type": "code",
   "execution_count": 294,
   "metadata": {
    "collapsed": false
   },
   "outputs": [],
   "source": [
    "conn_dict = {'dbname':'zipfiantwitter', 'user':'clwilloughby', 'password': '', 'host':'/tmp'}\n",
    "conn = psycopg2.connect(dbname=conn_dict['dbname'], user=conn_dict['user'], host='/tmp')\n",
    "cur = conn.cursor()\n",
    "\n",
    "map_query = \"\"\"\n",
    "        SELECT\n",
    "                DISTINCT\n",
    "                ST_asGEOJSON(wkb_geometry) geometry\n",
    "                , geoid10\n",
    "\n",
    "                FROM sf_neighb \n",
    "                WHERE countyfp10 = '075'\n",
    "                ;\"\"\"\n",
    "\n",
    "geo = pd.read_sql(map_query, conn)"
   ]
  },
  {
   "cell_type": "markdown",
   "metadata": {},
   "source": [
    "###format the geo pd"
   ]
  },
  {
   "cell_type": "code",
   "execution_count": 295,
   "metadata": {
    "collapsed": false
   },
   "outputs": [],
   "source": [
    "#intermediate step: not needed normally\n",
    "#df.to_csv('sf_only_sql_shapes.csv')\n",
    "#df = pd.read_csv('sql_shapes.csv')"
   ]
  },
  {
   "cell_type": "code",
   "execution_count": 296,
   "metadata": {
    "collapsed": false
   },
   "outputs": [],
   "source": [
    "geo['geoid10'] = geo.geoid10.astype('int64')\n",
    "#set the index as the geoid\n",
    "geo.set_index('geoid10', inplace=True)"
   ]
  },
  {
   "cell_type": "markdown",
   "metadata": {},
   "source": [
    "###get tweet counts dataframe"
   ]
  },
  {
   "cell_type": "code",
   "execution_count": 299,
   "metadata": {
    "collapsed": false
   },
   "outputs": [],
   "source": [
    "#get the dataframe of counts from 'sql_tweets_map_retrieve'\n",
    "df_tweet_count = pd.read_csv('test_count_df.csv')\n",
    "df_tweet_count.drop('Unnamed: 0', 1, inplace=True)\n",
    "#set the df as the index\n",
    "df_tweet_count.set_index('geoid10', inplace=True)"
   ]
  },
  {
   "cell_type": "markdown",
   "metadata": {},
   "source": [
    "###Merge SF Geometry with SF Tweets\n"
   ]
  },
  {
   "cell_type": "code",
   "execution_count": 301,
   "metadata": {
    "collapsed": true
   },
   "outputs": [],
   "source": [
    "map_df = pd.concat([geo, df_tweet_count], axis = 1)\n",
    "#take out tweets that aren't in SF\n",
    "#also if there are no tweets, fill with zero.\n",
    "map_df = map_df[map_df.geometry.notnull()]\n",
    "#fill empty counts with zero (no tweets)\n",
    "map_df['count'].fillna(0, inplace = True)\n",
    "map_df.reset_index(inplace=True)"
   ]
  },
  {
   "cell_type": "markdown",
   "metadata": {},
   "source": [
    "###Get a Random Color For Each Neighborhood\n",
    "####Later will encode information by color and hue"
   ]
  },
  {
   "cell_type": "code",
   "execution_count": 281,
   "metadata": {
    "collapsed": true
   },
   "outputs": [],
   "source": [
    "def getrandom_color(df, color_file):\n",
    "    '''takes in a dataframe of gemoetry and geoid, and a list of hex colors\n",
    "    Creates a new colomn of shape colors. Returns the new dataframe.'''\n",
    "    #import the colors csv\n",
    "    cdf = pd.read_csv('colors.csv')\n",
    "    #make it a list\n",
    "    colors = cdf[' color'].tolist() \n",
    "    num_col = df.shape[0] \n",
    "    df['hexcolor'] = [random.choice(colors) for i in xrange(num_col)]\n",
    "    return df"
   ]
  },
  {
   "cell_type": "code",
   "execution_count": 222,
   "metadata": {
    "collapsed": false
   },
   "outputs": [
    {
     "name": "stderr",
     "output_type": "stream",
     "text": [
      "/Users/christy/miniconda/lib/python2.7/site-packages/IPython/kernel/__main__.py:9: SettingWithCopyWarning: \n",
      "A value is trying to be set on a copy of a slice from a DataFrame.\n",
      "Try using .loc[row_indexer,col_indexer] = value instead\n",
      "\n",
      "See the the caveats in the documentation: http://pandas.pydata.org/pandas-docs/stable/indexing.html#indexing-view-versus-copy\n"
     ]
    }
   ],
   "source": [
    "df_col = getrandom_color(map_df, 'colors.csv')\n"
   ]
  },
  {
   "cell_type": "code",
   "execution_count": 223,
   "metadata": {
    "collapsed": false
   },
   "outputs": [
    {
     "data": {
      "text/html": [
       "<div>\n",
       "<table border=\"1\" class=\"dataframe\">\n",
       "  <thead>\n",
       "    <tr style=\"text-align: right;\">\n",
       "      <th></th>\n",
       "      <th>geoid10</th>\n",
       "      <th>geometry</th>\n",
       "      <th>count</th>\n",
       "      <th>text</th>\n",
       "      <th>hexcolors</th>\n",
       "    </tr>\n",
       "  </thead>\n",
       "  <tbody>\n",
       "    <tr>\n",
       "      <th>0</th>\n",
       "      <td>60750101001000</td>\n",
       "      <td>{\"type\":\"MultiPolygon\",\"coordinates\":[[[[-122....</td>\n",
       "      <td>0</td>\n",
       "      <td>NaN</td>\n",
       "      <td>#CC0099</td>\n",
       "    </tr>\n",
       "    <tr>\n",
       "      <th>1</th>\n",
       "      <td>60750101001001</td>\n",
       "      <td>{\"type\":\"MultiPolygon\",\"coordinates\":[[[[-122....</td>\n",
       "      <td>9</td>\n",
       "      <td>[u'tfw', u'internet', u'archiv', u'sudden', u'...</td>\n",
       "      <td>#CCCCFF</td>\n",
       "    </tr>\n",
       "    <tr>\n",
       "      <th>2</th>\n",
       "      <td>60750101001002</td>\n",
       "      <td>{\"type\":\"MultiPolygon\",\"coordinates\":[[[[-122....</td>\n",
       "      <td>0</td>\n",
       "      <td>NaN</td>\n",
       "      <td>#3333CC</td>\n",
       "    </tr>\n",
       "    <tr>\n",
       "      <th>3</th>\n",
       "      <td>60750101001003</td>\n",
       "      <td>{\"type\":\"MultiPolygon\",\"coordinates\":[[[[-122....</td>\n",
       "      <td>0</td>\n",
       "      <td>NaN</td>\n",
       "      <td>#FF3399</td>\n",
       "    </tr>\n",
       "    <tr>\n",
       "      <th>4</th>\n",
       "      <td>60750101001004</td>\n",
       "      <td>{\"type\":\"MultiPolygon\",\"coordinates\":[[[[-122....</td>\n",
       "      <td>6</td>\n",
       "      <td>[u'deep', u'blue', u'adobelif', u'hearth', u'a...</td>\n",
       "      <td>#3333CC</td>\n",
       "    </tr>\n",
       "  </tbody>\n",
       "</table>\n",
       "</div>"
      ],
      "text/plain": [
       "          geoid10                                           geometry  count  \\\n",
       "0  60750101001000  {\"type\":\"MultiPolygon\",\"coordinates\":[[[[-122....      0   \n",
       "1  60750101001001  {\"type\":\"MultiPolygon\",\"coordinates\":[[[[-122....      9   \n",
       "2  60750101001002  {\"type\":\"MultiPolygon\",\"coordinates\":[[[[-122....      0   \n",
       "3  60750101001003  {\"type\":\"MultiPolygon\",\"coordinates\":[[[[-122....      0   \n",
       "4  60750101001004  {\"type\":\"MultiPolygon\",\"coordinates\":[[[[-122....      6   \n",
       "\n",
       "                                                text hexcolors  \n",
       "0                                                NaN   #CC0099  \n",
       "1  [u'tfw', u'internet', u'archiv', u'sudden', u'...   #CCCCFF  \n",
       "2                                                NaN   #3333CC  \n",
       "3                                                NaN   #FF3399  \n",
       "4  [u'deep', u'blue', u'adobelif', u'hearth', u'a...   #3333CC  "
      ]
     },
     "execution_count": 223,
     "metadata": {},
     "output_type": "execute_result"
    }
   ],
   "source": [
    "df_col.head()\n"
   ]
  },
  {
   "cell_type": "markdown",
   "metadata": {},
   "source": [
    "###A. Convert DataFrame of Neighborhoods to JsonFile for Mapping"
   ]
  },
  {
   "cell_type": "code",
   "execution_count": 253,
   "metadata": {
    "collapsed": false
   },
   "outputs": [
    {
     "ename": "KeyError",
     "evalue": "'hexcolor'",
     "output_type": "error",
     "traceback": [
      "\u001b[0;31m---------------------------------------------------------------------------\u001b[0m",
      "\u001b[0;31mKeyError\u001b[0m                                  Traceback (most recent call last)",
      "\u001b[0;32m<ipython-input-253-cc2c01ec083b>\u001b[0m in \u001b[0;36m<module>\u001b[0;34m()\u001b[0m\n\u001b[1;32m      5\u001b[0m     \u001b[0;32mreturn\u001b[0m \u001b[0mgeo_json\u001b[0m\u001b[0;34m\u001b[0m\u001b[0m\n\u001b[1;32m      6\u001b[0m \u001b[0;34m\u001b[0m\u001b[0m\n\u001b[0;32m----> 7\u001b[0;31m \u001b[0mlist_to_export\u001b[0m \u001b[0;34m=\u001b[0m \u001b[0;34m[\u001b[0m\u001b[0madd_properties_geo\u001b[0m\u001b[0;34m(\u001b[0m\u001b[0mrow\u001b[0m\u001b[0;34m)\u001b[0m \u001b[0;32mfor\u001b[0m \u001b[0midx\u001b[0m\u001b[0;34m,\u001b[0m \u001b[0mrow\u001b[0m \u001b[0;32min\u001b[0m \u001b[0mdf_col\u001b[0m\u001b[0;34m.\u001b[0m\u001b[0miterrows\u001b[0m\u001b[0;34m(\u001b[0m\u001b[0;34m)\u001b[0m\u001b[0;34m]\u001b[0m\u001b[0;34m\u001b[0m\u001b[0m\n\u001b[0m\u001b[1;32m      8\u001b[0m \u001b[0;34m\u001b[0m\u001b[0m\n\u001b[1;32m      9\u001b[0m \u001b[0;32mwith\u001b[0m \u001b[0mopen\u001b[0m\u001b[0;34m(\u001b[0m\u001b[0;34m'sf_geo.json'\u001b[0m\u001b[0;34m,\u001b[0m \u001b[0;34m'w'\u001b[0m\u001b[0;34m)\u001b[0m \u001b[0;32mas\u001b[0m \u001b[0moutfile\u001b[0m\u001b[0;34m:\u001b[0m\u001b[0;34m\u001b[0m\u001b[0m\n",
      "\u001b[0;32m<ipython-input-253-cc2c01ec083b>\u001b[0m in \u001b[0;36madd_properties_geo\u001b[0;34m(row)\u001b[0m\n\u001b[1;32m      1\u001b[0m \u001b[0;32mdef\u001b[0m \u001b[0madd_properties_geo\u001b[0m\u001b[0;34m(\u001b[0m\u001b[0mrow\u001b[0m\u001b[0;34m)\u001b[0m\u001b[0;34m:\u001b[0m\u001b[0;34m\u001b[0m\u001b[0m\n\u001b[1;32m      2\u001b[0m     \u001b[0mgeoid\u001b[0m \u001b[0;34m=\u001b[0m \u001b[0mrow\u001b[0m\u001b[0;34m[\u001b[0m\u001b[0;34m'geoid10'\u001b[0m\u001b[0;34m]\u001b[0m\u001b[0;34m\u001b[0m\u001b[0m\n\u001b[0;32m----> 3\u001b[0;31m     \u001b[0mhexcolor\u001b[0m \u001b[0;34m=\u001b[0m \u001b[0mrow\u001b[0m\u001b[0;34m[\u001b[0m\u001b[0;34m'hexcolor'\u001b[0m\u001b[0;34m]\u001b[0m\u001b[0;34m\u001b[0m\u001b[0m\n\u001b[0m\u001b[1;32m      4\u001b[0m     \u001b[0mgeo_json\u001b[0m \u001b[0;34m=\u001b[0m \u001b[0;34m{\u001b[0m\u001b[0;34m\"type\"\u001b[0m\u001b[0;34m:\u001b[0m \u001b[0;34m\"Feature\"\u001b[0m\u001b[0;34m,\u001b[0m \u001b[0;34m\"geometry\"\u001b[0m\u001b[0;34m:\u001b[0m \u001b[0mjson\u001b[0m\u001b[0;34m.\u001b[0m\u001b[0mloads\u001b[0m\u001b[0;34m(\u001b[0m\u001b[0mrow\u001b[0m\u001b[0;34m[\u001b[0m\u001b[0;34m'geometry'\u001b[0m\u001b[0;34m]\u001b[0m\u001b[0;34m)\u001b[0m\u001b[0;34m,\u001b[0m  \u001b[0;34m\"properties\"\u001b[0m\u001b[0;34m:\u001b[0m \u001b[0;34m{\u001b[0m\u001b[0;34m'geoid'\u001b[0m\u001b[0;34m:\u001b[0m \u001b[0mgeoid\u001b[0m \u001b[0;34m,\u001b[0m \u001b[0;34m'hexcolor'\u001b[0m \u001b[0;34m:\u001b[0m \u001b[0mhexcolor\u001b[0m \u001b[0;34m}\u001b[0m\u001b[0;34m}\u001b[0m\u001b[0;34m\u001b[0m\u001b[0m\n\u001b[1;32m      5\u001b[0m     \u001b[0;32mreturn\u001b[0m \u001b[0mgeo_json\u001b[0m\u001b[0;34m\u001b[0m\u001b[0m\n",
      "\u001b[0;32m/Users/christy/miniconda/lib/python2.7/site-packages/pandas/core/series.pyc\u001b[0m in \u001b[0;36m__getitem__\u001b[0;34m(self, key)\u001b[0m\n\u001b[1;32m    519\u001b[0m     \u001b[0;32mdef\u001b[0m \u001b[0m__getitem__\u001b[0m\u001b[0;34m(\u001b[0m\u001b[0mself\u001b[0m\u001b[0;34m,\u001b[0m \u001b[0mkey\u001b[0m\u001b[0;34m)\u001b[0m\u001b[0;34m:\u001b[0m\u001b[0;34m\u001b[0m\u001b[0m\n\u001b[1;32m    520\u001b[0m         \u001b[0;32mtry\u001b[0m\u001b[0;34m:\u001b[0m\u001b[0;34m\u001b[0m\u001b[0m\n\u001b[0;32m--> 521\u001b[0;31m             \u001b[0mresult\u001b[0m \u001b[0;34m=\u001b[0m \u001b[0mself\u001b[0m\u001b[0;34m.\u001b[0m\u001b[0mindex\u001b[0m\u001b[0;34m.\u001b[0m\u001b[0mget_value\u001b[0m\u001b[0;34m(\u001b[0m\u001b[0mself\u001b[0m\u001b[0;34m,\u001b[0m \u001b[0mkey\u001b[0m\u001b[0;34m)\u001b[0m\u001b[0;34m\u001b[0m\u001b[0m\n\u001b[0m\u001b[1;32m    522\u001b[0m \u001b[0;34m\u001b[0m\u001b[0m\n\u001b[1;32m    523\u001b[0m             \u001b[0;32mif\u001b[0m \u001b[0;32mnot\u001b[0m \u001b[0mnp\u001b[0m\u001b[0;34m.\u001b[0m\u001b[0misscalar\u001b[0m\u001b[0;34m(\u001b[0m\u001b[0mresult\u001b[0m\u001b[0;34m)\u001b[0m\u001b[0;34m:\u001b[0m\u001b[0;34m\u001b[0m\u001b[0m\n",
      "\u001b[0;32m/Users/christy/miniconda/lib/python2.7/site-packages/pandas/core/index.pyc\u001b[0m in \u001b[0;36mget_value\u001b[0;34m(self, series, key)\u001b[0m\n\u001b[1;32m   1607\u001b[0m                     \u001b[0;32mraise\u001b[0m \u001b[0mInvalidIndexError\u001b[0m\u001b[0;34m(\u001b[0m\u001b[0mkey\u001b[0m\u001b[0;34m)\u001b[0m\u001b[0;34m\u001b[0m\u001b[0m\n\u001b[1;32m   1608\u001b[0m                 \u001b[0;32melse\u001b[0m\u001b[0;34m:\u001b[0m\u001b[0;34m\u001b[0m\u001b[0m\n\u001b[0;32m-> 1609\u001b[0;31m                     \u001b[0;32mraise\u001b[0m \u001b[0me1\u001b[0m\u001b[0;34m\u001b[0m\u001b[0m\n\u001b[0m\u001b[1;32m   1610\u001b[0m             \u001b[0;32mexcept\u001b[0m \u001b[0mException\u001b[0m\u001b[0;34m:\u001b[0m  \u001b[0;31m# pragma: no cover\u001b[0m\u001b[0;34m\u001b[0m\u001b[0m\n\u001b[1;32m   1611\u001b[0m                 \u001b[0;32mraise\u001b[0m \u001b[0me1\u001b[0m\u001b[0;34m\u001b[0m\u001b[0m\n",
      "\u001b[0;31mKeyError\u001b[0m: 'hexcolor'"
     ]
    }
   ],
   "source": [
    "def add_properties_geo(row):\n",
    "    geoid = row['geoid10']\n",
    "    hexcolor = row['hexcolor']\n",
    "    geo_json = {\"type\": \"Feature\", \"geometry\": json.loads(row['geometry']),  \"properties\": {'geoid': geoid , 'hexcolor' : hexcolor }}\n",
    "    return geo_json\n",
    "\n",
    "list_to_export = [add_properties_geo(row) for idx, row in df_col.iterrows()]\n",
    "\n",
    "with open('sf_geo.json', 'w') as outfile:\n",
    "    json.dump(list_to_export, outfile)"
   ]
  },
  {
   "cell_type": "markdown",
   "metadata": {},
   "source": [
    "###B. Convert DataFrame of Conuts to Json File for Mapping"
   ]
  },
  {
   "cell_type": "code",
   "execution_count": 307,
   "metadata": {
    "collapsed": false
   },
   "outputs": [],
   "source": [
    "def add_properties_geo(row):\n",
    "    geoid = row['geoid10']\n",
    "    hexcolor = row['hexcolor']\n",
    "    geo_json = {\"type\": \"Feature\", \"geometry\": json.loads(row['geometry']),  \"properties\": {'geoid': geoid , 'hexcolor' : hexcolor }}\n",
    "    return geo_json\n",
    "\n",
    "def dataframe_to_geojson(df, outfilename):\n",
    "    '''Takes in a dataframe with a count and geoid10. Dumps it into a json geojason file'''\n",
    "    df['geoid10'] = df['geoid10'].astype('str')\n",
    "    \n",
    "    list_to_export = [add_properties_geo(row) for idx, row in map_df.iterrows()]\n",
    "    with open(outfilename, 'w') as outfile:\n",
    "        json.dump(list_to_export, outfile)"
   ]
  },
  {
   "cell_type": "markdown",
   "metadata": {},
   "source": [
    "####Manually heat map colors"
   ]
  },
  {
   "cell_type": "code",
   "execution_count": 120,
   "metadata": {
    "collapsed": true
   },
   "outputs": [],
   "source": [
    "color_list = ['#ff0000','#ff1919','#ff3232','#ff4c4c','#ff6666','#ff7f7f','#ff9999','#ffb2b2','#ffcccc','#ffe5e5']"
   ]
  },
  {
   "cell_type": "code",
   "execution_count": 348,
   "metadata": {
    "collapsed": false
   },
   "outputs": [
    {
     "data": {
      "text/html": [
       "<div>\n",
       "<table border=\"1\" class=\"dataframe\">\n",
       "  <thead>\n",
       "    <tr style=\"text-align: right;\">\n",
       "      <th></th>\n",
       "      <th>geoid10</th>\n",
       "      <th>geometry</th>\n",
       "      <th>count</th>\n",
       "      <th>text</th>\n",
       "      <th>hexcolor</th>\n",
       "    </tr>\n",
       "  </thead>\n",
       "  <tbody>\n",
       "    <tr>\n",
       "      <th>0</th>\n",
       "      <td>60750101001000</td>\n",
       "      <td>{\"type\":\"MultiPolygon\",\"coordinates\":[[[[-122....</td>\n",
       "      <td>0</td>\n",
       "      <td>NaN</td>\n",
       "      <td>#665229</td>\n",
       "    </tr>\n",
       "    <tr>\n",
       "      <th>1</th>\n",
       "      <td>60750101001001</td>\n",
       "      <td>{\"type\":\"MultiPolygon\",\"coordinates\":[[[[-122....</td>\n",
       "      <td>9</td>\n",
       "      <td>[u'tfw', u'internet', u'archiv', u'sudden', u'...</td>\n",
       "      <td>#806633</td>\n",
       "    </tr>\n",
       "    <tr>\n",
       "      <th>2</th>\n",
       "      <td>60750101001002</td>\n",
       "      <td>{\"type\":\"MultiPolygon\",\"coordinates\":[[[[-122....</td>\n",
       "      <td>0</td>\n",
       "      <td>NaN</td>\n",
       "      <td>#665229</td>\n",
       "    </tr>\n",
       "    <tr>\n",
       "      <th>3</th>\n",
       "      <td>60750101001003</td>\n",
       "      <td>{\"type\":\"MultiPolygon\",\"coordinates\":[[[[-122....</td>\n",
       "      <td>0</td>\n",
       "      <td>NaN</td>\n",
       "      <td>#665229</td>\n",
       "    </tr>\n",
       "    <tr>\n",
       "      <th>4</th>\n",
       "      <td>60750101001004</td>\n",
       "      <td>{\"type\":\"MultiPolygon\",\"coordinates\":[[[[-122....</td>\n",
       "      <td>6</td>\n",
       "      <td>[u'deep', u'blue', u'adobelif', u'hearth', u'a...</td>\n",
       "      <td>#806633</td>\n",
       "    </tr>\n",
       "  </tbody>\n",
       "</table>\n",
       "</div>"
      ],
      "text/plain": [
       "          geoid10                                           geometry  count  \\\n",
       "0  60750101001000  {\"type\":\"MultiPolygon\",\"coordinates\":[[[[-122....      0   \n",
       "1  60750101001001  {\"type\":\"MultiPolygon\",\"coordinates\":[[[[-122....      9   \n",
       "2  60750101001002  {\"type\":\"MultiPolygon\",\"coordinates\":[[[[-122....      0   \n",
       "3  60750101001003  {\"type\":\"MultiPolygon\",\"coordinates\":[[[[-122....      0   \n",
       "4  60750101001004  {\"type\":\"MultiPolygon\",\"coordinates\":[[[[-122....      6   \n",
       "\n",
       "                                                text hexcolor  \n",
       "0                                                NaN  #665229  \n",
       "1  [u'tfw', u'internet', u'archiv', u'sudden', u'...  #806633  \n",
       "2                                                NaN  #665229  \n",
       "3                                                NaN  #665229  \n",
       "4  [u'deep', u'blue', u'adobelif', u'hearth', u'a...  #806633  "
      ]
     },
     "execution_count": 348,
     "metadata": {},
     "output_type": "execute_result"
    }
   ],
   "source": [
    "df.head()"
   ]
  },
  {
   "cell_type": "code",
   "execution_count": 342,
   "metadata": {
    "collapsed": true
   },
   "outputs": [],
   "source": [
    "def fill_colors(df):\n",
    "    '''Bulky way to create a manual heat map based on the counts of values.\n",
    "    Need to find an automated way.\n",
    "    Takes a dataframe with a COUNT column. Uses to return an added COLOR column\n",
    "    which contains a spectrum of red colors.\n",
    "    '''\n",
    "    #create a dictionary of what color goes with each unique value\n",
    "\n",
    "    values= float(len(df['count'].unique()))\n",
    "\n",
    "    color_list = ['#665229','#806633','#997A3D','#B28F47','#CCA352','#E6B85C','#FFD175','#FFE0A3','#FFF0D1','#FFFAF0']\n",
    "    value_dict = defaultdict(str)\n",
    "    for index, numb in enumerate(df['count'].unique()):\n",
    "        color= round(index/values*10)\n",
    "        numb= int(numb)\n",
    "        value_dict[numb] = color_list[int(color)]\n",
    "\n",
    "    df['hexcolor'] = df['count'].map(value_dict.get)\n",
    "    return df\n"
   ]
  },
  {
   "cell_type": "code",
   "execution_count": 343,
   "metadata": {
    "collapsed": false
   },
   "outputs": [
    {
     "name": "stderr",
     "output_type": "stream",
     "text": [
      "/Users/christy/miniconda/lib/python2.7/site-packages/IPython/kernel/__main__.py:18: SettingWithCopyWarning: \n",
      "A value is trying to be set on a copy of a slice from a DataFrame.\n",
      "Try using .loc[row_indexer,col_indexer] = value instead\n",
      "\n",
      "See the the caveats in the documentation: http://pandas.pydata.org/pandas-docs/stable/indexing.html#indexing-view-versus-copy\n"
     ]
    }
   ],
   "source": [
    "df_color =fill_colors(map_df)\n",
    "df_color = df_color[['geoid10', 'geometry', 'hexcolor']]\n",
    "dataframe_to_geojson(df_color, 'data/heatmap_geo.json')"
   ]
  },
  {
   "cell_type": "code",
   "execution_count": null,
   "metadata": {
    "collapsed": true
   },
   "outputs": [],
   "source": []
  }
 ],
 "metadata": {
  "kernelspec": {
   "display_name": "Python 2",
   "language": "python",
   "name": "python2"
  },
  "language_info": {
   "codemirror_mode": {
    "name": "ipython",
    "version": 2
   },
   "file_extension": ".py",
   "mimetype": "text/x-python",
   "name": "python",
   "nbconvert_exporter": "python",
   "pygments_lexer": "ipython2",
   "version": "2.7.10"
  }
 },
 "nbformat": 4,
 "nbformat_minor": 0
}
