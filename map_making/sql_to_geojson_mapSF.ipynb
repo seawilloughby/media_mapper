{
 "cells": [
  {
   "cell_type": "markdown",
   "metadata": {},
   "source": [
    "##Connect to database! \n",
    "###Get Neighborhood Data"
   ]
  },
  {
   "cell_type": "code",
   "execution_count": 2,
   "metadata": {
    "collapsed": false
   },
   "outputs": [],
   "source": [
    "import pandas as pd\n",
    "import json\n",
    "import psycopg2\n",
    "import random\n",
    "import matplotlib.pyplot as plt\n",
    "%matplotlib inline\n",
    "from collections import defaultdict\n",
    "import numpy as np"
   ]
  },
  {
   "cell_type": "markdown",
   "metadata": {},
   "source": [
    "###Get tweets wtihin california, and shapes with the county of SF ('075')"
   ]
  },
  {
   "cell_type": "code",
   "execution_count": 6,
   "metadata": {
    "collapsed": false
   },
   "outputs": [],
   "source": [
    "conn_dict = {'dbname':'zipfiantwitter', 'user':'clwilloughby', 'password': '', 'host':'/tmp'}\n",
    "conn = psycopg2.connect(dbname=conn_dict['dbname'], user=conn_dict['user'], host='/tmp')\n",
    "cur = conn.cursor()\n",
    "\n",
    "map_query = \"\"\"\n",
    "        SELECT\n",
    "                DISTINCT\n",
    "                ST_asGEOJSON(wkb_geometry) geometry\n",
    "                , geoid10\n",
    "\n",
    "                FROM sf_neighb \n",
    "                WHERE countyfp10 = '075'\n",
    "                ;\"\"\"\n",
    "\n",
    "geodf = pd.read_sql(map_query, conn)\n",
    "#geodf.to_csv('sf_only_sql_shapes.csv')"
   ]
  },
  {
   "cell_type": "markdown",
   "metadata": {},
   "source": [
    "###format the geo pd"
   ]
  },
  {
   "cell_type": "code",
   "execution_count": 74,
   "metadata": {
    "collapsed": false
   },
   "outputs": [],
   "source": [
    "geodf['geoid10'] = geodf.geoid10.astype('int64')\n",
    "#set the index as the geoid\n",
    "geodf.set_index('geoid10', inplace=True)"
   ]
  },
  {
   "cell_type": "markdown",
   "metadata": {},
   "source": [
    "###get tweet counts dataframe\n",
    "\n",
    "two options. One is tweets perminute. One is ust all tweets. "
   ]
  },
  {
   "cell_type": "code",
   "execution_count": 3,
   "metadata": {
    "collapsed": false
   },
   "outputs": [],
   "source": [
    "df_tweet_count = pd.read_csv('../data_pipeline/data/tweet_p_m_withgeoid.csv')\n",
    "#df_tweet_count = pd.read_csv('tweets_with_time_wk2.csv')"
   ]
  },
  {
   "cell_type": "code",
   "execution_count": 4,
   "metadata": {
    "collapsed": false
   },
   "outputs": [],
   "source": [
    "#this column always pops up...\n",
    "df_tweet_count.drop('Unnamed: 0', 1, inplace=True)\n",
    "#set the df as the index\n",
    "df_tweet_count.set_index('geoid10', inplace=True)"
   ]
  },
  {
   "cell_type": "markdown",
   "metadata": {},
   "source": [
    "###Merge SF Geometry with SF Tweets\n",
    "Two methods. Sometimes They work or don't work."
   ]
  },
  {
   "cell_type": "code",
   "execution_count": 87,
   "metadata": {
    "collapsed": true
   },
   "outputs": [],
   "source": [
    "test = df_tweet_count.join(geodf, rsuffix='_new')\n",
    "test.to_csv('all_tpmin_with_coordinates.csv')"
   ]
  },
  {
   "cell_type": "code",
   "execution_count": 83,
   "metadata": {
    "collapsed": false
   },
   "outputs": [
    {
     "ename": "ValueError",
     "evalue": "Shape of passed values is (8, 23499), indices imply (8, 7386)",
     "output_type": "error",
     "traceback": [
      "\u001b[0;31m---------------------------------------------------------------------------\u001b[0m",
      "\u001b[0;31mValueError\u001b[0m                                Traceback (most recent call last)",
      "\u001b[0;32m<ipython-input-83-31856222b3e0>\u001b[0m in \u001b[0;36m<module>\u001b[0;34m()\u001b[0m\n\u001b[0;32m----> 1\u001b[0;31m \u001b[0mmap_df\u001b[0m \u001b[0;34m=\u001b[0m \u001b[0mpd\u001b[0m\u001b[0;34m.\u001b[0m\u001b[0mconcat\u001b[0m\u001b[0;34m(\u001b[0m\u001b[0;34m[\u001b[0m\u001b[0mgeodf\u001b[0m\u001b[0;34m,\u001b[0m \u001b[0msfdf\u001b[0m\u001b[0;34m]\u001b[0m\u001b[0;34m,\u001b[0m \u001b[0maxis\u001b[0m \u001b[0;34m=\u001b[0m \u001b[0;36m1\u001b[0m\u001b[0;34m)\u001b[0m\u001b[0;34m\u001b[0m\u001b[0m\n\u001b[0m",
      "\u001b[0;32m/Users/christy/miniconda/lib/python2.7/site-packages/pandas/tools/merge.pyc\u001b[0m in \u001b[0;36mconcat\u001b[0;34m(objs, axis, join, join_axes, ignore_index, keys, levels, names, verify_integrity, copy)\u001b[0m\n\u001b[1;32m    753\u001b[0m                        \u001b[0mverify_integrity\u001b[0m\u001b[0;34m=\u001b[0m\u001b[0mverify_integrity\u001b[0m\u001b[0;34m,\u001b[0m\u001b[0;34m\u001b[0m\u001b[0m\n\u001b[1;32m    754\u001b[0m                        copy=copy)\n\u001b[0;32m--> 755\u001b[0;31m     \u001b[0;32mreturn\u001b[0m \u001b[0mop\u001b[0m\u001b[0;34m.\u001b[0m\u001b[0mget_result\u001b[0m\u001b[0;34m(\u001b[0m\u001b[0;34m)\u001b[0m\u001b[0;34m\u001b[0m\u001b[0m\n\u001b[0m\u001b[1;32m    756\u001b[0m \u001b[0;34m\u001b[0m\u001b[0m\n\u001b[1;32m    757\u001b[0m \u001b[0;34m\u001b[0m\u001b[0m\n",
      "\u001b[0;32m/Users/christy/miniconda/lib/python2.7/site-packages/pandas/tools/merge.pyc\u001b[0m in \u001b[0;36mget_result\u001b[0;34m(self)\u001b[0m\n\u001b[1;32m    924\u001b[0m \u001b[0;34m\u001b[0m\u001b[0m\n\u001b[1;32m    925\u001b[0m             new_data = concatenate_block_managers(\n\u001b[0;32m--> 926\u001b[0;31m                 mgrs_indexers, self.new_axes, concat_axis=self.axis, copy=self.copy)\n\u001b[0m\u001b[1;32m    927\u001b[0m             \u001b[0;32mif\u001b[0m \u001b[0;32mnot\u001b[0m \u001b[0mself\u001b[0m\u001b[0;34m.\u001b[0m\u001b[0mcopy\u001b[0m\u001b[0;34m:\u001b[0m\u001b[0;34m\u001b[0m\u001b[0m\n\u001b[1;32m    928\u001b[0m                 \u001b[0mnew_data\u001b[0m\u001b[0;34m.\u001b[0m\u001b[0m_consolidate_inplace\u001b[0m\u001b[0;34m(\u001b[0m\u001b[0;34m)\u001b[0m\u001b[0;34m\u001b[0m\u001b[0m\n",
      "\u001b[0;32m/Users/christy/miniconda/lib/python2.7/site-packages/pandas/core/internals.pyc\u001b[0m in \u001b[0;36mconcatenate_block_managers\u001b[0;34m(mgrs_indexers, axes, concat_axis, copy)\u001b[0m\n\u001b[1;32m   4063\u001b[0m               for placement, join_units in concat_plan]\n\u001b[1;32m   4064\u001b[0m \u001b[0;34m\u001b[0m\u001b[0m\n\u001b[0;32m-> 4065\u001b[0;31m     \u001b[0;32mreturn\u001b[0m \u001b[0mBlockManager\u001b[0m\u001b[0;34m(\u001b[0m\u001b[0mblocks\u001b[0m\u001b[0;34m,\u001b[0m \u001b[0maxes\u001b[0m\u001b[0;34m)\u001b[0m\u001b[0;34m\u001b[0m\u001b[0m\n\u001b[0m\u001b[1;32m   4066\u001b[0m \u001b[0;34m\u001b[0m\u001b[0m\n\u001b[1;32m   4067\u001b[0m \u001b[0;34m\u001b[0m\u001b[0m\n",
      "\u001b[0;32m/Users/christy/miniconda/lib/python2.7/site-packages/pandas/core/internals.pyc\u001b[0m in \u001b[0;36m__init__\u001b[0;34m(self, blocks, axes, do_integrity_check, fastpath)\u001b[0m\n\u001b[1;32m   2176\u001b[0m \u001b[0;34m\u001b[0m\u001b[0m\n\u001b[1;32m   2177\u001b[0m         \u001b[0;32mif\u001b[0m \u001b[0mdo_integrity_check\u001b[0m\u001b[0;34m:\u001b[0m\u001b[0;34m\u001b[0m\u001b[0m\n\u001b[0;32m-> 2178\u001b[0;31m             \u001b[0mself\u001b[0m\u001b[0;34m.\u001b[0m\u001b[0m_verify_integrity\u001b[0m\u001b[0;34m(\u001b[0m\u001b[0;34m)\u001b[0m\u001b[0;34m\u001b[0m\u001b[0m\n\u001b[0m\u001b[1;32m   2179\u001b[0m \u001b[0;34m\u001b[0m\u001b[0m\n\u001b[1;32m   2180\u001b[0m         \u001b[0mself\u001b[0m\u001b[0;34m.\u001b[0m\u001b[0m_consolidate_check\u001b[0m\u001b[0;34m(\u001b[0m\u001b[0;34m)\u001b[0m\u001b[0;34m\u001b[0m\u001b[0m\n",
      "\u001b[0;32m/Users/christy/miniconda/lib/python2.7/site-packages/pandas/core/internals.pyc\u001b[0m in \u001b[0;36m_verify_integrity\u001b[0;34m(self)\u001b[0m\n\u001b[1;32m   2387\u001b[0m         \u001b[0;32mfor\u001b[0m \u001b[0mblock\u001b[0m \u001b[0;32min\u001b[0m \u001b[0mself\u001b[0m\u001b[0;34m.\u001b[0m\u001b[0mblocks\u001b[0m\u001b[0;34m:\u001b[0m\u001b[0;34m\u001b[0m\u001b[0m\n\u001b[1;32m   2388\u001b[0m             \u001b[0;32mif\u001b[0m \u001b[0;32mnot\u001b[0m \u001b[0mblock\u001b[0m\u001b[0;34m.\u001b[0m\u001b[0mis_sparse\u001b[0m \u001b[0;32mand\u001b[0m \u001b[0mblock\u001b[0m\u001b[0;34m.\u001b[0m\u001b[0mshape\u001b[0m\u001b[0;34m[\u001b[0m\u001b[0;36m1\u001b[0m\u001b[0;34m:\u001b[0m\u001b[0;34m]\u001b[0m \u001b[0;34m!=\u001b[0m \u001b[0mmgr_shape\u001b[0m\u001b[0;34m[\u001b[0m\u001b[0;36m1\u001b[0m\u001b[0;34m:\u001b[0m\u001b[0;34m]\u001b[0m\u001b[0;34m:\u001b[0m\u001b[0;34m\u001b[0m\u001b[0m\n\u001b[0;32m-> 2389\u001b[0;31m                 \u001b[0mconstruction_error\u001b[0m\u001b[0;34m(\u001b[0m\u001b[0mtot_items\u001b[0m\u001b[0;34m,\u001b[0m \u001b[0mblock\u001b[0m\u001b[0;34m.\u001b[0m\u001b[0mshape\u001b[0m\u001b[0;34m[\u001b[0m\u001b[0;36m1\u001b[0m\u001b[0;34m:\u001b[0m\u001b[0;34m]\u001b[0m\u001b[0;34m,\u001b[0m \u001b[0mself\u001b[0m\u001b[0;34m.\u001b[0m\u001b[0maxes\u001b[0m\u001b[0;34m)\u001b[0m\u001b[0;34m\u001b[0m\u001b[0m\n\u001b[0m\u001b[1;32m   2390\u001b[0m         \u001b[0;32mif\u001b[0m \u001b[0mlen\u001b[0m\u001b[0;34m(\u001b[0m\u001b[0mself\u001b[0m\u001b[0;34m.\u001b[0m\u001b[0mitems\u001b[0m\u001b[0;34m)\u001b[0m \u001b[0;34m!=\u001b[0m \u001b[0mtot_items\u001b[0m\u001b[0;34m:\u001b[0m\u001b[0;34m\u001b[0m\u001b[0m\n\u001b[1;32m   2391\u001b[0m             raise AssertionError('Number of manager items must equal union of '\n",
      "\u001b[0;32m/Users/christy/miniconda/lib/python2.7/site-packages/pandas/core/internals.pyc\u001b[0m in \u001b[0;36mconstruction_error\u001b[0;34m(tot_items, block_shape, axes, e)\u001b[0m\n\u001b[1;32m   3525\u001b[0m         \u001b[0;32mraise\u001b[0m \u001b[0me\u001b[0m\u001b[0;34m\u001b[0m\u001b[0m\n\u001b[1;32m   3526\u001b[0m     raise ValueError(\"Shape of passed values is {0}, indices imply {1}\".format(\n\u001b[0;32m-> 3527\u001b[0;31m         passed,implied))\n\u001b[0m\u001b[1;32m   3528\u001b[0m \u001b[0;34m\u001b[0m\u001b[0m\n\u001b[1;32m   3529\u001b[0m \u001b[0;34m\u001b[0m\u001b[0m\n",
      "\u001b[0;31mValueError\u001b[0m: Shape of passed values is (8, 23499), indices imply (8, 7386)"
     ]
    }
   ],
   "source": [
    "map_df = pd.concat([geodf, sfdf], axis = 1)"
   ]
  },
  {
   "cell_type": "code",
   "execution_count": 77,
   "metadata": {
    "collapsed": false
   },
   "outputs": [
    {
     "ename": "ValueError",
     "evalue": "Shape of passed values is (8, 23499), indices imply (8, 7386)",
     "output_type": "error",
     "traceback": [
      "\u001b[0;31m---------------------------------------------------------------------------\u001b[0m",
      "\u001b[0;31mValueError\u001b[0m                                Traceback (most recent call last)",
      "\u001b[0;32m<ipython-input-77-095ef69cdf25>\u001b[0m in \u001b[0;36m<module>\u001b[0;34m()\u001b[0m\n\u001b[0;32m----> 1\u001b[0;31m \u001b[0mmap_df\u001b[0m \u001b[0;34m=\u001b[0m \u001b[0mpd\u001b[0m\u001b[0;34m.\u001b[0m\u001b[0mconcat\u001b[0m\u001b[0;34m(\u001b[0m\u001b[0;34m[\u001b[0m\u001b[0mgeodf\u001b[0m\u001b[0;34m,\u001b[0m \u001b[0msfdf\u001b[0m\u001b[0;34m]\u001b[0m\u001b[0;34m,\u001b[0m \u001b[0maxis\u001b[0m \u001b[0;34m=\u001b[0m \u001b[0;36m1\u001b[0m\u001b[0;34m)\u001b[0m\u001b[0;34m\u001b[0m\u001b[0m\n\u001b[0m\u001b[1;32m      2\u001b[0m \u001b[0;31m#take out tweets that aren't in SF\u001b[0m\u001b[0;34m\u001b[0m\u001b[0;34m\u001b[0m\u001b[0m\n\u001b[1;32m      3\u001b[0m \u001b[0;31m#also if there are no tweets, fill with zero.\u001b[0m\u001b[0;34m\u001b[0m\u001b[0;34m\u001b[0m\u001b[0m\n\u001b[1;32m      4\u001b[0m \u001b[0mmap_df\u001b[0m \u001b[0;34m=\u001b[0m \u001b[0mmap_df\u001b[0m\u001b[0;34m[\u001b[0m\u001b[0mmap_df\u001b[0m\u001b[0;34m.\u001b[0m\u001b[0mgeometry\u001b[0m\u001b[0;34m.\u001b[0m\u001b[0mnotnull\u001b[0m\u001b[0;34m(\u001b[0m\u001b[0;34m)\u001b[0m\u001b[0;34m]\u001b[0m\u001b[0;34m\u001b[0m\u001b[0m\n\u001b[1;32m      5\u001b[0m \u001b[0;31m#fill empty counts with zero (no tweets)\u001b[0m\u001b[0;34m\u001b[0m\u001b[0;34m\u001b[0m\u001b[0m\n",
      "\u001b[0;32m/Users/christy/miniconda/lib/python2.7/site-packages/pandas/tools/merge.pyc\u001b[0m in \u001b[0;36mconcat\u001b[0;34m(objs, axis, join, join_axes, ignore_index, keys, levels, names, verify_integrity, copy)\u001b[0m\n\u001b[1;32m    753\u001b[0m                        \u001b[0mverify_integrity\u001b[0m\u001b[0;34m=\u001b[0m\u001b[0mverify_integrity\u001b[0m\u001b[0;34m,\u001b[0m\u001b[0;34m\u001b[0m\u001b[0m\n\u001b[1;32m    754\u001b[0m                        copy=copy)\n\u001b[0;32m--> 755\u001b[0;31m     \u001b[0;32mreturn\u001b[0m \u001b[0mop\u001b[0m\u001b[0;34m.\u001b[0m\u001b[0mget_result\u001b[0m\u001b[0;34m(\u001b[0m\u001b[0;34m)\u001b[0m\u001b[0;34m\u001b[0m\u001b[0m\n\u001b[0m\u001b[1;32m    756\u001b[0m \u001b[0;34m\u001b[0m\u001b[0m\n\u001b[1;32m    757\u001b[0m \u001b[0;34m\u001b[0m\u001b[0m\n",
      "\u001b[0;32m/Users/christy/miniconda/lib/python2.7/site-packages/pandas/tools/merge.pyc\u001b[0m in \u001b[0;36mget_result\u001b[0;34m(self)\u001b[0m\n\u001b[1;32m    924\u001b[0m \u001b[0;34m\u001b[0m\u001b[0m\n\u001b[1;32m    925\u001b[0m             new_data = concatenate_block_managers(\n\u001b[0;32m--> 926\u001b[0;31m                 mgrs_indexers, self.new_axes, concat_axis=self.axis, copy=self.copy)\n\u001b[0m\u001b[1;32m    927\u001b[0m             \u001b[0;32mif\u001b[0m \u001b[0;32mnot\u001b[0m \u001b[0mself\u001b[0m\u001b[0;34m.\u001b[0m\u001b[0mcopy\u001b[0m\u001b[0;34m:\u001b[0m\u001b[0;34m\u001b[0m\u001b[0m\n\u001b[1;32m    928\u001b[0m                 \u001b[0mnew_data\u001b[0m\u001b[0;34m.\u001b[0m\u001b[0m_consolidate_inplace\u001b[0m\u001b[0;34m(\u001b[0m\u001b[0;34m)\u001b[0m\u001b[0;34m\u001b[0m\u001b[0m\n",
      "\u001b[0;32m/Users/christy/miniconda/lib/python2.7/site-packages/pandas/core/internals.pyc\u001b[0m in \u001b[0;36mconcatenate_block_managers\u001b[0;34m(mgrs_indexers, axes, concat_axis, copy)\u001b[0m\n\u001b[1;32m   4063\u001b[0m               for placement, join_units in concat_plan]\n\u001b[1;32m   4064\u001b[0m \u001b[0;34m\u001b[0m\u001b[0m\n\u001b[0;32m-> 4065\u001b[0;31m     \u001b[0;32mreturn\u001b[0m \u001b[0mBlockManager\u001b[0m\u001b[0;34m(\u001b[0m\u001b[0mblocks\u001b[0m\u001b[0;34m,\u001b[0m \u001b[0maxes\u001b[0m\u001b[0;34m)\u001b[0m\u001b[0;34m\u001b[0m\u001b[0m\n\u001b[0m\u001b[1;32m   4066\u001b[0m \u001b[0;34m\u001b[0m\u001b[0m\n\u001b[1;32m   4067\u001b[0m \u001b[0;34m\u001b[0m\u001b[0m\n",
      "\u001b[0;32m/Users/christy/miniconda/lib/python2.7/site-packages/pandas/core/internals.pyc\u001b[0m in \u001b[0;36m__init__\u001b[0;34m(self, blocks, axes, do_integrity_check, fastpath)\u001b[0m\n\u001b[1;32m   2176\u001b[0m \u001b[0;34m\u001b[0m\u001b[0m\n\u001b[1;32m   2177\u001b[0m         \u001b[0;32mif\u001b[0m \u001b[0mdo_integrity_check\u001b[0m\u001b[0;34m:\u001b[0m\u001b[0;34m\u001b[0m\u001b[0m\n\u001b[0;32m-> 2178\u001b[0;31m             \u001b[0mself\u001b[0m\u001b[0;34m.\u001b[0m\u001b[0m_verify_integrity\u001b[0m\u001b[0;34m(\u001b[0m\u001b[0;34m)\u001b[0m\u001b[0;34m\u001b[0m\u001b[0m\n\u001b[0m\u001b[1;32m   2179\u001b[0m \u001b[0;34m\u001b[0m\u001b[0m\n\u001b[1;32m   2180\u001b[0m         \u001b[0mself\u001b[0m\u001b[0;34m.\u001b[0m\u001b[0m_consolidate_check\u001b[0m\u001b[0;34m(\u001b[0m\u001b[0;34m)\u001b[0m\u001b[0;34m\u001b[0m\u001b[0m\n",
      "\u001b[0;32m/Users/christy/miniconda/lib/python2.7/site-packages/pandas/core/internals.pyc\u001b[0m in \u001b[0;36m_verify_integrity\u001b[0;34m(self)\u001b[0m\n\u001b[1;32m   2387\u001b[0m         \u001b[0;32mfor\u001b[0m \u001b[0mblock\u001b[0m \u001b[0;32min\u001b[0m \u001b[0mself\u001b[0m\u001b[0;34m.\u001b[0m\u001b[0mblocks\u001b[0m\u001b[0;34m:\u001b[0m\u001b[0;34m\u001b[0m\u001b[0m\n\u001b[1;32m   2388\u001b[0m             \u001b[0;32mif\u001b[0m \u001b[0;32mnot\u001b[0m \u001b[0mblock\u001b[0m\u001b[0;34m.\u001b[0m\u001b[0mis_sparse\u001b[0m \u001b[0;32mand\u001b[0m \u001b[0mblock\u001b[0m\u001b[0;34m.\u001b[0m\u001b[0mshape\u001b[0m\u001b[0;34m[\u001b[0m\u001b[0;36m1\u001b[0m\u001b[0;34m:\u001b[0m\u001b[0;34m]\u001b[0m \u001b[0;34m!=\u001b[0m \u001b[0mmgr_shape\u001b[0m\u001b[0;34m[\u001b[0m\u001b[0;36m1\u001b[0m\u001b[0;34m:\u001b[0m\u001b[0;34m]\u001b[0m\u001b[0;34m:\u001b[0m\u001b[0;34m\u001b[0m\u001b[0m\n\u001b[0;32m-> 2389\u001b[0;31m                 \u001b[0mconstruction_error\u001b[0m\u001b[0;34m(\u001b[0m\u001b[0mtot_items\u001b[0m\u001b[0;34m,\u001b[0m \u001b[0mblock\u001b[0m\u001b[0;34m.\u001b[0m\u001b[0mshape\u001b[0m\u001b[0;34m[\u001b[0m\u001b[0;36m1\u001b[0m\u001b[0;34m:\u001b[0m\u001b[0;34m]\u001b[0m\u001b[0;34m,\u001b[0m \u001b[0mself\u001b[0m\u001b[0;34m.\u001b[0m\u001b[0maxes\u001b[0m\u001b[0;34m)\u001b[0m\u001b[0;34m\u001b[0m\u001b[0m\n\u001b[0m\u001b[1;32m   2390\u001b[0m         \u001b[0;32mif\u001b[0m \u001b[0mlen\u001b[0m\u001b[0;34m(\u001b[0m\u001b[0mself\u001b[0m\u001b[0;34m.\u001b[0m\u001b[0mitems\u001b[0m\u001b[0;34m)\u001b[0m \u001b[0;34m!=\u001b[0m \u001b[0mtot_items\u001b[0m\u001b[0;34m:\u001b[0m\u001b[0;34m\u001b[0m\u001b[0m\n\u001b[1;32m   2391\u001b[0m             raise AssertionError('Number of manager items must equal union of '\n",
      "\u001b[0;32m/Users/christy/miniconda/lib/python2.7/site-packages/pandas/core/internals.pyc\u001b[0m in \u001b[0;36mconstruction_error\u001b[0;34m(tot_items, block_shape, axes, e)\u001b[0m\n\u001b[1;32m   3525\u001b[0m         \u001b[0;32mraise\u001b[0m \u001b[0me\u001b[0m\u001b[0;34m\u001b[0m\u001b[0m\n\u001b[1;32m   3526\u001b[0m     raise ValueError(\"Shape of passed values is {0}, indices imply {1}\".format(\n\u001b[0;32m-> 3527\u001b[0;31m         passed,implied))\n\u001b[0m\u001b[1;32m   3528\u001b[0m \u001b[0;34m\u001b[0m\u001b[0m\n\u001b[1;32m   3529\u001b[0m \u001b[0;34m\u001b[0m\u001b[0m\n",
      "\u001b[0;31mValueError\u001b[0m: Shape of passed values is (8, 23499), indices imply (8, 7386)"
     ]
    }
   ],
   "source": [
    "#also if there are no tweets, fill with zero.\n",
    "map_df = map_df[map_df.geometry.notnull()]\n",
    "#fill empty counts with zero (no tweets)\n",
    "#map_df['count'].fillna(0, inplace = True)\n",
    "map_df.reset_index(inplace=True)"
   ]
  },
  {
   "cell_type": "code",
   "execution_count": 8,
   "metadata": {
    "collapsed": false
   },
   "outputs": [],
   "source": [
    "map_test = pd.read_csv('all_tpmin_with_coordinates.csv')"
   ]
  },
  {
   "cell_type": "markdown",
   "metadata": {},
   "source": [
    "###Get a Random Color For Each Neighborhood\n",
    "####Later will encode information by color and hue"
   ]
  },
  {
   "cell_type": "code",
   "execution_count": 281,
   "metadata": {
    "collapsed": true
   },
   "outputs": [],
   "source": [
    "def getrandom_color(df, color_file):\n",
    "    '''takes in a dataframe of gemoetry and geoid, and a list of hex colors\n",
    "    Creates a new colomn of shape colors. Returns the new dataframe.'''\n",
    "    #import the colors csv\n",
    "    cdf = pd.read_csv('colors.csv')\n",
    "    #make it a list\n",
    "    colors = cdf[' color'].tolist() \n",
    "    num_col = df.shape[0] \n",
    "    df['hexcolor'] = [random.choice(colors) for i in xrange(num_col)]\n",
    "    return df"
   ]
  },
  {
   "cell_type": "code",
   "execution_count": 222,
   "metadata": {
    "collapsed": false
   },
   "outputs": [
    {
     "name": "stderr",
     "output_type": "stream",
     "text": [
      "/Users/christy/miniconda/lib/python2.7/site-packages/IPython/kernel/__main__.py:9: SettingWithCopyWarning: \n",
      "A value is trying to be set on a copy of a slice from a DataFrame.\n",
      "Try using .loc[row_indexer,col_indexer] = value instead\n",
      "\n",
      "See the the caveats in the documentation: http://pandas.pydata.org/pandas-docs/stable/indexing.html#indexing-view-versus-copy\n"
     ]
    }
   ],
   "source": [
    "df_col = getrandom_color(map_df, 'colors.csv')\n"
   ]
  },
  {
   "cell_type": "code",
   "execution_count": 223,
   "metadata": {
    "collapsed": false
   },
   "outputs": [
    {
     "data": {
      "text/html": [
       "<div>\n",
       "<table border=\"1\" class=\"dataframe\">\n",
       "  <thead>\n",
       "    <tr style=\"text-align: right;\">\n",
       "      <th></th>\n",
       "      <th>geoid10</th>\n",
       "      <th>geometry</th>\n",
       "      <th>count</th>\n",
       "      <th>text</th>\n",
       "      <th>hexcolors</th>\n",
       "    </tr>\n",
       "  </thead>\n",
       "  <tbody>\n",
       "    <tr>\n",
       "      <th>0</th>\n",
       "      <td>60750101001000</td>\n",
       "      <td>{\"type\":\"MultiPolygon\",\"coordinates\":[[[[-122....</td>\n",
       "      <td>0</td>\n",
       "      <td>NaN</td>\n",
       "      <td>#CC0099</td>\n",
       "    </tr>\n",
       "    <tr>\n",
       "      <th>1</th>\n",
       "      <td>60750101001001</td>\n",
       "      <td>{\"type\":\"MultiPolygon\",\"coordinates\":[[[[-122....</td>\n",
       "      <td>9</td>\n",
       "      <td>[u'tfw', u'internet', u'archiv', u'sudden', u'...</td>\n",
       "      <td>#CCCCFF</td>\n",
       "    </tr>\n",
       "    <tr>\n",
       "      <th>2</th>\n",
       "      <td>60750101001002</td>\n",
       "      <td>{\"type\":\"MultiPolygon\",\"coordinates\":[[[[-122....</td>\n",
       "      <td>0</td>\n",
       "      <td>NaN</td>\n",
       "      <td>#3333CC</td>\n",
       "    </tr>\n",
       "    <tr>\n",
       "      <th>3</th>\n",
       "      <td>60750101001003</td>\n",
       "      <td>{\"type\":\"MultiPolygon\",\"coordinates\":[[[[-122....</td>\n",
       "      <td>0</td>\n",
       "      <td>NaN</td>\n",
       "      <td>#FF3399</td>\n",
       "    </tr>\n",
       "    <tr>\n",
       "      <th>4</th>\n",
       "      <td>60750101001004</td>\n",
       "      <td>{\"type\":\"MultiPolygon\",\"coordinates\":[[[[-122....</td>\n",
       "      <td>6</td>\n",
       "      <td>[u'deep', u'blue', u'adobelif', u'hearth', u'a...</td>\n",
       "      <td>#3333CC</td>\n",
       "    </tr>\n",
       "  </tbody>\n",
       "</table>\n",
       "</div>"
      ],
      "text/plain": [
       "          geoid10                                           geometry  count  \\\n",
       "0  60750101001000  {\"type\":\"MultiPolygon\",\"coordinates\":[[[[-122....      0   \n",
       "1  60750101001001  {\"type\":\"MultiPolygon\",\"coordinates\":[[[[-122....      9   \n",
       "2  60750101001002  {\"type\":\"MultiPolygon\",\"coordinates\":[[[[-122....      0   \n",
       "3  60750101001003  {\"type\":\"MultiPolygon\",\"coordinates\":[[[[-122....      0   \n",
       "4  60750101001004  {\"type\":\"MultiPolygon\",\"coordinates\":[[[[-122....      6   \n",
       "\n",
       "                                                text hexcolors  \n",
       "0                                                NaN   #CC0099  \n",
       "1  [u'tfw', u'internet', u'archiv', u'sudden', u'...   #CCCCFF  \n",
       "2                                                NaN   #3333CC  \n",
       "3                                                NaN   #FF3399  \n",
       "4  [u'deep', u'blue', u'adobelif', u'hearth', u'a...   #3333CC  "
      ]
     },
     "execution_count": 223,
     "metadata": {},
     "output_type": "execute_result"
    }
   ],
   "source": [
    "df_col.head()\n"
   ]
  },
  {
   "cell_type": "markdown",
   "metadata": {},
   "source": [
    "###A. Convert DataFrame of Neighborhoods to JsonFile for Mapping"
   ]
  },
  {
   "cell_type": "code",
   "execution_count": 253,
   "metadata": {
    "collapsed": false
   },
   "outputs": [
    {
     "ename": "KeyError",
     "evalue": "'hexcolor'",
     "output_type": "error",
     "traceback": [
      "\u001b[0;31m---------------------------------------------------------------------------\u001b[0m",
      "\u001b[0;31mKeyError\u001b[0m                                  Traceback (most recent call last)",
      "\u001b[0;32m<ipython-input-253-cc2c01ec083b>\u001b[0m in \u001b[0;36m<module>\u001b[0;34m()\u001b[0m\n\u001b[1;32m      5\u001b[0m     \u001b[0;32mreturn\u001b[0m \u001b[0mgeo_json\u001b[0m\u001b[0;34m\u001b[0m\u001b[0m\n\u001b[1;32m      6\u001b[0m \u001b[0;34m\u001b[0m\u001b[0m\n\u001b[0;32m----> 7\u001b[0;31m \u001b[0mlist_to_export\u001b[0m \u001b[0;34m=\u001b[0m \u001b[0;34m[\u001b[0m\u001b[0madd_properties_geo\u001b[0m\u001b[0;34m(\u001b[0m\u001b[0mrow\u001b[0m\u001b[0;34m)\u001b[0m \u001b[0;32mfor\u001b[0m \u001b[0midx\u001b[0m\u001b[0;34m,\u001b[0m \u001b[0mrow\u001b[0m \u001b[0;32min\u001b[0m \u001b[0mdf_col\u001b[0m\u001b[0;34m.\u001b[0m\u001b[0miterrows\u001b[0m\u001b[0;34m(\u001b[0m\u001b[0;34m)\u001b[0m\u001b[0;34m]\u001b[0m\u001b[0;34m\u001b[0m\u001b[0m\n\u001b[0m\u001b[1;32m      8\u001b[0m \u001b[0;34m\u001b[0m\u001b[0m\n\u001b[1;32m      9\u001b[0m \u001b[0;32mwith\u001b[0m \u001b[0mopen\u001b[0m\u001b[0;34m(\u001b[0m\u001b[0;34m'sf_geo.json'\u001b[0m\u001b[0;34m,\u001b[0m \u001b[0;34m'w'\u001b[0m\u001b[0;34m)\u001b[0m \u001b[0;32mas\u001b[0m \u001b[0moutfile\u001b[0m\u001b[0;34m:\u001b[0m\u001b[0;34m\u001b[0m\u001b[0m\n",
      "\u001b[0;32m<ipython-input-253-cc2c01ec083b>\u001b[0m in \u001b[0;36madd_properties_geo\u001b[0;34m(row)\u001b[0m\n\u001b[1;32m      1\u001b[0m \u001b[0;32mdef\u001b[0m \u001b[0madd_properties_geo\u001b[0m\u001b[0;34m(\u001b[0m\u001b[0mrow\u001b[0m\u001b[0;34m)\u001b[0m\u001b[0;34m:\u001b[0m\u001b[0;34m\u001b[0m\u001b[0m\n\u001b[1;32m      2\u001b[0m     \u001b[0mgeoid\u001b[0m \u001b[0;34m=\u001b[0m \u001b[0mrow\u001b[0m\u001b[0;34m[\u001b[0m\u001b[0;34m'geoid10'\u001b[0m\u001b[0;34m]\u001b[0m\u001b[0;34m\u001b[0m\u001b[0m\n\u001b[0;32m----> 3\u001b[0;31m     \u001b[0mhexcolor\u001b[0m \u001b[0;34m=\u001b[0m \u001b[0mrow\u001b[0m\u001b[0;34m[\u001b[0m\u001b[0;34m'hexcolor'\u001b[0m\u001b[0;34m]\u001b[0m\u001b[0;34m\u001b[0m\u001b[0m\n\u001b[0m\u001b[1;32m      4\u001b[0m     \u001b[0mgeo_json\u001b[0m \u001b[0;34m=\u001b[0m \u001b[0;34m{\u001b[0m\u001b[0;34m\"type\"\u001b[0m\u001b[0;34m:\u001b[0m \u001b[0;34m\"Feature\"\u001b[0m\u001b[0;34m,\u001b[0m \u001b[0;34m\"geometry\"\u001b[0m\u001b[0;34m:\u001b[0m \u001b[0mjson\u001b[0m\u001b[0;34m.\u001b[0m\u001b[0mloads\u001b[0m\u001b[0;34m(\u001b[0m\u001b[0mrow\u001b[0m\u001b[0;34m[\u001b[0m\u001b[0;34m'geometry'\u001b[0m\u001b[0;34m]\u001b[0m\u001b[0;34m)\u001b[0m\u001b[0;34m,\u001b[0m  \u001b[0;34m\"properties\"\u001b[0m\u001b[0;34m:\u001b[0m \u001b[0;34m{\u001b[0m\u001b[0;34m'geoid'\u001b[0m\u001b[0;34m:\u001b[0m \u001b[0mgeoid\u001b[0m \u001b[0;34m,\u001b[0m \u001b[0;34m'hexcolor'\u001b[0m \u001b[0;34m:\u001b[0m \u001b[0mhexcolor\u001b[0m \u001b[0;34m}\u001b[0m\u001b[0;34m}\u001b[0m\u001b[0;34m\u001b[0m\u001b[0m\n\u001b[1;32m      5\u001b[0m     \u001b[0;32mreturn\u001b[0m \u001b[0mgeo_json\u001b[0m\u001b[0;34m\u001b[0m\u001b[0m\n",
      "\u001b[0;32m/Users/christy/miniconda/lib/python2.7/site-packages/pandas/core/series.pyc\u001b[0m in \u001b[0;36m__getitem__\u001b[0;34m(self, key)\u001b[0m\n\u001b[1;32m    519\u001b[0m     \u001b[0;32mdef\u001b[0m \u001b[0m__getitem__\u001b[0m\u001b[0;34m(\u001b[0m\u001b[0mself\u001b[0m\u001b[0;34m,\u001b[0m \u001b[0mkey\u001b[0m\u001b[0;34m)\u001b[0m\u001b[0;34m:\u001b[0m\u001b[0;34m\u001b[0m\u001b[0m\n\u001b[1;32m    520\u001b[0m         \u001b[0;32mtry\u001b[0m\u001b[0;34m:\u001b[0m\u001b[0;34m\u001b[0m\u001b[0m\n\u001b[0;32m--> 521\u001b[0;31m             \u001b[0mresult\u001b[0m \u001b[0;34m=\u001b[0m \u001b[0mself\u001b[0m\u001b[0;34m.\u001b[0m\u001b[0mindex\u001b[0m\u001b[0;34m.\u001b[0m\u001b[0mget_value\u001b[0m\u001b[0;34m(\u001b[0m\u001b[0mself\u001b[0m\u001b[0;34m,\u001b[0m \u001b[0mkey\u001b[0m\u001b[0;34m)\u001b[0m\u001b[0;34m\u001b[0m\u001b[0m\n\u001b[0m\u001b[1;32m    522\u001b[0m \u001b[0;34m\u001b[0m\u001b[0m\n\u001b[1;32m    523\u001b[0m             \u001b[0;32mif\u001b[0m \u001b[0;32mnot\u001b[0m \u001b[0mnp\u001b[0m\u001b[0;34m.\u001b[0m\u001b[0misscalar\u001b[0m\u001b[0;34m(\u001b[0m\u001b[0mresult\u001b[0m\u001b[0;34m)\u001b[0m\u001b[0;34m:\u001b[0m\u001b[0;34m\u001b[0m\u001b[0m\n",
      "\u001b[0;32m/Users/christy/miniconda/lib/python2.7/site-packages/pandas/core/index.pyc\u001b[0m in \u001b[0;36mget_value\u001b[0;34m(self, series, key)\u001b[0m\n\u001b[1;32m   1607\u001b[0m                     \u001b[0;32mraise\u001b[0m \u001b[0mInvalidIndexError\u001b[0m\u001b[0;34m(\u001b[0m\u001b[0mkey\u001b[0m\u001b[0;34m)\u001b[0m\u001b[0;34m\u001b[0m\u001b[0m\n\u001b[1;32m   1608\u001b[0m                 \u001b[0;32melse\u001b[0m\u001b[0;34m:\u001b[0m\u001b[0;34m\u001b[0m\u001b[0m\n\u001b[0;32m-> 1609\u001b[0;31m                     \u001b[0;32mraise\u001b[0m \u001b[0me1\u001b[0m\u001b[0;34m\u001b[0m\u001b[0m\n\u001b[0m\u001b[1;32m   1610\u001b[0m             \u001b[0;32mexcept\u001b[0m \u001b[0mException\u001b[0m\u001b[0;34m:\u001b[0m  \u001b[0;31m# pragma: no cover\u001b[0m\u001b[0;34m\u001b[0m\u001b[0m\n\u001b[1;32m   1611\u001b[0m                 \u001b[0;32mraise\u001b[0m \u001b[0me1\u001b[0m\u001b[0;34m\u001b[0m\u001b[0m\n",
      "\u001b[0;31mKeyError\u001b[0m: 'hexcolor'"
     ]
    }
   ],
   "source": [
    "def add_properties_geo(row):\n",
    "    geoid = row['geoid10']\n",
    "    hexcolor = row['hexcolor']\n",
    "    geo_json = {\"type\": \"Feature\", \"geometry\": json.loads(row['geometry']),  \"properties\": {'geoid': geoid , 'hexcolor' : hexcolor }}\n",
    "    return geo_json\n",
    "\n",
    "list_to_export = [add_properties_geo(row) for idx, row in df_col.iterrows()]\n",
    "\n",
    "with open('sf_geo.json', 'w') as outfile:\n",
    "    json.dump(list_to_export, outfile)"
   ]
  },
  {
   "cell_type": "markdown",
   "metadata": {},
   "source": [
    "###B. Convert DataFrame of Conuts to Json File for Mapping"
   ]
  },
  {
   "cell_type": "code",
   "execution_count": 9,
   "metadata": {
    "collapsed": false
   },
   "outputs": [],
   "source": [
    "def add_properties_geo(row):\n",
    "    geoid = row['geoid10']\n",
    "    hexcolor = row['hexcolor']\n",
    "    geo_json = {\"type\": \"Feature\", \"geometry\": json.loads(row['geometry']),  \"properties\": {'geoid': geoid , 'hexcolor' : hexcolor }}\n",
    "    return geo_json\n",
    "\n",
    "def dataframe_to_geojson(df, outfilename):\n",
    "    '''Takes in a dataframe with a count and geoid10. Dumps it into a json geojason file'''\n",
    "    df['geoid10'] = df['geoid10'].astype('str')\n",
    "    \n",
    "    list_to_export = [add_properties_geo(row) for idx, row in map_df.iterrows()]\n",
    "    with open(outfilename, 'w') as outfile:\n",
    "        json.dump(list_to_export, outfile)"
   ]
  },
  {
   "cell_type": "code",
   "execution_count": 21,
   "metadata": {
    "collapsed": false
   },
   "outputs": [
    {
     "data": {
      "text/plain": [
       "30.0"
      ]
     },
     "execution_count": 21,
     "metadata": {},
     "output_type": "execute_result"
    }
   ],
   "source": [
    "float(len(map_df['count'].unique()))"
   ]
  },
  {
   "cell_type": "code",
   "execution_count": 23,
   "metadata": {
    "collapsed": false
   },
   "outputs": [
    {
     "data": {
      "text/plain": [
       "array([  0.00000000e+00,   4.20000000e+01,   1.80000000e+01,\n",
       "         1.00000000e+00,   2.00000000e+00,   3.00000000e+00,\n",
       "         5.00000000e+00,   4.00000000e+00,   6.00000000e+00,\n",
       "         1.00000000e+01,   2.60000000e+01,   7.00000000e+00,\n",
       "         8.00000000e+00,   3.90000000e+01,   2.40000000e+01,\n",
       "         1.20000000e+01,   9.40000000e+01,   9.00000000e+00,\n",
       "         1.40000000e+01,   2.00000000e+01,   1.90000000e+01,\n",
       "         4.50000000e+01,   1.70000000e+01,   1.60000000e+01,\n",
       "         1.10000000e+01,   1.30000000e+01,   3.63000000e+02,\n",
       "         2.70000000e+01,   1.79000000e+02,   1.95000000e+03])"
      ]
     },
     "execution_count": 23,
     "metadata": {},
     "output_type": "execute_result"
    }
   ],
   "source": [
    "map_df['count'].unique()"
   ]
  },
  {
   "cell_type": "markdown",
   "metadata": {},
   "source": [
    "####Manually heat map colors"
   ]
  },
  {
   "cell_type": "code",
   "execution_count": 26,
   "metadata": {
    "collapsed": true
   },
   "outputs": [],
   "source": [
    "def fill_colors(df):\n",
    "    '''Bulky way to create a manual heat map based on the counts of values.\n",
    "    Need to find an automated way.\n",
    "    Takes a dataframe with a COUNT column. Uses to return an added COLOR column\n",
    "    which contains a spectrum of red colors.\n",
    "    '''\n",
    "    #create a dictionary of what color goes with each unique value\n",
    "\n",
    "    values= float(len(df['count'].unique()))\n",
    "\n",
    "    color_list = ['#665229','#806633','#997A3D','#B28F47','#CCA352','#E6B85C','#FFD175','#FFE0A3','#FFF0D1','#FFFAF0',\"F0F8FF\"]\n",
    "    value_dict = defaultdict(str)\n",
    "    for index, numb in enumerate(df['count'].unique()):\n",
    "        color= round(index/values*10)\n",
    "        numb= int(numb)\n",
    "        value_dict[numb] = color_list[int(color)]\n",
    "    df['hexcolor'] = df['count'].map(value_dict.get)\n",
    "    return df\n"
   ]
  },
  {
   "cell_type": "code",
   "execution_count": 27,
   "metadata": {
    "collapsed": false
   },
   "outputs": [
    {
     "name": "stderr",
     "output_type": "stream",
     "text": [
      "/Users/christy/miniconda/lib/python2.7/site-packages/IPython/kernel/__main__.py:9: SettingWithCopyWarning: \n",
      "A value is trying to be set on a copy of a slice from a DataFrame.\n",
      "Try using .loc[row_indexer,col_indexer] = value instead\n",
      "\n",
      "See the the caveats in the documentation: http://pandas.pydata.org/pandas-docs/stable/indexing.html#indexing-view-versus-copy\n"
     ]
    }
   ],
   "source": [
    "df_color =fill_colors(map_df)\n",
    "df_color = df_color[['geoid10', 'geometry', 'hexcolor']]\n",
    "dataframe_to_geojson(df_color, 'data/heatmap_geo.json')"
   ]
  },
  {
   "cell_type": "markdown",
   "metadata": {},
   "source": [
    "###NEw Test. Get Rate of tweets as a variable in geogjson"
   ]
  },
  {
   "cell_type": "code",
   "execution_count": 11,
   "metadata": {
    "collapsed": false
   },
   "outputs": [
    {
     "data": {
      "text/html": [
       "<div>\n",
       "<table border=\"1\" class=\"dataframe\">\n",
       "  <thead>\n",
       "    <tr style=\"text-align: right;\">\n",
       "      <th></th>\n",
       "      <th>Unnamed: 0</th>\n",
       "      <th>geoid10</th>\n",
       "      <th>date</th>\n",
       "      <th>hour</th>\n",
       "      <th>min</th>\n",
       "      <th>min_count</th>\n",
       "      <th>count</th>\n",
       "      <th>t_p_min</th>\n",
       "      <th>geometry</th>\n",
       "    </tr>\n",
       "  </thead>\n",
       "  <tbody>\n",
       "    <tr>\n",
       "      <th>0</th>\n",
       "      <td>0</td>\n",
       "      <td>60750101001001</td>\n",
       "      <td>2015-07-15</td>\n",
       "      <td>6</td>\n",
       "      <td>11</td>\n",
       "      <td>1</td>\n",
       "      <td>1</td>\n",
       "      <td>1</td>\n",
       "      <td>{\"type\":\"MultiPolygon\",\"coordinates\":[[[[-122....</td>\n",
       "    </tr>\n",
       "    <tr>\n",
       "      <th>1</th>\n",
       "      <td>1</td>\n",
       "      <td>60750101001001</td>\n",
       "      <td>2015-07-15</td>\n",
       "      <td>8</td>\n",
       "      <td>10</td>\n",
       "      <td>1</td>\n",
       "      <td>1</td>\n",
       "      <td>1</td>\n",
       "      <td>{\"type\":\"MultiPolygon\",\"coordinates\":[[[[-122....</td>\n",
       "    </tr>\n",
       "    <tr>\n",
       "      <th>2</th>\n",
       "      <td>2</td>\n",
       "      <td>60750101001001</td>\n",
       "      <td>2015-07-15</td>\n",
       "      <td>19</td>\n",
       "      <td>59</td>\n",
       "      <td>1</td>\n",
       "      <td>1</td>\n",
       "      <td>1</td>\n",
       "      <td>{\"type\":\"MultiPolygon\",\"coordinates\":[[[[-122....</td>\n",
       "    </tr>\n",
       "    <tr>\n",
       "      <th>3</th>\n",
       "      <td>3</td>\n",
       "      <td>60750101001001</td>\n",
       "      <td>2015-07-15</td>\n",
       "      <td>20</td>\n",
       "      <td>0</td>\n",
       "      <td>1</td>\n",
       "      <td>1</td>\n",
       "      <td>1</td>\n",
       "      <td>{\"type\":\"MultiPolygon\",\"coordinates\":[[[[-122....</td>\n",
       "    </tr>\n",
       "    <tr>\n",
       "      <th>4</th>\n",
       "      <td>4</td>\n",
       "      <td>60750101001001</td>\n",
       "      <td>2015-07-25</td>\n",
       "      <td>4</td>\n",
       "      <td>90</td>\n",
       "      <td>2</td>\n",
       "      <td>2</td>\n",
       "      <td>1</td>\n",
       "      <td>{\"type\":\"MultiPolygon\",\"coordinates\":[[[[-122....</td>\n",
       "    </tr>\n",
       "  </tbody>\n",
       "</table>\n",
       "</div>"
      ],
      "text/plain": [
       "   Unnamed: 0         geoid10        date  hour  min  min_count  count  \\\n",
       "0           0  60750101001001  2015-07-15     6   11          1      1   \n",
       "1           1  60750101001001  2015-07-15     8   10          1      1   \n",
       "2           2  60750101001001  2015-07-15    19   59          1      1   \n",
       "3           3  60750101001001  2015-07-15    20    0          1      1   \n",
       "4           4  60750101001001  2015-07-25     4   90          2      2   \n",
       "\n",
       "   t_p_min                                           geometry  \n",
       "0        1  {\"type\":\"MultiPolygon\",\"coordinates\":[[[[-122....  \n",
       "1        1  {\"type\":\"MultiPolygon\",\"coordinates\":[[[[-122....  \n",
       "2        1  {\"type\":\"MultiPolygon\",\"coordinates\":[[[[-122....  \n",
       "3        1  {\"type\":\"MultiPolygon\",\"coordinates\":[[[[-122....  \n",
       "4        1  {\"type\":\"MultiPolygon\",\"coordinates\":[[[[-122....  "
      ]
     },
     "execution_count": 11,
     "metadata": {},
     "output_type": "execute_result"
    }
   ],
   "source": [
    "map_test.head()"
   ]
  },
  {
   "cell_type": "code",
   "execution_count": 14,
   "metadata": {
    "collapsed": false
   },
   "outputs": [],
   "source": [
    "#Now have tweets per hour, and better count\n",
    "map_test['hr_cnt'] = 1\n",
    "map_test = map_test.groupby(['geoid10', 'geometry', 'hour']).agg(sum).reset_index()"
   ]
  },
  {
   "cell_type": "code",
   "execution_count": 52,
   "metadata": {
    "collapsed": false
   },
   "outputs": [
    {
     "data": {
      "text/html": [
       "<div>\n",
       "<table border=\"1\" class=\"dataframe\">\n",
       "  <thead>\n",
       "    <tr style=\"text-align: right;\">\n",
       "      <th></th>\n",
       "      <th>geoid10</th>\n",
       "      <th>geometry</th>\n",
       "      <th>hour</th>\n",
       "      <th>Unnamed: 0</th>\n",
       "      <th>min</th>\n",
       "      <th>min_count</th>\n",
       "      <th>count</th>\n",
       "      <th>t_p_min</th>\n",
       "      <th>hr_cnt</th>\n",
       "      <th>tph</th>\n",
       "    </tr>\n",
       "  </thead>\n",
       "  <tbody>\n",
       "    <tr>\n",
       "      <th>0</th>\n",
       "      <td>60750101001001</td>\n",
       "      <td>{\"type\":\"MultiPolygon\",\"coordinates\":[[[[-122....</td>\n",
       "      <td>0</td>\n",
       "      <td>409</td>\n",
       "      <td>270</td>\n",
       "      <td>10</td>\n",
       "      <td>10</td>\n",
       "      <td>6</td>\n",
       "      <td>6</td>\n",
       "      <td>1.666667</td>\n",
       "    </tr>\n",
       "    <tr>\n",
       "      <th>1</th>\n",
       "      <td>60750101001001</td>\n",
       "      <td>{\"type\":\"MultiPolygon\",\"coordinates\":[[[[-122....</td>\n",
       "      <td>1</td>\n",
       "      <td>446</td>\n",
       "      <td>281</td>\n",
       "      <td>10</td>\n",
       "      <td>10</td>\n",
       "      <td>7</td>\n",
       "      <td>7</td>\n",
       "      <td>1.428571</td>\n",
       "    </tr>\n",
       "    <tr>\n",
       "      <th>2</th>\n",
       "      <td>60750101001001</td>\n",
       "      <td>{\"type\":\"MultiPolygon\",\"coordinates\":[[[[-122....</td>\n",
       "      <td>2</td>\n",
       "      <td>412</td>\n",
       "      <td>320</td>\n",
       "      <td>11</td>\n",
       "      <td>11</td>\n",
       "      <td>7</td>\n",
       "      <td>7</td>\n",
       "      <td>1.571429</td>\n",
       "    </tr>\n",
       "    <tr>\n",
       "      <th>3</th>\n",
       "      <td>60750101001001</td>\n",
       "      <td>{\"type\":\"MultiPolygon\",\"coordinates\":[[[[-122....</td>\n",
       "      <td>3</td>\n",
       "      <td>249</td>\n",
       "      <td>144</td>\n",
       "      <td>7</td>\n",
       "      <td>7</td>\n",
       "      <td>6</td>\n",
       "      <td>6</td>\n",
       "      <td>1.166667</td>\n",
       "    </tr>\n",
       "    <tr>\n",
       "      <th>4</th>\n",
       "      <td>60750101001001</td>\n",
       "      <td>{\"type\":\"MultiPolygon\",\"coordinates\":[[[[-122....</td>\n",
       "      <td>4</td>\n",
       "      <td>281</td>\n",
       "      <td>422</td>\n",
       "      <td>12</td>\n",
       "      <td>12</td>\n",
       "      <td>5</td>\n",
       "      <td>5</td>\n",
       "      <td>2.400000</td>\n",
       "    </tr>\n",
       "  </tbody>\n",
       "</table>\n",
       "</div>"
      ],
      "text/plain": [
       "          geoid10                                           geometry  hour  \\\n",
       "0  60750101001001  {\"type\":\"MultiPolygon\",\"coordinates\":[[[[-122....     0   \n",
       "1  60750101001001  {\"type\":\"MultiPolygon\",\"coordinates\":[[[[-122....     1   \n",
       "2  60750101001001  {\"type\":\"MultiPolygon\",\"coordinates\":[[[[-122....     2   \n",
       "3  60750101001001  {\"type\":\"MultiPolygon\",\"coordinates\":[[[[-122....     3   \n",
       "4  60750101001001  {\"type\":\"MultiPolygon\",\"coordinates\":[[[[-122....     4   \n",
       "\n",
       "   Unnamed: 0  min  min_count  count  t_p_min  hr_cnt       tph  \n",
       "0         409  270         10     10        6       6  1.666667  \n",
       "1         446  281         10     10        7       7  1.428571  \n",
       "2         412  320         11     11        7       7  1.571429  \n",
       "3         249  144          7      7        6       6  1.166667  \n",
       "4         281  422         12     12        5       5  2.400000  "
      ]
     },
     "execution_count": 52,
     "metadata": {},
     "output_type": "execute_result"
    }
   ],
   "source": [
    "map_test.head()"
   ]
  },
  {
   "cell_type": "code",
   "execution_count": 17,
   "metadata": {
    "collapsed": false
   },
   "outputs": [],
   "source": [
    "map_test['tph'] = map_test['count']/map_test['hr_cnt']\n"
   ]
  },
  {
   "cell_type": "code",
   "execution_count": 18,
   "metadata": {
    "collapsed": false
   },
   "outputs": [
    {
     "data": {
      "text/html": [
       "<div>\n",
       "<table border=\"1\" class=\"dataframe\">\n",
       "  <thead>\n",
       "    <tr style=\"text-align: right;\">\n",
       "      <th></th>\n",
       "      <th>geoid10</th>\n",
       "      <th>geometry</th>\n",
       "      <th>hour</th>\n",
       "      <th>Unnamed: 0</th>\n",
       "      <th>min</th>\n",
       "      <th>min_count</th>\n",
       "      <th>count</th>\n",
       "      <th>t_p_min</th>\n",
       "      <th>hr_cnt</th>\n",
       "      <th>tph</th>\n",
       "    </tr>\n",
       "  </thead>\n",
       "  <tbody>\n",
       "    <tr>\n",
       "      <th>0</th>\n",
       "      <td>60750101001001</td>\n",
       "      <td>{\"type\":\"MultiPolygon\",\"coordinates\":[[[[-122....</td>\n",
       "      <td>0</td>\n",
       "      <td>409</td>\n",
       "      <td>270</td>\n",
       "      <td>10</td>\n",
       "      <td>10</td>\n",
       "      <td>6</td>\n",
       "      <td>6</td>\n",
       "      <td>1.666667</td>\n",
       "    </tr>\n",
       "    <tr>\n",
       "      <th>1</th>\n",
       "      <td>60750101001001</td>\n",
       "      <td>{\"type\":\"MultiPolygon\",\"coordinates\":[[[[-122....</td>\n",
       "      <td>1</td>\n",
       "      <td>446</td>\n",
       "      <td>281</td>\n",
       "      <td>10</td>\n",
       "      <td>10</td>\n",
       "      <td>7</td>\n",
       "      <td>7</td>\n",
       "      <td>1.428571</td>\n",
       "    </tr>\n",
       "    <tr>\n",
       "      <th>2</th>\n",
       "      <td>60750101001001</td>\n",
       "      <td>{\"type\":\"MultiPolygon\",\"coordinates\":[[[[-122....</td>\n",
       "      <td>2</td>\n",
       "      <td>412</td>\n",
       "      <td>320</td>\n",
       "      <td>11</td>\n",
       "      <td>11</td>\n",
       "      <td>7</td>\n",
       "      <td>7</td>\n",
       "      <td>1.571429</td>\n",
       "    </tr>\n",
       "    <tr>\n",
       "      <th>3</th>\n",
       "      <td>60750101001001</td>\n",
       "      <td>{\"type\":\"MultiPolygon\",\"coordinates\":[[[[-122....</td>\n",
       "      <td>3</td>\n",
       "      <td>249</td>\n",
       "      <td>144</td>\n",
       "      <td>7</td>\n",
       "      <td>7</td>\n",
       "      <td>6</td>\n",
       "      <td>6</td>\n",
       "      <td>1.166667</td>\n",
       "    </tr>\n",
       "    <tr>\n",
       "      <th>4</th>\n",
       "      <td>60750101001001</td>\n",
       "      <td>{\"type\":\"MultiPolygon\",\"coordinates\":[[[[-122....</td>\n",
       "      <td>4</td>\n",
       "      <td>281</td>\n",
       "      <td>422</td>\n",
       "      <td>12</td>\n",
       "      <td>12</td>\n",
       "      <td>5</td>\n",
       "      <td>5</td>\n",
       "      <td>2.400000</td>\n",
       "    </tr>\n",
       "  </tbody>\n",
       "</table>\n",
       "</div>"
      ],
      "text/plain": [
       "          geoid10                                           geometry  hour  \\\n",
       "0  60750101001001  {\"type\":\"MultiPolygon\",\"coordinates\":[[[[-122....     0   \n",
       "1  60750101001001  {\"type\":\"MultiPolygon\",\"coordinates\":[[[[-122....     1   \n",
       "2  60750101001001  {\"type\":\"MultiPolygon\",\"coordinates\":[[[[-122....     2   \n",
       "3  60750101001001  {\"type\":\"MultiPolygon\",\"coordinates\":[[[[-122....     3   \n",
       "4  60750101001001  {\"type\":\"MultiPolygon\",\"coordinates\":[[[[-122....     4   \n",
       "\n",
       "   Unnamed: 0  min  min_count  count  t_p_min  hr_cnt       tph  \n",
       "0         409  270         10     10        6       6  1.666667  \n",
       "1         446  281         10     10        7       7  1.428571  \n",
       "2         412  320         11     11        7       7  1.571429  \n",
       "3         249  144          7      7        6       6  1.166667  \n",
       "4         281  422         12     12        5       5  2.400000  "
      ]
     },
     "execution_count": 18,
     "metadata": {},
     "output_type": "execute_result"
    }
   ],
   "source": [
    "map_test.head()"
   ]
  },
  {
   "cell_type": "code",
   "execution_count": 53,
   "metadata": {
    "collapsed": false
   },
   "outputs": [],
   "source": [
    "keydf= pd.read_csv('geo_key_cloud.csv')"
   ]
  },
  {
   "cell_type": "code",
   "execution_count": 54,
   "metadata": {
    "collapsed": false
   },
   "outputs": [],
   "source": [
    "image_key = keydf[['geoid10']]"
   ]
  },
  {
   "cell_type": "code",
   "execution_count": 55,
   "metadata": {
    "collapsed": false
   },
   "outputs": [],
   "source": [
    "image_key = image_key.reset_index().rename(columns = {'index':'origional_index'})"
   ]
  },
  {
   "cell_type": "code",
   "execution_count": 59,
   "metadata": {
    "collapsed": false
   },
   "outputs": [
    {
     "data": {
      "text/html": [
       "<div>\n",
       "<table border=\"1\" class=\"dataframe\">\n",
       "  <thead>\n",
       "    <tr style=\"text-align: right;\">\n",
       "      <th></th>\n",
       "      <th>origional_index</th>\n",
       "      <th>geoid10</th>\n",
       "    </tr>\n",
       "  </thead>\n",
       "  <tbody>\n",
       "    <tr>\n",
       "      <th>1180</th>\n",
       "      <td>1180</td>\n",
       "      <td>60759809001083</td>\n",
       "    </tr>\n",
       "    <tr>\n",
       "      <th>1181</th>\n",
       "      <td>1181</td>\n",
       "      <td>60759809001090</td>\n",
       "    </tr>\n",
       "    <tr>\n",
       "      <th>1182</th>\n",
       "      <td>1182</td>\n",
       "      <td>60759809001091</td>\n",
       "    </tr>\n",
       "    <tr>\n",
       "      <th>1183</th>\n",
       "      <td>1183</td>\n",
       "      <td>60759809001109</td>\n",
       "    </tr>\n",
       "    <tr>\n",
       "      <th>1184</th>\n",
       "      <td>1184</td>\n",
       "      <td>60759809001127</td>\n",
       "    </tr>\n",
       "  </tbody>\n",
       "</table>\n",
       "</div>"
      ],
      "text/plain": [
       "      origional_index         geoid10\n",
       "1180             1180  60759809001083\n",
       "1181             1181  60759809001090\n",
       "1182             1182  60759809001091\n",
       "1183             1183  60759809001109\n",
       "1184             1184  60759809001127"
      ]
     },
     "execution_count": 59,
     "metadata": {},
     "output_type": "execute_result"
    }
   ],
   "source": [
    "image_key.tail()"
   ]
  },
  {
   "cell_type": "code",
   "execution_count": 27,
   "metadata": {
    "collapsed": false
   },
   "outputs": [],
   "source": [
    "#dont need below: both are integers\n",
    "#image_key.geoid10 = image_key.geoid10.apply(lambda x: str(x))\n"
   ]
  },
  {
   "cell_type": "code",
   "execution_count": 79,
   "metadata": {
    "collapsed": false,
    "scrolled": true
   },
   "outputs": [
    {
     "data": {
      "text/html": [
       "<div>\n",
       "<table border=\"1\" class=\"dataframe\">\n",
       "  <thead>\n",
       "    <tr style=\"text-align: right;\">\n",
       "      <th></th>\n",
       "      <th>geoid10</th>\n",
       "      <th>geometry</th>\n",
       "      <th>hour</th>\n",
       "      <th>Unnamed: 0</th>\n",
       "      <th>min</th>\n",
       "      <th>min_count</th>\n",
       "      <th>count</th>\n",
       "      <th>t_p_min</th>\n",
       "      <th>hr_cnt</th>\n",
       "      <th>tph</th>\n",
       "      <th>origional_index</th>\n",
       "    </tr>\n",
       "  </thead>\n",
       "  <tbody>\n",
       "    <tr>\n",
       "      <th>0</th>\n",
       "      <td>60750101001001</td>\n",
       "      <td>{\"type\":\"MultiPolygon\",\"coordinates\":[[[[-122....</td>\n",
       "      <td>0</td>\n",
       "      <td>409</td>\n",
       "      <td>270</td>\n",
       "      <td>10</td>\n",
       "      <td>10</td>\n",
       "      <td>6</td>\n",
       "      <td>6</td>\n",
       "      <td>1.666667</td>\n",
       "      <td>0</td>\n",
       "    </tr>\n",
       "    <tr>\n",
       "      <th>1</th>\n",
       "      <td>60750101001001</td>\n",
       "      <td>{\"type\":\"MultiPolygon\",\"coordinates\":[[[[-122....</td>\n",
       "      <td>1</td>\n",
       "      <td>446</td>\n",
       "      <td>281</td>\n",
       "      <td>10</td>\n",
       "      <td>10</td>\n",
       "      <td>7</td>\n",
       "      <td>7</td>\n",
       "      <td>1.428571</td>\n",
       "      <td>0</td>\n",
       "    </tr>\n",
       "    <tr>\n",
       "      <th>2</th>\n",
       "      <td>60750101001001</td>\n",
       "      <td>{\"type\":\"MultiPolygon\",\"coordinates\":[[[[-122....</td>\n",
       "      <td>2</td>\n",
       "      <td>412</td>\n",
       "      <td>320</td>\n",
       "      <td>11</td>\n",
       "      <td>11</td>\n",
       "      <td>7</td>\n",
       "      <td>7</td>\n",
       "      <td>1.571429</td>\n",
       "      <td>0</td>\n",
       "    </tr>\n",
       "    <tr>\n",
       "      <th>3</th>\n",
       "      <td>60750101001001</td>\n",
       "      <td>{\"type\":\"MultiPolygon\",\"coordinates\":[[[[-122....</td>\n",
       "      <td>3</td>\n",
       "      <td>249</td>\n",
       "      <td>144</td>\n",
       "      <td>7</td>\n",
       "      <td>7</td>\n",
       "      <td>6</td>\n",
       "      <td>6</td>\n",
       "      <td>1.166667</td>\n",
       "      <td>0</td>\n",
       "    </tr>\n",
       "    <tr>\n",
       "      <th>4</th>\n",
       "      <td>60750101001001</td>\n",
       "      <td>{\"type\":\"MultiPolygon\",\"coordinates\":[[[[-122....</td>\n",
       "      <td>4</td>\n",
       "      <td>281</td>\n",
       "      <td>422</td>\n",
       "      <td>12</td>\n",
       "      <td>12</td>\n",
       "      <td>5</td>\n",
       "      <td>5</td>\n",
       "      <td>2.400000</td>\n",
       "      <td>0</td>\n",
       "    </tr>\n",
       "  </tbody>\n",
       "</table>\n",
       "</div>"
      ],
      "text/plain": [
       "          geoid10                                           geometry  hour  \\\n",
       "0  60750101001001  {\"type\":\"MultiPolygon\",\"coordinates\":[[[[-122....     0   \n",
       "1  60750101001001  {\"type\":\"MultiPolygon\",\"coordinates\":[[[[-122....     1   \n",
       "2  60750101001001  {\"type\":\"MultiPolygon\",\"coordinates\":[[[[-122....     2   \n",
       "3  60750101001001  {\"type\":\"MultiPolygon\",\"coordinates\":[[[[-122....     3   \n",
       "4  60750101001001  {\"type\":\"MultiPolygon\",\"coordinates\":[[[[-122....     4   \n",
       "\n",
       "   Unnamed: 0  min  min_count  count  t_p_min  hr_cnt       tph  \\\n",
       "0         409  270         10     10        6       6  1.666667   \n",
       "1         446  281         10     10        7       7  1.428571   \n",
       "2         412  320         11     11        7       7  1.571429   \n",
       "3         249  144          7      7        6       6  1.166667   \n",
       "4         281  422         12     12        5       5  2.400000   \n",
       "\n",
       "   origional_index  \n",
       "0                0  \n",
       "1                0  \n",
       "2                0  \n",
       "3                0  \n",
       "4                0  "
      ]
     },
     "execution_count": 79,
     "metadata": {},
     "output_type": "execute_result"
    }
   ],
   "source": [
    "test = map_test.merge(image_key)\n",
    "test.head()"
   ]
  },
  {
   "cell_type": "code",
   "execution_count": 43,
   "metadata": {
    "collapsed": false
   },
   "outputs": [
    {
     "data": {
      "text/plain": [
       "Index([u'geoid10', u'geometry', u'hour', u'Unnamed: 0', u'min', u'min_count',\n",
       "       u'count', u't_p_min', u'hr_cnt', u'tph', u'origional_index'],\n",
       "      dtype='object')"
      ]
     },
     "execution_count": 43,
     "metadata": {},
     "output_type": "execute_result"
    }
   ],
   "source": [
    "test.columns"
   ]
  },
  {
   "cell_type": "code",
   "execution_count": 80,
   "metadata": {
    "collapsed": false
   },
   "outputs": [],
   "source": [
    "test = test.groupby(['geoid10', 'origional_index', 'geometry']  ).agg(sum)\n",
    "test = test.reset_index()"
   ]
  },
  {
   "cell_type": "code",
   "execution_count": 86,
   "metadata": {
    "collapsed": false
   },
   "outputs": [
    {
     "data": {
      "text/plain": [
       "'190'"
      ]
     },
     "execution_count": 86,
     "metadata": {},
     "output_type": "execute_result"
    }
   ],
   "source": [
    "test['count']"
   ]
  },
  {
   "cell_type": "code",
   "execution_count": 173,
   "metadata": {
    "collapsed": false
   },
   "outputs": [],
   "source": [
    "def add_properties_geo(row):\n",
    "    geoid = row['geoid10']\n",
    "    tweetrate = row['tpm']\n",
    "    image = row['image']\n",
    "    tweetcount = row['count']\n",
    "    geo_json = {\"type\": \"Feature\", \"geometry\": json.loads(row['geometry']),  \"properties\": {'image': image, 'geoid': geoid ,'tweetrate': tweetrate }}\n",
    "    return geo_json\n",
    "\n",
    "def dataframe_to_geojson(df, outfilename):\n",
    "    '''Takes in a dataframe with a count and geoid10. Dumps it into a json geojason file'''\n",
    "    df['geoid10'] = df['geoid10'].astype('str')\n",
    "    df[\"count\"] = df['tpm'].astype('str')\n",
    "    df[\"count\"] = df['count'].astype('str')\n",
    "    list_to_export = [add_properties_geo(row) for idx, row in df.iterrows()]\n",
    "    with open(outfilename, 'w') as outfile:\n",
    "        json.dump(list_to_export, outfile)"
   ]
  },
  {
   "cell_type": "code",
   "execution_count": 176,
   "metadata": {
    "collapsed": false
   },
   "outputs": [],
   "source": [
    "dataframe_to_geojson(total_tweet, 'test_wordcloud/data/geo_rate_test.json')"
   ]
  },
  {
   "cell_type": "code",
   "execution_count": null,
   "metadata": {
    "collapsed": true
   },
   "outputs": [],
   "source": [
    "'http://s357.photobucket.com/user/clwillerbee/media/'0.png.html"
   ]
  },
  {
   "cell_type": "code",
   "execution_count": 82,
   "metadata": {
    "collapsed": true
   },
   "outputs": [],
   "source": [
    "def add_properties_geo(row, imgvalue):\n",
    "    geoid = row['geoid10']\n",
    "    tweetrate = row['count']\n",
    "    image = imgvalue\n",
    "    tweetcount = imgvalue\n",
    "    geo_json = {\"type\": \"Feature\", \"geometry\": json.loads(row['geometry']),  \"properties\": {'image': imgvalue, 'geoid': geoid ,'tweetrate': tweetrate }}\n",
    "    return geo_json\n",
    "\n",
    "def dataframe_to_geojson(df, outfilename):\n",
    "    '''Takes in a dataframe with a count and geoid10. Dumps it into a json geojason file'''\n",
    "    df['geoid10'] = df['geoid10'].astype('str')\n",
    "    df[\"count\"] = df['count'].astype('str')\n",
    "    list_to_export = []\n",
    "    for idx, row in test.iterrows():\n",
    "        imgvalue = 'http://i357.photobucket.com/albums/oo11/clwillerbee/' + str(idx) + '.png'\n",
    "        list_to_export.append(add_properties_geo(row, imgvalue))\n",
    "    with open(outfilename, 'w') as outfile:\n",
    "        json.dump(list_to_export, outfile)"
   ]
  },
  {
   "cell_type": "code",
   "execution_count": 83,
   "metadata": {
    "collapsed": false
   },
   "outputs": [],
   "source": [
    "dataframe_to_geojson(test, 'wordcloud/data/geo_wordcloud.json')"
   ]
  },
  {
   "cell_type": "code",
   "execution_count": 89,
   "metadata": {
    "collapsed": false
   },
   "outputs": [
    {
     "data": {
      "text/plain": [
       "array([  190,   158,     1,    88,   332,    69,    78,     3,     2,\n",
       "           5,   151,     4,    77,   145,    82,    79,   150,   134,\n",
       "          10,   182,    65,   127,    75,   152,     8,   206,    68,\n",
       "          59,    71,    62,    84,    80,    85,     6,    86,    72,\n",
       "          70,    76,   448,    24,    66,    12,   456,   126,   147,\n",
       "         161,    81,    87,    74,   274,    73,    98,   377,   683,\n",
       "         153,    67,   223,    83,   571,   362,   515,    64,    58,\n",
       "         163,   142,    14,   138,    56,   169,    17,    91,   729,\n",
       "          60,    16,    11,    13,   139,    93,   200,  5776,     9,\n",
       "         279,   162,     7,   287,   141,    57,   144,    63,   230,\n",
       "         496,   137,   135,   264,   207,   292,   326,    18,   148,\n",
       "         291,   140,    53,   154,   222, 12749,   214])"
      ]
     },
     "execution_count": 89,
     "metadata": {},
     "output_type": "execute_result"
    }
   ],
   "source": [
    "test['count'].astype(int).unique()"
   ]
  },
  {
   "cell_type": "code",
   "execution_count": 73,
   "metadata": {
    "collapsed": false
   },
   "outputs": [
    {
     "name": "stdout",
     "output_type": "stream",
     "text": [
      "http://i357.photobucket.com/albums/oo11/clwillerbee/0.png\n",
      "http://i357.photobucket.com/albums/oo11/clwillerbee/1.png\n",
      "http://i357.photobucket.com/albums/oo11/clwillerbee/2.png\n",
      "http://i357.photobucket.com/albums/oo11/clwillerbee/3.png\n",
      "http://i357.photobucket.com/albums/oo11/clwillerbee/4.png\n",
      "http://i357.photobucket.com/albums/oo11/clwillerbee/5.png\n",
      "http://i357.photobucket.com/albums/oo11/clwillerbee/6.png\n",
      "http://i357.photobucket.com/albums/oo11/clwillerbee/7.png\n",
      "http://i357.photobucket.com/albums/oo11/clwillerbee/8.png\n",
      "http://i357.photobucket.com/albums/oo11/clwillerbee/9.png\n"
     ]
    }
   ],
   "source": [
    "for idx, row in test[:10].iterrows():\n",
    "        imgvalue = 'http://i357.photobucket.com/albums/oo11/clwillerbee/' + str(idx) + '.png'\n",
    "        print imgvalue"
   ]
  },
  {
   "cell_type": "code",
   "execution_count": null,
   "metadata": {
    "collapsed": true
   },
   "outputs": [],
   "source": [
    "<img src=\"http://i357.photobucket.com/albums/oo11/clwillerbee/999.png\" border=\"0\" alt=\" photo 999.png\"/></a>"
   ]
  }
 ],
 "metadata": {
  "kernelspec": {
   "display_name": "Python 2",
   "language": "python",
   "name": "python2"
  },
  "language_info": {
   "codemirror_mode": {
    "name": "ipython",
    "version": 2
   },
   "file_extension": ".py",
   "mimetype": "text/x-python",
   "name": "python",
   "nbconvert_exporter": "python",
   "pygments_lexer": "ipython2",
   "version": "2.7.10"
  }
 },
 "nbformat": 4,
 "nbformat_minor": 0
}
