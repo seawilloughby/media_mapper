{
 "cells": [
  {
   "cell_type": "markdown",
   "metadata": {},
   "source": [
    "##Connect to database! \n",
    "###Get Neighborhood Data"
   ]
  },
  {
   "cell_type": "code",
   "execution_count": 2,
   "metadata": {
    "collapsed": true
   },
   "outputs": [],
   "source": [
    "#send_Example.py \n",
    "import pandas as pd\n",
    "import json\n",
    "import psycopg2\n",
    "import random"
   ]
  },
  {
   "cell_type": "code",
   "execution_count": 6,
   "metadata": {
    "collapsed": false
   },
   "outputs": [],
   "source": [
    "conn_dict = {'dbname':'zipfiantwitter', 'user':'clwilloughby', 'password': '', 'host':'/tmp'}\n",
    "conn = psycopg2.connect(dbname=conn_dict['dbname'], user=conn_dict['user'], host='/tmp')\n",
    "cur = conn.cursor()\n",
    "\n",
    "map_query = \"\"\"\n",
    "        SELECT\n",
    "                DISTINCT\n",
    "                ST_asGEOJSON(wkb_geometry) geometry\n",
    "                , sfn.geoid10\n",
    "\n",
    "                FROM sf_neighb sfn\n",
    "                ;\"\"\"\n",
    "\n",
    "df = pd.read_sql(map_query, conn)\n"
   ]
  },
  {
   "cell_type": "code",
   "execution_count": 10,
   "metadata": {
    "collapsed": false
   },
   "outputs": [],
   "source": [
    "df.to_csv('sql_shapes.csv')"
   ]
  },
  {
   "cell_type": "markdown",
   "metadata": {},
   "source": [
    "note to self: start here with the rest of the code. \n",
    "Exported the code so that I could load it up on the mac mini and read it WAY FASTER"
   ]
  },
  {
   "cell_type": "code",
   "execution_count": 3,
   "metadata": {
    "collapsed": false
   },
   "outputs": [],
   "source": [
    "df = pd.read_csv('sql_shapes.csv')"
   ]
  },
  {
   "cell_type": "code",
   "execution_count": 12,
   "metadata": {
    "collapsed": false
   },
   "outputs": [
    {
     "data": {
      "text/html": [
       "<div>\n",
       "<table border=\"1\" class=\"dataframe\">\n",
       "  <thead>\n",
       "    <tr style=\"text-align: right;\">\n",
       "      <th></th>\n",
       "      <th>Unnamed: 0</th>\n",
       "      <th>geometry</th>\n",
       "      <th>geoid10</th>\n",
       "      <th>hexcolors</th>\n",
       "    </tr>\n",
       "  </thead>\n",
       "  <tbody>\n",
       "    <tr>\n",
       "      <th>0</th>\n",
       "      <td>0</td>\n",
       "      <td>{\"type\":\"MultiPolygon\",\"coordinates\":[[[[-114....</td>\n",
       "      <td>60710251002273</td>\n",
       "      <td>#99CC33</td>\n",
       "    </tr>\n",
       "    <tr>\n",
       "      <th>1</th>\n",
       "      <td>1</td>\n",
       "      <td>{\"type\":\"MultiPolygon\",\"coordinates\":[[[[-114....</td>\n",
       "      <td>60710251002269</td>\n",
       "      <td>#99CC33</td>\n",
       "    </tr>\n",
       "    <tr>\n",
       "      <th>2</th>\n",
       "      <td>2</td>\n",
       "      <td>{\"type\":\"MultiPolygon\",\"coordinates\":[[[[-114....</td>\n",
       "      <td>60710251002270</td>\n",
       "      <td>#CCFF00</td>\n",
       "    </tr>\n",
       "    <tr>\n",
       "      <th>3</th>\n",
       "      <td>3</td>\n",
       "      <td>{\"type\":\"MultiPolygon\",\"coordinates\":[[[[-114....</td>\n",
       "      <td>60710251002266</td>\n",
       "      <td>#FF0000</td>\n",
       "    </tr>\n",
       "    <tr>\n",
       "      <th>4</th>\n",
       "      <td>4</td>\n",
       "      <td>{\"type\":\"MultiPolygon\",\"coordinates\":[[[[-114....</td>\n",
       "      <td>60710251002261</td>\n",
       "      <td>#FF00CC</td>\n",
       "    </tr>\n",
       "  </tbody>\n",
       "</table>\n",
       "</div>"
      ],
      "text/plain": [
       "   Unnamed: 0                                           geometry  \\\n",
       "0           0  {\"type\":\"MultiPolygon\",\"coordinates\":[[[[-114....   \n",
       "1           1  {\"type\":\"MultiPolygon\",\"coordinates\":[[[[-114....   \n",
       "2           2  {\"type\":\"MultiPolygon\",\"coordinates\":[[[[-114....   \n",
       "3           3  {\"type\":\"MultiPolygon\",\"coordinates\":[[[[-114....   \n",
       "4           4  {\"type\":\"MultiPolygon\",\"coordinates\":[[[[-114....   \n",
       "\n",
       "          geoid10 hexcolors  \n",
       "0  60710251002273   #99CC33  \n",
       "1  60710251002269   #99CC33  \n",
       "2  60710251002270   #CCFF00  \n",
       "3  60710251002266   #FF0000  \n",
       "4  60710251002261   #FF00CC  "
      ]
     },
     "execution_count": 12,
     "metadata": {},
     "output_type": "execute_result"
    }
   ],
   "source": [
    "df.head()"
   ]
  },
  {
   "cell_type": "markdown",
   "metadata": {},
   "source": [
    "###Get a Random Color For Each Neighborhood\n",
    "####Later will encode information by color and hue"
   ]
  },
  {
   "cell_type": "code",
   "execution_count": 6,
   "metadata": {
    "collapsed": true
   },
   "outputs": [],
   "source": [
    "def getrandom_color(df, color_file):\n",
    "    '''takes in a dataframe of gemoetry and geoid, and a list of hex colors\n",
    "    Creates a new colomn of shape colors. Returns the new dataframe.'''\n",
    "    #import the colors csv\n",
    "    cdf = pd.read_csv('colors.csv')\n",
    "    #make it a list\n",
    "    colors = cdf[' color'].tolist() \n",
    "    num_col = df.shape[0] \n",
    "    df['hexcolors'] = [random.choice(colors) for i in xrange(num_col)]\n",
    "    return df"
   ]
  },
  {
   "cell_type": "code",
   "execution_count": 7,
   "metadata": {
    "collapsed": false
   },
   "outputs": [],
   "source": [
    "df_col = getrandom_color(df, 'colors.csv')\n"
   ]
  },
  {
   "cell_type": "code",
   "execution_count": 14,
   "metadata": {
    "collapsed": false
   },
   "outputs": [
    {
     "data": {
      "text/html": [
       "<div>\n",
       "<table border=\"1\" class=\"dataframe\">\n",
       "  <thead>\n",
       "    <tr style=\"text-align: right;\">\n",
       "      <th></th>\n",
       "      <th>Unnamed: 0</th>\n",
       "      <th>geometry</th>\n",
       "      <th>geoid10</th>\n",
       "      <th>hexcolors</th>\n",
       "    </tr>\n",
       "  </thead>\n",
       "  <tbody>\n",
       "    <tr>\n",
       "      <th>0</th>\n",
       "      <td>0</td>\n",
       "      <td>{\"type\":\"MultiPolygon\",\"coordinates\":[[[[-114....</td>\n",
       "      <td>60710251002273</td>\n",
       "      <td>#99CC33</td>\n",
       "    </tr>\n",
       "    <tr>\n",
       "      <th>1</th>\n",
       "      <td>1</td>\n",
       "      <td>{\"type\":\"MultiPolygon\",\"coordinates\":[[[[-114....</td>\n",
       "      <td>60710251002269</td>\n",
       "      <td>#99CC33</td>\n",
       "    </tr>\n",
       "    <tr>\n",
       "      <th>2</th>\n",
       "      <td>2</td>\n",
       "      <td>{\"type\":\"MultiPolygon\",\"coordinates\":[[[[-114....</td>\n",
       "      <td>60710251002270</td>\n",
       "      <td>#CCFF00</td>\n",
       "    </tr>\n",
       "    <tr>\n",
       "      <th>3</th>\n",
       "      <td>3</td>\n",
       "      <td>{\"type\":\"MultiPolygon\",\"coordinates\":[[[[-114....</td>\n",
       "      <td>60710251002266</td>\n",
       "      <td>#FF0000</td>\n",
       "    </tr>\n",
       "    <tr>\n",
       "      <th>4</th>\n",
       "      <td>4</td>\n",
       "      <td>{\"type\":\"MultiPolygon\",\"coordinates\":[[[[-114....</td>\n",
       "      <td>60710251002261</td>\n",
       "      <td>#FF00CC</td>\n",
       "    </tr>\n",
       "  </tbody>\n",
       "</table>\n",
       "</div>"
      ],
      "text/plain": [
       "   Unnamed: 0                                           geometry  \\\n",
       "0           0  {\"type\":\"MultiPolygon\",\"coordinates\":[[[[-114....   \n",
       "1           1  {\"type\":\"MultiPolygon\",\"coordinates\":[[[[-114....   \n",
       "2           2  {\"type\":\"MultiPolygon\",\"coordinates\":[[[[-114....   \n",
       "3           3  {\"type\":\"MultiPolygon\",\"coordinates\":[[[[-114....   \n",
       "4           4  {\"type\":\"MultiPolygon\",\"coordinates\":[[[[-114....   \n",
       "\n",
       "          geoid10 hexcolors  \n",
       "0  60710251002273   #99CC33  \n",
       "1  60710251002269   #99CC33  \n",
       "2  60710251002270   #CCFF00  \n",
       "3  60710251002266   #FF0000  \n",
       "4  60710251002261   #FF00CC  "
      ]
     },
     "execution_count": 14,
     "metadata": {},
     "output_type": "execute_result"
    }
   ],
   "source": [
    "df_col.head()\n"
   ]
  },
  {
   "cell_type": "code",
   "execution_count": 22,
   "metadata": {
    "collapsed": false
   },
   "outputs": [
    {
     "data": {
      "text/html": [
       "<div>\n",
       "<table border=\"1\" class=\"dataframe\">\n",
       "  <thead>\n",
       "    <tr style=\"text-align: right;\">\n",
       "      <th></th>\n",
       "      <th>geometry</th>\n",
       "      <th>geoid10</th>\n",
       "      <th>hexcolors</th>\n",
       "    </tr>\n",
       "  </thead>\n",
       "  <tbody>\n",
       "    <tr>\n",
       "      <th>0</th>\n",
       "      <td>{\"type\":\"MultiPolygon\",\"coordinates\":[[[[-114....</td>\n",
       "      <td>60710251002273</td>\n",
       "      <td>#99CC33</td>\n",
       "    </tr>\n",
       "    <tr>\n",
       "      <th>1</th>\n",
       "      <td>{\"type\":\"MultiPolygon\",\"coordinates\":[[[[-114....</td>\n",
       "      <td>60710251002269</td>\n",
       "      <td>#99CC33</td>\n",
       "    </tr>\n",
       "    <tr>\n",
       "      <th>2</th>\n",
       "      <td>{\"type\":\"MultiPolygon\",\"coordinates\":[[[[-114....</td>\n",
       "      <td>60710251002270</td>\n",
       "      <td>#CCFF00</td>\n",
       "    </tr>\n",
       "    <tr>\n",
       "      <th>3</th>\n",
       "      <td>{\"type\":\"MultiPolygon\",\"coordinates\":[[[[-114....</td>\n",
       "      <td>60710251002266</td>\n",
       "      <td>#FF0000</td>\n",
       "    </tr>\n",
       "    <tr>\n",
       "      <th>4</th>\n",
       "      <td>{\"type\":\"MultiPolygon\",\"coordinates\":[[[[-114....</td>\n",
       "      <td>60710251002261</td>\n",
       "      <td>#FF00CC</td>\n",
       "    </tr>\n",
       "  </tbody>\n",
       "</table>\n",
       "</div>"
      ],
      "text/plain": [
       "                                            geometry         geoid10 hexcolors\n",
       "0  {\"type\":\"MultiPolygon\",\"coordinates\":[[[[-114....  60710251002273   #99CC33\n",
       "1  {\"type\":\"MultiPolygon\",\"coordinates\":[[[[-114....  60710251002269   #99CC33\n",
       "2  {\"type\":\"MultiPolygon\",\"coordinates\":[[[[-114....  60710251002270   #CCFF00\n",
       "3  {\"type\":\"MultiPolygon\",\"coordinates\":[[[[-114....  60710251002266   #FF0000\n",
       "4  {\"type\":\"MultiPolygon\",\"coordinates\":[[[[-114....  60710251002261   #FF00CC"
      ]
     },
     "execution_count": 22,
     "metadata": {},
     "output_type": "execute_result"
    }
   ],
   "source": [
    "df_col.head()"
   ]
  },
  {
   "cell_type": "markdown",
   "metadata": {},
   "source": [
    "###Convert DataFrame to JsonFile for Mapping"
   ]
  },
  {
   "cell_type": "code",
   "execution_count": 23,
   "metadata": {
    "collapsed": false
   },
   "outputs": [],
   "source": [
    "def add_properties_geo(row):\n",
    "    geoid = row['geoid10']\n",
    "    hexcolor = row['hexcolors']\n",
    "    geo_json = {\"type\": \"Feature\", \"geometry\": json.loads(row['geometry']),  \"properties\": {'geoid': geoid , 'hexcolor' : hexcolor }}\n",
    "    return geo_json\n",
    "\n",
    "list_to_export = [add_properties_geo(row) for idx, row in df_col.iterrows()]\n",
    "\n",
    "with open('mini_test.json', 'w') as outfile:\n",
    "    json.dump(list_to_export, outfile)"
   ]
  },
  {
   "cell_type": "markdown",
   "metadata": {},
   "source": [
    "###stupid experiment that doesn't make sense"
   ]
  },
  {
   "cell_type": "code",
   "execution_count": null,
   "metadata": {
    "collapsed": false
   },
   "outputs": [],
   "source": [
    "in_file = open('mini_test.json','r')\n",
    "sf_cong_113 = json.load(in_file)"
   ]
  },
  {
   "cell_type": "code",
   "execution_count": null,
   "metadata": {
    "collapsed": false
   },
   "outputs": [],
   "source": [
    "def reverse_geojson_coordinates(json_file, output_name):\n",
    "    '''takes a geo_jason file. Opens it, and reverses the latitude and longitude\n",
    "    positions so that it is more compatible with mapbox.\n",
    "    Returns the fixed jason list.'''\n",
    "    in_file = open(json_file,'r')\n",
    "    to_fix = json.load(in_file)\n",
    "    #iterate over every coordinate so I can get the lat and long\n",
    "    for geoobject in to_fix:\n",
    "        coords = geoobject['geometry']['coordinates'][0][0]\n",
    "        newcords = []\n",
    "        #flip the position of the lat and long \n",
    "        for co in coords:\n",
    "            co = [co[1], co[0]]\n",
    "            newcords.append(co)\n",
    "        #insert the new coordinates back into the dictionary\n",
    "        geoobject['geometry']['coordinates'][0][0] = newcords\n",
    "    #dump it as a fixed jason object\n",
    "    with open(output_name, 'w') as outfile:\n",
    "        json.dump(to_fix, outfile)\n"
   ]
  },
  {
   "cell_type": "code",
   "execution_count": null,
   "metadata": {
    "collapsed": false
   },
   "outputs": [],
   "source": [
    "json_file = reverse_geojson_coordinates(\"mini_test.json\", 'messed_up.json')"
   ]
  },
  {
   "cell_type": "code",
   "execution_count": null,
   "metadata": {
    "collapsed": true
   },
   "outputs": [],
   "source": []
  }
 ],
 "metadata": {
  "kernelspec": {
   "display_name": "Python 2",
   "language": "python",
   "name": "python2"
  },
  "language_info": {
   "codemirror_mode": {
    "name": "ipython",
    "version": 2
   },
   "file_extension": ".py",
   "mimetype": "text/x-python",
   "name": "python",
   "nbconvert_exporter": "python",
   "pygments_lexer": "ipython2",
   "version": "2.7.10"
  }
 },
 "nbformat": 4,
 "nbformat_minor": 0
}
