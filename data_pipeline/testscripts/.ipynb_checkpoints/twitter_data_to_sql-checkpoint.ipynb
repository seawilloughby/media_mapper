{
 "cells": [
  {
   "cell_type": "code",
   "execution_count": 1,
   "metadata": {
    "collapsed": false
   },
   "outputs": [
    {
     "name": "stdout",
     "output_type": "stream",
     "text": [
      "MAPBOX_API_KEY not found.\n",
      "TWITTER_CONSUMER_KEY not found.\n",
      "TWITTER_CONSUMER_SECRET not found.\n",
      "TWITTER_ACCESS_TOKEN not found.\n",
      "TWITTER_TOKEN_SECRET not found.\n",
      "INSTAGRAM_CLIENT_ID not found.\n",
      "INSTAGRAM_CLIENT_SECRET not found.\n",
      "INSTAGRAM_ACCESS_TOKEN not found.\n",
      "FLICKR_API_KEY not found.\n",
      "FLICKR_API_SECRET not found.\n"
     ]
    }
   ],
   "source": [
    "import pandas as pd\n",
    "import json\n",
    "import requests\n",
    "import re\n",
    "import psycopg2\n",
    "import glob\n",
    "import time\n",
    "import media_mapper as mm"
   ]
  },
  {
   "cell_type": "markdown",
   "metadata": {},
   "source": [
    "#Get Data From JSON File. Put Into Database."
   ]
  },
  {
   "cell_type": "markdown",
   "metadata": {},
   "source": [
    "###1. Import Data From FileSource"
   ]
  },
  {
   "cell_type": "code",
   "execution_count": 32,
   "metadata": {
    "collapsed": true
   },
   "outputs": [],
   "source": [
    "def json_to_df(filename, columns = None):\n",
    "    '''Takes in a json file (such as tweets). Returns a pandas dataframe'''\n",
    "    with open(filename, 'r') as f:\n",
    "        l = f.readlines()\n",
    "    try:\n",
    "        data = [json.loads(s) for s in l]\n",
    "    except Exception as e:\n",
    "        print e, filename\n",
    "        data = None\n",
    "    if columns:\n",
    "        df = pd.DataFrame(data)[columns]\n",
    "    else:\n",
    "        df = pd.DataFrame(data)\n",
    "    return df\n",
    "\n",
    "def get_mega_dataframe(filepath):\n",
    "    '''Takes a filepath to a directory of json files for twitterdata.\n",
    "    Reads every file into a pandas dataframe. Calls helper function json_to_df.\n",
    "    Returns a mega-dataframe of all the json files appended together.\n",
    "    Saves a copy of the '''\n",
    "    tweet_files= glob.glob(filepath)\n",
    "    df_list = [json_to_df(tf, columns=['coordinates', 'text', 'timestamp_ms', 'id']) for tf in tweet_files]\n",
    "    df_list = [df for df in df_list if df is not None]\n",
    "    df = pd.concat(df_list).reset_index(drop = True)\n",
    "    return df"
   ]
  },
  {
   "cell_type": "code",
   "execution_count": 3,
   "metadata": {
    "collapsed": false
   },
   "outputs": [
    {
     "name": "stdout",
     "output_type": "stream",
     "text": [
      "\"['coordinates' 'text' 'timestamp_ms' 'id'] not in index\" /Users/christy/Desktop/toomanytweets/tweets1438629454.json\n",
      "\"['coordinates' 'text' 'timestamp_ms' 'id'] not in index\" /Users/christy/Desktop/toomanytweets/tweets1438629455.json\n",
      "\"['coordinates' 'text' 'timestamp_ms' 'id'] not in index\" /Users/christy/Desktop/toomanytweets/tweets1438629456.json\n",
      "\"['coordinates' 'text' 'timestamp_ms' 'id'] not in index\" /Users/christy/Desktop/toomanytweets/tweets1438629457.json\n",
      "\"['coordinates' 'text' 'timestamp_ms' 'id'] not in index\" /Users/christy/Desktop/toomanytweets/tweets1438629458.json\n",
      "\"['coordinates' 'text' 'timestamp_ms' 'id'] not in index\" /Users/christy/Desktop/toomanytweets/tweets1438629459.json\n",
      "\"['coordinates' 'text' 'timestamp_ms' 'id'] not in index\" /Users/christy/Desktop/toomanytweets/tweets1438629460.json\n",
      "\"['coordinates' 'text' 'timestamp_ms' 'id'] not in index\" /Users/christy/Desktop/toomanytweets/tweets1438629461.json\n",
      "\"['coordinates' 'text' 'timestamp_ms' 'id'] not in index\" /Users/christy/Desktop/toomanytweets/tweets1438629462.json\n",
      "\"['coordinates' 'text' 'timestamp_ms' 'id'] not in index\" /Users/christy/Desktop/toomanytweets/tweets1438629463.json\n",
      "\"['coordinates' 'text' 'timestamp_ms' 'id'] not in index\" /Users/christy/Desktop/toomanytweets/tweets1438629464.json\n",
      "\"['coordinates' 'text' 'timestamp_ms' 'id'] not in index\" /Users/christy/Desktop/toomanytweets/tweets1438629465.json\n",
      "\"['coordinates' 'text' 'timestamp_ms' 'id'] not in index\" /Users/christy/Desktop/toomanytweets/tweets1438629466.json\n",
      "\"['coordinates' 'text' 'timestamp_ms' 'id'] not in index\" /Users/christy/Desktop/toomanytweets/tweets1438629467.json\n",
      "\"['coordinates' 'text' 'timestamp_ms' 'id'] not in index\" /Users/christy/Desktop/toomanytweets/tweets1438629468.json\n",
      "\"['coordinates' 'text' 'timestamp_ms' 'id'] not in index\" /Users/christy/Desktop/toomanytweets/tweets1438629469.json\n",
      "\"['coordinates' 'text' 'timestamp_ms' 'id'] not in index\" /Users/christy/Desktop/toomanytweets/tweets1438629470.json\n",
      "\"['coordinates' 'text' 'timestamp_ms' 'id'] not in index\" /Users/christy/Desktop/toomanytweets/tweets1438629471.json\n",
      "\"['coordinates' 'text' 'timestamp_ms' 'id'] not in index\" /Users/christy/Desktop/toomanytweets/tweets1438629472.json\n",
      "\"['coordinates' 'text' 'timestamp_ms' 'id'] not in index\" /Users/christy/Desktop/toomanytweets/tweets1438629473.json\n",
      "\"['coordinates' 'text' 'timestamp_ms' 'id'] not in index\" /Users/christy/Desktop/toomanytweets/tweets1438629474.json\n",
      "\"['coordinates' 'text' 'timestamp_ms' 'id'] not in index\" /Users/christy/Desktop/toomanytweets/tweets1438629475.json\n",
      "\"['coordinates' 'text' 'timestamp_ms' 'id'] not in index\" /Users/christy/Desktop/toomanytweets/tweets1438629476.json\n",
      "\"['coordinates' 'text' 'timestamp_ms' 'id'] not in index\" /Users/christy/Desktop/toomanytweets/tweets1438629477.json\n",
      "\"['coordinates' 'text' 'timestamp_ms' 'id'] not in index\" /Users/christy/Desktop/toomanytweets/tweets1438629478.json\n",
      "\"['coordinates' 'text' 'timestamp_ms' 'id'] not in index\" /Users/christy/Desktop/toomanytweets/tweets1438629479.json\n",
      "\"['coordinates' 'text' 'timestamp_ms' 'id'] not in index\" /Users/christy/Desktop/toomanytweets/tweets1438629480.json\n",
      "\"['coordinates' 'text' 'timestamp_ms' 'id'] not in index\" /Users/christy/Desktop/toomanytweets/tweets1438629481.json\n",
      "\"['coordinates' 'text' 'timestamp_ms' 'id'] not in index\" /Users/christy/Desktop/toomanytweets/tweets1438629482.json\n",
      "\"['coordinates' 'text' 'timestamp_ms' 'id'] not in index\" /Users/christy/Desktop/toomanytweets/tweets1438629483.json\n",
      "\"['coordinates' 'text' 'timestamp_ms' 'id'] not in index\" /Users/christy/Desktop/toomanytweets/tweets1438629484.json\n"
     ]
    }
   ],
   "source": [
    "#all tweets in one dataframe\n",
    "df_alltweets = mm.pipeline.get_mega_dataframe('/Users/christy/Desktop/toomanytweets/*json')"
   ]
  },
  {
   "cell_type": "code",
   "execution_count": 6,
   "metadata": {
    "collapsed": false
   },
   "outputs": [],
   "source": [
    "#save as a pickle, just in case...\n",
    "df_alltweets.to_pickle('data/intermediate_data/jasontweets_in_df_pre.pkl')"
   ]
  },
  {
   "cell_type": "markdown",
   "metadata": {},
   "source": [
    "###2. Turn coordinates into lat and long Data. Drop Duplicates"
   ]
  },
  {
   "cell_type": "code",
   "execution_count": 5,
   "metadata": {
    "collapsed": false
   },
   "outputs": [],
   "source": [
    "df = mm.pipeline.exract_coordinates_from_tweets(df_alltweets)"
   ]
  },
  {
   "cell_type": "markdown",
   "metadata": {},
   "source": [
    "###3. Optional: Remove punctuation for SQL Database. \n"
   ]
  },
  {
   "cell_type": "code",
   "execution_count": null,
   "metadata": {
    "collapsed": true
   },
   "outputs": [],
   "source": [
    "#strips all puncutation from the text column of a dataframe \n",
    "df_ordered = mm.pipeline.clean_text_for_sql(df_tweets)"
   ]
  },
  {
   "cell_type": "markdown",
   "metadata": {},
   "source": [
    "#Put DataFrame In SQL and Format It"
   ]
  },
  {
   "cell_type": "code",
   "execution_count": null,
   "metadata": {
    "collapsed": true
   },
   "outputs": [],
   "source": [
    "mm.pipeline.create_tweet_table(df)  #puts table in postgress "
   ]
  },
  {
   "cell_type": "code",
   "execution_count": 2,
   "metadata": {
    "collapsed": false
   },
   "outputs": [
    {
     "ename": "ProgrammingError",
     "evalue": "syntax error at or near \"'tweetsv3'\"\nLINE 4:                     JOIN 'tweetsv3' points \n                                 ^\n",
     "output_type": "error",
     "traceback": [
      "\u001b[0;31m---------------------------------------------------------------------------\u001b[0m",
      "\u001b[0;31mProgrammingError\u001b[0m                          Traceback (most recent call last)",
      "\u001b[0;32m<ipython-input-2-579f48f2eef7>\u001b[0m in \u001b[0;36m<module>\u001b[0;34m()\u001b[0m\n\u001b[0;32m----> 1\u001b[0;31m \u001b[0mmm\u001b[0m\u001b[0;34m.\u001b[0m\u001b[0mpipeline\u001b[0m\u001b[0;34m.\u001b[0m\u001b[0mformat_tweet_table_sql\u001b[0m\u001b[0;34m(\u001b[0m\u001b[0;34m)\u001b[0m\u001b[0;34m\u001b[0m\u001b[0m\n\u001b[0m",
      "\u001b[0;32m/Users/christy/miniconda/lib/python2.7/site-packages/media_mapper-0.post18.dev0-py2.7.egg/media_mapper/pipeline.pyc\u001b[0m in \u001b[0;36mformat_tweet_table_sql\u001b[0;34m()\u001b[0m\n\u001b[1;32m    147\u001b[0m                     ON (ST_Within(points.geom,polys.wkb_geometry) AND\n\u001b[1;32m    148\u001b[0m                     polys.countyfp10 = '075');\"\"\"\n\u001b[0;32m--> 149\u001b[0;31m     \u001b[0mc\u001b[0m\u001b[0;34m.\u001b[0m\u001b[0mexecute\u001b[0m\u001b[0;34m(\u001b[0m\u001b[0mquery\u001b[0m\u001b[0;34m)\u001b[0m\u001b[0;34m\u001b[0m\u001b[0m\n\u001b[0m\u001b[1;32m    150\u001b[0m     \u001b[0mconn\u001b[0m\u001b[0;34m.\u001b[0m\u001b[0mcommit\u001b[0m\u001b[0;34m(\u001b[0m\u001b[0;34m)\u001b[0m\u001b[0;34m\u001b[0m\u001b[0m\n\u001b[1;32m    151\u001b[0m     \u001b[0mconn\u001b[0m\u001b[0;34m.\u001b[0m\u001b[0mclose\u001b[0m\u001b[0;34m(\u001b[0m\u001b[0;34m)\u001b[0m\u001b[0;34m\u001b[0m\u001b[0m\n",
      "\u001b[0;31mProgrammingError\u001b[0m: syntax error at or near \"'tweetsv3'\"\nLINE 4:                     JOIN 'tweetsv3' points \n                                 ^\n"
     ]
    }
   ],
   "source": [
    "mm.pipeline.format_tweet_table_sql()"
   ]
  }
 ],
 "metadata": {
  "kernelspec": {
   "display_name": "Python 2",
   "language": "python",
   "name": "python2"
  },
  "language_info": {
   "codemirror_mode": {
    "name": "ipython",
    "version": 2
   },
   "file_extension": ".py",
   "mimetype": "text/x-python",
   "name": "python",
   "nbconvert_exporter": "python",
   "pygments_lexer": "ipython2",
   "version": "2.7.10"
  }
 },
 "nbformat": 4,
 "nbformat_minor": 0
}
