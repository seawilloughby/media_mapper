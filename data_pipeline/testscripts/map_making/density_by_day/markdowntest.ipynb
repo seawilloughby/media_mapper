{
 "cells": [
  {
   "cell_type": "markdown",
   "metadata": {},
   "source": [
    "media_mapper\n",
    "=====================================================================================================\n",
    "\n",
    "Geographical localization of twitter activity within the blocks of San Francisco,\n",
    "\n",
    "###Motiviation & Inspiration\n",
    "\n",
    "Where is everybody? In a big city, it can be difficult find this out. Websearches may describe 'shopping districts' or parks, but its often hard to determine where popular parks, street festivals, or other various congregations of people are located withoout painstakingly visiting every block by foot or car. \n",
    "\n",
    "[Twitter](https://dev.twitter.com/overview/documentation) represents a rich sorce of potential signal: thousands of users volunteer information about thier location and potentially information regarding thier whereabouts.\n",
    "\n",
    "In order to answer 1) where are people 2) when are they there and 3) what they doing, I mapped the frequency of tweets and message content across the neighborhoods of San Francisco. By breaking down analysis to every block across the city, I was able to pick out block-specific features, such as popular barks, or coffee shops, that may have gotten lost in the noise of a larger neighborhood region.  \n",
    "\n",
    "Browse my interactive maps yourself at  [chattermapper.info](http://chattermapper.info/)\n",
    "\n",
    "\n",
    "\n",
    "\n",
    "Links\n",
    "-----\n",
    "[App](docs/md/installation.md)\n",
    "\n",
    "[Scripts](docs/md/versioning.md)\n",
    "\n",
    "[Documentation](docs/md/documentation.md)\n",
    "\n",
    "\n",
    "Toolkit Credits \n",
    "---------------\n",
    " - [Tweepy](https://github.com/tweepy/tweepy) A python library specialized in assisting streaming data from the Twitter Api. \n",
    "\n",
    " - [TweetMotif](https://github.com/brendano/tweetmotif) A python wrapper for twitter-specific tokenization. \n",
    "\n",
    " - [scikit-learn](http://bids.github.io/2015-06-04-berkeley/testing/08-ci.html) A fantastic resource for python machine learning libraries. \n",
    "\n",
    " - [Mapbox](http://bids.github.io/2015-06-04-berkeley/testing/) A great tool for mapping data. \n",
    "\n",
    " - [Natural Language Toolkit](www.nltk.org) An incrediably useful python library for natural language processing. \n",
    "\n",
    " - [PostgreSQL](http://www.postgresql.org) Chosen for its support for geographical objects via the spatial database extender [PostGIS](http://postgis.net)\n",
    "\n",
    " - [Stencil](https://github.com/jshiv/stencil) Template for setting up a general python package\n",
    "\n",
    " - [AWS](https://aws.amazon.com/) Provides great support for website hosting, and remote computing. \n",
    "\n",
    "- [Zipfian Academy, Galvanize](http://www.zipfianacademy.com/) An amazing place for resources, learning, and mentorship. Crucial for this project's existance.\n",
    "Setup\n",
    "-----\n",
    "\n",
    "[Bash](https://github.com/barryclark/bashstrap)\n",
    "\n",
    "[Environment](https://github.com/jshiv/media_mapper/blob/master/scripts/setup_env.sh)"
   ]
  },
  {
   "cell_type": "code",
   "execution_count": null,
   "metadata": {
    "collapsed": true
   },
   "outputs": [],
   "source": []
  }
 ],
 "metadata": {
  "kernelspec": {
   "display_name": "Python 2",
   "language": "python",
   "name": "python2"
  },
  "language_info": {
   "codemirror_mode": {
    "name": "ipython",
    "version": 2
   },
   "file_extension": ".py",
   "mimetype": "text/x-python",
   "name": "python",
   "nbconvert_exporter": "python",
   "pygments_lexer": "ipython2",
   "version": "2.7.10"
  }
 },
 "nbformat": 4,
 "nbformat_minor": 0
}
