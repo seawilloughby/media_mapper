{
 "cells": [
  {
   "cell_type": "markdown",
   "metadata": {},
   "source": [
    "##Instructions for Creating a PostgreSQL Database for San Francisco Neighborhood Blocks\n",
    "\n",
    "1. Brew install <b>PostGIS</b> :\n",
    "\n",
    " `brew install postgis`\n",
    "  \n",
    "  This library allows you to load .shp files and then export GeoJSON strings.\n",
    "\n",
    "\n",
    "2. Whever you initialize a database, you have to give it post gis capabilities:\n",
    " ```sql\n",
    "CREATE DATABASE <dbname>;\n",
    "\\q\n",
    "psql <dbname>\n",
    "CREATE EXTENSION POSTGIS \n",
    "```\n",
    "\n",
    "3. Place shape files downloaded from the cenusus into PostgreSQL  This will create a table if one doesn't exist already. \n",
    " \n",
    "    `ogr2ogr -f \"PostgreSQL\" PG:\"dbname= <dbname> user=<your psql username>\" \"<path to shapefile>/<shape file>\" -nlt PROMOTE_TO_MULTI -nln <table name> -append`\n",
    "\n",
    "    `ogr2ogr -f \"PostgreSQL\" PG:\"dbname= zipfiantwitter user=clwilloughby\" \"/Users/clwilloughby/Documents/root/repos/mapping/data/tl_2014_06_tabblock10/\" -nlt PROMOTE_TO_MULTI -nln sf_neighb -append`\n",
    "    \n",
    "    I had difficulties with instillation, and had to uninstall brew, then reinstall with:  \n",
    "  \n",
    "    ` brew install gdal --with-postgresql`\n"
   ]
  },
  {
   "cell_type": "markdown",
   "metadata": {},
   "source": [
    " /Users/clwilloughby/Documents/root/repos/mapping/data/tl_2014_06_tabblock10/tl_2014_06_tabblock10.shp"
   ]
  },
  {
   "cell_type": "code",
   "execution_count": null,
   "metadata": {
    "collapsed": true
   },
   "outputs": [],
   "source": [
    "database: zipfiantwitter\n",
    "table with data: tweeted "
   ]
  },
  {
   "cell_type": "markdown",
   "metadata": {},
   "source": [
    "###Useful Commands:\n",
    "```SQL\n",
    "float ST_Area(geometry g1);\n",
    "float ST_Area(geography geog, boolean use_spheroid=true);\n",
    "```\n",
    "Returns the area of the geometry if it is a polygon or multi-polygon."
   ]
  },
  {
   "cell_type": "markdown",
   "metadata": {},
   "source": [
    "###Get geometry columns in SQL formatted to work with your own lat/long data:\n",
    "\n",
    "```sql\n",
    "SELECT AddGeometryColumn('tweeted','geom',4326,'POINT',2);\n",
    "UPDATE tweeted SET geom = ST_SetSRID(ST_MakePoint(lons, lats), 4326);\n",
    "SELECT UpdateGeometrySRID('sf_neighb', 'wkb_geometry', 4326);\n",
    "```\n",
    "\n",
    "Now have a new column <b>geom</b> in tweeted, which has lats and lons. This is a unique geometry object based on the lats and lons values. \n",
    "\n",
    "\n",
    "Join only places where points are within the other point\n",
    "Returns everything from points, and the id from the polys table\n",
    "\n",
    "\n",
    "```SQL\n",
    " \n",
    "SELECT points.*, polys.geoid10\n",
    "INTO tweeted_neighb \n",
    "           FROM sf_neighb polys\n",
    "           JOIN tweeted points \n",
    "               ON ST_Within(points.geom,polys.wkb_geometry)\n",
    "```\n",
    "\n",
    "This worked, so now I want unique geoid10 for each area\n",
    "Now I have a new table with a <b>geoid10</b> column\n",
    "Called <b>tweeted_neighb</b>\n",
    "\n",
    "```SQL \n",
    "SELECT points.*, polys.geoid10\n",
    " INTO tweeted_neighb \n",
    "            FROM sf_neighb polys\n",
    "            JOIN tweeted points \n",
    "                ON ST_Within(points.geom,polys.wkb_geometry);\n",
    "```\n",
    "\n",
    "\n",
    "\n"
   ]
  },
  {
   "cell_type": "code",
   "execution_count": null,
   "metadata": {
    "collapsed": true
   },
   "outputs": [],
   "source": []
  }
 ],
 "metadata": {
  "kernelspec": {
   "display_name": "Python 2",
   "language": "python",
   "name": "python2"
  },
  "language_info": {
   "codemirror_mode": {
    "name": "ipython",
    "version": 2
   },
   "file_extension": ".py",
   "mimetype": "text/x-python",
   "name": "python",
   "nbconvert_exporter": "python",
   "pygments_lexer": "ipython2",
   "version": "2.7.10"
  }
 },
 "nbformat": 4,
 "nbformat_minor": 0
}
