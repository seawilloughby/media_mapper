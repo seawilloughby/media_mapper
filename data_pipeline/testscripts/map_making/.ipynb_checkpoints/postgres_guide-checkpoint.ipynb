{
 "cells": [
  {
   "cell_type": "code",
   "execution_count": 1,
   "metadata": {
    "collapsed": true
   },
   "outputs": [],
   "source": [
    "import pandas as pd\n",
    "import json\n",
    "import requests\n",
    "import media_mapper"
   ]
  },
  {
   "cell_type": "code",
   "execution_count": 2,
   "metadata": {
    "collapsed": true
   },
   "outputs": [],
   "source": [
    "def json_to_df(filename):\n",
    "    '''Takes in a json file. Returns a pandas dataframe'''\n",
    "    with open('tweets.json', 'r') as f:\n",
    "        l = f.readlines()\n",
    "\n",
    "    data = [json.loads(s) for s in l]\n",
    "    return pd.DataFrame(data)"
   ]
  },
  {
   "cell_type": "code",
   "execution_count": 3,
   "metadata": {
    "collapsed": true
   },
   "outputs": [],
   "source": [
    "original_df = json_to_df('tweets.json')"
   ]
  },
  {
   "cell_type": "code",
   "execution_count": 4,
   "metadata": {
    "collapsed": true
   },
   "outputs": [],
   "source": [
    "def extract_columns(df):\n",
    "    '''Takes in a pandas dataframe. Returns a smaller dataframe:\n",
    "    Text, Coordinates, timestamp'''\n",
    "    #only include rows with coordinates\n",
    "    df = df[~df.coordinates.isnull()]\n",
    "    #make a new dataframe with coordinates, tweets, and timestamps\n",
    "    df = df[['coordinates', 'text' ,'timestamp_ms']]\n",
    "    #get a list of coordinates to break it into long and lat data\n",
    "    coor = df.coordinates.tolist()\n",
    "    #list of the longitude coordinates\n",
    "    lons = [c['coordinates'][0] for c in coor]\n",
    "    #list of the latitude coordinates \n",
    "    lats = [c['coordinates'][1] for c in coor]\n",
    "    \n",
    "    #turn lats and longs into panda series. Append them to the dataframe.\n",
    "    df['lons'] = pd.Series(lons)\n",
    "    df['lats'] = pd.Series(lats)\n",
    "    df.drop('coordinates', 1)\n",
    "    \n",
    "    return df "
   ]
  },
  {
   "cell_type": "code",
   "execution_count": 5,
   "metadata": {
    "collapsed": true
   },
   "outputs": [],
   "source": [
    "df = extract_columns(original_df)"
   ]
  },
  {
   "cell_type": "code",
   "execution_count": 8,
   "metadata": {
    "collapsed": false
   },
   "outputs": [],
   "source": [
    "df =df.drop('coordinates', 1)"
   ]
  },
  {
   "cell_type": "code",
   "execution_count": 10,
   "metadata": {
    "collapsed": false
   },
   "outputs": [],
   "source": [
    "df.to_json('tweets_for_swl.json')"
   ]
  },
  {
   "cell_type": "code",
   "execution_count": 11,
   "metadata": {
    "collapsed": false
   },
   "outputs": [
    {
     "name": "stdout",
     "output_type": "stream",
     "text": [
      "Census_Phoenix_collection.ipynb  test_bins.ipynb                  \u001b[34mtl_2014_06_tabblock10\u001b[m\u001b[m/           tweets.json\r\n",
      "postgres_guide.ipynb             test_sanfran_tweets.ipynb        tl_2014_06_tabblock10.zip        tweets_for_swl.json\r\n"
     ]
    }
   ],
   "source": [
    "ls"
   ]
  },
  {
   "cell_type": "code",
   "execution_count": null,
   "metadata": {
    "collapsed": true
   },
   "outputs": [],
   "source": []
  }
 ],
 "metadata": {
  "kernelspec": {
   "display_name": "Python 2",
   "language": "python",
   "name": "python2"
  },
  "language_info": {
   "codemirror_mode": {
    "name": "ipython",
    "version": 2
   },
   "file_extension": ".py",
   "mimetype": "text/x-python",
   "name": "python",
   "nbconvert_exporter": "python",
   "pygments_lexer": "ipython2",
   "version": "2.7.10"
  }
 },
 "nbformat": 4,
 "nbformat_minor": 0
}
