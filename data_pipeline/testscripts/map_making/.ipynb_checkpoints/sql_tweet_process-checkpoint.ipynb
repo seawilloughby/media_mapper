{
 "cells": [
  {
   "cell_type": "code",
   "execution_count": 31,
   "metadata": {
    "collapsed": true
   },
   "outputs": [],
   "source": [
    "import pandas as pd\n",
    "import numpy as np\n",
    "import json\n",
    "import psycopg2\n",
    "import random\n",
    "from nltk.corpus import stopwords\n",
    "from nltk.stem.snowball import SnowballStemmer\n",
    "import string\n",
    "import datetime\n"
   ]
  },
  {
   "cell_type": "markdown",
   "metadata": {},
   "source": [
    "###Connect to database. Get tweets with geometry"
   ]
  },
  {
   "cell_type": "code",
   "execution_count": 32,
   "metadata": {
    "collapsed": true
   },
   "outputs": [],
   "source": [
    "conn_dict = {'dbname':'zipfiantwitter', 'user':'clwilloughby', 'password': '', 'host':'/tmp'}\n",
    "conn = psycopg2.connect(dbname=conn_dict['dbname'], user=conn_dict['user'], host='/tmp')\n",
    "cur = conn.cursor()\n",
    "\n",
    "map_query = \"\"\"\n",
    "SELECT timestamp_ms, text, geoid10\n",
    "FROM tweeted_neighb_wk2\n",
    "                ;\"\"\"\n",
    "\n",
    "df_tweet_shapes = pd.read_sql(map_query, conn)"
   ]
  },
  {
   "cell_type": "code",
   "execution_count": 33,
   "metadata": {
    "collapsed": false
   },
   "outputs": [
    {
     "data": {
      "text/plain": [
       "(71833, 3)"
      ]
     },
     "execution_count": 33,
     "metadata": {},
     "output_type": "execute_result"
    }
   ],
   "source": [
    "df_tweet_shapes.shape"
   ]
  },
  {
   "cell_type": "code",
   "execution_count": 34,
   "metadata": {
    "collapsed": false
   },
   "outputs": [],
   "source": [
    "df_tweet_shapes = df_tweet_shapes.dropna()"
   ]
  },
  {
   "cell_type": "code",
   "execution_count": 35,
   "metadata": {
    "collapsed": false
   },
   "outputs": [
    {
     "data": {
      "text/html": [
       "<div>\n",
       "<table border=\"1\" class=\"dataframe\">\n",
       "  <thead>\n",
       "    <tr style=\"text-align: right;\">\n",
       "      <th></th>\n",
       "      <th>timestamp_ms</th>\n",
       "      <th>text</th>\n",
       "      <th>geoid10</th>\n",
       "    </tr>\n",
       "  </thead>\n",
       "  <tbody>\n",
       "    <tr>\n",
       "      <th>0</th>\n",
       "      <td>1438896121923</td>\n",
       "      <td>ech75</td>\n",
       "      <td>060375760011015</td>\n",
       "    </tr>\n",
       "    <tr>\n",
       "      <th>1</th>\n",
       "      <td>1438847519615</td>\n",
       "      <td>Tf it s already 1</td>\n",
       "      <td>060378002022025</td>\n",
       "    </tr>\n",
       "    <tr>\n",
       "      <th>2</th>\n",
       "      <td>1438848499256</td>\n",
       "      <td>test</td>\n",
       "      <td>060750201001001</td>\n",
       "    </tr>\n",
       "    <tr>\n",
       "      <th>3</th>\n",
       "      <td>1438545172798</td>\n",
       "      <td>https t co scRjn8RVmU Office prank</td>\n",
       "      <td>060759804011003</td>\n",
       "    </tr>\n",
       "    <tr>\n",
       "      <th>4</th>\n",
       "      <td>1438545183785</td>\n",
       "      <td>Sunday fun day lake McSwain hot BBQ beer funti...</td>\n",
       "      <td>060816013003000</td>\n",
       "    </tr>\n",
       "  </tbody>\n",
       "</table>\n",
       "</div>"
      ],
      "text/plain": [
       "    timestamp_ms                                               text  \\\n",
       "0  1438896121923                                             ech75    \n",
       "1  1438847519615                                  Tf it s already 1   \n",
       "2  1438848499256                                              test    \n",
       "3  1438545172798                 https t co scRjn8RVmU Office prank   \n",
       "4  1438545183785  Sunday fun day lake McSwain hot BBQ beer funti...   \n",
       "\n",
       "           geoid10  \n",
       "0  060375760011015  \n",
       "1  060378002022025  \n",
       "2  060750201001001  \n",
       "3  060759804011003  \n",
       "4  060816013003000  "
      ]
     },
     "execution_count": 35,
     "metadata": {},
     "output_type": "execute_result"
    }
   ],
   "source": [
    "df_tweet_shapes.head()"
   ]
  },
  {
   "cell_type": "code",
   "execution_count": 13,
   "metadata": {
    "collapsed": false
   },
   "outputs": [],
   "source": [
    "#this gets me a count AND it gets me a \n",
    "def tokenize_tweets(text):\n",
    "    '''Called by sql_tweets_sum_and_tokenized. Tokenizes a sting.'''\n",
    "    punct = string.punctuation\n",
    "    stop_words = stopwords.words('english')\n",
    "    text_list = []\n",
    "    snowball = SnowballStemmer('english')\n",
    "    for word in text.lower().split():\n",
    "        word = word.strip(punct)\n",
    "        if word not in stop_words:\n",
    "            text_list.append(snowball.stem(word))\n",
    "    return text_list\n",
    "\n",
    "def sql_tweets_sum_and_tokenized(df, timeseries= True):\n",
    "    '''Takes a sql dataframe of tweets, geoids, and timestamps.\n",
    "    Tokenizes the tweets. Groupsby geoid and timestamp (if True) to create overal counts\n",
    "    Returns a new dataframe.'''\n",
    "    #take the string and tokenize words for a list \n",
    "    df['text'] = df.text.apply(tokenize_tweets)\n",
    "    #create a column of ones for quick sum column during groupby\n",
    "    df.insert(1, 'count', 1)\n",
    "    #groupby parameters. Counts Tweets and appends tweet tokens to a master list. \n",
    "    if timeseries == False:\n",
    "        df_group = df.groupby('geoid10').apply(lambda x: x.sum())\n",
    "        #drop redundant columns\n",
    "        df_group.drop('geoid10', 1, inplace=True)\n",
    "        df_group.drop('timestamp_ms', 1, inplace=True)\n",
    "        df_group = df_group.reset_index()\n",
    "    else:\n",
    "        #somethign about time. This will be difficult. \n",
    "        return df\n",
    "    \n",
    "    return df_group"
   ]
  },
  {
   "cell_type": "code",
   "execution_count": 14,
   "metadata": {
    "collapsed": false
   },
   "outputs": [],
   "source": [
    "#df_token_counts = sql_tweets_sum_and_tokenized(df_tweet_shapes)\n",
    "#df_token_counts.to_csv('tweet_count_new.csv')  "
   ]
  },
  {
   "cell_type": "markdown",
   "metadata": {},
   "source": [
    "###Let's Get Time Formatted"
   ]
  },
  {
   "cell_type": "code",
   "execution_count": 40,
   "metadata": {
    "collapsed": false
   },
   "outputs": [],
   "source": [
    "df_tweet_shapes['times'] = df_tweet_shapes['timestamp_ms'].values.astype(int).astype('datetime64[ms]')\n",
    "df_tweet_shapes['hour']= pd.DatetimeIndex(df_tweet_shapes[\"times\"]).hour\n",
    "df_tweet_shapes['DOW']= pd.DatetimeIndex(df_tweet_shapes[\"times\"]).dayofweek\n",
    "df_tweet_shapes['date']= pd.DatetimeIndex(df_tweet_shapes[\"times\"]).date"
   ]
  },
  {
   "cell_type": "code",
   "execution_count": 43,
   "metadata": {
    "collapsed": false
   },
   "outputs": [
    {
     "data": {
      "text/html": [
       "<div>\n",
       "<table border=\"1\" class=\"dataframe\">\n",
       "  <thead>\n",
       "    <tr style=\"text-align: right;\">\n",
       "      <th></th>\n",
       "      <th>timestamp_ms</th>\n",
       "      <th>count</th>\n",
       "      <th>text</th>\n",
       "      <th>geoid10</th>\n",
       "      <th>times</th>\n",
       "      <th>hour</th>\n",
       "      <th>DOW</th>\n",
       "      <th>date</th>\n",
       "    </tr>\n",
       "  </thead>\n",
       "  <tbody>\n",
       "    <tr>\n",
       "      <th>0</th>\n",
       "      <td>1438896121923</td>\n",
       "      <td>1</td>\n",
       "      <td>[ech75]</td>\n",
       "      <td>060375760011015</td>\n",
       "      <td>2015-08-06 21:22:01.923</td>\n",
       "      <td>21</td>\n",
       "      <td>3</td>\n",
       "      <td>2015-08-06</td>\n",
       "    </tr>\n",
       "    <tr>\n",
       "      <th>1</th>\n",
       "      <td>1438847519615</td>\n",
       "      <td>1</td>\n",
       "      <td>[tf, alreadi, 1]</td>\n",
       "      <td>060378002022025</td>\n",
       "      <td>2015-08-06 07:51:59.615</td>\n",
       "      <td>7</td>\n",
       "      <td>3</td>\n",
       "      <td>2015-08-06</td>\n",
       "    </tr>\n",
       "    <tr>\n",
       "      <th>2</th>\n",
       "      <td>1438848499256</td>\n",
       "      <td>1</td>\n",
       "      <td>[test]</td>\n",
       "      <td>060750201001001</td>\n",
       "      <td>2015-08-06 08:08:19.256</td>\n",
       "      <td>8</td>\n",
       "      <td>3</td>\n",
       "      <td>2015-08-06</td>\n",
       "    </tr>\n",
       "    <tr>\n",
       "      <th>3</th>\n",
       "      <td>1438545172798</td>\n",
       "      <td>1</td>\n",
       "      <td>[https, co, scrjn8rvmu, offic, prank]</td>\n",
       "      <td>060759804011003</td>\n",
       "      <td>2015-08-02 19:52:52.798</td>\n",
       "      <td>19</td>\n",
       "      <td>6</td>\n",
       "      <td>2015-08-02</td>\n",
       "    </tr>\n",
       "    <tr>\n",
       "      <th>4</th>\n",
       "      <td>1438545183785</td>\n",
       "      <td>1</td>\n",
       "      <td>[sunday, fun, day, lake, mcswain, hot, bbq, be...</td>\n",
       "      <td>060816013003000</td>\n",
       "      <td>2015-08-02 19:53:03.785</td>\n",
       "      <td>19</td>\n",
       "      <td>6</td>\n",
       "      <td>2015-08-02</td>\n",
       "    </tr>\n",
       "  </tbody>\n",
       "</table>\n",
       "</div>"
      ],
      "text/plain": [
       "    timestamp_ms  count                                               text  \\\n",
       "0  1438896121923      1                                            [ech75]   \n",
       "1  1438847519615      1                                   [tf, alreadi, 1]   \n",
       "2  1438848499256      1                                             [test]   \n",
       "3  1438545172798      1              [https, co, scrjn8rvmu, offic, prank]   \n",
       "4  1438545183785      1  [sunday, fun, day, lake, mcswain, hot, bbq, be...   \n",
       "\n",
       "           geoid10                   times  hour  DOW        date  \n",
       "0  060375760011015 2015-08-06 21:22:01.923    21    3  2015-08-06  \n",
       "1  060378002022025 2015-08-06 07:51:59.615     7    3  2015-08-06  \n",
       "2  060750201001001 2015-08-06 08:08:19.256     8    3  2015-08-06  \n",
       "3  060759804011003 2015-08-02 19:52:52.798    19    6  2015-08-02  \n",
       "4  060816013003000 2015-08-02 19:53:03.785    19    6  2015-08-02  "
      ]
     },
     "execution_count": 43,
     "metadata": {},
     "output_type": "execute_result"
    }
   ],
   "source": [
    "df_tweet_shapes.head()"
   ]
  },
  {
   "cell_type": "code",
   "execution_count": 42,
   "metadata": {
    "collapsed": false
   },
   "outputs": [],
   "source": [
    "df_timetweet = sql_tweets_sum_and_tokenized(df_tweet_shapes, True)"
   ]
  },
  {
   "cell_type": "markdown",
   "metadata": {},
   "source": [
    "##limit tweets to SF County Only"
   ]
  },
  {
   "cell_type": "code",
   "execution_count": null,
   "metadata": {
    "collapsed": true
   },
   "outputs": [],
   "source": [
    "with open('sf_geoids.csv', 'rb') as f:\n",
    "    reader = csv.reader(f)\n",
    "    sf_geolist = list(reader)[0]"
   ]
  },
  {
   "cell_type": "code",
   "execution_count": null,
   "metadata": {
    "collapsed": true
   },
   "outputs": [],
   "source": [
    "sf_tweets = df_tweet_count[df_tweet_count.index.isin(sf_geolist)]"
   ]
  },
  {
   "cell_type": "code",
   "execution_count": 44,
   "metadata": {
    "collapsed": true
   },
   "outputs": [],
   "source": [
    "df_timetweet.to_csv('sql_tweet_process.csv')"
   ]
  },
  {
   "cell_type": "markdown",
   "metadata": {},
   "source": [
    "#MiniExample of How I am processing Tweets:"
   ]
  },
  {
   "cell_type": "code",
   "execution_count": 117,
   "metadata": {
    "collapsed": false
   },
   "outputs": [],
   "source": [
    "df_test2 = pd.DataFrame({'timestamp_ms':['124432','142352','345345','2535262','65767'], 'geoid10':[2,3,3,5,3], 'text':['wow that way cool', 'what is the deal?', 'i know what you are bt what am I', '', 'this is anotehr example']}) "
   ]
  },
  {
   "cell_type": "code",
   "execution_count": 118,
   "metadata": {
    "collapsed": false
   },
   "outputs": [
    {
     "data": {
      "text/html": [
       "<div>\n",
       "<table border=\"1\" class=\"dataframe\">\n",
       "  <thead>\n",
       "    <tr style=\"text-align: right;\">\n",
       "      <th></th>\n",
       "      <th>geom</th>\n",
       "      <th>text</th>\n",
       "      <th>timestamp_ms</th>\n",
       "    </tr>\n",
       "  </thead>\n",
       "  <tbody>\n",
       "    <tr>\n",
       "      <th>0</th>\n",
       "      <td>2</td>\n",
       "      <td>wow that way cool</td>\n",
       "      <td>124432</td>\n",
       "    </tr>\n",
       "    <tr>\n",
       "      <th>1</th>\n",
       "      <td>3</td>\n",
       "      <td>what is the deal?</td>\n",
       "      <td>142352</td>\n",
       "    </tr>\n",
       "    <tr>\n",
       "      <th>2</th>\n",
       "      <td>3</td>\n",
       "      <td>i know what you are bt what am I</td>\n",
       "      <td>345345</td>\n",
       "    </tr>\n",
       "    <tr>\n",
       "      <th>3</th>\n",
       "      <td>5</td>\n",
       "      <td></td>\n",
       "      <td>2535262</td>\n",
       "    </tr>\n",
       "    <tr>\n",
       "      <th>4</th>\n",
       "      <td>3</td>\n",
       "      <td>this is anotehr example</td>\n",
       "      <td>65767</td>\n",
       "    </tr>\n",
       "  </tbody>\n",
       "</table>\n",
       "</div>"
      ],
      "text/plain": [
       "   geom                              text timestamp_ms\n",
       "0     2                 wow that way cool       124432\n",
       "1     3                 what is the deal?       142352\n",
       "2     3  i know what you are bt what am I       345345\n",
       "3     5                                        2535262\n",
       "4     3           this is anotehr example        65767"
      ]
     },
     "execution_count": 118,
     "metadata": {},
     "output_type": "execute_result"
    }
   ],
   "source": [
    "df_test2.head()"
   ]
  },
  {
   "cell_type": "code",
   "execution_count": 119,
   "metadata": {
    "collapsed": false
   },
   "outputs": [
    {
     "data": {
      "text/html": [
       "<div>\n",
       "<table border=\"1\" class=\"dataframe\">\n",
       "  <thead>\n",
       "    <tr style=\"text-align: right;\">\n",
       "      <th></th>\n",
       "      <th>count</th>\n",
       "      <th>text</th>\n",
       "    </tr>\n",
       "    <tr>\n",
       "      <th>geom</th>\n",
       "      <th></th>\n",
       "      <th></th>\n",
       "    </tr>\n",
       "  </thead>\n",
       "  <tbody>\n",
       "    <tr>\n",
       "      <th>2</th>\n",
       "      <td>1</td>\n",
       "      <td>[wow, way, cool]</td>\n",
       "    </tr>\n",
       "    <tr>\n",
       "      <th>3</th>\n",
       "      <td>3</td>\n",
       "      <td>[deal, know, bt, anotehr, exampl]</td>\n",
       "    </tr>\n",
       "    <tr>\n",
       "      <th>5</th>\n",
       "      <td>1</td>\n",
       "      <td>[]</td>\n",
       "    </tr>\n",
       "  </tbody>\n",
       "</table>\n",
       "</div>"
      ],
      "text/plain": [
       "      count                               text\n",
       "geom                                          \n",
       "2         1                   [wow, way, cool]\n",
       "3         3  [deal, know, bt, anotehr, exampl]\n",
       "5         1                                 []"
      ]
     },
     "execution_count": 119,
     "metadata": {},
     "output_type": "execute_result"
    }
   ],
   "source": [
    "#run the mini function\n",
    "sql_tweets_sum_and_tokenized(df_test2)"
   ]
  },
  {
   "cell_type": "code",
   "execution_count": 29,
   "metadata": {
    "collapsed": false
   },
   "outputs": [
    {
     "data": {
      "text/plain": [
       "array([datetime.date(2015, 7, 25), datetime.date(2015, 7, 26),\n",
       "       datetime.date(2015, 7, 15), datetime.date(2015, 7, 29),\n",
       "       datetime.date(2015, 7, 27), datetime.date(2015, 7, 28)], dtype=object)"
      ]
     },
     "execution_count": 29,
     "metadata": {},
     "output_type": "execute_result"
    }
   ],
   "source": [
    "df_tweet_shapes.date.unique()"
   ]
  },
  {
   "cell_type": "code",
   "execution_count": null,
   "metadata": {
    "collapsed": true
   },
   "outputs": [],
   "source": []
  }
 ],
 "metadata": {
  "kernelspec": {
   "display_name": "Python 2",
   "language": "python",
   "name": "python2"
  },
  "language_info": {
   "codemirror_mode": {
    "name": "ipython",
    "version": 2
   },
   "file_extension": ".py",
   "mimetype": "text/x-python",
   "name": "python",
   "nbconvert_exporter": "python",
   "pygments_lexer": "ipython2",
   "version": "2.7.10"
  }
 },
 "nbformat": 4,
 "nbformat_minor": 0
}
