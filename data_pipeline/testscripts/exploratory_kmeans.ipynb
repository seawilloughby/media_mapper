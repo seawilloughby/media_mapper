{
 "cells": [
  {
   "cell_type": "code",
   "execution_count": 4,
   "metadata": {
    "collapsed": false
   },
   "outputs": [
    {
     "name": "stdout",
     "output_type": "stream",
     "text": [
      "MAPBOX_API_KEY not found.\n",
      "TWITTER_CONSUMER_KEY not found.\n",
      "TWITTER_CONSUMER_SECRET not found.\n",
      "TWITTER_ACCESS_TOKEN not found.\n",
      "TWITTER_TOKEN_SECRET not found.\n",
      "INSTAGRAM_CLIENT_ID not found.\n",
      "INSTAGRAM_CLIENT_SECRET not found.\n",
      "INSTAGRAM_ACCESS_TOKEN not found.\n",
      "FLICKR_API_KEY not found.\n",
      "FLICKR_API_SECRET not found.\n"
     ]
    }
   ],
   "source": [
    "import pandas as pd\n",
    "import media_mapper as mm\n",
    "import numpy as np\n",
    "from sklearn.cluster import KMeans\n",
    "import json\n",
    "import matplotlib.pyplot as plt\n",
    "import matplotlib.cm as cm\n",
    "%matplotlib inline\n",
    "from sklearn.metrics import silhouette_samples, silhouette_score\n",
    "import nltk\n",
    "from ast import literal_eval"
   ]
  },
  {
   "cell_type": "code",
   "execution_count": 667,
   "metadata": {
    "collapsed": false
   },
   "outputs": [],
   "source": [
    "#take out the outlier of the bridge. Also take out the two weird places.\n",
    "def clean_and_run_kmeans(df, numberofclusters = 6, run_kmeans = True, plt_silouette = True):\n",
    "    '''Cleans a dataframe, and then calls a a function to run kmeans with sklearn. \n",
    "    Arguments:\n",
    "    1) df: A dataframe with a timestamp, geolabel, and tweet id column. \n",
    "    2) numberofclusters: k for Kmeans\n",
    "    3) run_kmeans: \n",
    "        True: If run_kmeans is True, calls the function run_k_means. \n",
    "            Returns a three part tuple with the kmeans model, and two dictionaries of geoides and clusters.\n",
    "        False: If run_kmeans is False, returns an X feature matrix for kmeans analysis.\n",
    "    4) plt_silouette:\n",
    "        True: If plot_silouette is true plots the silouette. \n",
    "     '''\n",
    "    df = mm.pipeline.transform_timestamp(df, hour = True, DOW = True)\n",
    "    #get tweet rate by hour\n",
    "    dfwk = tweet_rate_by_hour(df, dow= True)\n",
    "    #pivot table so DOW is columns\n",
    "    dfwk = pivot_table(dfwk, 'wkday', column_prefix = 'wkday_')\n",
    "    #get tweet rate by hour\n",
    "    dfhr = tweet_rate_by_hour(df)\n",
    "    #pivot table so time of day is columns\n",
    "    \n",
    "    ###CHANGE THE hr_bin LABEL SO THE CODE IS MORE READABLE. \n",
    "    \n",
    "    dfhr = pivot_table(dfhr, 'hr_bin', column_prefix = 'hrbin_')\n",
    "    dfkmeans = pd.merge(dfhr, dfwk, left_on = 'hrbin_', right_on = 'wkday_').drop('wkday_', 1)\n",
    "    #fill missing values with zeroes \n",
    "    dfkmeans.fillna(0, inplace = True)\n",
    "    #reorder columns for graphing\n",
    "    ordered_columns = ['hr_bin','wkday_0','wkday_1',\n",
    "                       'hrbin_morning','hrbin_afternoon',\n",
    "                       'hrbin_evening','hrbin_latenight','hrbin_dawn',]\n",
    "    dfkmeans = dfkmeans[ordered_columns]\n",
    "    if run_kmeans == True:\n",
    "        kmeans, geoid_dict, cluster_dict = \\\n",
    "        run_k_means(dfkmeans, numberofclusters, plot_silouette = plt_silouette)\n",
    "        #print the number of blocks assigned to each cluster\n",
    "        for cluster_id, blocks in cluster_dict.iteritems():\n",
    "            print cluster_id,'\\n number of neighborhoods: ', len(blocks), '\\n', \\\n",
    "                dfkmeans[dfkmeans['hrbin_'].isin(blocks)].mean(),'\\n','\\n'\n",
    "        return kmeans, geoid_dict, cluster_dict, dfkmeans \n",
    "    else:\n",
    "        #return the dataframe formatted for Kmeans analysis, without running Kmeans\n",
    "        return dfkmeans\n"
   ]
  },
  {
   "cell_type": "markdown",
   "metadata": {},
   "source": [
    "##Unsupervised Clustering with K-Means"
   ]
  },
  {
   "cell_type": "code",
   "execution_count": 39,
   "metadata": {
    "collapsed": false
   },
   "outputs": [],
   "source": [
    "def tweet_rate_by_hour(df, dow = False):\n",
    "    '''\n",
    "    INPUT: Dataframe with unqiue entries for tweets, and a datetime column. Drops the id column\n",
    "    \n",
    "    Calculates tweets rate per hour.\n",
    "\n",
    "    OUTPUT: If dow is false, will return a dataframe grouped only by hour. \n",
    "            If dow is true, will return a dataframe grouped by weekend(0) or weekday (1).\n",
    "    '''\n",
    "    #column of ones serves as a counter for number of tweets during group bys\n",
    "    df['twt_cnt'] = 1\n",
    "    #group by hour, so we have the total tweets for every hour\n",
    "    df = df.groupby(['geoid10', 'date', 'hour']).agg(np.sum).reset_index().drop('id', 1)\n",
    "    #At this point, the twt_count is the number of tweets for every hour \n",
    "    df['twt_rate'] = df['twt_cnt']\n",
    "    \n",
    "    if dow == False:\n",
    "        #groupby geoid and hour to get the average rate for every hour\n",
    "        df = df.groupby(['geoid10', 'hour']).agg(np.mean).reset_index()\n",
    "        df.drop('DOW', 1, inplace = True)\n",
    "        df.drop('twt_cnt', 1, inplace = True )  \n",
    "        df['hr_bin'] = pd.cut(df.hour, bins = 5, labels = ['latenight', 'dawn','morning','afternoon','evening'])\n",
    "        df = df.groupby(['geoid10', 'hr_bin']).agg(np.mean).reset_index().drop('hour', 1)\n",
    "   \n",
    "    else: \n",
    "        #group by date for the average tweet rate every day\n",
    "        df = df.groupby(['geoid10', 'date', 'DOW']).agg(np.mean).reset_index()\n",
    "        df.drop('hour',1, inplace = True)\n",
    "        df.drop('twt_cnt',1, inplace = True)    \n",
    "        df['wknd']=df['DOW'].where(df['DOW'] > 5) \n",
    "        df['wkday'] = df['wknd'].isnull().astype(int)\n",
    "        df.drop('DOW', 1, inplace = True)\n",
    "        df.drop('wknd', 1, inplace = True)\n",
    "        #final groupby to get an average count for week days or weekends \n",
    "        df = df.groupby(['geoid10', 'wkday']).agg(np.mean).reset_index()\n",
    "    \n",
    "    return df"
   ]
  },
  {
   "cell_type": "code",
   "execution_count": 40,
   "metadata": {
    "collapsed": false
   },
   "outputs": [],
   "source": [
    "def pivot_table(df, timevariable, column_prefix ):\n",
    "    '''\n",
    "    INPUT: Dataframe with three columns: Geoid, tweet rate, and a time variable..\n",
    "           The argument column_prefix, is used to name the time variable columns.\n",
    "    OUTPUT: Pivots the table to create a dataframe with geoid as the index, \n",
    "            and the time variable as the features.\n",
    "    '''\n",
    "    df = df.pivot(index = 'geoid10', columns = timevariable)\n",
    "    df = df.reset_index(1)\n",
    "    df = df.rename(columns = lambda x: column_prefix + str(x))\n",
    "    df.columns = df.columns.droplevel()\n",
    "    \n",
    "    return df"
   ]
  },
  {
   "cell_type": "code",
   "execution_count": 181,
   "metadata": {
    "collapsed": false
   },
   "outputs": [],
   "source": [
    "def run_kmeans(df, n_clusters)\n",
    "    k_array = df[['hrbin_afternoon','hrbin_dawn',\n",
    "     'hrbin_evening',\n",
    "     'hrbin_latenight',\n",
    "     'hrbin_morning',\n",
    "     'wkd_0',\n",
    "     'wkd_1']].values\n",
    "    kmeans = KMeans(n_clusters)\n",
    "    kmeans.fit(X = k_array )\n",
    "    features = df.columns.tolist()[1:]\n",
    "    geoids = df['hrbin_']"
   ]
  },
  {
   "cell_type": "code",
   "execution_count": 646,
   "metadata": {
    "collapsed": false
   },
   "outputs": [],
   "source": [
    "\n",
    "###get dataframe\n",
    "df = mm.pipeline.retrieve_sql_tweets('tweets_with_geoV6')\n",
    "df = mm.pipeline.transform_timestamp(df, hour = True, DOW = True)\n",
    "\n",
    "#get tweet rate by hour\n",
    "df_tr_wkdy = tweet_rate_by_hour(df, dow= True)\n",
    "#pivot table so DOW is columns\n",
    "df_tr_wkdy = pivot_table(df_tr_wkdy, 'wkday', column_prefix = 'wkday_')\n",
    "\n",
    "#get tweet rate by hour\n",
    "df_tr_hr = tweet_rate_by_hour(df)\n",
    "#pivot table so time of day is columns\n",
    "df_tr_hr = pivot_table(df_tr_hr, 'hr_bin', column_prefix = 'hrbin_')\n",
    "\n",
    "dfk = pd.merge(df_tr_hr, df_tr_wkdy, left_on = 'hrbin_', right_on = 'wkd_').drop('wkd_', 1)\n",
    "#fill missing values with zeroes \n",
    "dfk.fillna(0, inplace = True)\n",
    "\n",
    "run_kmeans(dfk, n_clusters = 6)"
   ]
  },
  {
   "cell_type": "markdown",
   "metadata": {
    "collapsed": true
   },
   "source": [
    "# 3. Find the top 10 features for each cluster."
   ]
  },
  {
   "cell_type": "code",
   "execution_count": 23,
   "metadata": {
    "collapsed": false
   },
   "outputs": [
    {
     "name": "stdout",
     "output_type": "stream",
     "text": [
      "top features for each cluster:\n",
      "0\n",
      "[5 3 2 6 0 1 4]\n",
      "0: wkd_0, hrbin_latenight, hrbin_evening, wkd_1, hrbin_afternoon, hrbin_dawn, hrbin_morning\n",
      "1\n",
      "[3 1 2 4 0 5 6]\n",
      "1: hrbin_latenight, hrbin_dawn, hrbin_evening, hrbin_morning, hrbin_afternoon, wkd_0, wkd_1\n",
      "2\n",
      "[6 2 3 0 5 1 4]\n",
      "2: wkd_1, hrbin_evening, hrbin_latenight, hrbin_afternoon, wkd_0, hrbin_dawn, hrbin_morning\n",
      "3\n",
      "[5 2 3 1 0 4 6]\n",
      "3: wkd_0, hrbin_evening, hrbin_latenight, hrbin_dawn, hrbin_afternoon, hrbin_morning, wkd_1\n",
      "4\n",
      "[2 0 5 3 6 4 1]\n",
      "4: hrbin_evening, hrbin_afternoon, wkd_0, hrbin_latenight, wkd_1, hrbin_morning, hrbin_dawn\n",
      "5\n",
      "[5 2 3 1 0 6 4]\n",
      "5: wkd_0, hrbin_evening, hrbin_latenight, hrbin_dawn, hrbin_afternoon, wkd_1, hrbin_morning\n"
     ]
    }
   ],
   "source": [
    "top_centroids = kmeans.cluster_centers_.argsort()[:,-1:-11:-1]\n",
    "print \"top features for each cluster:\"\n",
    "for num, centroid in enumerate(top_centroids):\n",
    "    print num\n",
    "    print centroid\n",
    "    print \"%d: %s\" % (num, \", \".join(features[i] for i in centroid))"
   ]
  },
  {
   "cell_type": "markdown",
   "metadata": {},
   "source": [
    "###put geoids and cluster into a dictionary for storage"
   ]
  },
  {
   "cell_type": "code",
   "execution_count": 26,
   "metadata": {
    "collapsed": false
   },
   "outputs": [
    {
     "name": "stdout",
     "output_type": "stream",
     "text": [
      "1582 cluster # 0\n",
      "1 cluster # 1\n",
      "2094 cluster # 2\n",
      "1 cluster # 3\n",
      "1 cluster # 4\n",
      "116 cluster # 5\n"
     ]
    }
   ],
   "source": [
    "from collections import defaultdict\n",
    "geoidclust = defaultdict(int)\n",
    "clusters = defaultdict(list)\n",
    "assigned_cluster = kmeans.transform(k_array).argmin(axis=1)\n",
    "for i in range(kmeans.n_clusters):\n",
    "    cluster = np.arange(0, k_array.shape[0])[assigned_cluster==i]\n",
    "    geoids = [dfk.ix[geoindx]['hrbin_'] for geoindx in cluster]\n",
    "    print len(geoids), 'cluster #', i\n",
    "    #make a dictionary of cluster as the key, and geoids as the list\n",
    "    clusters[i] = geoids\n",
    "    #second dictionary to quickly look up what cluster each geoid belongs to\n",
    "    for geo in geoids:\n",
    "        geoidclust[geo] = i\n",
    "   "
   ]
  },
  {
   "cell_type": "code",
   "execution_count": 346,
   "metadata": {
    "collapsed": false
   },
   "outputs": [],
   "source": [
    "#save clusters to a csv\n",
    "import csv\n",
    "with open('kmeans_round1_clustdict.csv', 'wb') as f:  # Just use 'w' mode in 3.x\n",
    "    w = csv.DictWriter(f, clusters.keys())\n",
    "    w.writeheader()\n",
    "    w.writerow(clusters)"
   ]
  },
  {
   "cell_type": "markdown",
   "metadata": {},
   "source": [
    "###How do they Map?"
   ]
  },
  {
   "cell_type": "code",
   "execution_count": 28,
   "metadata": {
    "collapsed": false
   },
   "outputs": [],
   "source": [
    "#add geocolumn \n",
    "dfk['geoid10'] = dfk['hrbin_']\n",
    "#add tweetcount as average value\n",
    "dfk['tweetcnt'] = dfk[['wkd_0', 'wkd_1','hrbin_morning','hrbin_afternoon','hrbin_evening''hrbin_latenight', 'hrbin_dawn']].mean(axis = 1)"
   ]
  },
  {
   "cell_type": "code",
   "execution_count": 39,
   "metadata": {
    "collapsed": false
   },
   "outputs": [],
   "source": [
    "\n",
    "###exists in pipeline. use pipeline\n",
    "def merge_shapes_with_dataframe(df):\n",
    "    '''imports sql shape files for san francisco. Adds them to a dataframe based on the shared 'geoid10' column.\n",
    "    Also assmes a 'tweetcnt' column. Returns the new dataframe'''\n",
    "    ###Retrieve the Shape Files for Each Block:\n",
    "    geodf = pd.read_csv('/Users/christy/Documents/root/repos/media_mapper/data_pipeline/data/intermediate_data/sf_only_sql_shapes.csv')\n",
    "    #format the dataframe\n",
    "    geodf['geoid10'] = geodf.geoid10.astype('str')\n",
    "    geodf.drop('Unnamed: 0', axis = 1, inplace = True)\n",
    "    \n",
    "    df['geoid10'] =df['geoid10'].apply(lambda x: x[1:])\n",
    "    #create a new dataframe \n",
    "    df = pd.merge(geodf, df, on='geoid10', how='outer')\n",
    "    #fill no tweets with a zero value\n",
    "    df.tweetcnt.fillna(0, inplace = True)\n",
    "    #drop empty hour columns\n",
    "    return df\n"
   ]
  },
  {
   "cell_type": "code",
   "execution_count": 41,
   "metadata": {
    "collapsed": false
   },
   "outputs": [],
   "source": [
    "#format geocolumn for mergind \n",
    "dfk['geoid10'] =dfk['geoid10'].apply(lambda x: x[1:])\n",
    "geodf = merge_shapes_with_dataframe(dfk)\n",
    "#optional color pallet\n",
    "colors = ['#c6f50f', '#66cdaa', '#ffa500', '#f67453', '#f6c653', '#ab9eba']\n",
    "#add color column based on values \n",
    "mapdf['hexcolor'] =mapdf[\"hrbin_\"].apply(lambda x:colors[geoidclust[x]].upper())\n",
    "mapdf['cluster'] = mapdf['hrbin_'].apply(lambda x: str(geoidclust[x]))\n"
   ]
  },
  {
   "cell_type": "code",
   "execution_count": 115,
   "metadata": {
    "collapsed": true
   },
   "outputs": [],
   "source": [
    "#right now I am not using the cluster color \n",
    "\n",
    "def add_properties_geo(row):\n",
    "    '''Creates the properties geoid, tweetcnt, cluster number'''\n",
    "    geoid = row['geoid10']\n",
    "    tweetrate = row['tweetcnt']\n",
    "    hexcolor = row['hexcolor']\n",
    "    cluster = row['cluster']\n",
    "    geo_json = {\"type\": \"Feature\", \"geometry\": json.loads(row['geometry']), \"properties\": {'geoid': geoid ,'tweetrate': tweetrate, 'cluster': cluster , 'hexcolor' : hexcolor}}\n",
    "    return geo_json\n",
    "\n",
    "def dataframe_to_geojson(df, outfilename):\n",
    "    '''Takes in a dataframe with a count, geoid10, and list of tokens. Dumps it into a json geojason file'''\n",
    "    df['geoid10'] = df['geoid10'].astype('str')\n",
    "    df[\"tweetcnt\"] = df['tweetcnt'].astype('str')\n",
    "    list_to_export = []\n",
    "    for idx, row in df.iterrows():\n",
    "        list_to_export.append(add_properties_geo(row))\n",
    "    with open(outfilename, 'w') as outfile:\n",
    "        json.dump(list_to_export, outfile)"
   ]
  },
  {
   "cell_type": "code",
   "execution_count": 117,
   "metadata": {
    "collapsed": false
   },
   "outputs": [
    {
     "name": "stderr",
     "output_type": "stream",
     "text": [
      "/Users/christy/miniconda/lib/python2.7/site-packages/IPython/kernel/__main__.py:12: SettingWithCopyWarning: \n",
      "A value is trying to be set on a copy of a slice from a DataFrame.\n",
      "Try using .loc[row_indexer,col_indexer] = value instead\n",
      "\n",
      "See the the caveats in the documentation: http://pandas.pydata.org/pandas-docs/stable/indexing.html#indexing-view-versus-copy\n",
      "/Users/christy/miniconda/lib/python2.7/site-packages/IPython/kernel/__main__.py:13: SettingWithCopyWarning: \n",
      "A value is trying to be set on a copy of a slice from a DataFrame.\n",
      "Try using .loc[row_indexer,col_indexer] = value instead\n",
      "\n",
      "See the the caveats in the documentation: http://pandas.pydata.org/pandas-docs/stable/indexing.html#indexing-view-versus-copy\n"
     ]
    }
   ],
   "source": [
    "dataframe_to_geojson(mapdf, 'map_making/clusters/data/clustergeo.json')"
   ]
  },
  {
   "cell_type": "markdown",
   "metadata": {},
   "source": [
    "### what did it cluster on?\n",
    "\n",
    "####Round 1:"
   ]
  },
  {
   "cell_type": "code",
   "execution_count": 140,
   "metadata": {
    "collapsed": false
   },
   "outputs": [
    {
     "data": {
      "text/plain": [
       "['060759804011003']"
      ]
     },
     "execution_count": 140,
     "metadata": {},
     "output_type": "execute_result"
    }
   ],
   "source": [
    "clusters[1]"
   ]
  },
  {
   "cell_type": "code",
   "execution_count": 137,
   "metadata": {
    "collapsed": false
   },
   "outputs": [
    {
     "name": "stdout",
     "output_type": "stream",
     "text": [
      "0 \n",
      " number of neighborhoods:  1582 \n",
      "hrbin_afternoon    1.043457\n",
      "hrbin_dawn         0.750566\n",
      "hrbin_evening      1.074981\n",
      "hrbin_latenight    1.096141\n",
      "hrbin_morning      0.491886\n",
      "wkd_0              1.605076\n",
      "wkd_1              1.067310\n",
      "dtype: float64 \n",
      "\n",
      "\n",
      "1 \n",
      " number of neighborhoods:  1 \n",
      "hrbin_afternoon    83.581667\n",
      "hrbin_dawn         86.952941\n",
      "hrbin_evening      84.998214\n",
      "hrbin_latenight    88.728333\n",
      "hrbin_morning      84.970588\n",
      "wkd_0              82.623853\n",
      "wkd_1              62.680556\n",
      "dtype: float64 \n",
      "\n",
      "\n",
      "2 \n",
      " number of neighborhoods:  2094 \n",
      "hrbin_afternoon    0.421302\n",
      "hrbin_dawn         0.189490\n",
      "hrbin_evening      0.483564\n",
      "hrbin_latenight    0.447790\n",
      "hrbin_morning      0.163801\n",
      "wkd_0              0.244269\n",
      "wkd_1              0.943002\n",
      "dtype: float64 \n",
      "\n",
      "\n",
      "3 \n",
      " number of neighborhoods:  1 \n",
      "hrbin_afternoon    15.402857\n",
      "hrbin_dawn         25.400000\n",
      "hrbin_evening      32.708571\n",
      "hrbin_latenight    30.120000\n",
      "hrbin_morning       1.416667\n",
      "wkd_0              40.571429\n",
      "wkd_1               1.000000\n",
      "dtype: float64 \n",
      "\n",
      "\n",
      "4 \n",
      " number of neighborhoods:  1 \n",
      "hrbin_afternoon    43.158333\n",
      "hrbin_dawn          1.523333\n",
      "hrbin_evening      45.117857\n",
      "hrbin_latenight    11.399167\n",
      "hrbin_morning       2.285462\n",
      "wkd_0              32.977011\n",
      "wkd_1               4.005487\n",
      "dtype: float64 \n",
      "\n",
      "\n",
      "5 \n",
      " number of neighborhoods:  116 \n",
      "hrbin_afternoon    1.718020\n",
      "hrbin_dawn         1.883504\n",
      "hrbin_evening      2.026867\n",
      "hrbin_latenight    1.958580\n",
      "hrbin_morning      0.936757\n",
      "wkd_0              4.780744\n",
      "wkd_1              1.222976\n",
      "dtype: float64 \n",
      "\n",
      "\n"
     ]
    }
   ],
   "source": [
    "for k, v in clusters.iteritems():\n",
    "    print k,'\\n number of neighborhoods: ', len(v), '\\n', dfk[dfk['hrbin_'].isin(v)].mean(),'\\n','\\n'"
   ]
  },
  {
   "cell_type": "markdown",
   "metadata": {},
   "source": [
    "wait. so how are these three clusters different?"
   ]
  },
  {
   "cell_type": "code",
   "execution_count": 180,
   "metadata": {
    "collapsed": false
   },
   "outputs": [
    {
     "data": {
      "text/plain": [
       "<matplotlib.axes._subplots.AxesSubplot at 0x11d9c8e50>"
      ]
     },
     "execution_count": 180,
     "metadata": {},
     "output_type": "execute_result"
    },
    {
     "data": {
      "image/png": "[encoded data removed]",
      "text/plain": [
       "<matplotlib.figure.Figure at 0x11d683b10>"
      ]
     },
     "metadata": {},
     "output_type": "display_data"
    }
   ],
   "source": [
    "\n",
    "\n",
    "fig, axes = plt.subplots(nrows=2, ncols=2)\n",
    "cluster5 = clusters[5]\n",
    "dfk[dfk['hrbin_'].isin(cluster5)].plot(kind = 'box', title = 'Cluster # 5', figsize = (20,8),ylim = (0,15),ax=axes[0,0])\n",
    "\n",
    "cluster5 = clusters[0]\n",
    "dfk[dfk['hrbin_'].isin(cluster5)].plot(kind = 'box', title = 'Cluster # 0', figsize = (20,8), ylim = (0,15), ax=axes[0,1])\n",
    "\n",
    "cluster5 = clusters[2]\n",
    "dfk[dfk['hrbin_'].isin(cluster5)].plot(kind = 'box', title = 'Cluster # 2', figsize = (20,8), ylim = (0,15), ax=axes[1,1])"
   ]
  },
  {
   "cell_type": "markdown",
   "metadata": {},
   "source": [
    "##Take out the outliers found by kmeans. Rerun to see if can improve clusters."
   ]
  },
  {
   "cell_type": "markdown",
   "metadata": {},
   "source": [
    "Filter out outliers:\n",
    "    \n",
    " - Remove the two geoids with weird patterns relative to thier location.\n",
    " - Take out golden gate park during the time when the music festival ocured."
   ]
  },
  {
   "cell_type": "code",
   "execution_count": 670,
   "metadata": {
    "collapsed": true
   },
   "outputs": [],
   "source": [
    "#take out the outlier of the bridge. Also take out the two weird places.\n",
    "def clean_and_run_kmeans_modified(df, numberofclusters = 6, run_kmeans = True, plt_silouette = True, remove_oddpoints = True):\n",
    "    '''Cleans a dataframe, and then calls a a function to run kmeans with sklearn. \n",
    "    Has Special additions to take out outliers I previously found.\n",
    "    Arguments:\n",
    "    1) df: A dataframe with a timestamp, geolabel, and tweet id column. \n",
    "    2) numberofclusters: k for Kmeans\n",
    "    3) run_kmeans: \n",
    "        True: If run_kmeans is True, calls the function run_k_means. \n",
    "            Returns a three part tuple with the kmeans model, and two dictionaries of geoides and clusters.\n",
    "        False: If run_kmeans is False, returns an X feature matrix for kmeans analysis.\n",
    "    4) plt_silouette:\n",
    "        True: If plot_silouette is true plots the silouette. \n",
    "    5) remove_oddpoints: If true, remove geoids with unusual tweeting patterns\n",
    "        as uncovered by KMeans. Also replaced tweets located in the water\n",
    "        onto the city. \n",
    "     '''\n",
    "    #get datetime columns to help with cleaning\n",
    "    df =mm.pipeline.transform_timestamp(df, hour = True, DOW = True)\n",
    "    \n",
    "    #filter out the outliers\n",
    "    #get rid of golden gate park during the music festival\n",
    "    nogg = df[(df['geoid10']!= '060759803001030')]\n",
    "    gg = df[(df['geoid10']== '060759803001030')]\n",
    "    ggdf = pd.concat([nogg, gg[(gg['time'].dt.day > 10) | (gg['time'].dt.month < 8)]])\n",
    "    #get rid of the other two strange values\n",
    "    ggdf = ggdf[(ggdf['geoid10']!= '060750201001001')]\n",
    "    ggdf = ggdf[(ggdf['geoid10']!= '060759804011003')]\n",
    "    \n",
    "    df =ggdf\n",
    "    \n",
    "    dfwk = tweet_rate_by_hour(df, dow= True)\n",
    "    #pivot table so DOW is columns\n",
    "    dfwk = pivot_table(dfwk, 'wkday', column_prefix = 'wkday_')\n",
    "    #get tweet rate by hour\n",
    "    dfhr = tweet_rate_by_hour(df)\n",
    "    #pivot table so time of day is columns\n",
    "    dfhr = pivot_table(dfhr, 'hr_bin', column_prefix = 'hrbin_')\n",
    "    dfkmeans = pd.merge(dfhr, dfwk, left_on = 'hrbin_', right_on = 'wkday_').drop('wkday_', 1)\n",
    "    #reorder the columns \n",
    "    dfkmeans = dfkmeans[['hrbin_','wkday_0','wkday_1','hrbin_morning','hrbin_afternoon','hrbin_evening',\n",
    "     'hrbin_latenight','hrbin_dawn']]\n",
    "    #fill missing values with zeroes \n",
    "    dfkmeans.fillna(0, inplace = True)\n",
    "    if run_kmeans == True:\n",
    "        kmeans, geoid_dict, cluster_dict = run_k_means(dfkmeans, numberofclusters, plot_silouette = plt_silouette)\n",
    "        for k, v in cluster_dict.iteritems():\n",
    "            print k,'\\n number of neighborhoods: ', len(v), '\\n', dfkmeans[dfkmeans['hrbin_'].isin(v)].mean(),'\\n','\\n'\n",
    "        return kmeans, geoid_dict, cluster_dict, dfkmeans \n",
    "    else:\n",
    "        return dfkmeans\n"
   ]
  },
  {
   "cell_type": "code",
   "execution_count": 657,
   "metadata": {
    "collapsed": false
   },
   "outputs": [],
   "source": [
    "def run_k_means(df, numberclusters, geoidlabel ='hrbin_', plot_silouette = True):\n",
    "    '''Uses sklearn to run kmeans. \n",
    "    Arguments:\n",
    "    1) df: A dataframe with a geoid column\n",
    "    2) geoidlabel: the label of the geoid column. \n",
    "    3) plot_silouette: whether or not to plot the silouettes of each cluster\n",
    "    Returns a three part tuple:\n",
    "    1) the kmeans sklearn model \n",
    "    2) a dictionary with geoids as the key, and the cluster as the value\n",
    "    3) a dictionary with clusters as the key, and a list of related geoids as the value'''\n",
    "    \n",
    "    #model a new k means. Turn the dataframe into an array.\n",
    "    x = df[['wkday_0','wkday_1','hrbin_morning',\n",
    "            'hrbin_afternoon','hrbin_evening',\n",
    "             'hrbin_latenight','hrbin_dawn']].values\n",
    "    kmeans = KMeans(n_clusters = numberclusters)\n",
    "    kmeans.fit(X = x )\n",
    "    features = df.columns.tolist()[1:]\n",
    "    geoids = df[geoidlabel]\n",
    "    \n",
    "    #store values in a dictionary\n",
    "    geoid_dict = defaultdict(int)\n",
    "    cluster_dict = defaultdict(list)\n",
    "    \n",
    "    #EXPLAIN WHAT THIS FUNCTION IS DOING\n",
    "    assigned_cluster = kmeans.transform(x).argmin(axis=1)\n",
    "    \n",
    "    for i in range(kmeans.n_clusters):\n",
    "        cluster = np.arange(0, x.shape[0])[assigned_cluster==i]\n",
    "        geoids = [df.ix[geoindx]['hrbin_'] for geoindx in cluster]\n",
    "        print len(geoids), 'cluster #', i\n",
    "        #make a dictionary with cluster as the key, and geoids as the list\n",
    "        cluster_dict[i] = geoids\n",
    "        #second dictionary to quickly look up what cluster each geoid belongs to\n",
    "        for geo in geoids:\n",
    "            geoid_dict[geo] = i\n",
    "    if  plot_silouette == True:\n",
    "        plot_cluster_silouette_values(X, assigned_cluster, n_clusters)\n",
    "    return kmeans, geoid_dict, cluster_dict,"
   ]
  },
  {
   "cell_type": "code",
   "execution_count": 658,
   "metadata": {
    "collapsed": false
   },
   "outputs": [],
   "source": [
    "def plot_silhoette_for_ks(cluster_scores):\n",
    "    #######edit this to include why you waould want to graph silouette scores\n",
    "    '''Takes as an argument of list of tuples. \n",
    "    The first value is the number of clusters run through k means.\n",
    "    The second item in the tuple is the corresponding average silouettescore.\n",
    "    Plots a scatter plot.'''\n",
    "    x = [item[0] for item in cluster_scores] #the number of clusters\n",
    "    y = [item[1] for item in cluster_scores] #the average silouette score \n",
    "    plt.plot(x, y, 'o')\n",
    "    plt.ylim(0, 1)\n",
    "    plt.xlabel('number of clusters')\n",
    "    plt.ylabel('average silouette score')\n",
    "\n",
    "\n",
    "def determine_k_silhoette(X, range_n_clusters= [2, 3, 4, 5, 6, 7, 8, 9, 10, 11, 12]):\n",
    "    '''From Sklearn: Silhoette coefficients (as these values are referred to as) \n",
    "    near +1 indicate that the sample is far away from the neighboring clusters. \n",
    "    A value of 0 indicates that the sample is on or very close to the decision boundary \n",
    "    between two neighboring clusters and negative values indicate that those samples might \n",
    "    have been assigned to the wrong cluster.\n",
    "    \n",
    "    \n",
    "    SAY MODIFIED FROM SKLEARN, give URL'''\n",
    "\n",
    "    cluster_scores = []\n",
    "    \n",
    "    for n_clusters in range_n_clusters:\n",
    "        # Create a subplot with 1 row and 2 columns\n",
    "        fig, (ax1, ax2) = plt.subplots(1, 2)\n",
    "        fig.set_size_inches(18, 7)\n",
    "\n",
    "        # The 1st subplot is the silhouette plot\n",
    "        # The silhouette coefficient can range from -1, 1 but in this example all\n",
    "        # lie within [-0.1, 1]\n",
    "        ax1.set_xlim([-0.1, 1])\n",
    "        # The (n_clusters+1)*10 is for inserting blank space between silhouette\n",
    "        # plots of individual clusters, to demarcate them clearly.\n",
    "        ax1.set_ylim([0, len(X) + (n_clusters + 1) * 10])\n",
    "\n",
    "        # Initialize the clusterer with n_clusters value and a random generator\n",
    "        # seed of 10 for reproducibility.\n",
    "        clusterer = KMeans(n_clusters=n_clusters, random_state=10)\n",
    "        cluster_labels = clusterer.fit_predict(X)\n",
    "\n",
    "        # The silhouette_score gives the average value for all the samples.\n",
    "        # This gives a perspective into the density and separation of the formed\n",
    "        # clusters\n",
    "        silhouette_avg = silhouette_score(X, cluster_labels)\n",
    "        cluster_scores.append((n_clusters, silhouette_avg))\n",
    "\n",
    "        # Compute the silhouette scores for each sample\n",
    "        sample_silhouette_values = silhouette_samples(X, cluster_labels)\n",
    "\n",
    "        y_lower = 10\n",
    "        for i in range(n_clusters):\n",
    "            # Aggregate the silhouette scores for samples belonging to\n",
    "            # cluster i, and sort them\n",
    "            ith_cluster_silhouette_values = \\\n",
    "                sample_silhouette_values[cluster_labels == i]\n",
    "\n",
    "            ith_cluster_silhouette_values.sort()\n",
    "\n",
    "            size_cluster_i = ith_cluster_silhouette_values.shape[0]\n",
    "            y_upper = y_lower + size_cluster_i\n",
    "\n",
    "            color = cm.spectral(float(i) / n_clusters)\n",
    "            ax1.fill_betweenx(np.arange(y_lower, y_upper),\n",
    "                              0, ith_cluster_silhouette_values,\n",
    "                              facecolor=color, edgecolor=color, alpha=0.7)\n",
    "\n",
    "            # Label the silhouette plots with their cluster numbers at the middle\n",
    "            ax1.text(-0.05, y_lower + 0.5 * size_cluster_i, str(i))\n",
    "\n",
    "            # Compute the new y_lower for next plot\n",
    "            y_lower = y_upper + 10  # 10 for the 0 samples\n",
    "\n",
    "        ax1.set_title(\"The silhouette plot for the various clusters.\")\n",
    "        ax1.set_xlabel(\"The silhouette coefficient values\")\n",
    "        ax1.set_ylabel(\"Cluster label\")\n",
    "\n",
    "        # The vertical line for average silhoutte score of all the values\n",
    "        ax1.axvline(x=silhouette_avg, color=\"red\", linestyle=\"--\")\n",
    "\n",
    "        ax1.set_yticks([])  # Clear the yaxis labels / ticks\n",
    "        ax1.set_xticks([-0.1, 0, 0.2, 0.4, 0.6, 0.8, 1])\n",
    "        plt.show()\n",
    "    plot_silhoette_for_ks(cluster_scores)\n"
   ]
  },
  {
   "cell_type": "code",
   "execution_count": 659,
   "metadata": {
    "collapsed": true
   },
   "outputs": [],
   "source": [
    "def plot_cluster_silouette_values (X, cluster_labels, n_clusters):\n",
    "    '''Plots the average silouette value for each unique cluster found by k_means.\n",
    "    Arguments:\n",
    "    X: the feature matrix for Kmeans\n",
    "    cluster_labels: the predicted cluster labels assiged by Kmeans algorithm\n",
    "    n_clusters: the number of clusters used for Kmeans 8'''\n",
    "\n",
    "    fig, (ax1) = plt.subplots(1, 1) \n",
    "    silhouette_avg = silhouette_score(X, cluster_labels)\n",
    "\n",
    "    # Compute the silhouette scores for each sample\n",
    "    sample_silhouette_values = silhouette_samples(X, cluster_labels)\n",
    "\n",
    "    y_lower = 10\n",
    "    for i in range(n_clusters):\n",
    "        # Aggregate the silhouette scores for samples belonging to\n",
    "        # cluster i, and sort them\n",
    "        ith_cluster_silhouette_values = sample_silhouette_values[cluster_labels == i]\n",
    "\n",
    "        ith_cluster_silhouette_values.sort()\n",
    "\n",
    "        size_cluster_i = ith_cluster_silhouette_values.shape[0]\n",
    "        y_upper = y_lower + size_cluster_i\n",
    "\n",
    "        color = cm.spectral(float(i) / n_clusters)\n",
    "        ax1.fill_betweenx(np.arange(y_lower, y_upper),\n",
    "                          0, ith_cluster_silhouette_values,\n",
    "                          facecolor=color, edgecolor=color, alpha=0.7)\n",
    "\n",
    "        # Label the silhouette plots with their cluster numbers at the middle\n",
    "        ax1.text(-0.05, y_lower + 0.5 * size_cluster_i, str(i))\n",
    "\n",
    "        # Compute the new y_lower for next plot\n",
    "        y_lower = y_upper + 10  # 10 for the 0 samples\n",
    "\n",
    "        # The 1st subplot is the silhouette plot\n",
    "    ax1.set_xlim([-0.1, 1])\n",
    "    # The (n_clusters+1)*10 is for inserting blank space between silhouette\n",
    "    # plots of individual clusters, to demarcate them clearly.\n",
    "    ax1.set_ylim([0, len(X) + (n_clusters + 1) * 10])\n",
    "\n",
    "    # The silhouette_score gives the average value for all the samples.\n",
    "    # This gives a perspective into the density and separation of the formed\n",
    "    # clusters\n",
    "    ax1.set_title(\"silhouette plot clusters.\")\n",
    "    ax1.set_xlabel(\"silhouette coefficient values\")\n",
    "    ax1.set_ylabel(\"cluster label\")\n",
    "\n",
    "    # The vertical line for average silhoutte score of all the values\n",
    "    ax1.axvline(x=silhouette_avg, color=\"red\", linestyle=\"--\")\n",
    "\n",
    "    ax1.set_yticks([])  # Clear the yaxis labels / ticks\n",
    "    ax1.set_xticks([-0.1, 0, 0.2, 0.4, 0.6, 0.8, 1])\n",
    "    plt.show()"
   ]
  },
  {
   "cell_type": "markdown",
   "metadata": {},
   "source": [
    "####Check Number of Clusters for K Means with Silouette Score"
   ]
  },
  {
   "cell_type": "code",
   "execution_count": 632,
   "metadata": {
    "collapsed": false
   },
   "outputs": [
    {
     "data": {
      "image/png": "[encoded data removed]",
      "text/plain": [
       "<matplotlib.figure.Figure at 0x12704d510>"
      ]
     },
     "metadata": {},
     "output_type": "display_data"
    },
    {
     "data": {
      "image/png": "[encoded data removed]",
      "text/plain": [
       "<matplotlib.figure.Figure at 0x12cea3590>"
      ]
     },
     "metadata": {},
     "output_type": "display_data"
    },
    {
     "data": {
      "image/png": "[encoded data removed]",
      "text/plain": [
       "<matplotlib.figure.Figure at 0x122b3eb50>"
      ]
     },
     "metadata": {},
     "output_type": "display_data"
    },
    {
     "data": {
      "image/png": "[encoded data removed]",
      "text/plain": [
       "<matplotlib.figure.Figure at 0x11faff190>"
      ]
     },
     "metadata": {},
     "output_type": "display_data"
    },
    {
     "data": {
      "image/png": "[encoded data removed]",
      "text/plain": [
       "<matplotlib.figure.Figure at 0x124d9b3d0>"
      ]
     },
     "metadata": {},
     "output_type": "display_data"
    },
    {
     "data": {
      "image/png": "[encoded data removed]",
      "text/plain": [
       "<matplotlib.figure.Figure at 0x114c37bd0>"
      ]
     },
     "metadata": {},
     "output_type": "display_data"
    },
    {
     "data": {
      "image/png": "[encoded data removed]",
      "text/plain": [
       "<matplotlib.figure.Figure at 0x12449df10>"
      ]
     },
     "metadata": {},
     "output_type": "display_data"
    },
    {
     "data": {
      "image/png": "[encoded data removed]",
      "text/plain": [
       "<matplotlib.figure.Figure at 0x119a61290>"
      ]
     },
     "metadata": {},
     "output_type": "display_data"
    },
    {
     "data": {
      "image/png": "[encoded data removed]",
      "text/plain": [
       "<matplotlib.figure.Figure at 0x124e41f10>"
      ]
     },
     "metadata": {},
     "output_type": "display_data"
    },
    {
     "data": {
      "image/png": "[encoded data removed]",
      "text/plain": [
       "<matplotlib.figure.Figure at 0x1257bc1d0>"
      ]
     },
     "metadata": {},
     "output_type": "display_data"
    },
    {
     "data": {
      "image/png": "[encoded data removed]",
      "text/plain": [
       "<matplotlib.figure.Figure at 0x121226110>"
      ]
     },
     "metadata": {},
     "output_type": "display_data"
    },
    {
     "data": {
      "image/png": "[encoded data removed]",
      "text/plain": [
       "<matplotlib.figure.Figure at 0x1212d2390>"
      ]
     },
     "metadata": {},
     "output_type": "display_data"
    }
   ],
   "source": [
    "#Get dataframe ready for kmeans, but don't run it yet:\n",
    "gg_k_df = modified_clean_and_run_kmeans(df, run_kmeans = False)\n",
    "determine_k_silhoette(gg_k_df)"
   ]
  },
  {
   "cell_type": "markdown",
   "metadata": {},
   "source": [
    "###Rerun K Means with 8 plots.  6 or eight look pretty good."
   ]
  },
  {
   "cell_type": "code",
   "execution_count": 671,
   "metadata": {
    "collapsed": false,
    "scrolled": true
   },
   "outputs": [
    {
     "name": "stdout",
     "output_type": "stream",
     "text": [
      "276 cluster # 0\n",
      "1106 cluster # 1\n",
      "555 cluster # 2\n",
      "843 cluster # 3\n",
      "541 cluster # 4\n",
      "423 cluster # 5\n",
      "33 cluster # 6\n",
      "16 cluster # 7\n"
     ]
    },
    {
     "data": {
      "image/png": "[encoded data removed]",
      "text/plain": [
       "<matplotlib.figure.Figure at 0x114bb2110>"
      ]
     },
     "metadata": {},
     "output_type": "display_data"
    }
   ],
   "source": [
    "gg_k_df_v3 = modified_clean_and_run_kmeans(df, run_kmeans = False)\n",
    "\n",
    "kmeans_v3, geoid_dict_v3, cluster_dict_v3 =run_k_means(gg_k_df_v3, 8)"
   ]
  },
  {
   "cell_type": "code",
   "execution_count": 673,
   "metadata": {
    "collapsed": false,
    "scrolled": true
   },
   "outputs": [
    {
     "name": "stdout",
     "output_type": "stream",
     "text": [
      "0 \n",
      " number of neighborhoods:  276 \n",
      "hrbin_                  inf\n",
      "wkday_0            2.996603\n",
      "wkday_1            1.158275\n",
      "hrbin_morning      0.628438\n",
      "hrbin_afternoon    1.481615\n",
      "hrbin_evening      1.638302\n",
      "hrbin_latenight    1.552292\n",
      "hrbin_dawn         0.955831\n",
      "dtype: float64 \n",
      "\n",
      "\n",
      "1 \n",
      " number of neighborhoods:  1106 \n",
      "hrbin_                  inf\n",
      "wkday_0            0.224684\n",
      "wkday_1            0.945403\n",
      "hrbin_morning      0.150995\n",
      "hrbin_afternoon    0.277451\n",
      "hrbin_evening      0.866184\n",
      "hrbin_latenight    0.290210\n",
      "hrbin_dawn         0.225701\n",
      "dtype: float64 \n",
      "\n",
      "\n",
      "2 \n",
      " number of neighborhoods:  555 \n",
      "hrbin_                  inf\n",
      "wkday_0            1.421958\n",
      "wkday_1            1.122578\n",
      "hrbin_morning      1.299518\n",
      "hrbin_afternoon    1.013666\n",
      "hrbin_evening      1.023265\n",
      "hrbin_latenight    1.029735\n",
      "hrbin_dawn         0.745280\n",
      "dtype: float64 \n",
      "\n",
      "\n",
      "3 \n",
      " number of neighborhoods:  843 \n",
      "hrbin_                  inf\n",
      "wkday_0            1.427670\n",
      "wkday_1            1.016922\n",
      "hrbin_morning      0.000000\n",
      "hrbin_afternoon    0.942892\n",
      "hrbin_evening      1.010256\n",
      "hrbin_latenight    1.045119\n",
      "hrbin_dawn         0.678528\n",
      "dtype: float64 \n",
      "\n",
      "\n",
      "4 \n",
      " number of neighborhoods:  541 \n",
      "hrbin_                  inf\n",
      "wkday_0            0.342884\n",
      "wkday_1            0.909810\n",
      "hrbin_morning      0.146950\n",
      "hrbin_afternoon    1.067180\n",
      "hrbin_evening      0.020333\n",
      "hrbin_latenight    0.281331\n",
      "hrbin_dawn         0.121996\n",
      "dtype: float64 \n",
      "\n",
      "\n",
      "5 \n",
      " number of neighborhoods:  423 \n",
      "hrbin_                  inf\n",
      "wkday_0            0.203310\n",
      "wkday_1            0.946612\n",
      "hrbin_morning      0.085106\n",
      "hrbin_afternoon    0.009456\n",
      "hrbin_evening      0.026005\n",
      "hrbin_latenight    1.080378\n",
      "hrbin_dawn         0.163121\n",
      "dtype: float64 \n",
      "\n",
      "\n",
      "6 \n",
      " number of neighborhoods:  33 \n",
      "hrbin_                  inf\n",
      "wkday_0            3.767572\n",
      "wkday_1            1.448223\n",
      "hrbin_morning      0.839226\n",
      "hrbin_afternoon    1.301364\n",
      "hrbin_evening      1.160988\n",
      "hrbin_latenight    1.158151\n",
      "hrbin_dawn         4.592778\n",
      "dtype: float64 \n",
      "\n",
      "\n",
      "7 \n",
      " number of neighborhoods:  16 \n",
      "hrbin_             3.796881e+237\n",
      "wkday_0             8.918254e+00\n",
      "wkday_1             1.248970e+00\n",
      "hrbin_morning       1.559436e+00\n",
      "hrbin_afternoon     2.232872e+00\n",
      "hrbin_evening       3.717433e+00\n",
      "hrbin_latenight     3.162487e+00\n",
      "hrbin_dawn          1.127933e+00\n",
      "dtype: float64 \n",
      "\n",
      "\n"
     ]
    }
   ],
   "source": [
    "for k, v in cluster_dict_v3.iteritems():\n",
    "    print k,'\\n number of neighborhoods: ', len(v), '\\n', gg_k_df_v3[gg_k_df_v3['hrbin_'].isin(v)].mean(),'\\n','\\n'"
   ]
  },
  {
   "cell_type": "code",
   "execution_count": 674,
   "metadata": {
    "collapsed": false
   },
   "outputs": [
    {
     "name": "stdout",
     "output_type": "stream",
     "text": [
      "top features for each cluster:\n",
      "0\n",
      "[0 4 5 3 1 6 2]\n",
      "0: hrbin_, hrbin_afternoon, hrbin_evening, hrbin_morning, wkday_0, hrbin_latenight, wkday_1 \n",
      "\n",
      "1\n",
      "[1 4 5 3 6 0 2]\n",
      "1: wkday_0, hrbin_afternoon, hrbin_evening, hrbin_morning, hrbin_latenight, hrbin_, wkday_1 \n",
      "\n",
      "2\n",
      "[0 2 1 5 4 3 6]\n",
      "2: hrbin_, wkday_1, wkday_0, hrbin_evening, hrbin_afternoon, hrbin_morning, hrbin_latenight \n",
      "\n",
      "3\n",
      "[0 5 1 4 3 6 2]\n",
      "3: hrbin_, hrbin_evening, wkday_0, hrbin_afternoon, hrbin_morning, hrbin_latenight, wkday_1 \n",
      "\n",
      "4\n",
      "[3 1 0 5 2 6 4]\n",
      "4: hrbin_morning, wkday_0, hrbin_, hrbin_evening, wkday_1, hrbin_latenight, hrbin_afternoon \n",
      "\n",
      "5\n",
      "[5 1 0 6 2 4 3]\n",
      "5: hrbin_evening, wkday_0, hrbin_, hrbin_latenight, wkday_1, hrbin_afternoon, hrbin_morning \n",
      "\n",
      "6\n",
      "[6 0 1 3 4 5 2]\n",
      "6: hrbin_latenight, hrbin_, wkday_0, hrbin_morning, hrbin_afternoon, hrbin_evening, wkday_1 \n",
      "\n",
      "7\n",
      "[0 4 5 3 2 1 6]\n",
      "7: hrbin_, hrbin_afternoon, hrbin_evening, hrbin_morning, wkday_1, wkday_0, hrbin_latenight \n",
      "\n"
     ]
    }
   ],
   "source": [
    "features = gg_k_df_v3.columns.tolist()\n",
    "top_centroids = kmeans_v3.cluster_centers_.argsort()[:,-1:-11:-1]\n",
    "print \"top features for each cluster:\"\n",
    "for num, centroid in enumerate(top_centroids):\n",
    "    print num\n",
    "    print centroid\n",
    "    print \"%d: %s\" % (num, \", \".join(features[i] for i in centroid)), '\\n'"
   ]
  },
  {
   "cell_type": "code",
   "execution_count": 687,
   "metadata": {
    "collapsed": false
   },
   "outputs": [],
   "source": [
    "def plot_clusters(df, cluster_dict):\n",
    "    '''\n",
    "    INPUT: df - a dataframe formated for k-means analysis.\n",
    "           cluster_dict - a dictionary with each cluster uncovered by\n",
    "           k means as the key, and a list of associated geoids as the values.\n",
    "    OUTPUT:  Plots the tweet rate over time for each cluster.'''\n",
    "    \n",
    "    num_clust = len(cluster_dict.keys())\n",
    "    fig, axes = plt.subplots(nrows=numclust/2, ncols=2)\n",
    "    \n",
    "    for cluster_id, blocks in cluster_dict.iteritems():\n",
    "        #set row and column indexes for each subplot\n",
    "        if cluster_id < num_clust/2: \n",
    "            ci = 0 #column index\n",
    "            ri = cluster_id #row index \n",
    "        else:\n",
    "            ci = 1\n",
    "            ri = cluster_id - num_clust/2\n",
    "            \n",
    "        dfk[dfk['geoid10'].isin(blocks)].plot(kind = 'box', \n",
    "            figsize = (20,12), ylim = (0,12),\n",
    "            ax=axes[ri,ci]).set_title('cluster # ' + str(cluster_id))\n",
    "   \n",
    "    plt.tight_layout()\n",
    "    plt.show()\n"
   ]
  },
  {
   "cell_type": "code",
   "execution_count": 681,
   "metadata": {
    "collapsed": false
   },
   "outputs": [
    {
     "data": {
      "image/png": "[encoded data removed]",
      "text/plain": [
       "<matplotlib.figure.Figure at 0x12b4bdb90>"
      ]
     },
     "metadata": {},
     "output_type": "display_data"
    }
   ],
   "source": [
    "plot_clusters(gg_k_df_v3, cluster_dict_v3)"
   ]
  },
  {
   "cell_type": "markdown",
   "metadata": {},
   "source": [
    "##Run With 6. I suspect 8 encourages overfitting"
   ]
  },
  {
   "cell_type": "code",
   "execution_count": 682,
   "metadata": {
    "collapsed": false
   },
   "outputs": [
    {
     "name": "stdout",
     "output_type": "stream",
     "text": [
      "825 cluster # 0\n",
      "510 cluster # 1\n",
      "874 cluster # 2\n",
      "42 cluster # 3\n",
      "391 cluster # 4\n",
      "1151 cluster # 5\n"
     ]
    },
    {
     "data": {
      "image/png": "[encoded data removed]",
      "text/plain": [
       "<matplotlib.figure.Figure at 0x12c5b21d0>"
      ]
     },
     "metadata": {},
     "output_type": "display_data"
    }
   ],
   "source": [
    "gg_k_df_v4 = modified_clean_and_run_kmeans(df, run_kmeans = False)\n",
    "\n",
    "kmeans_v4, geoid_dict_v4, cluster_dict_v4 =run_k_means(gg_k_df_v4, 6)"
   ]
  },
  {
   "cell_type": "code",
   "execution_count": 684,
   "metadata": {
    "collapsed": false
   },
   "outputs": [
    {
     "name": "stdout",
     "output_type": "stream",
     "text": [
      "0 \n",
      " number of neighborhoods:  825 \n",
      "hrbin_                  inf\n",
      "wkday_0            0.180000\n",
      "wkday_1            0.977870\n",
      "hrbin_morning      0.103030\n",
      "hrbin_afternoon    0.261024\n",
      "hrbin_evening      0.408788\n",
      "hrbin_latenight    1.048997\n",
      "hrbin_dawn         0.150303\n",
      "dtype: float64 \n",
      "\n",
      "\n",
      "1 \n",
      " number of neighborhoods:  510 \n",
      "hrbin_                  inf\n",
      "wkday_0            1.323434\n",
      "wkday_1            1.111705\n",
      "hrbin_morning      1.308141\n",
      "hrbin_afternoon    0.980054\n",
      "hrbin_evening      0.964035\n",
      "hrbin_latenight    0.953744\n",
      "hrbin_dawn         0.649791\n",
      "dtype: float64 \n",
      "\n",
      "\n",
      "2 \n",
      " number of neighborhoods:  874 \n",
      "hrbin_                  inf\n",
      "wkday_0            1.383643\n",
      "wkday_1            0.997039\n",
      "hrbin_morning      0.000000\n",
      "hrbin_afternoon    0.962545\n",
      "hrbin_evening      0.928038\n",
      "hrbin_latenight    1.000677\n",
      "hrbin_dawn         0.578178\n",
      "dtype: float64 \n",
      "\n",
      "\n",
      "3 \n",
      " number of neighborhoods:  42 \n",
      "hrbin_                  inf\n",
      "wkday_0            6.595270\n",
      "wkday_1            1.266702\n",
      "hrbin_morning      1.245724\n",
      "hrbin_afternoon    2.157438\n",
      "hrbin_evening      2.572815\n",
      "hrbin_latenight    2.216954\n",
      "hrbin_dawn         2.475246\n",
      "dtype: float64 \n",
      "\n",
      "\n",
      "4 \n",
      " number of neighborhoods:  391 \n",
      "hrbin_                  inf\n",
      "wkday_0            2.630537\n",
      "wkday_1            1.183830\n",
      "hrbin_morning      0.646686\n",
      "hrbin_afternoon    1.335257\n",
      "hrbin_evening      1.467262\n",
      "hrbin_latenight    1.484467\n",
      "hrbin_dawn         1.254454\n",
      "dtype: float64 \n",
      "\n",
      "\n",
      "5 \n",
      " number of neighborhoods:  1151 \n",
      "hrbin_                  inf\n",
      "wkday_0            0.233275\n",
      "wkday_1            0.907725\n",
      "hrbin_morning      0.149870\n",
      "hrbin_afternoon    0.490105\n",
      "hrbin_evening      0.545395\n",
      "hrbin_latenight    0.000000\n",
      "hrbin_dawn         0.215899\n",
      "dtype: float64 \n",
      "\n",
      "\n",
      "top features for each cluster:\n",
      "0\n",
      "[5 1 4 3 0 6 2]\n",
      "0: hrbin_evening, wkday_0, hrbin_afternoon, hrbin_morning, hrbin_, hrbin_latenight, wkday_1 \n",
      "\n",
      "1\n",
      "[0 2 1 3 4 5 6]\n",
      "1: hrbin_, wkday_1, wkday_0, hrbin_morning, hrbin_afternoon, hrbin_evening, hrbin_latenight \n",
      "\n",
      "2\n",
      "[0 5 1 3 4 6 2]\n",
      "2: hrbin_, hrbin_evening, wkday_0, hrbin_morning, hrbin_afternoon, hrbin_latenight, wkday_1 \n",
      "\n",
      "3\n",
      "[0 4 6 5 3 1 2]\n",
      "3: hrbin_, hrbin_afternoon, hrbin_latenight, hrbin_evening, hrbin_morning, wkday_0, wkday_1 \n",
      "\n",
      "4\n",
      "[0 5 4 3 6 1 2]\n",
      "4: hrbin_, hrbin_evening, hrbin_afternoon, hrbin_morning, hrbin_latenight, wkday_0, wkday_1 \n",
      "\n",
      "5\n",
      "[1 4 3 0 6 2 5]\n",
      "5: wkday_0, hrbin_afternoon, hrbin_morning, hrbin_, hrbin_latenight, wkday_1, hrbin_evening \n",
      "\n"
     ]
    }
   ],
   "source": [
    "for k, v in cluster_dict_v4.iteritems():\n",
    "    print k,'\\n number of neighborhoods: ', len(v), '\\n', gg_k_df_v4[gg_k_df_v4['hrbin_'].isin(v)].mean(),'\\n','\\n'\n",
    "features = gg_k_df_v4.columns.tolist()\n",
    "\n",
    "top_centroids = kmeans_v4.cluster_centers_.argsort()[:,-1:-11:-1]\n",
    "print \"top features for each cluster:\"\n",
    "for num, centroid in enumerate(top_centroids):\n",
    "    print num\n",
    "    print centroid\n",
    "    print \"%d: %s\" % (num, \", \".join(features[i] for i in centroid)), '\\n'"
   ]
  },
  {
   "cell_type": "code",
   "execution_count": 688,
   "metadata": {
    "collapsed": false
   },
   "outputs": [
    {
     "data": {
      "image/png": "[encoded data removed]",
      "text/plain": [
       "<matplotlib.figure.Figure at 0x12064e410>"
      ]
     },
     "metadata": {},
     "output_type": "display_data"
    }
   ],
   "source": [
    "plot_clusters(gg_k_df_v4, cluster_dict_v4)"
   ]
  },
  {
   "cell_type": "code",
   "execution_count": null,
   "metadata": {
    "collapsed": true
   },
   "outputs": [],
   "source": [
    "3: 'high activity, especially on weekends'\n",
    "4: 'medium activity. peaks on weekends and later in the day'\n",
    "1: 'medium activity'\n",
    "5: 'low activity, peaks during workday hours'\n",
    "0: 'low activity, peaks in the afternoon thrugh late evening'\n",
    "2: 'low activity, peaks on weekends and late night'\n"
   ]
  },
  {
   "cell_type": "markdown",
   "metadata": {},
   "source": [
    "###save new clusters"
   ]
  },
  {
   "cell_type": "code",
   "execution_count": 743,
   "metadata": {
    "collapsed": true
   },
   "outputs": [],
   "source": [
    "with open('data/intermediate_data/kmeans/kmeans8_round_clustdict.csv', 'wb') as f:  # Just use 'w' mode in 3.x\n",
    "    w = csv.DictWriter(f, cluster_dict_v3)\n",
    "    w.writeheader()\n",
    "    w.writerow(cluster_dict_v3)\n",
    "with open('data/intermediate_data/kmeans/kmeans6_round_clustdict.csv', 'wb') as f:  # Just use 'w' mode in 3.x\n",
    "    w = csv.DictWriter(f, cluster_dict_v4)\n",
    "    w.writeheader()\n",
    "    w.writerow(cluster_dict_v4)\n",
    "    "
   ]
  },
  {
   "cell_type": "code",
   "execution_count": 744,
   "metadata": {
    "collapsed": true
   },
   "outputs": [],
   "source": [
    "with open('data/intermediate_data/kmeans/kmeans8_round_geodict.csv', 'wb') as f:  # Just use 'w' mode in 3.x\n",
    "    w = csv.DictWriter(f, geoid_dict_v3)\n",
    "    w.writeheader()\n",
    "    w.writerow(geoid_dict_v3)\n",
    "with open('data/intermediate_data/kmeans/kmeans6_round_feotdict.csv', 'wb') as f:  # Just use 'w' mode in 3.x\n",
    "    w = csv.DictWriter(f, geoid_dict_v4)\n",
    "    w.writeheader()\n",
    "    w.writerow(geoid_dict_v4)"
   ]
  },
  {
   "cell_type": "markdown",
   "metadata": {},
   "source": [
    "##Turn into geojasons WITH tokens. "
   ]
  },
  {
   "cell_type": "code",
   "execution_count": 716,
   "metadata": {
    "collapsed": false
   },
   "outputs": [],
   "source": [
    "#add geocolumn \n",
    "gg_k_df_v4['geoid10'] = gg_k_df_v4['hrbin_'].apply(lambda x: x[1:])\n",
    "#add tweetcount as average value\n",
    "gg_k_df_v4['tweetcnt'] = gg_k_df_v4[['wkday_0', 'wkday_1','hrbin_morning','hrbin_afternoon','hrbin_evening','hrbin_latenight', 'hrbin_dawn']].mean(axis = 1)\n",
    "\n",
    "#add geocolumn \n",
    "gg_k_df_v3['geoid10'] = gg_k_df_v3['hrbin_'].apply(lambda x: x[1:])\n",
    "#add tweetcount as average value\n",
    "gg_k_df_v3['tweetcnt'] = gg_k_df_v3[['wkday_0', 'wkday_1','hrbin_morning','hrbin_afternoon','hrbin_evening','hrbin_latenight', 'hrbin_dawn']].mean(axis = 1)"
   ]
  },
  {
   "cell_type": "markdown",
   "metadata": {},
   "source": [
    "retrieve tweet data. re-run code seen in map_by_hour to get a list of tokens for each georegion"
   ]
  },
  {
   "cell_type": "code",
   "execution_count": 709,
   "metadata": {
    "collapsed": false
   },
   "outputs": [],
   "source": [
    "def retrieve_and_merge_tweet_data():\n",
    "    '''Retrieves twitter geo data from SQL, and tweet text. \n",
    "    Returns the merged dataframe.'''\n",
    "    #get SF Data From SQL\n",
    "    df = mm.pipeline.retrieve_sql_tweets('tweets_with_geoV6')\n",
    "    #get text data from picke\n",
    "    dftxt = pd.read_csv('data/intermediate_data/json_tweets_in_df_twitokend.csv')\n",
    "    df = df.set_index('id')\n",
    "    dftxt = dftxt.set_index('id')\n",
    "    dfall = df.join(dftxt).reset_index()\n",
    "    dfall.drop('Unnamed: 0', 1, inplace = True)\n",
    "    return dfall\n",
    "df = retrieve_and_merge_tweet_data()"
   ]
  },
  {
   "cell_type": "code",
   "execution_count": 711,
   "metadata": {
    "collapsed": false
   },
   "outputs": [],
   "source": [
    "#FUSS WITH DATA TO GET IT FORMATED\n",
    "hour_df = mm.pipeline.transform_timestamp(df, hour = True)\n",
    "hour_df['tweetcnt'] = 1\n",
    "#get a total count of tweets\n",
    "hdf = hour_df.groupby(['geoid10']).agg(sum).reset_index().drop('id', 1)\n",
    "#get a grouped sum of the words\n",
    "hour_df_txt = hour_df.groupby(['geoid10'])['text'].apply(lambda x: ','.join(x)).reset_index()\n",
    "#merge these two dataframes together\n",
    "hdf['tokens'] = hour_df_txt['text']\n",
    "\n"
   ]
  },
  {
   "cell_type": "markdown",
   "metadata": {},
   "source": [
    "#Make a generalized graph data script. Put this in there"
   ]
  },
  {
   "cell_type": "code",
   "execution_count": 7,
   "metadata": {
    "collapsed": false
   },
   "outputs": [],
   "source": [
    "#FOR NOW LET'S DO THE TOP 15 TOKENS \n",
    "stopwords = nltk.corpus.stopwords.words('english')\n",
    "stopwords.extend([',', '-', ',', '\"','?', '@', '&', ')',\\\n",
    "                  '(@', '|','i\\'m', '(', ';','.',':','!','..','...',\\\n",
    "                  ',,,','S', 'C', 't', 'i', 'a', 'at'] )\n",
    "\n",
    "def top_tokens(corpus_list, stopwrds=stopwords, number=10):\n",
    "    '''Takes a list of tokens. Returns the top ten, unless a different number given.'''\n",
    "\n",
    "    stopwords = nltk.corpus.stopwords.words('english')\n",
    "    stopwords.extend([',', '-', ',', '\"','?', '@', '&', ')',\\\n",
    "                  '(@', '|','i\\'m', '(', ';','.',':','!','..','...',\\\n",
    "                  ',,,','S', 'C', 't','amp', 'i', 'a', 'at'] )\n",
    "    #Checks to make sure the tokens are in a list, and not a string\n",
    "    tokens = literal_eval(corpus_list)\n",
    "    #If there are multiple tweets, flatten the list\n",
    "    if type(tokens) == tuple:\n",
    "        tokens =[item for sublist in tokens for item in sublist] \n",
    "        tokens = [re.sub(r'http.*$', '', item) for item in tokens]\n",
    "    tokens = nltk.FreqDist(w.lower() for w in tokens if w not in stopwrds) \n",
    "    most_common = tokens.most_common(number)\n",
    "    top_ten_string = ' '.join([tup[0] for tup in most_common])\n",
    "    return top_ten_string"
   ]
  },
  {
   "cell_type": "markdown",
   "metadata": {},
   "source": [
    "get the top 15 tokens for ever region. may turn into word cloud later. "
   ]
  },
  {
   "cell_type": "code",
   "execution_count": 712,
   "metadata": {
    "collapsed": true
   },
   "outputs": [],
   "source": [
    "#######\n",
    "'''functionalize this big block of df formatting\n",
    "'''\n",
    "top_ten = hdf.tokens.apply(top_tokens, number = 15)\n",
    "#make a new column of the top tweets\n",
    "hdf['top_ten'] = top_ten\n",
    "#merge with shape geometry\n",
    "###Retrieve the Shape Files for Each Block:\n",
    "geodf = pd.read_csv('data/intermediate_data/sf_only_sql_shapes.csv')\n",
    "#format the dataframe\n",
    "geodf['geoid10'] = geodf.geoid10.astype('str')\n",
    "geodf.drop('Unnamed: 0', axis = 1, inplace = True)\n",
    "#set the index as the geoid\n",
    "# need to alter the geoid10 column to merge with shape files\n",
    "hdf['geoid10'] =hdf['geoid10'].apply(lambda x: x[1:])\n",
    "#create a new dataframe \n",
    "hourlydf = pd.merge(geodfm, hdf, on='geoid10', how='outer')\n",
    "#fill no tweets with a zero value\n",
    "hourlydf.tweetcnt.fillna(0, inplace = True)\n",
    "#drop empty hour columns\n",
    "hourlydf.dropna(subset = ['hour'], inplace = True)"
   ]
  },
  {
   "cell_type": "code",
   "execution_count": null,
   "metadata": {
    "collapsed": true
   },
   "outputs": [],
   "source": []
  },
  {
   "cell_type": "markdown",
   "metadata": {},
   "source": [
    "###FUNCTIONALIZE THIS FORMATTING FILE FOR GEOJASON\n",
    "IMPORTANT!!!! ALL TOKENS ARE STILL IN HERE!!!!!!!!!!!!!!!!!!!"
   ]
  },
  {
   "cell_type": "code",
   "execution_count": 729,
   "metadata": {
    "collapsed": false
   },
   "outputs": [],
   "source": [
    "geo_k8 = gg_k_df_v3.merge(hourlydf, on='geoid10'  )"
   ]
  },
  {
   "cell_type": "code",
   "execution_count": 730,
   "metadata": {
    "collapsed": false
   },
   "outputs": [],
   "source": [
    "geo_k6 = gg_k_df_v4.merge(hourlydf, on='geoid10'  )"
   ]
  },
  {
   "cell_type": "code",
   "execution_count": 733,
   "metadata": {
    "collapsed": false
   },
   "outputs": [],
   "source": [
    "colors = ['#FF76BC', '#E1B700', '#91D100', '#00D8CC', '#56C5FF', '#1B58B8','#B81B6C' ,'#15992A' ]\n",
    "#add color column based on values \n",
    "geo_k6['hexcolor'] =geo_k6[\"hrbin_\"].apply(lambda x:colors[geoid_dict_v4[x]].upper())\n",
    "geo_k6['cluster'] = geo_k6['hrbin_'].apply(lambda x: str(geoid_dict_v4[x]))   \n",
    "\n",
    "geo_k8['hexcolor'] =geo_k8[\"hrbin_\"].apply(lambda x:colors[geoid_dict_v3[x]].upper())\n",
    "geo_k8['cluster'] = geo_k8['hrbin_'].apply(lambda x: str(geoid_dict_v3[x]))   "
   ]
  },
  {
   "cell_type": "code",
   "execution_count": 745,
   "metadata": {
    "collapsed": false
   },
   "outputs": [],
   "source": [
    "#save dataframes with all tokens for later analysis\n",
    "geo_k6.to_pickle('data/intermediate_data/kmeans/k_6df.pkl')\n",
    "geo_k8.to_pickle('data/intermediate_data/kmeans/k_8df.pkl')"
   ]
  },
  {
   "cell_type": "code",
   "execution_count": 737,
   "metadata": {
    "collapsed": false
   },
   "outputs": [],
   "source": [
    "def add_properties_geo(row):\n",
    "    '''Creates the properties geoid, tweetcnt, cluster number'''\n",
    "    geoid = row['geoid10']\n",
    "    tweetrate = row['tweetcnt_x']\n",
    "    hexcolor = row['hexcolor']\n",
    "    cluster = row['cluster']\n",
    "    top_ten  = row['top_ten']\n",
    "    geo_json = {\"type\": \"Feature\", \"geometry\": json.loads(row['geometry']), \"properties\": {'geoid': geoid ,'tweetrate': tweetrate, 'top_ten': top_ten, 'cluster': cluster , 'hexcolor' : hexcolor}}\n",
    "    return geo_json\n",
    "\n",
    "def dataframe_to_geojson(df, outfilename):\n",
    "    '''Takes in a dataframe with a count, geoid10, and list of tokens. Dumps it into a json geojason file'''\n",
    "    df['geoid10'] = df['geoid10'].astype('str')\n",
    "    df['geoid10'] = df['cluster'].astype('str')\n",
    "    df[\"tweetcnt_x\"] = df['tweetcnt_x'].astype('str')\n",
    "    list_to_export = []\n",
    "    for idx, row in df.iterrows():\n",
    "        list_to_export.append(add_properties_geo(row))\n",
    "    with open(outfilename, 'w') as outfile:\n",
    "        json.dump(list_to_export, outfile)"
   ]
  },
  {
   "cell_type": "code",
   "execution_count": 739,
   "metadata": {
    "collapsed": false
   },
   "outputs": [],
   "source": [
    "#save dataframes with all tokens for later analysis\n",
    "geo_k6.to_pickle('data/intermediate_data/kmeans/k_6df.pkl')\n",
    "geo_k8.to_pickle('data/intermediate_data/kmeans/k_8df.pkl')\n",
    "\n",
    "dataframe_to_geojson(geo_k6, 'map_making/clusters/data/clustergeo_k6.json')\n",
    "dataframe_to_geojson(geo_k8, 'map_making/clusters/data/clustergeo_k8.json')"
   ]
  },
  {
   "cell_type": "code",
   "execution_count": null,
   "metadata": {
    "collapsed": true
   },
   "outputs": [],
   "source": []
  },
  {
   "cell_type": "code",
   "execution_count": 776,
   "metadata": {
    "collapsed": false
   },
   "outputs": [],
   "source": [
    "##Group Again For Text by Cluster\n",
    "\n",
    "#group then again by cluster \n",
    "#get a mean so can get mean rate for each cluster \n",
    "geo_k6['tweetcnt_x'] =geo_k6['tweetcnt_x'].astype(float)\n",
    "geo_k6_cluster = geo_k6.groupby(['cluster']).agg(np.mean).reset_index()\n",
    "geo_k6_cluster_txt = geo_k6.groupby(['cluster'])['tokens'].apply(lambda x: ','.join(x)).reset_index()\n",
    "geo_k6_cluster['tokens'] = geo_k6_cluster_txt['tokens']\n",
    "geo_k6_cluster = geo_k6_cluster[['cluster','tweetcnt_x', 'tokens']]\n",
    "\n",
    "\n",
    "#group then again by cluster \n",
    "#get a mean so can get mean rate for each cluster \n",
    "geo_k8['tweetcnt_x'] =geo_k8['tweetcnt_x'].astype(float)\n",
    "geo_k8_cluster = geo_k8.groupby(['cluster']).agg(np.mean).reset_index()\n",
    "geo_k8_cluster_txt = geo_k8.groupby(['cluster'])['tokens'].apply(lambda x: ','.join(x)).reset_index()\n",
    "geo_k8_cluster['tokens'] = geo_k8_cluster_txt['tokens']\n",
    "geo_k8_cluster = geo_k8_cluster[['cluster','tweetcnt_x', 'tokens']]"
   ]
  },
  {
   "cell_type": "code",
   "execution_count": 777,
   "metadata": {
    "collapsed": false
   },
   "outputs": [
    {
     "data": {
      "text/html": [
       "<div>\n",
       "<table border=\"1\" class=\"dataframe\">\n",
       "  <thead>\n",
       "    <tr style=\"text-align: right;\">\n",
       "      <th></th>\n",
       "      <th>cluster</th>\n",
       "      <th>tweetcnt_x</th>\n",
       "      <th>tokens</th>\n",
       "    </tr>\n",
       "  </thead>\n",
       "  <tbody>\n",
       "    <tr>\n",
       "      <th>0</th>\n",
       "      <td>0</td>\n",
       "      <td>1.487336</td>\n",
       "      <td>[u'Acabo', u'de', u'publicar', u'una', u'foto'...</td>\n",
       "    </tr>\n",
       "    <tr>\n",
       "      <th>1</th>\n",
       "      <td>1</td>\n",
       "      <td>0.425804</td>\n",
       "      <td>[u'http://t.co/e3gnFSVTjW'],[u'#free', u'#birt...</td>\n",
       "    </tr>\n",
       "    <tr>\n",
       "      <th>2</th>\n",
       "      <td>2</td>\n",
       "      <td>1.093714</td>\n",
       "      <td>[u'I', u'want', u'one', u'for', u'my', u'birth...</td>\n",
       "    </tr>\n",
       "    <tr>\n",
       "      <th>3</th>\n",
       "      <td>3</td>\n",
       "      <td>0.874484</td>\n",
       "      <td>[u'The', u'other', u'day', u'at', u'the', u'Wa...</td>\n",
       "    </tr>\n",
       "    <tr>\n",
       "      <th>4</th>\n",
       "      <td>4</td>\n",
       "      <td>0.412926</td>\n",
       "      <td>[u'Sully', u'loves', u'treats', u'and', u'laps...</td>\n",
       "    </tr>\n",
       "  </tbody>\n",
       "</table>\n",
       "</div>"
      ],
      "text/plain": [
       "  cluster  tweetcnt_x                                             tokens\n",
       "0       0    1.487336  [u'Acabo', u'de', u'publicar', u'una', u'foto'...\n",
       "1       1    0.425804  [u'http://t.co/e3gnFSVTjW'],[u'#free', u'#birt...\n",
       "2       2    1.093714  [u'I', u'want', u'one', u'for', u'my', u'birth...\n",
       "3       3    0.874484  [u'The', u'other', u'day', u'at', u'the', u'Wa...\n",
       "4       4    0.412926  [u'Sully', u'loves', u'treats', u'and', u'laps..."
      ]
     },
     "execution_count": 777,
     "metadata": {},
     "output_type": "execute_result"
    }
   ],
   "source": [
    "geo_k8_cluster.head()"
   ]
  },
  {
   "cell_type": "code",
   "execution_count": 808,
   "metadata": {
    "collapsed": true
   },
   "outputs": [],
   "source": [
    "top_ten = geo_k8_cluster.tokens.apply(top_tokens, number = 40)\n",
    "#make a new column of the top tweets\n",
    "geo_k8_cluster['top_ten'] = top_ten\n",
    "\n",
    "top_ten = geo_k6_cluster.tokens.apply(top_tokens, number = 40)\n",
    "#make a new column of the top tweets\n",
    "geo_k6_cluster['top_ten'] = top_ten"
   ]
  },
  {
   "cell_type": "markdown",
   "metadata": {},
   "source": [
    "##Question. Do tweets grouped in time carry a similar message?"
   ]
  },
  {
   "cell_type": "code",
   "execution_count": 813,
   "metadata": {
    "collapsed": false
   },
   "outputs": [
    {
     "name": "stdout",
     "output_type": "stream",
     "text": [
      "Cluster# 0 \n",
      "san francisco ca … #sanfrancisco st #job request #hiring closed case amp the golden gate i i'm via bridge opened graffiti #careerarc #jobs street sidewalk iphone intersection cleaning resolved #virtualcacity #education park latest great #sf see just this day completed \n",
      "\n",
      "Cluster# 1 \n",
      "request st closed case via opened amp san street francisco sidewalk intersection iphone … cleaning graffiti ave ca completed resolved i'm i android the park #sanfrancisco garbage abandoned blvd day illegal report sf unattended #sf abatement neglected new today postings \n",
      "\n",
      "Cluster# 2 \n",
      "san francisco st request … closed case ca street via opened amp sidewalk the graffiti cleaning #sanfrancisco i'm iphone i intersection completed resolved #job #hiring sf #trndnl android #jobs #sf #careerarc ave trends ' mission bay place day just park \n",
      "\n",
      "Cluster# 3 \n",
      "… san francisco outside lands ca music st request festival closed i'm case amp via opened #sanfrancisco i street #outsidelands the sidewalk day iphone graffiti intersection cleaning #job #hiring #sf resolved completed #careerarc sf ave park one android new this \n",
      "\n",
      "Cluster# 4 \n",
      "request st closed case via opened sidewalk street amp cleaning intersection ave iphone graffiti san … francisco completed android resolved i ca abandoned i'm parking vehicles blocked the space #sanfrancisco blvd illegal park report abatement dpt day pickup garbage mission \n",
      "\n",
      "Cluster# 5 \n",
      "request closed case st opened via amp graffiti san street iphone sidewalk ave intersection francisco … cleaning completed resolved ca i i'm the #sanfrancisco abandoned many illegal blvd transferred postings park android per geary pole open311 pickup process — house \n",
      "\n",
      "Cluster# 6 \n",
      "st request graffiti … san amp francisco i via opened closed case intersection iphone ca the fort mason golden park gate center i'm report abatement octavia unattended #sanfrancisco neglected division armory outsidelands resolved completed day family disney walt #jpopsummit like \n",
      "\n",
      "Cluster# 7 \n",
      "… ca #sanfrancisco #job #hiring san at park &amp; t francisco #careerarc #jobs the latest a opening union square we're giants great click this #sfgiants see retail macys police com fit macy's @sfgiants man apply #attpark work fire intern amp \n",
      "\n"
     ]
    }
   ],
   "source": [
    "cnt = 0\n",
    "for row in geo_k8_cluster.top_ten:\n",
    "    print 'Cluster#', cnt, '\\n', row, '\\n'\n",
    "    cnt +=1"
   ]
  },
  {
   "cell_type": "code",
   "execution_count": 814,
   "metadata": {
    "collapsed": false
   },
   "outputs": [
    {
     "name": "stdout",
     "output_type": "stream",
     "text": [
      "Cluster# 0 \n",
      "request closed st case via opened street sidewalk san amp francisco cleaning iphone … intersection graffiti ave completed ca resolved i'm i the android #sanfrancisco park abandoned blvd garbage day illegal #sf many new sf love postings just open311 pickup \n",
      "\n",
      "Cluster# 1 \n",
      "san st francisco request closed case … ca street via opened amp sidewalk graffiti cleaning i'm intersection iphone #sanfrancisco completed resolved the i #job sf android #hiring ave #jobs #careerarc #sf mission market city day this new great good park \n",
      "\n",
      "Cluster# 2 \n",
      "… san francisco outside lands ca music festival st request closed case amp i'm via opened street #outsidelands i #sanfrancisco the sidewalk iphone day graffiti cleaning intersection ave #sf #job #hiring resolved completed sf park #careerarc android one new #osl \n",
      "\n",
      "Cluster# 3 \n",
      "… ca san #sanfrancisco francisco #job #hiring park at &amp; t the #careerarc #jobs i a latest st amp i'm request great opening union this we're graffiti square giants bay click day see #sfgiants ferry opened via time retail pier \n",
      "\n",
      "Cluster# 4 \n",
      "san francisco ca … st #sanfrancisco request #job closed case the #hiring amp via i opened graffiti i'm golden gate bridge #careerarc #jobs street sidewalk iphone intersection cleaning resolved park completed #sf latest #virtualcacity see great #education this android sf \n",
      "\n",
      "Cluster# 5 \n",
      "request st closed case via opened amp street sidewalk intersection ave iphone graffiti cleaning san francisco … ca completed android i resolved i'm abandoned the park blvd garbage vehicles report abatement #sanfrancisco illegal parking day unattended requests neglected postings blocked \n",
      "\n"
     ]
    }
   ],
   "source": [
    "cnt = 0\n",
    "for row in geo_k6_cluster.top_ten:\n",
    "    print 'Cluster#', cnt, '\\n', row, '\\n'\n",
    "    cnt +=1"
   ]
  },
  {
   "cell_type": "markdown",
   "metadata": {},
   "source": [
    "###Answer: More text analysis would be needed to uncover anything similar. It seems like there are particular words shared by all of the regions. \n",
    "\n",
    "####First, I pulled the .1% most common words across all of the corpus, and added them to the stop words to try to normalize for common words across all regions. I feel good about this after looking at the frequency of the words. "
   ]
  },
  {
   "cell_type": "code",
   "execution_count": 851,
   "metadata": {
    "collapsed": false
   },
   "outputs": [],
   "source": [
    "\n",
    "corpus = geo_k8_cluster.tokens.values.tolist()\n",
    "corpus = [item for sublist in corpus for item in sublist]\n",
    "corpus = [item for sublist in corpus for item in sublist]\n",
    "allWordExceptStopDist = nltk.FreqDist(w.lower() for w in corpus if w not in stopwords) \n",
    "mostCommon= allWordExceptStopDist.most_common(55)\n",
    "top_fifty = [tup[0] for tup in mostCommon]\n",
    "stopwords.extend(top_fifty)"
   ]
  },
  {
   "cell_type": "code",
   "execution_count": 877,
   "metadata": {
    "collapsed": true
   },
   "outputs": [],
   "source": [
    "top_ten = geo_k8_cluster.tokens.apply(top_tokens, number = 40)\n",
    "#make a new column of the top tweets\n",
    "geo_k8_cluster['top_ten'] = top_ten\n",
    "\n",
    "top_ten = geo_k6_cluster.tokens.apply(top_tokens, number = 40)\n",
    "#make a new column of the top tweets\n",
    "geo_k6_cluster['top_ten'] = top_ten"
   ]
  },
  {
   "cell_type": "code",
   "execution_count": 879,
   "metadata": {
    "collapsed": false
   },
   "outputs": [
    {
     "name": "stdout",
     "output_type": "stream",
     "text": [
      "Cluster# 0 \n",
      "st opened street sidewalk san cleaning case closed francisco intersection ave graffiti ca i'm i the park abandoned blvd garbage illegal #sanfrancisco many sf love postings just open311 pickup it's today california geary vehicles unattended way neglected this best a \n",
      "\n",
      "Cluster# 1 \n",
      "st san francisco ca street opened sidewalk closed case cleaning graffiti i'm intersection the i #sanfrancisco sf ave #hiring #careerarc #job #jobs mission market city this good just it's park report house today abatement #veterans us a ❤ garbage photo \n",
      "\n",
      "Cluster# 2 \n",
      "san francisco outside lands ca music st festival i'm opened i street the sidewalk graffiti intersection cleaning closed case #sanfrancisco ave sf day #careerarc #hiring #outsidelands park #osl coffee #veterans #hospitality just love good this today it's outside_lands us 2 \n",
      "\n",
      "Cluster# 3 \n",
      "ca san francisco #sanfrancisco #hiring park at t the #careerarc #job #jobs i a st i'm opening union this square we're giants click #sfgiants ferry bay opened retail pier macys graffiti police com building man fit macy's @sfgiants alcatraz apply \n",
      "\n",
      "Cluster# 4 \n",
      "san francisco ca st the #sanfrancisco #hiring i opened i'm golden graffiti gate #careerarc #job bridge closed case street #jobs sidewalk intersection cleaning park #virtualcacity #education this beach just sf mission #trndnl we're california opening click ave want photo posted \n",
      "\n",
      "Cluster# 5 \n",
      "st opened intersection street ave sidewalk cleaning closed case graffiti san francisco ca i i'm abandoned the park blvd garbage vehicles report abatement illegal parking unattended requests neglected postings blocked space dpt open311 sign like sf this get #sanfrancisco ❤ \n",
      "\n"
     ]
    }
   ],
   "source": [
    "cnt = 0\n",
    "for row in geo_k6_cluster.top_ten:\n",
    "    print 'Cluster#', cnt, '\\n', row, '\\n'\n",
    "    cnt +=1"
   ]
  },
  {
   "cell_type": "code",
   "execution_count": 880,
   "metadata": {
    "collapsed": false
   },
   "outputs": [
    {
     "name": "stdout",
     "output_type": "stream",
     "text": [
      "Cluster# 0 \n",
      "san francisco ca st #sanfrancisco the #hiring golden i gate i'm opened #careerarc bridge #job graffiti #jobs closed case street sidewalk intersection cleaning #virtualcacity #education park just this california mission we're sf opening click pier city photo ave posted want \n",
      "\n",
      "Cluster# 1 \n",
      "st opened san street francisco sidewalk intersection cleaning case closed ave graffiti ca i'm i the park garbage abandoned blvd illegal report sf unattended #sanfrancisco abatement neglected today postings requests get california vehicles love market like my this way #careerarc \n",
      "\n",
      "Cluster# 2 \n",
      "san francisco st ca street opened the sidewalk closed case cleaning i'm graffiti i intersection #sanfrancisco #trndnl sf #hiring #careerarc ave trends ' #job mission #jobs place just francisco's bay like hours this park city &gt; #veterans market beach good \n",
      "\n",
      "Cluster# 3 \n",
      "san francisco outside ca lands st music festival i'm opened i street the sidewalk #sanfrancisco intersection graffiti closed case cleaning #hiring #careerarc sf ave day park #outsidelands this #job #veterans love just #osl #jobs coffee #hospitality good it's today night \n",
      "\n",
      "Cluster# 4 \n",
      "st opened sidewalk street cleaning intersection ave closed case graffiti san francisco i ca abandoned i'm parking vehicles blocked the space blvd illegal report abatement dpt #sanfrancisco pickup park garbage mission postings left sign love 3rd open311 unattended this vehicles- \n",
      "\n",
      "Cluster# 5 \n",
      "st opened graffiti case closed street ave san intersection sidewalk cleaning francisco ca i i'm the abandoned many illegal blvd transferred postings per geary pole open311 park pickup process — #sanfrancisco house it's irving collingwood love garbage clement my tree \n",
      "\n",
      "Cluster# 6 \n",
      "st san francisco i graffiti opened intersection ca the fort mason golden gate park center i'm case closed report abatement octavia unattended neglected division armory outsidelands family disney walt #jpopsummit like museum summit “ ” illegal postings j-pop neighborhood sidewalk \n",
      "\n",
      "Cluster# 7 \n",
      "ca #sanfrancisco san #hiring at park t francisco #careerarc #job #jobs the a opening union square giants we're click this #sfgiants retail macys police com fit macy's @sfgiants man apply #attpark see fire intern #it want can anyone recommend st \n",
      "\n"
     ]
    }
   ],
   "source": [
    "cnt = 0\n",
    "for row in geo_k8_cluster.top_ten:\n",
    "    print 'Cluster#', cnt, '\\n', row, '\\n'\n",
    "    cnt +=1"
   ]
  },
  {
   "cell_type": "code",
   "execution_count": null,
   "metadata": {
    "collapsed": true
   },
   "outputs": [],
   "source": [
    "#For 8 clusters:\n",
    "Summary for Cluster 7:\n",
    "    - attnt major influence\n",
    "    - also soma eats, \n",
    "    - a few job posting\n",
    "    - rest are allerts of grafitti and cleaning\n",
    "    \n",
    "Cluster 0 : caputres a lot of parks. Mkae sense high level of activity overall. also downtown. high daytime use.\n",
    "    \n"
   ]
  },
  {
   "cell_type": "markdown",
   "metadata": {
    "collapsed": true
   },
   "source": [
    "#Extra Formatting"
   ]
  },
  {
   "cell_type": "markdown",
   "metadata": {},
   "source": [
    "geo_k6_cluster"
   ]
  },
  {
   "cell_type": "code",
   "execution_count": 5,
   "metadata": {
    "collapsed": true
   },
   "outputs": [],
   "source": [
    "df = pd.read_pickle('data/intermediate_data/kmeans/k_6df.pkl')"
   ]
  },
  {
   "cell_type": "code",
   "execution_count": 12,
   "metadata": {
    "collapsed": false
   },
   "outputs": [
    {
     "data": {
      "text/html": [
       "<div>\n",
       "<table border=\"1\" class=\"dataframe\">\n",
       "  <thead>\n",
       "    <tr style=\"text-align: right;\">\n",
       "      <th></th>\n",
       "      <th>hrbin_</th>\n",
       "      <th>wkday_0</th>\n",
       "      <th>wkday_1</th>\n",
       "      <th>hrbin_morning</th>\n",
       "      <th>hrbin_afternoon</th>\n",
       "      <th>hrbin_evening</th>\n",
       "      <th>hrbin_latenight</th>\n",
       "      <th>hrbin_dawn</th>\n",
       "      <th>geoid10</th>\n",
       "      <th>tweetcnt_x</th>\n",
       "      <th>geometry</th>\n",
       "      <th>hour</th>\n",
       "      <th>tweetcnt_y</th>\n",
       "      <th>tokens</th>\n",
       "      <th>top_ten</th>\n",
       "      <th>hexcolor</th>\n",
       "      <th>cluster</th>\n",
       "    </tr>\n",
       "  </thead>\n",
       "  <tbody>\n",
       "    <tr>\n",
       "      <th>0</th>\n",
       "      <td>060750101001000</td>\n",
       "      <td>2.416667</td>\n",
       "      <td>1.111111</td>\n",
       "      <td>1</td>\n",
       "      <td>1.566667</td>\n",
       "      <td>1.497619</td>\n",
       "      <td>1.628571</td>\n",
       "      <td>1.000000</td>\n",
       "      <td>60750101001000</td>\n",
       "      <td>1.46009070295</td>\n",
       "      <td>{\"type\":\"MultiPolygon\",\"coordinates\":[[[[-122....</td>\n",
       "      <td>945</td>\n",
       "      <td>71</td>\n",
       "      <td>[u'Acabo', u'de', u'publicar', u'una', u'foto'...</td>\n",
       "      <td>… san pier francisco 39 fishermens wharf #san...</td>\n",
       "      <td>#56C5FF</td>\n",
       "      <td>4</td>\n",
       "    </tr>\n",
       "    <tr>\n",
       "      <th>1</th>\n",
       "      <td>060750101001001</td>\n",
       "      <td>4.580645</td>\n",
       "      <td>1.840909</td>\n",
       "      <td>1</td>\n",
       "      <td>2.148681</td>\n",
       "      <td>3.529038</td>\n",
       "      <td>3.584762</td>\n",
       "      <td>1.819597</td>\n",
       "      <td>60750101001001</td>\n",
       "      <td>2.64337614383</td>\n",
       "      <td>{\"type\":\"MultiPolygon\",\"coordinates\":[[[[-122....</td>\n",
       "      <td>8602</td>\n",
       "      <td>718</td>\n",
       "      <td>[u'a', u\"gentleman's\", u'quarters', u'at', u'#...</td>\n",
       "      <td>san pier alcatraz 39 francisco … ca island i'...</td>\n",
       "      <td>#00D8CC</td>\n",
       "      <td>3</td>\n",
       "    </tr>\n",
       "    <tr>\n",
       "      <th>2</th>\n",
       "      <td>060750101001002</td>\n",
       "      <td>0.000000</td>\n",
       "      <td>1.000000</td>\n",
       "      <td>0</td>\n",
       "      <td>0.000000</td>\n",
       "      <td>0.000000</td>\n",
       "      <td>1.000000</td>\n",
       "      <td>0.000000</td>\n",
       "      <td>60750101001002</td>\n",
       "      <td>0.285714285714</td>\n",
       "      <td>{\"type\":\"MultiPolygon\",\"coordinates\":[[[[-122....</td>\n",
       "      <td>3</td>\n",
       "      <td>1</td>\n",
       "      <td>[u'Remember', u'why', u'you', u'started', u'ht...</td>\n",
       "      <td>started https://t.co/7dfeh4uoas remember</td>\n",
       "      <td>#FF76BC</td>\n",
       "      <td>0</td>\n",
       "    </tr>\n",
       "    <tr>\n",
       "      <th>3</th>\n",
       "      <td>060750101001004</td>\n",
       "      <td>2.840000</td>\n",
       "      <td>1.445455</td>\n",
       "      <td>1</td>\n",
       "      <td>1.325000</td>\n",
       "      <td>1.812762</td>\n",
       "      <td>2.202626</td>\n",
       "      <td>1.232143</td>\n",
       "      <td>60750101001004</td>\n",
       "      <td>1.69399798614</td>\n",
       "      <td>{\"type\":\"MultiPolygon\",\"coordinates\":[[[[-122....</td>\n",
       "      <td>2805</td>\n",
       "      <td>261</td>\n",
       "      <td>[u'My', u'last', u'#SFO', u'post', u'\\U0001f62...</td>\n",
       "      <td>wharf san fisherman's … francisco fishermen's...</td>\n",
       "      <td>#56C5FF</td>\n",
       "      <td>4</td>\n",
       "    </tr>\n",
       "    <tr>\n",
       "      <th>4</th>\n",
       "      <td>060750101001005</td>\n",
       "      <td>1.333333</td>\n",
       "      <td>1.000000</td>\n",
       "      <td>1</td>\n",
       "      <td>1.500000</td>\n",
       "      <td>1.500000</td>\n",
       "      <td>1.000000</td>\n",
       "      <td>1.000000</td>\n",
       "      <td>60750101001005</td>\n",
       "      <td>1.19047619048</td>\n",
       "      <td>{\"type\":\"MultiPolygon\",\"coordinates\":[[[[-122....</td>\n",
       "      <td>140</td>\n",
       "      <td>11</td>\n",
       "      <td>[u'I', u'want', u'one', u'for', u'my', u'birth...</td>\n",
       "      <td>fisherman's wharf grotto pompei's restaurant ...</td>\n",
       "      <td>#E1B700</td>\n",
       "      <td>1</td>\n",
       "    </tr>\n",
       "  </tbody>\n",
       "</table>\n",
       "</div>"
      ],
      "text/plain": [
       "            hrbin_   wkday_0   wkday_1  hrbin_morning  hrbin_afternoon  \\\n",
       "0  060750101001000  2.416667  1.111111              1         1.566667   \n",
       "1  060750101001001  4.580645  1.840909              1         2.148681   \n",
       "2  060750101001002  0.000000  1.000000              0         0.000000   \n",
       "3  060750101001004  2.840000  1.445455              1         1.325000   \n",
       "4  060750101001005  1.333333  1.000000              1         1.500000   \n",
       "\n",
       "   hrbin_evening  hrbin_latenight  hrbin_dawn         geoid10      tweetcnt_x  \\\n",
       "0       1.497619         1.628571    1.000000  60750101001000   1.46009070295   \n",
       "1       3.529038         3.584762    1.819597  60750101001001   2.64337614383   \n",
       "2       0.000000         1.000000    0.000000  60750101001002  0.285714285714   \n",
       "3       1.812762         2.202626    1.232143  60750101001004   1.69399798614   \n",
       "4       1.500000         1.000000    1.000000  60750101001005   1.19047619048   \n",
       "\n",
       "                                            geometry  hour  tweetcnt_y  \\\n",
       "0  {\"type\":\"MultiPolygon\",\"coordinates\":[[[[-122....   945          71   \n",
       "1  {\"type\":\"MultiPolygon\",\"coordinates\":[[[[-122....  8602         718   \n",
       "2  {\"type\":\"MultiPolygon\",\"coordinates\":[[[[-122....     3           1   \n",
       "3  {\"type\":\"MultiPolygon\",\"coordinates\":[[[[-122....  2805         261   \n",
       "4  {\"type\":\"MultiPolygon\",\"coordinates\":[[[[-122....   140          11   \n",
       "\n",
       "                                              tokens  \\\n",
       "0  [u'Acabo', u'de', u'publicar', u'una', u'foto'...   \n",
       "1  [u'a', u\"gentleman's\", u'quarters', u'at', u'#...   \n",
       "2  [u'Remember', u'why', u'you', u'started', u'ht...   \n",
       "3  [u'My', u'last', u'#SFO', u'post', u'\\U0001f62...   \n",
       "4  [u'I', u'want', u'one', u'for', u'my', u'birth...   \n",
       "\n",
       "                                             top_ten hexcolor cluster  \n",
       "0   … san pier francisco 39 fishermens wharf #san...  #56C5FF       4  \n",
       "1   san pier alcatraz 39 francisco … ca island i'...  #00D8CC       3  \n",
       "2           started https://t.co/7dfeh4uoas remember  #FF76BC       0  \n",
       "3   wharf san fisherman's … francisco fishermen's...  #56C5FF       4  \n",
       "4   fisherman's wharf grotto pompei's restaurant ...  #E1B700       1  "
      ]
     },
     "execution_count": 12,
     "metadata": {},
     "output_type": "execute_result"
    }
   ],
   "source": [
    "df.head()"
   ]
  },
  {
   "cell_type": "code",
   "execution_count": 10,
   "metadata": {
    "collapsed": true
   },
   "outputs": [],
   "source": [
    "import re"
   ]
  },
  {
   "cell_type": "code",
   "execution_count": 11,
   "metadata": {
    "collapsed": false
   },
   "outputs": [],
   "source": [
    "top_ten = df.tokens.apply(top_tokens, number = 40)\n",
    "#make a new column of the top tweets\n",
    "df['top_ten'] = top_ten"
   ]
  },
  {
   "cell_type": "code",
   "execution_count": 13,
   "metadata": {
    "collapsed": false
   },
   "outputs": [
    {
     "data": {
      "text/plain": [
       "'4'"
      ]
     },
     "execution_count": 13,
     "metadata": {},
     "output_type": "execute_result"
    }
   ],
   "source": [
    "df.cluster[0]"
   ]
  },
  {
   "cell_type": "code",
   "execution_count": 15,
   "metadata": {
    "collapsed": false
   },
   "outputs": [],
   "source": [
    "add_labels = {\n",
    "'3': 'high activity, especially on weekends',\n",
    "'4': 'medium activity. peaks on weekends and later in the day',\n",
    "'1': 'medium activity',\n",
    "'5': 'low activity, peaks during workday hours',\n",
    "'0': 'low activity, peaks in the afternoon thrugh late evening',\n",
    "'2': 'low activity, peaks on weekends and late night'\n",
    " }"
   ]
  },
  {
   "cell_type": "code",
   "execution_count": 16,
   "metadata": {
    "collapsed": true
   },
   "outputs": [],
   "source": [
    "df['label'] = df.cluster.apply(lambda x: add_labels[x])"
   ]
  },
  {
   "cell_type": "code",
   "execution_count": 34,
   "metadata": {
    "collapsed": true
   },
   "outputs": [],
   "source": [
    "df['clusters'] = df.cluster.apply(lambda x: new_numbers[x])"
   ]
  },
  {
   "cell_type": "code",
   "execution_count": 33,
   "metadata": {
    "collapsed": true
   },
   "outputs": [],
   "source": [
    "new_numbers = {'0' :'4', '1':'2', '2':'5', '3':'0', '4':'1', '5':'3'}"
   ]
  },
  {
   "cell_type": "code",
   "execution_count": 24,
   "metadata": {
    "collapsed": false
   },
   "outputs": [
    {
     "data": {
      "text/plain": [
       "'060750101001000'"
      ]
     },
     "execution_count": 24,
     "metadata": {},
     "output_type": "execute_result"
    }
   ],
   "source": [
    "df.hrbin_[0]"
   ]
  },
  {
   "cell_type": "code",
   "execution_count": 26,
   "metadata": {
    "collapsed": false
   },
   "outputs": [],
   "source": [
    "odd_ids = ['060750601001016', '060750179021003','060759901000003', '060759901000002', '060750179021000','060750601001000', '060759804011003', '060750201001001']\n",
    "df = df[~df['hrbin_'].isin(odd_ids)]\n",
    "df['cluster_tph'] = df.tweetcnt_x.astype(float).apply(lambda x: format(x, '.2f'))"
   ]
  },
  {
   "cell_type": "code",
   "execution_count": 32,
   "metadata": {
    "collapsed": false
   },
   "outputs": [
    {
     "data": {
      "text/html": [
       "<div>\n",
       "<table border=\"1\" class=\"dataframe\">\n",
       "  <thead>\n",
       "    <tr style=\"text-align: right;\">\n",
       "      <th></th>\n",
       "      <th>clusters</th>\n",
       "      <th>label</th>\n",
       "    </tr>\n",
       "  </thead>\n",
       "  <tbody>\n",
       "    <tr>\n",
       "      <th>0</th>\n",
       "      <td>1</td>\n",
       "      <td>medium activity. peaks on weekends and later i...</td>\n",
       "    </tr>\n",
       "    <tr>\n",
       "      <th>1</th>\n",
       "      <td>0</td>\n",
       "      <td>high activity, especially on weekends</td>\n",
       "    </tr>\n",
       "    <tr>\n",
       "      <th>2</th>\n",
       "      <td>3</td>\n",
       "      <td>low activity, peaks in the afternoon thrugh la...</td>\n",
       "    </tr>\n",
       "    <tr>\n",
       "      <th>3</th>\n",
       "      <td>1</td>\n",
       "      <td>medium activity. peaks on weekends and later i...</td>\n",
       "    </tr>\n",
       "    <tr>\n",
       "      <th>4</th>\n",
       "      <td>4</td>\n",
       "      <td>medium activity</td>\n",
       "    </tr>\n",
       "    <tr>\n",
       "      <th>5</th>\n",
       "      <td>4</td>\n",
       "      <td>medium activity</td>\n",
       "    </tr>\n",
       "    <tr>\n",
       "      <th>6</th>\n",
       "      <td>4</td>\n",
       "      <td>medium activity</td>\n",
       "    </tr>\n",
       "    <tr>\n",
       "      <th>7</th>\n",
       "      <td>1</td>\n",
       "      <td>medium activity. peaks on weekends and later i...</td>\n",
       "    </tr>\n",
       "    <tr>\n",
       "      <th>8</th>\n",
       "      <td>2</td>\n",
       "      <td>low activity, peaks during workday hours</td>\n",
       "    </tr>\n",
       "    <tr>\n",
       "      <th>9</th>\n",
       "      <td>4</td>\n",
       "      <td>medium activity</td>\n",
       "    </tr>\n",
       "    <tr>\n",
       "      <th>10</th>\n",
       "      <td>1</td>\n",
       "      <td>low activity, peaks on weekends and late night</td>\n",
       "    </tr>\n",
       "    <tr>\n",
       "      <th>11</th>\n",
       "      <td>1</td>\n",
       "      <td>low activity, peaks on weekends and late night</td>\n",
       "    </tr>\n",
       "    <tr>\n",
       "      <th>12</th>\n",
       "      <td>1</td>\n",
       "      <td>low activity, peaks on weekends and late night</td>\n",
       "    </tr>\n",
       "    <tr>\n",
       "      <th>13</th>\n",
       "      <td>0</td>\n",
       "      <td>high activity, especially on weekends</td>\n",
       "    </tr>\n",
       "    <tr>\n",
       "      <th>14</th>\n",
       "      <td>3</td>\n",
       "      <td>low activity, peaks in the afternoon thrugh la...</td>\n",
       "    </tr>\n",
       "    <tr>\n",
       "      <th>15</th>\n",
       "      <td>3</td>\n",
       "      <td>low activity, peaks in the afternoon thrugh la...</td>\n",
       "    </tr>\n",
       "    <tr>\n",
       "      <th>16</th>\n",
       "      <td>1</td>\n",
       "      <td>low activity, peaks on weekends and late night</td>\n",
       "    </tr>\n",
       "    <tr>\n",
       "      <th>17</th>\n",
       "      <td>3</td>\n",
       "      <td>low activity, peaks in the afternoon thrugh la...</td>\n",
       "    </tr>\n",
       "    <tr>\n",
       "      <th>18</th>\n",
       "      <td>1</td>\n",
       "      <td>low activity, peaks on weekends and late night</td>\n",
       "    </tr>\n",
       "    <tr>\n",
       "      <th>19</th>\n",
       "      <td>0</td>\n",
       "      <td>high activity, especially on weekends</td>\n",
       "    </tr>\n",
       "    <tr>\n",
       "      <th>20</th>\n",
       "      <td>4</td>\n",
       "      <td>medium activity</td>\n",
       "    </tr>\n",
       "    <tr>\n",
       "      <th>21</th>\n",
       "      <td>1</td>\n",
       "      <td>low activity, peaks on weekends and late night</td>\n",
       "    </tr>\n",
       "    <tr>\n",
       "      <th>22</th>\n",
       "      <td>2</td>\n",
       "      <td>low activity, peaks during workday hours</td>\n",
       "    </tr>\n",
       "    <tr>\n",
       "      <th>23</th>\n",
       "      <td>4</td>\n",
       "      <td>medium activity</td>\n",
       "    </tr>\n",
       "    <tr>\n",
       "      <th>24</th>\n",
       "      <td>3</td>\n",
       "      <td>low activity, peaks in the afternoon thrugh la...</td>\n",
       "    </tr>\n",
       "    <tr>\n",
       "      <th>25</th>\n",
       "      <td>1</td>\n",
       "      <td>medium activity. peaks on weekends and later i...</td>\n",
       "    </tr>\n",
       "    <tr>\n",
       "      <th>26</th>\n",
       "      <td>1</td>\n",
       "      <td>medium activity. peaks on weekends and later i...</td>\n",
       "    </tr>\n",
       "    <tr>\n",
       "      <th>27</th>\n",
       "      <td>2</td>\n",
       "      <td>low activity, peaks during workday hours</td>\n",
       "    </tr>\n",
       "    <tr>\n",
       "      <th>28</th>\n",
       "      <td>4</td>\n",
       "      <td>medium activity</td>\n",
       "    </tr>\n",
       "    <tr>\n",
       "      <th>29</th>\n",
       "      <td>1</td>\n",
       "      <td>low activity, peaks on weekends and late night</td>\n",
       "    </tr>\n",
       "    <tr>\n",
       "      <th>...</th>\n",
       "      <td>...</td>\n",
       "      <td>...</td>\n",
       "    </tr>\n",
       "    <tr>\n",
       "      <th>3761</th>\n",
       "      <td>2</td>\n",
       "      <td>low activity, peaks during workday hours</td>\n",
       "    </tr>\n",
       "    <tr>\n",
       "      <th>3762</th>\n",
       "      <td>2</td>\n",
       "      <td>low activity, peaks during workday hours</td>\n",
       "    </tr>\n",
       "    <tr>\n",
       "      <th>3763</th>\n",
       "      <td>3</td>\n",
       "      <td>low activity, peaks in the afternoon thrugh la...</td>\n",
       "    </tr>\n",
       "    <tr>\n",
       "      <th>3764</th>\n",
       "      <td>1</td>\n",
       "      <td>low activity, peaks on weekends and late night</td>\n",
       "    </tr>\n",
       "    <tr>\n",
       "      <th>3765</th>\n",
       "      <td>3</td>\n",
       "      <td>low activity, peaks in the afternoon thrugh la...</td>\n",
       "    </tr>\n",
       "    <tr>\n",
       "      <th>3766</th>\n",
       "      <td>3</td>\n",
       "      <td>low activity, peaks in the afternoon thrugh la...</td>\n",
       "    </tr>\n",
       "    <tr>\n",
       "      <th>3767</th>\n",
       "      <td>2</td>\n",
       "      <td>low activity, peaks during workday hours</td>\n",
       "    </tr>\n",
       "    <tr>\n",
       "      <th>3768</th>\n",
       "      <td>2</td>\n",
       "      <td>low activity, peaks during workday hours</td>\n",
       "    </tr>\n",
       "    <tr>\n",
       "      <th>3769</th>\n",
       "      <td>3</td>\n",
       "      <td>low activity, peaks in the afternoon thrugh la...</td>\n",
       "    </tr>\n",
       "    <tr>\n",
       "      <th>3770</th>\n",
       "      <td>4</td>\n",
       "      <td>medium activity</td>\n",
       "    </tr>\n",
       "    <tr>\n",
       "      <th>3771</th>\n",
       "      <td>2</td>\n",
       "      <td>low activity, peaks during workday hours</td>\n",
       "    </tr>\n",
       "    <tr>\n",
       "      <th>3772</th>\n",
       "      <td>4</td>\n",
       "      <td>medium activity</td>\n",
       "    </tr>\n",
       "    <tr>\n",
       "      <th>3773</th>\n",
       "      <td>3</td>\n",
       "      <td>low activity, peaks in the afternoon thrugh la...</td>\n",
       "    </tr>\n",
       "    <tr>\n",
       "      <th>3774</th>\n",
       "      <td>1</td>\n",
       "      <td>medium activity. peaks on weekends and later i...</td>\n",
       "    </tr>\n",
       "    <tr>\n",
       "      <th>3775</th>\n",
       "      <td>2</td>\n",
       "      <td>low activity, peaks during workday hours</td>\n",
       "    </tr>\n",
       "    <tr>\n",
       "      <th>3776</th>\n",
       "      <td>0</td>\n",
       "      <td>high activity, especially on weekends</td>\n",
       "    </tr>\n",
       "    <tr>\n",
       "      <th>3777</th>\n",
       "      <td>1</td>\n",
       "      <td>low activity, peaks on weekends and late night</td>\n",
       "    </tr>\n",
       "    <tr>\n",
       "      <th>3778</th>\n",
       "      <td>2</td>\n",
       "      <td>low activity, peaks during workday hours</td>\n",
       "    </tr>\n",
       "    <tr>\n",
       "      <th>3779</th>\n",
       "      <td>3</td>\n",
       "      <td>low activity, peaks in the afternoon thrugh la...</td>\n",
       "    </tr>\n",
       "    <tr>\n",
       "      <th>3780</th>\n",
       "      <td>3</td>\n",
       "      <td>low activity, peaks in the afternoon thrugh la...</td>\n",
       "    </tr>\n",
       "    <tr>\n",
       "      <th>3781</th>\n",
       "      <td>2</td>\n",
       "      <td>low activity, peaks during workday hours</td>\n",
       "    </tr>\n",
       "    <tr>\n",
       "      <th>3782</th>\n",
       "      <td>2</td>\n",
       "      <td>low activity, peaks during workday hours</td>\n",
       "    </tr>\n",
       "    <tr>\n",
       "      <th>3783</th>\n",
       "      <td>2</td>\n",
       "      <td>low activity, peaks during workday hours</td>\n",
       "    </tr>\n",
       "    <tr>\n",
       "      <th>3784</th>\n",
       "      <td>2</td>\n",
       "      <td>low activity, peaks during workday hours</td>\n",
       "    </tr>\n",
       "    <tr>\n",
       "      <th>3785</th>\n",
       "      <td>2</td>\n",
       "      <td>low activity, peaks during workday hours</td>\n",
       "    </tr>\n",
       "    <tr>\n",
       "      <th>3786</th>\n",
       "      <td>2</td>\n",
       "      <td>low activity, peaks during workday hours</td>\n",
       "    </tr>\n",
       "    <tr>\n",
       "      <th>3787</th>\n",
       "      <td>1</td>\n",
       "      <td>medium activity. peaks on weekends and later i...</td>\n",
       "    </tr>\n",
       "    <tr>\n",
       "      <th>3788</th>\n",
       "      <td>4</td>\n",
       "      <td>medium activity</td>\n",
       "    </tr>\n",
       "    <tr>\n",
       "      <th>3789</th>\n",
       "      <td>3</td>\n",
       "      <td>low activity, peaks in the afternoon thrugh la...</td>\n",
       "    </tr>\n",
       "    <tr>\n",
       "      <th>3790</th>\n",
       "      <td>4</td>\n",
       "      <td>medium activity</td>\n",
       "    </tr>\n",
       "  </tbody>\n",
       "</table>\n",
       "<p>3787 rows × 2 columns</p>\n",
       "</div>"
      ],
      "text/plain": [
       "     clusters                                              label\n",
       "0           1  medium activity. peaks on weekends and later i...\n",
       "1           0              high activity, especially on weekends\n",
       "2           3  low activity, peaks in the afternoon thrugh la...\n",
       "3           1  medium activity. peaks on weekends and later i...\n",
       "4           4                                    medium activity\n",
       "5           4                                    medium activity\n",
       "6           4                                    medium activity\n",
       "7           1  medium activity. peaks on weekends and later i...\n",
       "8           2           low activity, peaks during workday hours\n",
       "9           4                                    medium activity\n",
       "10          1     low activity, peaks on weekends and late night\n",
       "11          1     low activity, peaks on weekends and late night\n",
       "12          1     low activity, peaks on weekends and late night\n",
       "13          0              high activity, especially on weekends\n",
       "14          3  low activity, peaks in the afternoon thrugh la...\n",
       "15          3  low activity, peaks in the afternoon thrugh la...\n",
       "16          1     low activity, peaks on weekends and late night\n",
       "17          3  low activity, peaks in the afternoon thrugh la...\n",
       "18          1     low activity, peaks on weekends and late night\n",
       "19          0              high activity, especially on weekends\n",
       "20          4                                    medium activity\n",
       "21          1     low activity, peaks on weekends and late night\n",
       "22          2           low activity, peaks during workday hours\n",
       "23          4                                    medium activity\n",
       "24          3  low activity, peaks in the afternoon thrugh la...\n",
       "25          1  medium activity. peaks on weekends and later i...\n",
       "26          1  medium activity. peaks on weekends and later i...\n",
       "27          2           low activity, peaks during workday hours\n",
       "28          4                                    medium activity\n",
       "29          1     low activity, peaks on weekends and late night\n",
       "...       ...                                                ...\n",
       "3761        2           low activity, peaks during workday hours\n",
       "3762        2           low activity, peaks during workday hours\n",
       "3763        3  low activity, peaks in the afternoon thrugh la...\n",
       "3764        1     low activity, peaks on weekends and late night\n",
       "3765        3  low activity, peaks in the afternoon thrugh la...\n",
       "3766        3  low activity, peaks in the afternoon thrugh la...\n",
       "3767        2           low activity, peaks during workday hours\n",
       "3768        2           low activity, peaks during workday hours\n",
       "3769        3  low activity, peaks in the afternoon thrugh la...\n",
       "3770        4                                    medium activity\n",
       "3771        2           low activity, peaks during workday hours\n",
       "3772        4                                    medium activity\n",
       "3773        3  low activity, peaks in the afternoon thrugh la...\n",
       "3774        1  medium activity. peaks on weekends and later i...\n",
       "3775        2           low activity, peaks during workday hours\n",
       "3776        0              high activity, especially on weekends\n",
       "3777        1     low activity, peaks on weekends and late night\n",
       "3778        2           low activity, peaks during workday hours\n",
       "3779        3  low activity, peaks in the afternoon thrugh la...\n",
       "3780        3  low activity, peaks in the afternoon thrugh la...\n",
       "3781        2           low activity, peaks during workday hours\n",
       "3782        2           low activity, peaks during workday hours\n",
       "3783        2           low activity, peaks during workday hours\n",
       "3784        2           low activity, peaks during workday hours\n",
       "3785        2           low activity, peaks during workday hours\n",
       "3786        2           low activity, peaks during workday hours\n",
       "3787        1  medium activity. peaks on weekends and later i...\n",
       "3788        4                                    medium activity\n",
       "3789        3  low activity, peaks in the afternoon thrugh la...\n",
       "3790        4                                    medium activity\n",
       "\n",
       "[3787 rows x 2 columns]"
      ]
     },
     "execution_count": 32,
     "metadata": {},
     "output_type": "execute_result"
    }
   ],
   "source": [
    "df[['clusters', 'label']]"
   ]
  },
  {
   "cell_type": "code",
   "execution_count": 35,
   "metadata": {
    "collapsed": true
   },
   "outputs": [],
   "source": [
    "def add_properties_geo(row):\n",
    "    '''Creates the properties geoid, tweetcnt, cluster number'''\n",
    "    geoid = row['geoid10']\n",
    "    tweetrate = row['cluster_tph']\n",
    "    hexcolor = row['hexcolor']\n",
    "    label = row['label']\n",
    "    clusters = row['clusters']\n",
    "    top_ten  = row['top_ten']\n",
    "    geo_json = {\"type\": \"Feature\", \"geometry\": json.loads(row['geometry']), \"properties\": {'geoid': geoid ,'tweetrate': tweetrate, 'top_ten': top_ten, 'clusters': clusters , 'hexcolor' : hexcolor, 'label': label}}\n",
    "    return geo_json\n",
    "\n",
    "def dataframe_to_geojson(df, outfilename):\n",
    "    '''Takes in a dataframe with a count, geoid10, and list of tokens. Dumps it into a json geojason file'''\n",
    "    df['geoid10'] = df['geoid10'].astype('str')\n",
    "    df['clusters'] = df['clusters'].astype('str')\n",
    "    df[\"cluster_tph\"] = df['cluster_tph'].astype('str')\n",
    "    list_to_export = []\n",
    "    for idx, row in df.iterrows():\n",
    "        list_to_export.append(add_properties_geo(row))\n",
    "    with open(outfilename, 'w') as outfile:\n",
    "        json.dump(list_to_export, outfile)"
   ]
  },
  {
   "cell_type": "code",
   "execution_count": 36,
   "metadata": {
    "collapsed": false
   },
   "outputs": [],
   "source": [
    "dataframe_to_geojson(df, '../app/data/kmeans6_geo.json')"
   ]
  },
  {
   "cell_type": "code",
   "execution_count": null,
   "metadata": {
    "collapsed": true
   },
   "outputs": [],
   "source": []
  }
 ],
 "metadata": {
  "kernelspec": {
   "display_name": "Python 2",
   "language": "python",
   "name": "python2"
  },
  "language_info": {
   "codemirror_mode": {
    "name": "ipython",
    "version": 2
   },
   "file_extension": ".py",
   "mimetype": "text/x-python",
   "name": "python",
   "nbconvert_exporter": "python",
   "pygments_lexer": "ipython2",
   "version": "2.7.10"
  }
 },
 "nbformat": 4,
 "nbformat_minor": 0
}
