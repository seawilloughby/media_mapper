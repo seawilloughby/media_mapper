{
 "cells": [
  {
   "cell_type": "code",
   "execution_count": 3,
   "metadata": {
    "collapsed": true
   },
   "outputs": [],
   "source": [
    "import media_mapper \n",
    "import json\n",
    "import sys\n",
    "import time\n",
    "import os\n",
    "import instagram\n",
    "from instagram.client import InstagramAPI\n",
    "from instagram import subscriptions\n",
    "import time\n",
    "import calendar\n",
    "import ast\n",
    "from time import sleep"
   ]
  },
  {
   "cell_type": "markdown",
   "metadata": {},
   "source": [
    "###Instagram Limits:\n",
    " - 5000 calls per hour \n",
    " - I make 81 calls each time I querry\n",
    " - 5000 / 81 = quierries allow an hour, or one a minute"
   ]
  },
  {
   "cell_type": "markdown",
   "metadata": {},
   "source": [
    "###initialize request"
   ]
  },
  {
   "cell_type": "code",
   "execution_count": null,
   "metadata": {
    "collapsed": true
   },
   "outputs": [],
   "source": [
    "time_marker = calendar.timegm(time.gmtime())\n",
    "access_token = media_mapper.keys.INSTAGRAM_ACCESS_TOKEN\n",
    "client_secret = media_mapper.keys.INSTAGRAM_CLIENT_SECRET\n",
    "api = InstagramAPI(access_token=access_token, client_secret=client_secret)\n"
   ]
  },
  {
   "cell_type": "markdown",
   "metadata": {},
   "source": [
    "###get a recent post backet"
   ]
  },
  {
   "cell_type": "code",
   "execution_count": null,
   "metadata": {
    "collapsed": true
   },
   "outputs": [],
   "source": [
    "#query for a new batch of 20 photos\n",
    "media_search = api.media_search(lat=\"37.7833\",lng=\"-122.4167\",distance=5000, min_timestamp=time_marker)\n",
    "\n",
    "#make a timestamp so only photos in the future from now will be found\n",
    "time_marker = calendar.timegm(time.gmtime())"
   ]
  },
  {
   "cell_type": "markdown",
   "metadata": {},
   "source": [
    "###get metadata about the post "
   ]
  },
  {
   "cell_type": "code",
   "execution_count": null,
   "metadata": {
    "collapsed": true
   },
   "outputs": [],
   "source": [
    "def instagram_metadata(media_search):\n",
    "    '''Takes in a list of instagram media tags. \n",
    "    Iterates through all of them, and extracts relevant information. Comments, time, ect'''\n",
    "    \n",
    "    instagram_list = []\n",
    "    for media in media_search:\n",
    "        #The info from each instragram is turned into a dictionary\n",
    "        #There will be a list of dictionaries. \n",
    "        name = media\n",
    "        name = 'insgstr' + str(name)[7:]\n",
    "        print name\n",
    "        instadic = defaultdict(str)\n",
    "        instadic['id']= name  #give each item a key which is the name\n",
    "        if media.caption:\n",
    "            instadic['caption'] = str(media.caption)[8:] #the text we want\n",
    "        sleep(1)\n",
    "        if media.created_time:\n",
    "            instadic['created_time'] = str(media.created_time)  #a date and time\n",
    "        sleep(2)\n",
    "        if media.location:\n",
    "            loc= media.location.point\n",
    "            instadic['loc'] = ast.literal_eval(str(loc)[7:])  #a tuple of location\n",
    "        sleep(2)\n",
    "        if media.tags:\n",
    "            instadic['tags']= str(media.tags)  #any tags. useful with comments\n",
    "        instagram_list.append(instadic)\n",
    "    return instagram_list\n",
    "instagram_list = instagram_metadata(media_search)    "
   ]
  },
  {
   "cell_type": "markdown",
   "metadata": {},
   "source": [
    "###troubleshooting the time marker "
   ]
  },
  {
   "cell_type": "code",
   "execution_count": 11,
   "metadata": {
    "collapsed": false
   },
   "outputs": [],
   "source": [
    "time_marker = calendar.timegm(time.gmtime())"
   ]
  },
  {
   "cell_type": "code",
   "execution_count": 30,
   "metadata": {
    "collapsed": true
   },
   "outputs": [],
   "source": [
    "ten = 1439028000 "
   ]
  },
  {
   "cell_type": "code",
   "execution_count": 31,
   "metadata": {
    "collapsed": false
   },
   "outputs": [],
   "source": [
    "eleven = 1439031600"
   ]
  },
  {
   "cell_type": "code",
   "execution_count": 36,
   "metadata": {
    "collapsed": false
   },
   "outputs": [
    {
     "data": {
      "text/plain": [
       "1.0"
      ]
     },
     "execution_count": 36,
     "metadata": {},
     "output_type": "execute_result"
    }
   ],
   "source": [
    "(eleven-ten)/3600."
   ]
  },
  {
   "cell_type": "code",
   "execution_count": 33,
   "metadata": {
    "collapsed": true
   },
   "outputs": [],
   "source": [
    "tenthirty = 1439029800"
   ]
  },
  {
   "cell_type": "code",
   "execution_count": 34,
   "metadata": {
    "collapsed": false
   },
   "outputs": [
    {
     "data": {
      "text/plain": [
       "0.5"
      ]
     },
     "execution_count": 34,
     "metadata": {},
     "output_type": "execute_result"
    }
   ],
   "source": [
    "(tenthirty-ten)/3600."
   ]
  },
  {
   "cell_type": "code",
   "execution_count": 35,
   "metadata": {
    "collapsed": false
   },
   "outputs": [
    {
     "data": {
      "text/plain": [
       "1800"
      ]
     },
     "execution_count": 35,
     "metadata": {},
     "output_type": "execute_result"
    }
   ],
   "source": [
    "tenthirty-ten"
   ]
  },
  {
   "cell_type": "code",
   "execution_count": 42,
   "metadata": {
    "collapsed": true
   },
   "outputs": [],
   "source": [
    "tenfortyfive = 1439030700"
   ]
  },
  {
   "cell_type": "code",
   "execution_count": 39,
   "metadata": {
    "collapsed": false
   },
   "outputs": [
    {
     "data": {
      "text/plain": [
       "3600"
      ]
     },
     "execution_count": 39,
     "metadata": {},
     "output_type": "execute_result"
    }
   ],
   "source": [
    "eleven-ten"
   ]
  },
  {
   "cell_type": "code",
   "execution_count": 41,
   "metadata": {
    "collapsed": false
   },
   "outputs": [
    {
     "data": {
      "text/plain": [
       "1800"
      ]
     },
     "execution_count": 41,
     "metadata": {},
     "output_type": "execute_result"
    }
   ],
   "source": [
    "30*60"
   ]
  },
  {
   "cell_type": "code",
   "execution_count": 43,
   "metadata": {
    "collapsed": false
   },
   "outputs": [
    {
     "data": {
      "text/plain": [
       "2700"
      ]
     },
     "execution_count": 43,
     "metadata": {},
     "output_type": "execute_result"
    }
   ],
   "source": [
    "tenfortyfive - ten"
   ]
  },
  {
   "cell_type": "code",
   "execution_count": 45,
   "metadata": {
    "collapsed": false
   },
   "outputs": [
    {
     "data": {
      "text/plain": [
       "900"
      ]
     },
     "execution_count": 45,
     "metadata": {},
     "output_type": "execute_result"
    }
   ],
   "source": [
    "3600 -(tenfortyfive - ten)"
   ]
  },
  {
   "cell_type": "code",
   "execution_count": 46,
   "metadata": {
    "collapsed": false
   },
   "outputs": [
    {
     "data": {
      "text/plain": [
       "900"
      ]
     },
     "execution_count": 46,
     "metadata": {},
     "output_type": "execute_result"
    }
   ],
   "source": [
    "60*15"
   ]
  },
  {
   "cell_type": "code",
   "execution_count": 47,
   "metadata": {
    "collapsed": true
   },
   "outputs": [],
   "source": [
    "elevenfifteen = 1439032200 "
   ]
  },
  {
   "cell_type": "code",
   "execution_count": 48,
   "metadata": {
    "collapsed": false
   },
   "outputs": [
    {
     "data": {
      "text/plain": [
       "-600"
      ]
     },
     "execution_count": 48,
     "metadata": {},
     "output_type": "execute_result"
    }
   ],
   "source": [
    "3600 -(elevenfifteen - ten)"
   ]
  },
  {
   "cell_type": "code",
   "execution_count": 49,
   "metadata": {
    "collapsed": false
   },
   "outputs": [
    {
     "data": {
      "text/plain": [
       "80"
      ]
     },
     "execution_count": 49,
     "metadata": {},
     "output_type": "execute_result"
    }
   ],
   "source": [
    "4*20"
   ]
  },
  {
   "cell_type": "code",
   "execution_count": 50,
   "metadata": {
    "collapsed": false
   },
   "outputs": [
    {
     "data": {
      "text/plain": [
       "61"
      ]
     },
     "execution_count": 50,
     "metadata": {},
     "output_type": "execute_result"
    }
   ],
   "source": [
    "5000/81"
   ]
  },
  {
   "cell_type": "code",
   "execution_count": null,
   "metadata": {
    "collapsed": true
   },
   "outputs": [],
   "source": []
  }
 ],
 "metadata": {
  "kernelspec": {
   "display_name": "Python 2",
   "language": "python",
   "name": "python2"
  },
  "language_info": {
   "codemirror_mode": {
    "name": "ipython",
    "version": 2
   },
   "file_extension": ".py",
   "mimetype": "text/x-python",
   "name": "python",
   "nbconvert_exporter": "python",
   "pygments_lexer": "ipython2",
   "version": "2.7.10"
  }
 },
 "nbformat": 4,
 "nbformat_minor": 0
}
