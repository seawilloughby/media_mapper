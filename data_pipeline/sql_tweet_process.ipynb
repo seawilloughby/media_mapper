{
 "cells": [
  {
   "cell_type": "code",
   "execution_count": 7,
   "metadata": {
    "collapsed": false
   },
   "outputs": [],
   "source": [
    "import pandas as pd\n",
    "import numpy as np\n",
    "import json\n",
    "import psycopg2\n",
    "import random\n",
    "\n",
    "import string\n",
    "import datetime\n",
    "import csv\n",
    "import media_mapper.pipeline as mmp"
   ]
  },
  {
   "cell_type": "markdown",
   "metadata": {},
   "source": [
    "###Connect to database to get Tweets with Geometry"
   ]
  },
  {
   "cell_type": "code",
   "execution_count": 2,
   "metadata": {
    "collapsed": false
   },
   "outputs": [],
   "source": [
    "#retrieved right now from tweeted_neigh_wk2. So not all tweets.\n",
    "df_tweet_shapes = mmp.retrieve_sql_tweets()"
   ]
  },
  {
   "cell_type": "code",
   "execution_count": 3,
   "metadata": {
    "collapsed": false
   },
   "outputs": [
    {
     "data": {
      "text/html": [
       "<div>\n",
       "<table border=\"1\" class=\"dataframe\">\n",
       "  <thead>\n",
       "    <tr style=\"text-align: right;\">\n",
       "      <th></th>\n",
       "      <th>timestamp_ms</th>\n",
       "      <th>text</th>\n",
       "      <th>geoid10</th>\n",
       "    </tr>\n",
       "  </thead>\n",
       "  <tbody>\n",
       "    <tr>\n",
       "      <th>0</th>\n",
       "      <td>1438896121923</td>\n",
       "      <td>ech75</td>\n",
       "      <td>060375760011015</td>\n",
       "    </tr>\n",
       "    <tr>\n",
       "      <th>1</th>\n",
       "      <td>1438847519615</td>\n",
       "      <td>Tf it s already 1</td>\n",
       "      <td>060378002022025</td>\n",
       "    </tr>\n",
       "    <tr>\n",
       "      <th>2</th>\n",
       "      <td>1438848499256</td>\n",
       "      <td>test</td>\n",
       "      <td>060750201001001</td>\n",
       "    </tr>\n",
       "    <tr>\n",
       "      <th>3</th>\n",
       "      <td>1438545172798</td>\n",
       "      <td>https t co scRjn8RVmU Office prank</td>\n",
       "      <td>060759804011003</td>\n",
       "    </tr>\n",
       "    <tr>\n",
       "      <th>4</th>\n",
       "      <td>1438545183785</td>\n",
       "      <td>Sunday fun day lake McSwain hot BBQ beer funti...</td>\n",
       "      <td>060816013003000</td>\n",
       "    </tr>\n",
       "  </tbody>\n",
       "</table>\n",
       "</div>"
      ],
      "text/plain": [
       "    timestamp_ms                                               text  \\\n",
       "0  1438896121923                                             ech75    \n",
       "1  1438847519615                                  Tf it s already 1   \n",
       "2  1438848499256                                              test    \n",
       "3  1438545172798                 https t co scRjn8RVmU Office prank   \n",
       "4  1438545183785  Sunday fun day lake McSwain hot BBQ beer funti...   \n",
       "\n",
       "           geoid10  \n",
       "0  060375760011015  \n",
       "1  060378002022025  \n",
       "2  060750201001001  \n",
       "3  060759804011003  \n",
       "4  060816013003000  "
      ]
     },
     "execution_count": 3,
     "metadata": {},
     "output_type": "execute_result"
    }
   ],
   "source": [
    "df_tweet_shapes.head()"
   ]
  },
  {
   "cell_type": "markdown",
   "metadata": {},
   "source": [
    "###Let's Get Time Formatted"
   ]
  },
  {
   "cell_type": "code",
   "execution_count": 40,
   "metadata": {
    "collapsed": false
   },
   "outputs": [],
   "source": [
    "df_tweet_shapes['times'] = df_tweet_shapes['timestamp_ms'].values.astype(int).astype('datetime64[ms]')\n",
    "df_tweet_shapes['hour']= pd.DatetimeIndex(df_tweet_shapes[\"times\"]).hour\n",
    "df_tweet_shapes['DOW']= pd.DatetimeIndex(df_tweet_shapes[\"times\"]).dayofweek\n",
    "df_tweet_shapes['date']= pd.DatetimeIndex(df_tweet_shapes[\"times\"]).date"
   ]
  },
  {
   "cell_type": "code",
   "execution_count": 43,
   "metadata": {
    "collapsed": false
   },
   "outputs": [
    {
     "data": {
      "text/html": [
       "<div>\n",
       "<table border=\"1\" class=\"dataframe\">\n",
       "  <thead>\n",
       "    <tr style=\"text-align: right;\">\n",
       "      <th></th>\n",
       "      <th>timestamp_ms</th>\n",
       "      <th>count</th>\n",
       "      <th>text</th>\n",
       "      <th>geoid10</th>\n",
       "      <th>times</th>\n",
       "      <th>hour</th>\n",
       "      <th>DOW</th>\n",
       "      <th>date</th>\n",
       "    </tr>\n",
       "  </thead>\n",
       "  <tbody>\n",
       "    <tr>\n",
       "      <th>0</th>\n",
       "      <td>1438896121923</td>\n",
       "      <td>1</td>\n",
       "      <td>[ech75]</td>\n",
       "      <td>060375760011015</td>\n",
       "      <td>2015-08-06 21:22:01.923</td>\n",
       "      <td>21</td>\n",
       "      <td>3</td>\n",
       "      <td>2015-08-06</td>\n",
       "    </tr>\n",
       "    <tr>\n",
       "      <th>1</th>\n",
       "      <td>1438847519615</td>\n",
       "      <td>1</td>\n",
       "      <td>[tf, alreadi, 1]</td>\n",
       "      <td>060378002022025</td>\n",
       "      <td>2015-08-06 07:51:59.615</td>\n",
       "      <td>7</td>\n",
       "      <td>3</td>\n",
       "      <td>2015-08-06</td>\n",
       "    </tr>\n",
       "    <tr>\n",
       "      <th>2</th>\n",
       "      <td>1438848499256</td>\n",
       "      <td>1</td>\n",
       "      <td>[test]</td>\n",
       "      <td>060750201001001</td>\n",
       "      <td>2015-08-06 08:08:19.256</td>\n",
       "      <td>8</td>\n",
       "      <td>3</td>\n",
       "      <td>2015-08-06</td>\n",
       "    </tr>\n",
       "    <tr>\n",
       "      <th>3</th>\n",
       "      <td>1438545172798</td>\n",
       "      <td>1</td>\n",
       "      <td>[https, co, scrjn8rvmu, offic, prank]</td>\n",
       "      <td>060759804011003</td>\n",
       "      <td>2015-08-02 19:52:52.798</td>\n",
       "      <td>19</td>\n",
       "      <td>6</td>\n",
       "      <td>2015-08-02</td>\n",
       "    </tr>\n",
       "    <tr>\n",
       "      <th>4</th>\n",
       "      <td>1438545183785</td>\n",
       "      <td>1</td>\n",
       "      <td>[sunday, fun, day, lake, mcswain, hot, bbq, be...</td>\n",
       "      <td>060816013003000</td>\n",
       "      <td>2015-08-02 19:53:03.785</td>\n",
       "      <td>19</td>\n",
       "      <td>6</td>\n",
       "      <td>2015-08-02</td>\n",
       "    </tr>\n",
       "  </tbody>\n",
       "</table>\n",
       "</div>"
      ],
      "text/plain": [
       "    timestamp_ms  count                                               text  \\\n",
       "0  1438896121923      1                                            [ech75]   \n",
       "1  1438847519615      1                                   [tf, alreadi, 1]   \n",
       "2  1438848499256      1                                             [test]   \n",
       "3  1438545172798      1              [https, co, scrjn8rvmu, offic, prank]   \n",
       "4  1438545183785      1  [sunday, fun, day, lake, mcswain, hot, bbq, be...   \n",
       "\n",
       "           geoid10                   times  hour  DOW        date  \n",
       "0  060375760011015 2015-08-06 21:22:01.923    21    3  2015-08-06  \n",
       "1  060378002022025 2015-08-06 07:51:59.615     7    3  2015-08-06  \n",
       "2  060750201001001 2015-08-06 08:08:19.256     8    3  2015-08-06  \n",
       "3  060759804011003 2015-08-02 19:52:52.798    19    6  2015-08-02  \n",
       "4  060816013003000 2015-08-02 19:53:03.785    19    6  2015-08-02  "
      ]
     },
     "execution_count": 43,
     "metadata": {},
     "output_type": "execute_result"
    }
   ],
   "source": [
    "df_tweet_shapes.head()"
   ]
  },
  {
   "cell_type": "markdown",
   "metadata": {},
   "source": [
    "##limit tweets to SF County Only"
   ]
  },
  {
   "cell_type": "code",
   "execution_count": 18,
   "metadata": {
    "collapsed": false
   },
   "outputs": [],
   "source": []
  },
  {
   "cell_type": "code",
   "execution_count": 35,
   "metadata": {
    "collapsed": false
   },
   "outputs": [],
   "source": []
  },
  {
   "cell_type": "code",
   "execution_count": 42,
   "metadata": {
    "collapsed": false
   },
   "outputs": [
    {
     "data": {
      "text/html": [
       "<div>\n",
       "<table border=\"1\" class=\"dataframe\">\n",
       "  <thead>\n",
       "    <tr style=\"text-align: right;\">\n",
       "      <th></th>\n",
       "      <th>timestamp_ms</th>\n",
       "      <th>count</th>\n",
       "      <th>text</th>\n",
       "      <th>geoid10</th>\n",
       "      <th>times</th>\n",
       "      <th>hour</th>\n",
       "      <th>DOW</th>\n",
       "      <th>date</th>\n",
       "    </tr>\n",
       "  </thead>\n",
       "  <tbody>\n",
       "    <tr>\n",
       "      <th>1</th>\n",
       "      <td>1438147171326</td>\n",
       "      <td>1</td>\n",
       "      <td>[u'cocktail', u'love', u'arlen', u'amaz', u'su...</td>\n",
       "      <td>60750171023004</td>\n",
       "      <td>2015-07-29 05:19:31.326</td>\n",
       "      <td>5</td>\n",
       "      <td>2</td>\n",
       "      <td>2015-07-29</td>\n",
       "    </tr>\n",
       "    <tr>\n",
       "      <th>2</th>\n",
       "      <td>1438147180701</td>\n",
       "      <td>1</td>\n",
       "      <td>[u'http', 'co', u'djttj3rqj2']</td>\n",
       "      <td>60750208003005</td>\n",
       "      <td>2015-07-29 05:19:40.701</td>\n",
       "      <td>5</td>\n",
       "      <td>2</td>\n",
       "      <td>2015-07-29</td>\n",
       "    </tr>\n",
       "    <tr>\n",
       "      <th>3</th>\n",
       "      <td>1438147182264</td>\n",
       "      <td>1</td>\n",
       "      <td>[u'close', u'graffiti', u'request', u'intersec...</td>\n",
       "      <td>60750207002000</td>\n",
       "      <td>2015-07-29 05:19:42.264</td>\n",
       "      <td>5</td>\n",
       "      <td>2</td>\n",
       "      <td>2015-07-29</td>\n",
       "    </tr>\n",
       "    <tr>\n",
       "      <th>4</th>\n",
       "      <td>1438147185252</td>\n",
       "      <td>1</td>\n",
       "      <td>[u'close', u'graffiti', u'request', u'intersec...</td>\n",
       "      <td>60750208004004</td>\n",
       "      <td>2015-07-29 05:19:45.252</td>\n",
       "      <td>5</td>\n",
       "      <td>2</td>\n",
       "      <td>2015-07-29</td>\n",
       "    </tr>\n",
       "    <tr>\n",
       "      <th>6</th>\n",
       "      <td>1438147189241</td>\n",
       "      <td>1</td>\n",
       "      <td>[u'marketstreet', u'powellstreet', u'goldeng',...</td>\n",
       "      <td>60750130004001</td>\n",
       "      <td>2015-07-29 05:19:49.241</td>\n",
       "      <td>5</td>\n",
       "      <td>2</td>\n",
       "      <td>2015-07-29</td>\n",
       "    </tr>\n",
       "  </tbody>\n",
       "</table>\n",
       "</div>"
      ],
      "text/plain": [
       "    timestamp_ms  count                                               text  \\\n",
       "1  1438147171326      1  [u'cocktail', u'love', u'arlen', u'amaz', u'su...   \n",
       "2  1438147180701      1                     [u'http', 'co', u'djttj3rqj2']   \n",
       "3  1438147182264      1  [u'close', u'graffiti', u'request', u'intersec...   \n",
       "4  1438147185252      1  [u'close', u'graffiti', u'request', u'intersec...   \n",
       "6  1438147189241      1  [u'marketstreet', u'powellstreet', u'goldeng',...   \n",
       "\n",
       "          geoid10                    times  hour  DOW        date  \n",
       "1  60750171023004  2015-07-29 05:19:31.326     5    2  2015-07-29  \n",
       "2  60750208003005  2015-07-29 05:19:40.701     5    2  2015-07-29  \n",
       "3  60750207002000  2015-07-29 05:19:42.264     5    2  2015-07-29  \n",
       "4  60750208004004  2015-07-29 05:19:45.252     5    2  2015-07-29  \n",
       "6  60750130004001  2015-07-29 05:19:49.241     5    2  2015-07-29  "
      ]
     },
     "execution_count": 42,
     "metadata": {},
     "output_type": "execute_result"
    }
   ],
   "source": [
    "df_timetweet.head()"
   ]
  },
  {
   "cell_type": "code",
   "execution_count": 43,
   "metadata": {
    "collapsed": true
   },
   "outputs": [],
   "source": [
    "df.to_csv('data/tweet_with_time_wk1.csv')"
   ]
  },
  {
   "cell_type": "code",
   "execution_count": 5,
   "metadata": {
    "collapsed": false
   },
   "outputs": [],
   "source": [
    "df =pd.read_csv('data/intermediate_data/tweet_with_time_wk1.csv')"
   ]
  },
  {
   "cell_type": "code",
   "execution_count": 6,
   "metadata": {
    "collapsed": false
   },
   "outputs": [
    {
     "data": {
      "text/html": [
       "<div>\n",
       "<table border=\"1\" class=\"dataframe\">\n",
       "  <thead>\n",
       "    <tr style=\"text-align: right;\">\n",
       "      <th></th>\n",
       "      <th>Unnamed: 0</th>\n",
       "      <th>timestamp_ms</th>\n",
       "      <th>count</th>\n",
       "      <th>text</th>\n",
       "      <th>geoid10</th>\n",
       "      <th>times</th>\n",
       "      <th>hour</th>\n",
       "      <th>DOW</th>\n",
       "      <th>date</th>\n",
       "    </tr>\n",
       "  </thead>\n",
       "  <tbody>\n",
       "    <tr>\n",
       "      <th>0</th>\n",
       "      <td>1</td>\n",
       "      <td>1438147171326</td>\n",
       "      <td>1</td>\n",
       "      <td>[u'cocktail', u'love', u'arlen', u'amaz', u'su...</td>\n",
       "      <td>60750171023004</td>\n",
       "      <td>2015-07-29 05:19:31.326</td>\n",
       "      <td>5</td>\n",
       "      <td>2</td>\n",
       "      <td>2015-07-29</td>\n",
       "    </tr>\n",
       "    <tr>\n",
       "      <th>1</th>\n",
       "      <td>2</td>\n",
       "      <td>1438147180701</td>\n",
       "      <td>1</td>\n",
       "      <td>[u'http', 'co', u'djttj3rqj2']</td>\n",
       "      <td>60750208003005</td>\n",
       "      <td>2015-07-29 05:19:40.701</td>\n",
       "      <td>5</td>\n",
       "      <td>2</td>\n",
       "      <td>2015-07-29</td>\n",
       "    </tr>\n",
       "    <tr>\n",
       "      <th>2</th>\n",
       "      <td>3</td>\n",
       "      <td>1438147182264</td>\n",
       "      <td>1</td>\n",
       "      <td>[u'close', u'graffiti', u'request', u'intersec...</td>\n",
       "      <td>60750207002000</td>\n",
       "      <td>2015-07-29 05:19:42.264</td>\n",
       "      <td>5</td>\n",
       "      <td>2</td>\n",
       "      <td>2015-07-29</td>\n",
       "    </tr>\n",
       "    <tr>\n",
       "      <th>3</th>\n",
       "      <td>4</td>\n",
       "      <td>1438147185252</td>\n",
       "      <td>1</td>\n",
       "      <td>[u'close', u'graffiti', u'request', u'intersec...</td>\n",
       "      <td>60750208004004</td>\n",
       "      <td>2015-07-29 05:19:45.252</td>\n",
       "      <td>5</td>\n",
       "      <td>2</td>\n",
       "      <td>2015-07-29</td>\n",
       "    </tr>\n",
       "    <tr>\n",
       "      <th>4</th>\n",
       "      <td>6</td>\n",
       "      <td>1438147189241</td>\n",
       "      <td>1</td>\n",
       "      <td>[u'marketstreet', u'powellstreet', u'goldeng',...</td>\n",
       "      <td>60750130004001</td>\n",
       "      <td>2015-07-29 05:19:49.241</td>\n",
       "      <td>5</td>\n",
       "      <td>2</td>\n",
       "      <td>2015-07-29</td>\n",
       "    </tr>\n",
       "  </tbody>\n",
       "</table>\n",
       "</div>"
      ],
      "text/plain": [
       "   Unnamed: 0   timestamp_ms  count  \\\n",
       "0           1  1438147171326      1   \n",
       "1           2  1438147180701      1   \n",
       "2           3  1438147182264      1   \n",
       "3           4  1438147185252      1   \n",
       "4           6  1438147189241      1   \n",
       "\n",
       "                                                text         geoid10  \\\n",
       "0  [u'cocktail', u'love', u'arlen', u'amaz', u'su...  60750171023004   \n",
       "1                     [u'http', 'co', u'djttj3rqj2']  60750208003005   \n",
       "2  [u'close', u'graffiti', u'request', u'intersec...  60750207002000   \n",
       "3  [u'close', u'graffiti', u'request', u'intersec...  60750208004004   \n",
       "4  [u'marketstreet', u'powellstreet', u'goldeng',...  60750130004001   \n",
       "\n",
       "                     times  hour  DOW        date  \n",
       "0  2015-07-29 05:19:31.326     5    2  2015-07-29  \n",
       "1  2015-07-29 05:19:40.701     5    2  2015-07-29  \n",
       "2  2015-07-29 05:19:42.264     5    2  2015-07-29  \n",
       "3  2015-07-29 05:19:45.252     5    2  2015-07-29  \n",
       "4  2015-07-29 05:19:49.241     5    2  2015-07-29  "
      ]
     },
     "execution_count": 6,
     "metadata": {},
     "output_type": "execute_result"
    }
   ],
   "source": [
    "df.head()"
   ]
  },
  {
   "cell_type": "code",
   "execution_count": null,
   "metadata": {
    "collapsed": true
   },
   "outputs": [],
   "source": []
  }
 ],
 "metadata": {
  "kernelspec": {
   "display_name": "Python 2",
   "language": "python",
   "name": "python2"
  },
  "language_info": {
   "codemirror_mode": {
    "name": "ipython",
    "version": 2
   },
   "file_extension": ".py",
   "mimetype": "text/x-python",
   "name": "python",
   "nbconvert_exporter": "python",
   "pygments_lexer": "ipython2",
   "version": "2.7.10"
  }
 },
 "nbformat": 4,
 "nbformat_minor": 0
}
