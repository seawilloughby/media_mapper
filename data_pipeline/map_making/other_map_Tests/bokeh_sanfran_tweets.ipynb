{
 "cells": [
  {
   "cell_type": "markdown",
   "metadata": {},
   "source": [
    "###import libraries"
   ]
  },
  {
   "cell_type": "code",
   "execution_count": 1,
   "metadata": {
    "collapsed": false
   },
   "outputs": [],
   "source": [
    "import json\n",
    "import pandas as pd\n",
    "import numpy as np\n",
    "import matplotlib.pylab as plt\n",
    "%matplotlib inline\n",
    "filename = './afternoon/tweets.json'\n"
   ]
  },
  {
   "cell_type": "markdown",
   "metadata": {},
   "source": [
    "###read in twitter data from jason file"
   ]
  },
  {
   "cell_type": "code",
   "execution_count": 2,
   "metadata": {
    "collapsed": true
   },
   "outputs": [],
   "source": [
    "with open(filename, 'r') as f:\n",
    "    l = f.readlines()\n",
    "\n",
    "data = [json.loads(s) for s in l]\n",
    "df = pd.DataFrame(data)"
   ]
  },
  {
   "cell_type": "code",
   "execution_count": 10,
   "metadata": {
    "collapsed": false
   },
   "outputs": [
    {
     "data": {
      "text/plain": [
       "(75796, 30)"
      ]
     },
     "execution_count": 10,
     "metadata": {},
     "output_type": "execute_result"
    }
   ],
   "source": [
    "df.shape"
   ]
  },
  {
   "cell_type": "code",
   "execution_count": 3,
   "metadata": {
    "collapsed": false
   },
   "outputs": [
    {
     "data": {
      "text/plain": [
       "{u'attributes': {},\n",
       " u'bounding_box': {u'coordinates': [[[-122.514926, 37.708075],\n",
       "    [-122.514926, 37.833238],\n",
       "    [-122.357031, 37.833238],\n",
       "    [-122.357031, 37.708075]]],\n",
       "  u'type': u'Polygon'},\n",
       " u'country': u'United States',\n",
       " u'country_code': u'US',\n",
       " u'full_name': u'San Francisco, CA',\n",
       " u'id': u'5a110d312052166f',\n",
       " u'name': u'San Francisco',\n",
       " u'place_type': u'city',\n",
       " u'url': u'https://api.twitter.com/1.1/geo/id/5a110d312052166f.json'}"
      ]
     },
     "execution_count": 3,
     "metadata": {},
     "output_type": "execute_result"
    }
   ],
   "source": [
    "df[~df.place.isnull()].place.tolist()[0]"
   ]
  },
  {
   "cell_type": "markdown",
   "metadata": {},
   "source": [
    "###new dataframe where coordinates are present"
   ]
  },
  {
   "cell_type": "code",
   "execution_count": 4,
   "metadata": {
    "collapsed": false
   },
   "outputs": [],
   "source": [
    "new_df = df[~df.coordinates.isnull()]"
   ]
  },
  {
   "cell_type": "code",
   "execution_count": 5,
   "metadata": {
    "collapsed": false
   },
   "outputs": [],
   "source": [
    "chatter_coordinate_df = new_df[['coordinates', 'text']]\n",
    "chatter = new_df.text.tolist()"
   ]
  },
  {
   "cell_type": "code",
   "execution_count": 6,
   "metadata": {
    "collapsed": true
   },
   "outputs": [],
   "source": [
    "chat_test = chatter[0:5]"
   ]
  },
  {
   "cell_type": "markdown",
   "metadata": {},
   "source": [
    "###experiment: clearn chatter "
   ]
  },
  {
   "cell_type": "code",
   "execution_count": 7,
   "metadata": {
    "collapsed": false
   },
   "outputs": [],
   "source": [
    "import re"
   ]
  },
  {
   "cell_type": "code",
   "execution_count": 8,
   "metadata": {
    "collapsed": false
   },
   "outputs": [],
   "source": [
    "def clean_tweets_conservative(chatter):\n",
    "    cleaned_tweets = []\n",
    "    for line in chatter:\n",
    "        tweet = re.findall(r'[A-Za-z][,\\w!.]+', line)\n",
    "        clean_tweet= ' '.join(tweet)\n",
    "        cleaned_tweets.append(clean_tweet)\n",
    "    return cleaned_tweets"
   ]
  },
  {
   "cell_type": "code",
   "execution_count": 9,
   "metadata": {
    "collapsed": false
   },
   "outputs": [],
   "source": [
    "def clean_tweets_liberal(chatter):\n",
    "    cleaned_tweets = []\n",
    "    for line in chatter:\n",
    "        match = re.search(r'[A-Za-z][,\\w!. ]+', line)\n",
    "        if match:\n",
    "            cleaned_tweets.append(match.group())\n",
    "        else:\n",
    "            cleaned_tweets.append(' ')\n",
    "    return cleaned_tweets"
   ]
  },
  {
   "cell_type": "code",
   "execution_count": 10,
   "metadata": {
    "collapsed": true
   },
   "outputs": [],
   "source": [
    "cleaned_tweets = clean_tweets_liberal(chatter)"
   ]
  },
  {
   "cell_type": "code",
   "execution_count": 11,
   "metadata": {
    "collapsed": false
   },
   "outputs": [
    {
     "data": {
      "text/plain": [
       "[u'Opponents of arena accuse mayor of misleading public on ',\n",
       " u'it is not often i get to eat korean food and when i do, i always get surprised when they bring out',\n",
       " u'its99Percent Fav if you are going to reply to my Direct Message right now! .. It',\n",
       " u'http',\n",
       " u'happy the day is over aka ',\n",
       " u'Yo bitch gotta fat ass ima do her ',\n",
       " u'Had to slide through the bros ',\n",
       " u'So much quality time with so many great ',\n",
       " u'lagunaseca ',\n",
       " u'Night crawling line is getting longer!!!! ',\n",
       " u'Sufferin',\n",
       " u'OhMarGosh101 omg stfu LOLOL',\n",
       " u'So gorgeous. Love n miss you guys so much! RT ',\n",
       " u'Happy ',\n",
       " u'One of my favorite butterflies, or three of them rather ',\n",
       " u'babybird ',\n",
       " u'Absolutely love these Lincoln Center ResLife ladies! ',\n",
       " u'm always on the hunt for the next best extension... Digital ',\n",
       " u'USGS reports a M1.54 ',\n",
       " u'USGS reports a M1.54 ']"
      ]
     },
     "execution_count": 11,
     "metadata": {},
     "output_type": "execute_result"
    }
   ],
   "source": [
    "cleaned_tweets[80:100]"
   ]
  },
  {
   "cell_type": "code",
   "execution_count": 12,
   "metadata": {
    "collapsed": true
   },
   "outputs": [],
   "source": [
    "coor = [d['coordinates'] for d in df[~df.coordinates.isnull()].coordinates.tolist()]"
   ]
  },
  {
   "cell_type": "markdown",
   "metadata": {},
   "source": [
    "###Data of Coordinates "
   ]
  },
  {
   "cell_type": "code",
   "execution_count": 19,
   "metadata": {
    "collapsed": false
   },
   "outputs": [
    {
     "data": {
      "text/plain": [
       "[-121.799, 37.3147]"
      ]
     },
     "execution_count": 19,
     "metadata": {},
     "output_type": "execute_result"
    }
   ],
   "source": [
    "coor[0]  #lat, long pair"
   ]
  },
  {
   "cell_type": "code",
   "execution_count": 16,
   "metadata": {
    "collapsed": false
   },
   "outputs": [
    {
     "data": {
      "image/png": "[encoded data removed]",
      "text/plain": [
       "<matplotlib.figure.Figure at 0x1879e4910>"
      ]
     },
     "metadata": {},
     "output_type": "display_data"
    }
   ],
   "source": [
    "lons = [c[0] for c in coor]\n",
    "lats = [c[1] for c in coor]\n",
    "\n",
    "plt.scatter(lons, lats, alpha=.2)\n",
    "plt.show()"
   ]
  },
  {
   "cell_type": "code",
   "execution_count": 34,
   "metadata": {
    "collapsed": false
   },
   "outputs": [
    {
     "data": {
      "text/plain": [
       "92"
      ]
     },
     "execution_count": 34,
     "metadata": {},
     "output_type": "execute_result"
    }
   ],
   "source": [
    "len(sf_lat)"
   ]
  },
  {
   "cell_type": "markdown",
   "metadata": {},
   "source": [
    "got a california data set from the itnernet\n",
    " - West_Bounding_Coordinate: -124.875453\n",
    " - East_Bounding_Coordinate: -120.464711\n",
    " - North_Bounding_Coordinate: 39.652123\n",
    " - South_Bounding_Coordinate: 36.285549"
   ]
  },
  {
   "cell_type": "markdown",
   "metadata": {},
   "source": [
    "#Test with gmplot: don't use this. "
   ]
  },
  {
   "cell_type": "code",
   "execution_count": 66,
   "metadata": {
    "collapsed": false
   },
   "outputs": [],
   "source": [
    "import gmplot\n"
   ]
  },
  {
   "cell_type": "markdown",
   "metadata": {},
   "source": [
    "tutorial from the internet:\n",
    "This works, but the file is HUGE and I wonder about how interactive it is.."
   ]
  },
  {
   "cell_type": "code",
   "execution_count": 63,
   "metadata": {
    "collapsed": false
   },
   "outputs": [],
   "source": [
    "gmap = gmplot.GoogleMapPlotter(37.428, -122.145, 15)\n",
    "\n",
    "gmap.plot([39.652123, 36.285549], [-120.464711,-124.875453], 'cornflowerblue', edge_width=10)\n",
    "gmap.scatter(lats, lons, '#FFA500', size=80, marker=False)\n",
    "#gmap.scatter(sf_lat, sf_long, 'k', marker=True)\n",
    "#gmap.heatmap(sf_lat, sf_long)\n",
    "\n",
    "gmap.draw(\"./afternoon/test_maps/test_5.html\")\n"
   ]
  },
  {
   "cell_type": "markdown",
   "metadata": {},
   "source": [
    "#Play with Bokeh"
   ]
  },
  {
   "cell_type": "markdown",
   "metadata": {},
   "source": [
    "proof that hover works: "
   ]
  },
  {
   "cell_type": "code",
   "execution_count": 13,
   "metadata": {
    "collapsed": true
   },
   "outputs": [],
   "source": [
    "from bokeh.plotting import figure, output_file, show, ColumnDataSource\n",
    "from bokeh.models import HoverTool\n",
    "\n",
    "output_file(\"toolbar.html\")\n",
    "\n",
    "source = ColumnDataSource(\n",
    "        data=dict(\n",
    "            x=[1, 2, 3, 4, 5],\n",
    "            y=[2, 5, 8, 2, 7],\n",
    "            desc=['A', 'b', 'C', 'd', 'E'],\n",
    "        )\n",
    "    )\n",
    "\n",
    "hover = HoverTool(\n",
    "        tooltips=[\n",
    "            (\"index\", \"$index\"),\n",
    "            (\"(x,y)\", \"($x, $y)\"),\n",
    "            (\"desc\", \"@desc\"),\n",
    "        ]\n",
    "    )\n",
    "\n",
    "p = figure(plot_width=400, plot_height=400, tools=[hover],\n",
    "           title=\"Mouse over the dots\")\n",
    "\n",
    "p.circle('x', 'y', size=20, source=source)\n",
    "\n",
    "show(p)"
   ]
  },
  {
   "cell_type": "markdown",
   "metadata": {},
   "source": [
    "##This works: Scatterplot and hover"
   ]
  },
  {
   "cell_type": "code",
   "execution_count": 175,
   "metadata": {
    "collapsed": false
   },
   "outputs": [],
   "source": [
    "from bokeh.plotting import figure, output_file, show, ColumnDataSource\n",
    "from bokeh.models import HoverTool\n",
    "\n",
    "output_file(\"sayin stuff.html\")\n",
    "\n",
    "source = ColumnDataSource(\n",
    "        data=dict(\n",
    "            x=lons,\n",
    "            y=lats,\n",
    "            tweet_snippet=cleaned_tweets,\n",
    "        )\n",
    "    )\n",
    "\n",
    "hover = HoverTool(\n",
    "        tooltips=[\n",
    "            (\"tweet_snippet\", \"@tweet_snippet\"),\n",
    "        ]\n",
    "    )\n",
    "\n",
    "p = figure(plot_width=800, plot_height=800, tools=[hover],\n",
    "           title=\"twitter prattle in the bay over the weekend\")\n",
    "\n",
    "p.circle('x', 'y', size=10, source=source)\n",
    "\n",
    "show(p)"
   ]
  },
  {
   "cell_type": "code",
   "execution_count": 15,
   "metadata": {
    "collapsed": true
   },
   "outputs": [],
   "source": [
    "from bokeh.models import GMapPlot, GMapOptions, Range1d \n",
    "from bokeh.models.glyphs import Circle\n"
   ]
  },
  {
   "cell_type": "markdown",
   "metadata": {},
   "source": [
    "#code lifted from example"
   ]
  },
  {
   "cell_type": "code",
   "execution_count": 14,
   "metadata": {
    "collapsed": true
   },
   "outputs": [],
   "source": [
    "from bokeh.browserlib import view\n",
    "from bokeh.document import Document\n",
    "from bokeh.embed import file_html\n",
    "from bokeh.models.glyphs import Circle\n",
    "from bokeh.models import (\n",
    "    GMapPlot, Range1d, ColumnDataSource, LinearAxis,\n",
    "    PanTool, WheelZoomTool, BoxSelectTool,\n",
    "    BoxSelectionOverlay, GMapOptions,\n",
    "    NumeralTickFormatter, PrintfTickFormatter)\n",
    "from bokeh.resources import INLINE"
   ]
  },
  {
   "cell_type": "markdown",
   "metadata": {},
   "source": [
    "#Oh boy! This kind of works!"
   ]
  },
  {
   "cell_type": "code",
   "execution_count": 21,
   "metadata": {
    "collapsed": false
   },
   "outputs": [],
   "source": [
    "\n",
    "\n",
    "x_range = Range1d()\n",
    "y_range = Range1d()\n",
    "\n",
    "\n",
    "# JSON style string taken from: https://snazzymaps.com/style/1/pale-dawn\n",
    "map_options = GMapOptions(lat=37.75, lng=-122.45, map_type=\"roadmap\", zoom=12, styles=\"\"\"\n",
    "[{\"featureType\":\"administrative\",\"elementType\":\"all\",\"stylers\":[{\"visibility\":\"on\"},{\"lightness\":33}]},{\"featureType\":\"landscape\",\"elementType\":\"all\",\"stylers\":[{\"color\":\"#f2e5d4\"}]},{\"featureType\":\"poi.park\",\"elementType\":\"geometry\",\"stylers\":[{\"color\":\"#c5dac6\"}]},{\"featureType\":\"poi.park\",\"elementType\":\"labels\",\"stylers\":[{\"visibility\":\"on\"},{\"lightness\":20}]},{\"featureType\":\"road\",\"elementType\":\"all\",\"stylers\":[{\"lightness\":20}]},{\"featureType\":\"road.highway\",\"elementType\":\"geometry\",\"stylers\":[{\"color\":\"#c5c6c6\"}]},{\"featureType\":\"road.arterial\",\"elementType\":\"geometry\",\"stylers\":[{\"color\":\"#e4d7c6\"}]},{\"featureType\":\"road.local\",\"elementType\":\"geometry\",\"stylers\":[{\"color\":\"#fbfaf7\"}]},{\"featureType\":\"water\",\"elementType\":\"all\",\"stylers\":[{\"visibility\":\"on\"},{\"color\":\"#acbcc9\"}]}]\n",
    "\"\"\")\n",
    "\n",
    "plot = GMapPlot(\n",
    "    x_range=x_range, y_range=y_range,\n",
    "    map_options=map_options,\n",
    "    title = \"SfMaybe\"\n",
    ")\n",
    "\n",
    "source = ColumnDataSource(\n",
    "    data=dict(\n",
    "        lat=lats,\n",
    "        lon=lons,\n",
    "        \n",
    "    )\n",
    ")\n",
    "\n",
    "circle = Circle(x=\"lon\", y=\"lat\", size=3, fill_color=\"blue\", line_color=\"blue\")\n",
    "plot.add_glyph(source, circle)\n",
    "\n",
    "pan = PanTool()\n",
    "wheel_zoom = WheelZoomTool()\n",
    "box_select = BoxSelectTool()\n",
    "\n",
    "plot.add_tools(pan, wheel_zoom, box_select)\n",
    "\n",
    "xaxis = LinearAxis(axis_label=\"lat\", major_tick_in=0, formatter=NumeralTickFormatter(format=\"0.000\"))\n",
    "plot.add_layout(xaxis, 'below')\n",
    "\n",
    "yaxis = LinearAxis(axis_label=\"lon\", major_tick_in=0, formatter=PrintfTickFormatter(format=\"%.3f\"))\n",
    "plot.add_layout(yaxis, 'left')\n",
    "\n",
    "overlay = BoxSelectionOverlay(tool=box_select)\n",
    "plot.add_layout(overlay)\n",
    "\n",
    "show(plot)"
   ]
  },
  {
   "cell_type": "markdown",
   "metadata": {},
   "source": [
    "#OKAY THIS WORKS HORRAH"
   ]
  },
  {
   "cell_type": "code",
   "execution_count": 17,
   "metadata": {
    "collapsed": false
   },
   "outputs": [],
   "source": [
    "x_range = Range1d()\n",
    "y_range = Range1d()\n",
    "\n",
    "\n",
    "# JSON style string taken from: https://snazzymaps.com/style/1/pale-dawn\n",
    "map_options = GMapOptions(lat=37.75, lng=-122.45, map_type=\"roadmap\", zoom=12, styles=\"\"\"\n",
    "[{\"featureType\":\"administrative\",\"elementType\":\"all\",\"stylers\":[{\"visibility\":\"on\"},{\"lightness\":33}]},{\"featureType\":\"landscape\",\"elementType\":\"all\",\"stylers\":[{\"color\":\"#f2e5d4\"}]},{\"featureType\":\"poi.park\",\"elementType\":\"geometry\",\"stylers\":[{\"color\":\"#c5dac6\"}]},{\"featureType\":\"poi.park\",\"elementType\":\"labels\",\"stylers\":[{\"visibility\":\"on\"},{\"lightness\":20}]},{\"featureType\":\"road\",\"elementType\":\"all\",\"stylers\":[{\"lightness\":20}]},{\"featureType\":\"road.highway\",\"elementType\":\"geometry\",\"stylers\":[{\"color\":\"#c5c6c6\"}]},{\"featureType\":\"road.arterial\",\"elementType\":\"geometry\",\"stylers\":[{\"color\":\"#e4d7c6\"}]},{\"featureType\":\"road.local\",\"elementType\":\"geometry\",\"stylers\":[{\"color\":\"#fbfaf7\"}]},{\"featureType\":\"water\",\"elementType\":\"all\",\"stylers\":[{\"visibility\":\"on\"},{\"color\":\"#acbcc9\"}]}]\n",
    "\"\"\")\n",
    "\n",
    "plot = GMapPlot(\n",
    "    x_range=x_range, y_range=y_range,\n",
    "    map_options=map_options,\n",
    "    title = \"things someone tweeted this weeekend\"\n",
    ")\n",
    "\n",
    "source = ColumnDataSource(\n",
    "    data=dict(\n",
    "        lat=lats,\n",
    "        lon=lons,\n",
    "        tweet_snippet=cleaned_tweets,\n",
    "    )\n",
    ")\n",
    "\n",
    "circle = Circle(x=\"lon\", y=\"lat\", size=3, fill_color=\"blue\", line_color=\"blue\")\n",
    "plot.add_glyph(source, circle)\n",
    "\n",
    "pan = PanTool()\n",
    "wheel_zoom = WheelZoomTool()\n",
    "box_select = BoxSelectTool()\n",
    "hover = HoverTool(\n",
    "        tooltips=[\n",
    "            (\"tweet_snippet\", \"@tweet_snippet\"),\n",
    "        ]\n",
    "    )\n",
    "\n",
    "plot.add_tools(pan, wheel_zoom, box_select, hover)\n",
    "\n",
    "xaxis = LinearAxis(axis_label=\"lat\", major_tick_in=0, formatter=NumeralTickFormatter(format=\"0.000\"))\n",
    "plot.add_layout(xaxis, 'below')\n",
    "\n",
    "yaxis = LinearAxis(axis_label=\"lon\", major_tick_in=0, formatter=PrintfTickFormatter(format=\"%.3f\"))\n",
    "plot.add_layout(yaxis, 'left')\n",
    "\n",
    "overlay = BoxSelectionOverlay(tool=box_select)\n",
    "plot.add_layout(overlay)\n",
    "\n",
    "show(plot)"
   ]
  },
  {
   "cell_type": "markdown",
   "metadata": {},
   "source": [
    "Isaac says things: soap spline, constrained on the edges but bubbles in the middle \n",
    "\n",
    " - simon wood in R does all the spline stuff. \n",
    " - So he has done all the R research \n",
    " \n",
    "GAM : generalized addative model\n",
    "\n",
    "some splines / gams in the statistical learning textbook"
   ]
  },
  {
   "cell_type": "markdown",
   "metadata": {},
   "source": [
    "#Extra Notes from Class that this may have been helpful"
   ]
  },
  {
   "cell_type": "markdown",
   "metadata": {},
   "source": [
    " - seattle crime data: categories.  \n",
    "        - police calls with respect to being stuck in an elevator \n",
    "        - cartodb  !!!! This library looks really cool and nice. Maybe its better. hahn and logan\n",
    "        - plotted getting stuck in elevators by day of week, when people stuck in an elevator \n",
    "        \n",
    " -  Lee:\n",
    "    - filtering by hashtags on instagram. did a quantification of the number of people with a hastag. hover is the numer of times they used tatoos\n",
    "    \n",
    "- google earth: can do a lot of search stuff and overlay. good tool to keep in mind. \n",
    "\n",
    "- magic.import.io for easy scraping on the internet\n",
    "        "
   ]
  }
 ],
 "metadata": {
  "kernelspec": {
   "display_name": "Python 2",
   "language": "python",
   "name": "python2"
  },
  "language_info": {
   "codemirror_mode": {
    "name": "ipython",
    "version": 2
   },
   "file_extension": ".py",
   "mimetype": "text/x-python",
   "name": "python",
   "nbconvert_exporter": "python",
   "pygments_lexer": "ipython2",
   "version": "2.7.10"
  }
 },
 "nbformat": 4,
 "nbformat_minor": 0
}
