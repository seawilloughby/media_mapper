{
 "cells": [
  {
   "cell_type": "code",
   "execution_count": 57,
   "metadata": {
    "collapsed": false
   },
   "outputs": [],
   "source": [
    "import pandas as pd\n",
    "import json\n",
    "import random\n",
    "import matplotlib.pyplot as plt\n",
    "%matplotlib inline\n",
    "from collections import defaultdict\n",
    "import numpy as np\n",
    "import media_mapper as mm\n",
    "from wordcloud import WordCloud\n",
    "import ast\n",
    "from string import punctuation\n",
    "from nltk.corpus import stopwords\n",
    "import re\n",
    "import glob"
   ]
  },
  {
   "cell_type": "code",
   "execution_count": 58,
   "metadata": {
    "collapsed": true
   },
   "outputs": [],
   "source": [
    "def merge_shapes_with_dataframe(df):\n",
    "    '''\n",
    "    INPUT: A dataframe containing tweet data and the geoid\n",
    "            for each tweet. \n",
    "            Merges dataframe with a csv containing the corresponding \n",
    "            shape file for each goid.\n",
    "    OUPUT: A pandas dataframe containing the geoid and coordinates for each \n",
    "            neighborhood block in San Francisco.''' \n",
    "    \n",
    "    ###Retrieve the Shape Files for Each Block:\n",
    "    geo_df = pd.read_csv('/Users/christy/Documents/root/repos/media_mapper/data_pipeline/data/intermediate_data/sf_only_sql_shapes.csv')\n",
    "    #format the dataframe\n",
    "    geo_df['geoid10'] = geo_df.geoid10.astype('str')\n",
    "    geo_df.drop('Unnamed: 0', axis = 1, inplace = True)\n",
    "\n",
    "    df['geoid10'] =df['geoid10'].apply(lambda x: x[1:])\n",
    "    #create a new dataframe \n",
    "    df = pd.merge(geo_df, df, on='geoid10', how='outer')\n",
    "    return df"
   ]
  },
  {
   "cell_type": "code",
   "execution_count": 3,
   "metadata": {
    "collapsed": false
   },
   "outputs": [],
   "source": [
    "#GET A COUNT OF TWEETS EVERY HOUR OF EVERY DAY \n",
    "def get_tweets_per_hour(df):\n",
    "    '''\n",
    "    INPUT: a dataframe with tweets tagged with time information.\n",
    "    OUTPUT: a transformed dataframe, where dataframe has been grouped\n",
    "        to obtain the rate of tweets per hour for each day.\n",
    "        Tokenized tweet text for every hour has been appended to one mater list.'''\n",
    "    \n",
    "    #set a count of tweets to determine tweet rate\n",
    "    df['tweetcnt'] = 1\n",
    "    #get a total count of tweets\n",
    "    dfh = df.groupby(['geoid10','date', 'hour']).agg(sum).reset_index().drop('id', 1)\n",
    "    #append the tokenized tweet data together\n",
    "    d_txt = df.groupby(['geoid10', 'date','hour'])['text'].apply(lambda x: ','.join(x)).reset_index()\n",
    "    #merge dataframes\n",
    "    dfh['tokens'] = d_txt['text']\n",
    "    dfh['tph'] = dfh['tweetcnt']\n",
    "    dfh.drop('tweetcnt', 1, inplace = True)\n",
    "    return dfh"
   ]
  },
  {
   "cell_type": "code",
   "execution_count": 59,
   "metadata": {
    "collapsed": false
   },
   "outputs": [],
   "source": [
    "def average_tweet_rate(df, date = False):\n",
    "    '''\n",
    "    INPUT: Dataframe with a date column, and average tweets per hour.\n",
    "    OUPUT: Dataframe with the average tweets per hour.\n",
    "            If date == True, return a dataframe with the average\n",
    "            tweets for each day.\n",
    "            If date == False, return a dataframe grouped over all dates.'''\n",
    "    \n",
    "    #get the average tweets per hour over days \n",
    "    df_date = df.groupby(['geoid10','date']).agg(np.mean).reset_index()\n",
    "    #get a grouped sum of the words\n",
    "    df_txt = df.groupby(['geoid10', 'date'])['tokens'].apply(lambda x: ','.join(x)).reset_index()\n",
    "    #merge these two dataframes together\n",
    "    df_date['tokens'] = df_txt['tokens']\n",
    "    \n",
    "    if date == True:\n",
    "        return df_date\n",
    "    \n",
    "    else:\n",
    "        dff = df_date.groupby(['geoid10']).agg(np.mean).reset_index()\n",
    "        #get a grouped sum of the words\n",
    "        dff_txt = df_date.groupby(['geoid10'])['tokens'].apply(lambda x: ','.join(x)).reset_index()\n",
    "        #merge these two dataframes together\n",
    "        dff['tokens'] = dff_txt['tokens']\n",
    "        return dff\n",
    "\n"
   ]
  },
  {
   "cell_type": "code",
   "execution_count": 94,
   "metadata": {
    "collapsed": false
   },
   "outputs": [],
   "source": [
    "df = mm.pipeline.retrieve_and_merge_tweet_data()\n",
    "df = mm.pipeline.transform_timestamp(df, hour = True)\n",
    "dfh = get_tweets_per_hour(df)\n",
    "dfr = average_tweet_rate(dfh)\n",
    "#the list of tokens is inappropriate coded as a string. \n",
    "dfr['tokens'] = dfr['tokens'].apply(lambda x: ast.literal_eval(x)[0])"
   ]
  },
  {
   "cell_type": "code",
   "execution_count": 75,
   "metadata": {
    "collapsed": false
   },
   "outputs": [],
   "source": [
    "stop = stopwords.words('english')\n",
    "stop.extend([p for p in punctuation])\n",
    "stop.extend(['...',',,',',,,','..', 't','y','(@',')', 'c','i','I','a', '@','.', 'co', 'com','amp', 'via','http','htt','https', '()'])\n",
    "stop =[unicode(word) for word in stop]"
   ]
  },
  {
   "cell_type": "code",
   "execution_count": 76,
   "metadata": {
    "collapsed": true
   },
   "outputs": [],
   "source": [
    "def remove_stopwords_and_links(token_row):\n",
    "    if type(token_row) != list:\n",
    "        token_row = [token_row]\n",
    "    return [i.lower() for i in token_row if i.lower() not in stop]\n"
   ]
  },
  {
   "cell_type": "code",
   "execution_count": 63,
   "metadata": {
    "collapsed": false,
    "scrolled": true
   },
   "outputs": [],
   "source": [
    "def generate_wordcloud(df, outpath ='../../app/static/wrdcld/'):\n",
    "    '''generates and saves a word cloud images corresponding to each neighborhood block.\n",
    "    INPUT: dataframe containing tokens and geoid\n",
    "    OUTPUT: saved .png image wordcloud'''\n",
    "    \n",
    "    #remove stopwords\n",
    "    df['tokens'] = df['tokens'].apply(lambda x:remove_stopwords(x))\n",
    "    #generate a word cloud from each row \n",
    "    for idx in df.index:\n",
    "        label = str(df.geoid10[idx]) + '.png'\n",
    "        tokens = df.tokens[idx]\n",
    "        #don't generate a word cloud if there are no tokens.\n",
    "        try:\n",
    "            tokens = [re.sub(r'http.*$', '', item) for item in tokens]\n",
    "            wordcloud = WordCloud(min_font_size = 6,font_step = 1,  \\\n",
    "                     background_color = 'white', scale= 1 ).generate(' '.join(tokens))\n",
    "            plt.imshow(wordcloud)\n",
    "            plt.axis(\"off\")\n",
    "            #plt.show()\n",
    "            plt.savefig(outpath + label,  bbox_inches='tight')\n",
    "        except:\n",
    "            pass"
   ]
  },
  {
   "cell_type": "code",
   "execution_count": 108,
   "metadata": {
    "collapsed": false
   },
   "outputs": [
    {
     "data": {
      "image/png": "[encoded data removed]",
      "text/plain": [
       "<matplotlib.figure.Figure at 0x10cac6050>"
      ]
     },
     "metadata": {},
     "output_type": "display_data"
    }
   ],
   "source": [
    "generate_wordcloud(dfr)"
   ]
  },
  {
   "cell_type": "code",
   "execution_count": 96,
   "metadata": {
    "collapsed": false
   },
   "outputs": [],
   "source": [
    "odd_ids = ['060750601001016', '060750179021003','060759901000003', '060759901000002', '060750179021000','060750601001000', '060759804011003', '060750201001001']\n",
    "dfr = dfr[~dfr['geoid10'].isin(odd_ids)]\n",
    "dfr['tph'] = dfr.tph.apply(lambda x: format(x, '.2f'))"
   ]
  },
  {
   "cell_type": "code",
   "execution_count": 97,
   "metadata": {
    "collapsed": false
   },
   "outputs": [
    {
     "data": {
      "text/html": [
       "<div>\n",
       "<table border=\"1\" class=\"dataframe\">\n",
       "  <thead>\n",
       "    <tr style=\"text-align: right;\">\n",
       "      <th></th>\n",
       "      <th>geoid10</th>\n",
       "      <th>hour</th>\n",
       "      <th>tph</th>\n",
       "      <th>tokens</th>\n",
       "    </tr>\n",
       "  </thead>\n",
       "  <tbody>\n",
       "    <tr>\n",
       "      <th>0</th>\n",
       "      <td>060750101001000</td>\n",
       "      <td>12.063492</td>\n",
       "      <td>1.30</td>\n",
       "      <td>[And, I, think, to, my, self, what, a, wonderf...</td>\n",
       "    </tr>\n",
       "    <tr>\n",
       "      <th>1</th>\n",
       "      <td>060750101001001</td>\n",
       "      <td>12.213758</td>\n",
       "      <td>2.86</td>\n",
       "      <td>[These, guys, are, just, the, greatest, ., #sp...</td>\n",
       "    </tr>\n",
       "    <tr>\n",
       "      <th>2</th>\n",
       "      <td>060750101001002</td>\n",
       "      <td>3.000000</td>\n",
       "      <td>1.00</td>\n",
       "      <td>Remember</td>\n",
       "    </tr>\n",
       "    <tr>\n",
       "      <th>3</th>\n",
       "      <td>060750101001004</td>\n",
       "      <td>11.497504</td>\n",
       "      <td>1.68</td>\n",
       "      <td>[❤, ️, ❤, ️, ❤, ️, @, Fishermen's, Wharf, San,...</td>\n",
       "    </tr>\n",
       "    <tr>\n",
       "      <th>4</th>\n",
       "      <td>060750101001005</td>\n",
       "      <td>10.375000</td>\n",
       "      <td>1.12</td>\n",
       "      <td>[Seafood, stew, #latepost, #foodporn, @, Pompe...</td>\n",
       "    </tr>\n",
       "  </tbody>\n",
       "</table>\n",
       "</div>"
      ],
      "text/plain": [
       "           geoid10       hour   tph  \\\n",
       "0  060750101001000  12.063492  1.30   \n",
       "1  060750101001001  12.213758  2.86   \n",
       "2  060750101001002   3.000000  1.00   \n",
       "3  060750101001004  11.497504  1.68   \n",
       "4  060750101001005  10.375000  1.12   \n",
       "\n",
       "                                              tokens  \n",
       "0  [And, I, think, to, my, self, what, a, wonderf...  \n",
       "1  [These, guys, are, just, the, greatest, ., #sp...  \n",
       "2                                           Remember  \n",
       "3  [❤, ️, ❤, ️, ❤, ️, @, Fishermen's, Wharf, San,...  \n",
       "4  [Seafood, stew, #latepost, #foodporn, @, Pompe...  "
      ]
     },
     "execution_count": 97,
     "metadata": {},
     "output_type": "execute_result"
    }
   ],
   "source": [
    "dfr.head()"
   ]
  },
  {
   "cell_type": "markdown",
   "metadata": {},
   "source": [
    "###B. Convert DataFrame of Conuts to Json File for Mapping"
   ]
  },
  {
   "cell_type": "code",
   "execution_count": 105,
   "metadata": {
    "collapsed": true
   },
   "outputs": [],
   "source": [
    "wordcloud_files = glob.glob( '../app/static/wrdcld/*png')"
   ]
  },
  {
   "cell_type": "code",
   "execution_count": 114,
   "metadata": {
    "collapsed": false
   },
   "outputs": [],
   "source": [
    "wordcloud_list = ['0' + word[21:-4] for word in wordcloud_files ]\n"
   ]
  },
  {
   "cell_type": "code",
   "execution_count": 117,
   "metadata": {
    "collapsed": false
   },
   "outputs": [],
   "source": [
    "dfr = dfr[dfr['geoid10'].isin(wordcloud_list)]"
   ]
  },
  {
   "cell_type": "code",
   "execution_count": 119,
   "metadata": {
    "collapsed": false
   },
   "outputs": [],
   "source": [
    "df = dfr.copy()"
   ]
  },
  {
   "cell_type": "code",
   "execution_count": null,
   "metadata": {
    "collapsed": true
   },
   "outputs": [],
   "source": []
  },
  {
   "cell_type": "code",
   "execution_count": 120,
   "metadata": {
    "collapsed": false
   },
   "outputs": [],
   "source": [
    "df = merge_shapes_with_dataframe(df)"
   ]
  },
  {
   "cell_type": "code",
   "execution_count": 121,
   "metadata": {
    "collapsed": false
   },
   "outputs": [],
   "source": [
    "df = df.dropna()"
   ]
  },
  {
   "cell_type": "code",
   "execution_count": 122,
   "metadata": {
    "collapsed": false
   },
   "outputs": [
    {
     "data": {
      "text/html": [
       "<div>\n",
       "<table border=\"1\" class=\"dataframe\">\n",
       "  <thead>\n",
       "    <tr style=\"text-align: right;\">\n",
       "      <th></th>\n",
       "      <th>geometry</th>\n",
       "      <th>geoid10</th>\n",
       "      <th>hour</th>\n",
       "      <th>tph</th>\n",
       "      <th>tokens</th>\n",
       "    </tr>\n",
       "  </thead>\n",
       "  <tbody>\n",
       "    <tr>\n",
       "      <th>5</th>\n",
       "      <td>{\"type\":\"MultiPolygon\",\"coordinates\":[[[[-122....</td>\n",
       "      <td>60750179021023</td>\n",
       "      <td>11.6</td>\n",
       "      <td>1.00</td>\n",
       "      <td>[SF, ,, you're, such, a, babe, ., ❤, ️, @, Bay...</td>\n",
       "    </tr>\n",
       "    <tr>\n",
       "      <th>6</th>\n",
       "      <td>{\"type\":\"MultiPolygon\",\"coordinates\":[[[[-122....</td>\n",
       "      <td>60750179021008</td>\n",
       "      <td>19.0</td>\n",
       "      <td>2.00</td>\n",
       "      <td>[Two, lanes, blocked, in, #BayBridge, on, I-80...</td>\n",
       "    </tr>\n",
       "    <tr>\n",
       "      <th>14</th>\n",
       "      <td>{\"type\":\"MultiPolygon\",\"coordinates\":[[[[-122....</td>\n",
       "      <td>60750179021057</td>\n",
       "      <td>13.0</td>\n",
       "      <td>1.00</td>\n",
       "      <td>[raw, n, true]</td>\n",
       "    </tr>\n",
       "    <tr>\n",
       "      <th>19</th>\n",
       "      <td>{\"type\":\"MultiPolygon\",\"coordinates\":[[[[-122....</td>\n",
       "      <td>60750179021054</td>\n",
       "      <td>0.0</td>\n",
       "      <td>1.00</td>\n",
       "      <td>@chrisjrn</td>\n",
       "    </tr>\n",
       "    <tr>\n",
       "      <th>26</th>\n",
       "      <td>{\"type\":\"MultiPolygon\",\"coordinates\":[[[[-122....</td>\n",
       "      <td>60750179021060</td>\n",
       "      <td>2.5</td>\n",
       "      <td>1.00</td>\n",
       "      <td>[The, cool, ,, grey, city, of, love, ., #SF, @...</td>\n",
       "    </tr>\n",
       "  </tbody>\n",
       "</table>\n",
       "</div>"
      ],
      "text/plain": [
       "                                             geometry         geoid10  hour  \\\n",
       "5   {\"type\":\"MultiPolygon\",\"coordinates\":[[[[-122....  60750179021023  11.6   \n",
       "6   {\"type\":\"MultiPolygon\",\"coordinates\":[[[[-122....  60750179021008  19.0   \n",
       "14  {\"type\":\"MultiPolygon\",\"coordinates\":[[[[-122....  60750179021057  13.0   \n",
       "19  {\"type\":\"MultiPolygon\",\"coordinates\":[[[[-122....  60750179021054   0.0   \n",
       "26  {\"type\":\"MultiPolygon\",\"coordinates\":[[[[-122....  60750179021060   2.5   \n",
       "\n",
       "     tph                                             tokens  \n",
       "5   1.00  [SF, ,, you're, such, a, babe, ., ❤, ️, @, Bay...  \n",
       "6   2.00  [Two, lanes, blocked, in, #BayBridge, on, I-80...  \n",
       "14  1.00                                     [raw, n, true]  \n",
       "19  1.00                                          @chrisjrn  \n",
       "26  1.00  [The, cool, ,, grey, city, of, love, ., #SF, @...  "
      ]
     },
     "execution_count": 122,
     "metadata": {},
     "output_type": "execute_result"
    }
   ],
   "source": [
    "df.head()"
   ]
  },
  {
   "cell_type": "code",
   "execution_count": 51,
   "metadata": {
    "collapsed": false
   },
   "outputs": [],
   "source": [
    "def merge_shapes_with_dataframe(df):\n",
    "    '''\n",
    "    INPUT: pandas dataframe with a geoid column ('geoid10'). \n",
    "    OUTPUT: merges the current dataframe with the corresponding geographical\n",
    "            coordinates for each neighborhood block in the 'geoid10' column.\n",
    "            Returns the altered dataframe.'''\n",
    "\n",
    "    ###retrieve the shape files for each block:\n",
    "    geodf = pd.read_csv('data/intermediate_data/sf_only_sql_shapes.csv')\n",
    "    #format the dataframe\n",
    "    geodf['geoid10'] = geodf.geoid10.astype('str')\n",
    "    geodf.drop('Unnamed: 0', axis = 1, inplace = True)\n",
    "    df['geoid10'] =df['geoid10'].apply(lambda x: x[1:])\n",
    "    \n",
    "    #create a new dataframe \n",
    "    df = pd.merge(geodf, df, on='geoid10', how='outer')\n",
    "    #drop empty hour columns\n",
    "    return df"
   ]
  },
  {
   "cell_type": "code",
   "execution_count": 134,
   "metadata": {
    "collapsed": false
   },
   "outputs": [
    {
     "data": {
      "text/plain": [
       "5       60750179021023\n",
       "6       60750179021008\n",
       "14      60750179021057\n",
       "19      60750179021054\n",
       "26      60750179021060\n",
       "35      60750179021058\n",
       "47      60750179021031\n",
       "49      60750179021006\n",
       "66      60750179021079\n",
       "73      60750179021030\n",
       "78      60750179021063\n",
       "93      60750179021032\n",
       "100     60750179021041\n",
       "106     60750179021040\n",
       "119     60750179021043\n",
       "125     60750231032015\n",
       "127     60750179021018\n",
       "128     60750231031003\n",
       "141     60750231032013\n",
       "143     60750179021066\n",
       "146     60750231031000\n",
       "150     60750179021034\n",
       "157     60750179021001\n",
       "159     60750231032007\n",
       "163     60750231032006\n",
       "170     60750231031007\n",
       "171     60750232002015\n",
       "178     60750231032017\n",
       "184     60750231022005\n",
       "185     60750232002012\n",
       "             ...      \n",
       "7318    60750352021008\n",
       "7321    60750479021005\n",
       "7323    60750604001013\n",
       "7325    60750352013005\n",
       "7326    60750479012013\n",
       "7328    60750352014005\n",
       "7329    60750352023005\n",
       "7332    60750352022005\n",
       "7333    60750479021007\n",
       "7335    60750352021010\n",
       "7339    60750352022006\n",
       "7340    60750352021012\n",
       "7343    60759802001001\n",
       "7346    60750479012012\n",
       "7347    60750479012011\n",
       "7348    60750352012001\n",
       "7350    60750352012002\n",
       "7352    60759803001024\n",
       "7353    60759803001020\n",
       "7356    60750479012016\n",
       "7357    60750479012010\n",
       "7359    60750479012004\n",
       "7360    60750479012007\n",
       "7361    60750479012008\n",
       "7362    60750479012006\n",
       "7363    60750352012003\n",
       "7365    60759803001022\n",
       "7366    60750479012009\n",
       "7368    60750479012003\n",
       "7385    60759804011000\n",
       "Name: geoid10, dtype: object"
      ]
     },
     "execution_count": 134,
     "metadata": {},
     "output_type": "execute_result"
    }
   ],
   "source": [
    "df.geoid10"
   ]
  },
  {
   "cell_type": "code",
   "execution_count": 139,
   "metadata": {
    "collapsed": true
   },
   "outputs": [],
   "source": [
    "def add_properties_geo(row):\n",
    "    geoid = row['geoid10']\n",
    "    tweetrate = row['tph']\n",
    "    \n",
    "    #image = \"{{ url_for('static', filename='wrdcld/%s.png') }}\" %(geoid)\n",
    "    image = '../static/wrdcld/%s.png' %(geoid)\n",
    "    geo_json = {\"type\": \"Feature\", \"geometry\": json.loads(row['geometry']),  \"properties\": {'image': image, 'geoid': geoid ,'tweetrate': tweetrate }}\n",
    "    return geo_json\n",
    "\n",
    "def dataframe_to_geojson(df, outfilename):\n",
    "    '''Takes in a dataframe with a count and geoid10. Dumps it into a json geojason file'''\n",
    "    df['geoid10'] = df['geoid10'].astype('str')\n",
    "    df[\"tph\"] = df['tph'].astype('str')\n",
    "    list_to_export = []\n",
    "    for idx, row in df.iterrows():\n",
    "        list_to_export.append(add_properties_geo(row))\n",
    "    with open(outfilename, 'w') as outfile:\n",
    "        json.dump(list_to_export, outfile)"
   ]
  },
  {
   "cell_type": "code",
   "execution_count": 140,
   "metadata": {
    "collapsed": false
   },
   "outputs": [],
   "source": [
    "dataframe_to_geojson(df, '../app/data/wordcloud.json')"
   ]
  },
  {
   "cell_type": "code",
   "execution_count": 125,
   "metadata": {
    "collapsed": false
   },
   "outputs": [
    {
     "data": {
      "text/plain": [
       "array(['1.00', '2.00', '1.83', '1.10', '1.67', '1.30', '1.26', '1.07',\n",
       "       '1.50', '1.03', '1.11', '1.36', '1.06', '1.47', '1.33', '1.12',\n",
       "       '1.20', '3.25', '2.25', '1.56', '2.33', '1.28', '1.15', '2.19',\n",
       "       '1.57', '1.25', '1.16', '5.11', '1.14', '2.89', '1.13', '2.30',\n",
       "       '1.32', '1.80', '1.09', '1.08', '1.63', '1.17', '2.77', '1.27',\n",
       "       '2.75', '1.29', '2.50', '3.00', '1.39', '1.04', '1.22', '1.24',\n",
       "       '1.19', '1.23', '1.60', '2.67', '2.36', '1.31', '1.86', '2.80',\n",
       "       '1.34', '2.92', '1.40', '1.05', '1.21', '1.02', '1.73', '2.05',\n",
       "       '1.43', '2.01', '1.97', '1.18', '1.65', '2.10', '1.75', '1.53',\n",
       "       '1.87', '1.42', '1.35', '1.52', '1.95', '4.00', '1.41', '1.61',\n",
       "       '3.28', '2.24', '1.38', '1.93', '2.38', '2.83', '1.55', '1.66',\n",
       "       '4.83', '1.45', '2.88', '1.62', '1.78', '1.49', '1.74', '1.68',\n",
       "       '1.46', '6.18', '1.37', '1.70', '1.51', '1.72', '3.50', '1.94',\n",
       "       '1.48', '2.20', '2.86', '1.71', '1.88', '2.07', '2.17', '2.40',\n",
       "       '2.14', '1.44', '1.96', '1.54', '5.09', '2.28', '1.92', '1.59',\n",
       "       '5.00', '1.58', '2.02', '2.06', '2.56', '2.37', '1.64', '2.48',\n",
       "       '3.33', '7.00', '3.23', '6.00', '8.49', '9.00'], dtype=object)"
      ]
     },
     "execution_count": 125,
     "metadata": {},
     "output_type": "execute_result"
    }
   ],
   "source": [
    "df.tph.unique()"
   ]
  },
  {
   "cell_type": "code",
   "execution_count": null,
   "metadata": {
    "collapsed": true
   },
   "outputs": [],
   "source": []
  }
 ],
 "metadata": {
  "kernelspec": {
   "display_name": "Python 2",
   "language": "python",
   "name": "python2"
  },
  "language_info": {
   "codemirror_mode": {
    "name": "ipython",
    "version": 2
   },
   "file_extension": ".py",
   "mimetype": "text/x-python",
   "name": "python",
   "nbconvert_exporter": "python",
   "pygments_lexer": "ipython2",
   "version": "2.7.10"
  }
 },
 "nbformat": 4,
 "nbformat_minor": 0
}
