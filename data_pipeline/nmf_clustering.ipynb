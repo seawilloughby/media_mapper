{
 "cells": [
  {
   "cell_type": "code",
   "execution_count": 300,
   "metadata": {
    "collapsed": false
   },
   "outputs": [],
   "source": [
    "import pandas as pd\n",
    "import media_mapper as mm\n",
    "import numpy as np\n",
    "from sklearn.decomposition import NMF\n",
    "import pandas as pd\n",
    "import numpy as np\n",
    "from sklearn.feature_extraction.text import TfidfVectorizer, CountVectorizer\n",
    "from sklearn.decomposition import TruncatedSVD, NMF\n",
    "from sklearn.metrics.pairwise import linear_kernel\n",
    "import tokenizer\n",
    "from nltk.corpus import stopwords\n",
    "from wordcloud import WordCloud, STOPWORDS\n",
    "import matplotlib.pyplot as plt\n",
    "%matplotlib inline\n",
    "import json"
   ]
  },
  {
   "cell_type": "code",
   "execution_count": 17,
   "metadata": {
    "collapsed": false
   },
   "outputs": [],
   "source": [
    "def retrieve_and_merge_tweet_data():\n",
    "    '''\n",
    "    INPUT: None. Retrieves  1) twitter geo data from SQL 2) tokenized tweet text. \n",
    "    OUTPUT: A merged dataframe containing tweet text and geo shape files.'''\n",
    "    #get SF Data From SQL\n",
    "    df = mm.pipeline.retrieve_sql_tweets('tweets_with_geoV6')\n",
    "    #get text data from picke\n",
    "    dftxt = pd.read_csv('data/intermediate_data/json_tweets_in_df_twitokend.csv')\n",
    "    df = df.set_index('id')\n",
    "    dftxt = dftxt.set_index('id')\n",
    "    dfall = df.join(dftxt).reset_index()\n",
    "    dfall.drop('Unnamed: 0', 1, inplace = True)\n",
    "    return dfall"
   ]
  },
  {
   "cell_type": "code",
   "execution_count": 353,
   "metadata": {
    "collapsed": false
   },
   "outputs": [],
   "source": [
    "df = retrieve_and_merge_tweet_data()"
   ]
  },
  {
   "cell_type": "markdown",
   "metadata": {},
   "source": [
    "#1. Cluster Tweets Based on Geograph"
   ]
  },
  {
   "cell_type": "code",
   "execution_count": 354,
   "metadata": {
    "collapsed": false
   },
   "outputs": [
    {
     "data": {
      "text/html": [
       "<div>\n",
       "<table border=\"1\" class=\"dataframe\">\n",
       "  <thead>\n",
       "    <tr style=\"text-align: right;\">\n",
       "      <th></th>\n",
       "      <th>id</th>\n",
       "      <th>timestamp_ms</th>\n",
       "      <th>geoid10</th>\n",
       "      <th>text</th>\n",
       "    </tr>\n",
       "  </thead>\n",
       "  <tbody>\n",
       "    <tr>\n",
       "      <th>0</th>\n",
       "      <td>621410300290592768</td>\n",
       "      <td>1436990735491</td>\n",
       "      <td>060750615003006</td>\n",
       "      <td>[u\"I'm\", u'at', u'@Google', u'San', u'Francisc...</td>\n",
       "    </tr>\n",
       "    <tr>\n",
       "      <th>1</th>\n",
       "      <td>625416235082194944</td>\n",
       "      <td>1437945824772</td>\n",
       "      <td>060750134001000</td>\n",
       "      <td>[u'Clear', u'sky', u'view', u'of', u'SF', u'@'...</td>\n",
       "    </tr>\n",
       "    <tr>\n",
       "      <th>2</th>\n",
       "      <td>625816517381332992</td>\n",
       "      <td>1438041259509</td>\n",
       "      <td>060759804011003</td>\n",
       "      <td>[u'http://t.co/aGnxhinfIM']</td>\n",
       "    </tr>\n",
       "    <tr>\n",
       "      <th>3</th>\n",
       "      <td>625112776483188736</td>\n",
       "      <td>1437873474604</td>\n",
       "      <td>060750101001001</td>\n",
       "      <td>[u'a', u\"gentleman's\", u'quarters', u'at', u'#...</td>\n",
       "    </tr>\n",
       "    <tr>\n",
       "      <th>4</th>\n",
       "      <td>625345896507666432</td>\n",
       "      <td>1437929054749</td>\n",
       "      <td>060750604001007</td>\n",
       "      <td>[u'\\u0421\\u043f\\u043e\\u0439', u',', u'\\u043f\\u...</td>\n",
       "    </tr>\n",
       "  </tbody>\n",
       "</table>\n",
       "</div>"
      ],
      "text/plain": [
       "                   id   timestamp_ms          geoid10  \\\n",
       "0  621410300290592768  1436990735491  060750615003006   \n",
       "1  625416235082194944  1437945824772  060750134001000   \n",
       "2  625816517381332992  1438041259509  060759804011003   \n",
       "3  625112776483188736  1437873474604  060750101001001   \n",
       "4  625345896507666432  1437929054749  060750604001007   \n",
       "\n",
       "                                                text  \n",
       "0  [u\"I'm\", u'at', u'@Google', u'San', u'Francisc...  \n",
       "1  [u'Clear', u'sky', u'view', u'of', u'SF', u'@'...  \n",
       "2                        [u'http://t.co/aGnxhinfIM']  \n",
       "3  [u'a', u\"gentleman's\", u'quarters', u'at', u'#...  \n",
       "4  [u'\\u0421\\u043f\\u043e\\u0439', u',', u'\\u043f\\u...  "
      ]
     },
     "execution_count": 354,
     "metadata": {},
     "output_type": "execute_result"
    }
   ],
   "source": [
    "df.head()"
   ]
  },
  {
   "cell_type": "code",
   "execution_count": 355,
   "metadata": {
    "collapsed": false
   },
   "outputs": [],
   "source": [
    "#get a grouped sum of the words\n",
    "dftxt = df.groupby(['geoid10'])['text'].apply(lambda x: ','.join(x)).reset_index()\n",
    "\n",
    "#make a list of every id for every text in case it is every useful...\n",
    "dfids = df.groupby(['geoid10'])['id'].apply(lambda x: x.tolist())\n",
    "#merge these two dataframes together\n"
   ]
  },
  {
   "cell_type": "code",
   "execution_count": 362,
   "metadata": {
    "collapsed": false
   },
   "outputs": [],
   "source": [
    "dftxt15clust['geoid10'] = dftxt['geoid10']\n",
    "dftxt10clust['geoid10'] = dftxt['geoid10']"
   ]
  },
  {
   "cell_type": "code",
   "execution_count": 211,
   "metadata": {
    "collapsed": false
   },
   "outputs": [],
   "source": [
    "geo_docs = dftxt.text.tolist()"
   ]
  },
  {
   "cell_type": "markdown",
   "metadata": {},
   "source": [
    "#Tokenize the Text"
   ]
  },
  {
   "cell_type": "code",
   "execution_count": 105,
   "metadata": {
    "collapsed": false
   },
   "outputs": [],
   "source": [
    "def create_tfidf(list_of_documents, max_feat):\n",
    "    ''' transforms a list of documents into a matrix of \n",
    "        tf-idf (term frequency - inverse document frequency) \n",
    "        INPUT: a list of documents (tweets)\n",
    "        OUTPUT: a TFIDF object.\n",
    "    Returns the document term matrix, feature names, and the trained model'''\n",
    "    #initialize a TfidfVectorizer\n",
    "    vectorizer = TfidfVectorizer(max_features = max_feat, stop_words='english', strip_accents='unicode')\n",
    "    #Transform the words into a TFIDF matrix\n",
    "    tfidf_vectorized = vectorizer.fit_transform(geo_docs)\n",
    "    document_term_mat = tfidf_vectorized.todense()\n",
    "    #so i have a matrix with 144,287 features, and only 3,794 documents.\n",
    "    tfidf_sf_geo.shape\n",
    "    feature_names = vectorizer.get_feature_names()\n",
    "    return document_term_mat, feature_names, tfidf_vectorized"
   ]
  },
  {
   "cell_type": "code",
   "execution_count": null,
   "metadata": {
    "collapsed": true
   },
   "outputs": [],
   "source": []
  },
  {
   "cell_type": "markdown",
   "metadata": {},
   "source": [
    "#Run NMF"
   ]
  },
  {
   "cell_type": "code",
   "execution_count": 97,
   "metadata": {
    "collapsed": true
   },
   "outputs": [],
   "source": [
    "def run_nmf(document_term_mat, num_components):\n",
    "    nmf = NMF(n_components=num_components)\n",
    "    W_sklearn = nmf.fit_transform(document_term_mat)\n",
    "    H_sklearn = nmf.components_\n",
    "    \n",
    "    return nmf, W_sklearn, H_sklearn"
   ]
  },
  {
   "cell_type": "code",
   "execution_count": 80,
   "metadata": {
    "collapsed": true
   },
   "outputs": [],
   "source": [
    "def reconst_mse(target, left, right):\n",
    "    '''An evaluation metric for NMF. Reconstructs the W and H metric.\n",
    "    Compares them to the V matrix (the document term matrix).\n",
    "    Returns the mean squared error, and evaluttion of how well the \n",
    "    W and H matrix approximate the V matrix.'''\n",
    "    return (np.array(target - left.dot(right))**2).mean()"
   ]
  },
  {
   "cell_type": "code",
   "execution_count": 130,
   "metadata": {
    "collapsed": false
   },
   "outputs": [],
   "source": [
    "def describe_nmf_results(document_term_mat, W, H, feature_names, n_top_words = 30 ):\n",
    "    \"\"\"Uses the H matrix to determine the top words \n",
    "    in each uncovered latent feature\"\"\"\n",
    "    #print(\"Reconstruction error: %f\") %(reconst_mse(document_term_mat, W, H))\n",
    "    for topic_num, topic in enumerate(H):\n",
    "        print(\"\\nTopic %d:\" % topic_num)\n",
    "        print(\" \".join([feature_names[i] \\\n",
    "                for i in topic.argsort()[:-n_top_words - 1:-1]]))\n",
    "     \n"
   ]
  },
  {
   "cell_type": "code",
   "execution_count": 203,
   "metadata": {
    "collapsed": false
   },
   "outputs": [
    {
     "name": "stdout",
     "output_type": "stream",
     "text": [
      "\n",
      "Topic 0:\n",
      "street sidewalk cleaning request http opened st iphone android garbage open311 trash pickup completed description 98 10 dumped leavenworth mattress folsom chair furniture comple blocking waste avenue lombard large 3rd\n",
      "\n",
      "Topic 1:\n",
      "https u2026 sf sanfrancisco ufe0f just day love today photo happy new u2764 amp good like best night mission coffee time california beach great tonight posted art morning life birthday\n",
      "\n",
      "Topic 2:\n",
      "st graffiti request opened intersection http iphone amp unattended neglected postings illegal abatement report neighborhood android left blighted fulton box signal neighborhoods church pole sign buchanan steiner fell mission anza\n",
      "\n",
      "Topic 3:\n",
      "hiring job careerarc jobs veterans hospitality http sanfrancisco retail ca starbucks latest click barista opening apply recommend fit shift work want great supervisor california sales center health financial manager nursing\n",
      "\n",
      "Topic 4:\n",
      "abandoned vehicles dpt gone arrival closed http request 15 07 opened iphone case st parked 08 vehicle duplicate car 28 dr bernal week ave 03 heights shore 35th ford open311\n",
      "\n",
      "Topic 5:\n",
      "closed case resolved completed request st http graffiti intersection amp transferred tree mission maintenance 15 containers ses pickup issues market process meter cleaned duplicate streetlight sewer 18th flooding garbage repair\n",
      "\n",
      "Topic 6:\n",
      "san francisco ca https http cafe restaurant sf market heights muni bar district california chinatown stop coffee time calif food center bay event metro 24hourfitness station house soma city drinking\n",
      "\n",
      "Topic 7:\n",
      "u0627 u0644 u064a u0648 u0645 u0646 u062a u0631 u0647 u0628 u0639 u062f u0643 u0633 u0642 u0641 u0634 u062d u0635 u0623 u0629 u062c u062e u0630 u0001f602 u0637 u0632 u061f u063a ness\n",
      "\n",
      "Topic 8:\n",
      "ave intersection amp blvd request opened http geary iphone bruno android closed parking case repair anza van ness sidewalk graffiti jose sign cabrillo san clement ocean oakdale traffic potrero illegal\n",
      "\n",
      "Topic 9:\n",
      "park golden gate requests bridge lake https http presidio dolores heights outsidelands national psa bay request glen marina golf ggp bernal garden sanfrancisco outside lands just opened manager day sunset\n"
     ]
    }
   ],
   "source": [
    "nmf, W_sklearn, H_sklearn = run_nmf(document_term_mat, 10)\n",
    "describe_nmf_results(document_term_mat,W_sklearn, H_sklearn,feature_names,n_top_words = 30,  )"
   ]
  },
  {
   "cell_type": "code",
   "execution_count": 202,
   "metadata": {
    "collapsed": false
   },
   "outputs": [
    {
     "data": {
      "text/plain": [
       "0    1749\n",
       "1     605\n",
       "3     390\n",
       "2     291\n",
       "7     240\n",
       "6     147\n",
       "4     141\n",
       "5     102\n",
       "8      95\n",
       "9      35\n",
       "dtype: int64"
      ]
     },
     "execution_count": 202,
     "metadata": {},
     "output_type": "execute_result"
    }
   ],
   "source": []
  },
  {
   "cell_type": "code",
   "execution_count": null,
   "metadata": {
    "collapsed": true
   },
   "outputs": [],
   "source": [
    "#15 clusters! "
   ]
  },
  {
   "cell_type": "code",
   "execution_count": 327,
   "metadata": {
    "collapsed": false,
    "scrolled": false
   },
   "outputs": [
    {
     "name": "stdout",
     "output_type": "stream",
     "text": [
      "\n",
      "Topic 0:\n",
      "street sidewalk cleaning request opened http st iphone android garbage trash pickup open311 completed 98 description 10 dumped leavenworth mattress folsom chair furniture comple 3rd waste lombard blocking avenue shotwell\n",
      "\n",
      "Topic 1:\n",
      "san francisco ca https cafe restaurant market sf heights bar district muni california chinatown coffee food calif bay 24hourfitness event center stop house time station metro soma city neighborhoods amp\n",
      "\n",
      "Topic 2:\n",
      "st intersection unattended iphone amp neglected illegal postings request opened neighborhood http graffiti left blighted fulton anza church neighborhoods octavia divisadero page steiner fell 14th webster fillmore buchanan neigh neig\n",
      "\n",
      "Topic 3:\n",
      "closed case resolved completed st request http graffiti intersection amp transferred mission 15 pickup ses containers market process issues duplicate cleaned 18th meter streetlight sewer flooding psa maximo 17th 10\n",
      "\n",
      "Topic 4:\n",
      "hiring job careerarc veterans jobs hospitality sanfrancisco retail http ca starbucks latest click barista opening recommend fit apply shift want work supervisor great california sales health center manager financial nursing\n",
      "\n",
      "Topic 5:\n",
      "abandoned vehicles dpt gone arrival closed request 15 http 07 opened iphone case st parked 08 vehicle duplicate 28 car bernal dr week 03 heights shore 35th ford 17th leavenworth\n",
      "\n",
      "Topic 6:\n",
      "ave intersection amp request bruno opened iphone case android closed http parking jose sidewalk van repair anza ness san ocean cabrillo oakdale potrero cleaning clement corner 45th 19th masonic lobos\n",
      "\n",
      "Topic 7:\n",
      "graffiti abatement report st request opened android http signal box iphone intersection mission pole van amp ness shelter 3rd bus coach stockton division market washington line sign kirkland gough dolores\n",
      "\n",
      "Topic 8:\n",
      "u0627 u0644 u064a u0648 u0645 u0646 u062a u0631 u0647 u0628 u0639 u062f u0643 u0633 u0642 u0641 u0634 u062d u0635 u0623 u0629 u062c u062e u0630 u0001f602 u0637 u0632 u061f u063a u06cc\n",
      "\n",
      "Topic 9:\n",
      "blvd geary iphone intersection amp shore request bay monterey opened alemany arguello defects http potholes graffiti sign presidio repair signal 37th closed box case 12th streetlight anza neighborh webster clement\n",
      "\n",
      "Topic 10:\n",
      "http parking space blocked drinking u2014 garbage containers traffic request sf opened repair new open311 like today good just way really sign u201d u201c u2019s blocking description defects photo time\n",
      "\n",
      "Topic 11:\n",
      "park golden gate requests bridge https lake presidio dolores heights outsidelands national psa marina golf bay glen ggp garden sanfrancisco bernal lands request outside u0001f309 manager posted just sunset area\n",
      "\n",
      "Topic 12:\n",
      "ufe0f u2764 u043e u0430 u0435 u043d u0442 u0438 u043a u0441 u2600 u0440 u043c u0432 u263a beach u0443 u043b u0001f64f https u0001f60d u043f home u0434 u0001f43e u0001f44c u0001f3e1 loving u26a1 u0001f4af\n",
      "\n",
      "Topic 13:\n",
      "https u2026 sf sanfrancisco just day love today amp happy photo new good coffee night mission best like california time great tonight posted beach birthday art life morning thanks amazing\n",
      "\n",
      "Topic 14:\n",
      "tree maintenance request opened iphone http st trees way monterey dr topped public ses branch buchanan university broke lily letter scott 1021 open311 park winston page hitting electric diamond sent\n"
     ]
    },
    {
     "data": {
      "text/plain": [
       "0     2229\n",
       "1      697\n",
       "2      308\n",
       "4      270\n",
       "5      122\n",
       "3       92\n",
       "6       31\n",
       "8       18\n",
       "7       14\n",
       "9        5\n",
       "12       4\n",
       "11       3\n",
       "14       2\n",
       "dtype: int64"
      ]
     },
     "execution_count": 327,
     "metadata": {},
     "output_type": "execute_result"
    }
   ],
   "source": [
    "nmf15, W_sklearn15, H_sklearn15 = run_nmf(document_term_mat, 15)\n",
    "describe_nmf_results(document_term_mat,W_sklearn15, H_sklearn15,feature_names,n_top_words = 30,  )\n",
    "#get the top cluster location for each geoid from the W matrix\n",
    "geoid_cluster_labels15 = W_sklearn15.argsort( )[::-1][:, 0]\n",
    "dftxt15clust = dftxt\n",
    "dftxt15clust['cluster'] = geoid_cluster_labels15\n",
    "dftxt15clust.cluster.value_counts()"
   ]
  },
  {
   "cell_type": "markdown",
   "metadata": {},
   "source": [
    "##What about with.... 20?"
   ]
  },
  {
   "cell_type": "code",
   "execution_count": 100,
   "metadata": {
    "collapsed": false
   },
   "outputs": [
    {
     "name": "stdout",
     "output_type": "stream",
     "text": [
      "Reconstruction error: 0.000128\n",
      "\n",
      "Topic 0:\n",
      "street sidewalk cleaning request opened http st iphone android pickup completed open311 trash 98 description 10 leavenworth mattress dumped folsom chair comple furniture waste lombard large 3rd shotwell avenue debris\n",
      "\n",
      "Topic 1:\n",
      "san francisco ca https cafe restaurant market sf bar california muni coffee calif food chinatown 24hourfitness event center stop time station soma district metro neighborhoods house bay amp city island\n",
      "\n",
      "Topic 2:\n",
      "graffiti abatement report st opened request android http signal box iphone intersection pole van ness shelter amp 3rd coach stockton bus division washington sign market kirkland line gough corner folsom\n",
      "\n",
      "Topic 3:\n",
      "closed case resolved completed st request http graffiti intersection amp transferred tree 15 ses maintenance pickup market process issues duplicate 18th streetlight sewer flooding cleaned meter maximo psa property 10\n",
      "\n",
      "Topic 4:\n",
      "hiring job careerarc veterans jobs hospitality sanfrancisco retail http ca starbucks latest click barista opening recommend fit apply shift want work supervisor great california sales health center manager financial nursing\n",
      "\n",
      "Topic 5:\n",
      "abandoned vehicles dpt gone arrival closed request 15 http 07 opened iphone case st parked 08 vehicle duplicate 28 car dr week bernal 03 35th shore ford 17th leavenworth playa\n",
      "\n",
      "Topic 6:\n",
      "ave intersection amp request bruno opened http case closed iphone android jose anza van ness repair san cabrillo potrero oakdale cleaning clement corner 19th 45th masonic sidewalk lobos silver ocean\n",
      "\n",
      "Topic 7:\n",
      "park golden gate requests bridge lake https presidio dolores outsidelands national psa golf request glen marina ggp garden outside lands sanfrancisco opened manager area u0001f309 bay goldengatebridge day iphone recreation\n",
      "\n",
      "Topic 8:\n",
      "ufe0f u2764 u2600 u263a u0001f60d u0001f64f home u0001f44c u0001f43e https u0001f602 u0001f3e1 love u0001f4af loving u26a1 u0001f44d u0001f3fb u2714 u0001f49b best u270c miss house u2615 u0001f618 periscope twin u2601 u0001f44f\n",
      "\n",
      "Topic 9:\n",
      "u0627 u0644 u064a u0648 u0645 u0646 u062a u0631 u0647 u0628 u0639 u062f u0643 u0633 u0642 u0641 u0634 u062d u0635 u0623 u0629 u062c u062e u0630 u0001f602 u0637 u0632 u061f u063a u06cc\n",
      "\n",
      "Topic 10:\n",
      "blvd geary iphone intersection amp shore request monterey bay opened alemany arguello defects http potholes sign presidio graffiti repair 37th signal box streetlight 12th closed neighborh anza case webster clement\n",
      "\n",
      "Topic 11:\n",
      "st intersection unattended amp iphone neglected illegal postings request opened neighborhood http graffiti left blighted fulton anza church neighborhoods divisadero octavia page fell steiner webster 14th buchanan fillmore neigh neig\n",
      "\n",
      "Topic 12:\n",
      "mission st district dolores meter cleaned https bay graffiti 24th 16th http sf booze taqueria night minna sanfrancisco scheduled amp request 19th valencia intersection pie eat morning brazil good capp\n",
      "\n",
      "Topic 13:\n",
      "u043e u0430 u0435 u043d u0442 u0438 u043a u0441 u0440 u0432 u043c u043b u0443 u043f u0434 u044b u0433 u044c u0431 u044f u0447 u0439 u0437 fillmore u044e castro u0448 u0436 https gt\n",
      "\n",
      "Topic 14:\n",
      "https u2026 sf sanfrancisco love day today amp new happy coffee best night time good california tonight like great birthday art life thanks amazing morning city summer come bar don\n",
      "\n",
      "Topic 15:\n",
      "garbage containers android st request opened http left oakdale bin serviced gough outreach overflowing city trash cans 3rd public 20th iphone noe naples rosa loose resolved 14th francisco buchanan dumped\n",
      "\n",
      "Topic 16:\n",
      "beach ocean sunset district baker sf oceanbeach north view taraval south day lands end 47th sutro parks4all bridge picnic u0001f30a marina u0001f309 sanfrancisco weekend california u2728 goldengate https fun china\n",
      "\n",
      "Topic 17:\n",
      "just photo posted hill heights https u2014 drinking bernal potrero bay bridge house nob diamond ipa chinatown peaks twin like russian 21stamendment kite sf good pizza pacific sanfrancisco ale brewing\n",
      "\n",
      "Topic 18:\n",
      "parking blocked space sidewalk blocking traffic request opened http sign iphone residential cecelia car closed repair 80 open311 bayarea 16th lane case description pmlohzdgyh invalid accident st way 101 nb\n",
      "\n",
      "Topic 19:\n",
      "http tree maintenance sf drinking u2014 today request opened like new good way really u201d u201c open311 u2019s defects time potholes need iphone work streetlight repair public u0001f602 don sewer\n"
     ]
    }
   ],
   "source": [
    "nmf20, W_sklearn20, H_sklearn20 =run_nmf(document_term_mat, 20)\n",
    "describe_nmf_results(document_term_mat,W_sklearn20, H_sklearn20, feature_names )\n"
   ]
  },
  {
   "cell_type": "code",
   "execution_count": 402,
   "metadata": {
    "collapsed": false
   },
   "outputs": [
    {
     "data": {
      "text/plain": [
       "0     2259\n",
       "9     1109\n",
       "19      88\n",
       "17      74\n",
       "1       74\n",
       "16      65\n",
       "2       44\n",
       "8       27\n",
       "15      14\n",
       "4       13\n",
       "13       7\n",
       "5        7\n",
       "3        6\n",
       "7        4\n",
       "11       1\n",
       "18       1\n",
       "14       1\n",
       "6        1\n",
       "dtype: int64"
      ]
     },
     "execution_count": 402,
     "metadata": {},
     "output_type": "execute_result"
    }
   ],
   "source": [
    "#get the top cluster location for each geoid from the W matrix\n",
    "geoid_cluster_labels20 = W_sklearn20.argsort( )[::-1][:, 0]\n",
    "df_20 = dftxt.copy()\n",
    "df_20['cluster'] = geoid_cluster_labels20\n",
    "df_20.cluster.value_counts()"
   ]
  },
  {
   "cell_type": "markdown",
   "metadata": {},
   "source": [
    "##What about 6?\n",
    "###Answer: Six is too few. There are no subclusters."
   ]
  },
  {
   "cell_type": "code",
   "execution_count": 205,
   "metadata": {
    "collapsed": false
   },
   "outputs": [
    {
     "name": "stdout",
     "output_type": "stream",
     "text": [
      "\n",
      "Topic 0:\n",
      "street sidewalk cleaning request opened http ave iphone st android garbage completed intersection open311 pickup trash amp case description 98 10 closed geary blvd dumped bruno mattress oakdale blocking leavenworth\n",
      "\n",
      "Topic 1:\n",
      "https san francisco u2026 ca sf sanfrancisco http just ufe0f day love park today photo coffee california time new cafe amp restaurant good happy u2764 golden night city bar like\n",
      "\n",
      "Topic 2:\n",
      "u0627 u0644 u064a u0648 u0645 u0646 u062a u0647 u0631 u0628 u0639 u062f u0643 u0633 u0642 u0641 u0634 u062d u0635 u0623 u0629 u062c u062e u0630 u0001f602 u0637 u0632 u061f u063a ness\n",
      "\n",
      "Topic 3:\n",
      "hiring job careerarc jobs veterans http hospitality ca sanfrancisco retail starbucks latest click barista opening san francisco fit apply recommend shift work want great supervisor financial center sales california manager\n",
      "\n",
      "Topic 4:\n",
      "closed case resolved st completed request http graffiti intersection abandoned vehicles amp 15 transferred tree mission maintenance containers park repair streetlight ave dpt ses market duplicate issues requests process pickup\n",
      "\n",
      "Topic 5:\n",
      "st graffiti intersection opened request iphone http amp unattended neglected ave illegal postings abatement report neighborhood android left blvd box signal anza blighted neighborhoods fulton sign geary pole church steiner\n"
     ]
    }
   ],
   "source": [
    "mf6, W_sklearn6, H_sklearn6 =run_nmf(document_term_mat, 6)\n",
    "describe_nmf_results(document_term_mat,W_sklearn6, H_sklearn6, feature_names )\n",
    "\n"
   ]
  },
  {
   "cell_type": "markdown",
   "metadata": {},
   "source": [
    "#Test Two: Can it cluster tweets!"
   ]
  },
  {
   "cell_type": "code",
   "execution_count": 104,
   "metadata": {
    "collapsed": true
   },
   "outputs": [],
   "source": [
    "alltwt_doct = df.text.tolist()"
   ]
  },
  {
   "cell_type": "code",
   "execution_count": 134,
   "metadata": {
    "collapsed": false
   },
   "outputs": [],
   "source": [
    "docmatrix_alltwts20, featurenames_alltwt20, tfidfvectorized_alltwt20 = create_tfidf(alltwt_doct, 10000)\n",
    "nmf_altwt20, W_altwt20, H_alltwt20 = run_nmf(docmatrix_alltwts20, 20)\n",
    "   "
   ]
  },
  {
   "cell_type": "code",
   "execution_count": 137,
   "metadata": {
    "collapsed": false
   },
   "outputs": [
    {
     "name": "stdout",
     "output_type": "stream",
     "text": [
      "\n",
      "Topic 0:\n",
      "closed case resolved completed st request http graffiti intersection amp transferred tree ses 15 maintenance market process pickup duplicate issues 18th streetlight sewer cleaned flooding meter property 17th maximo sr\n",
      "\n",
      "Topic 1:\n",
      "san francisco ca https cafe restaurant market muni bar sf california chinatown 24hourfitness coffee metro food calif bay center station district time stop neighborhoods house amp philzcoffee island body bank\n",
      "\n",
      "Topic 2:\n",
      "st unattended intersection iphone neglected amp illegal postings opened request neighborhood http graffiti left blighted fulton anza church neighborhoods divisadero octavia page fell steiner webster buchanan 14th fillmore neig alameda\n",
      "\n",
      "Topic 3:\n",
      "street sidewalk cleaning request opened http st iphone android completed pickup trash open311 98 10 description leavenworth mattress dumped folsom chair furniture waste lombard shotwell 3rd comple large 1098 newhall\n",
      "\n",
      "Topic 4:\n",
      "hiring job careerarc veterans jobs hospitality sanfrancisco retail ca http starbucks latest click barista opening apply recommend fit shift want work supervisor great sales california health manager center nursing details\n",
      "\n",
      "Topic 5:\n",
      "u0627 u0644 u064a u0648 u0645 u0646 u062a u0631 u0647 u0628 u0639 u062f u0643 u0642 u0633 u0641 u062d u0634 u0635 u0623 u0629 u062c u0630 u062e u0001f602 u0637 u0632 u061f u063a u06cc\n",
      "\n",
      "Topic 6:\n",
      "ave intersection amp bruno request http opened case closed iphone android anza jose van ness cabrillo san repair ocean potrero clement cleaning oakdale masonic 45th 5th sidewalk central corner lobos\n",
      "\n",
      "Topic 7:\n",
      "golden gate bridge https bay goldengatebridge sanfrancisco national outsidelands u0001f309 san presidio goldengate posted u0001f305 francisco lands california just lake turk u0001f301 let overlook outside u0001f602 leavenworth ggbridge park golf\n",
      "\n",
      "Topic 8:\n",
      "abandoned vehicles dpt gone arrival closed request 15 http 07 opened case iphone st parked 08 duplicate 28 vehicle suv dr car 03 week 35th shore ford leavenworth 17th lawton\n",
      "\n",
      "Topic 9:\n",
      "graffiti abatement report st opened request android http signal box iphone intersection van pole amp ness stockton shelter coach division bus 3rd washington kirkland sign market line gough pine small\n",
      "\n",
      "Topic 10:\n",
      "blvd geary iphone intersection shore amp request bay monterey opened arguello alemany defects http potholes presidio graffiti 37th repair signal sign box closed streetlight 12th neighborh 42nd case anza dropping\n",
      "\n",
      "Topic 11:\n",
      "park requests dolores lake request psa opened iphone glen presidio manager square ggp https marina fulton mountain open311 aquatic playground mclaren lincoln sunset lafayette rpd india broken description parkside golf\n",
      "\n",
      "Topic 12:\n",
      "u043e u0430 u0435 u043d u0442 u0438 u043a u0441 u0440 u0432 u043c u043b u0443 u043f u0434 u044b u0433 u044c u0431 u044f u0447 u0437 u0439 fillmore u044e castro u0448 u0436 https u0445\n",
      "\n",
      "Topic 13:\n",
      "mission st district dolores meter cleaned graffiti bay https 24th 16th http request taqueria sf scheduled pad 19th amp minna intersection sanfrancisco valencia pie delores brazil morning bus good transferred\n",
      "\n",
      "Topic 14:\n",
      "http drinking u2014 tree sf maintenance new today like request really opened good way just open311 u201d u2019s u201c need time defects repair streetlight photo u0001f602 ipa potholes life work\n",
      "\n",
      "Topic 15:\n",
      "garbage containers android st request opened http left bin oakdale gough overflowing serviced outreach trash public city 3rd cans iphone 20th buchanan 14th rosa noe resolved loose market stillman francisco\n",
      "\n",
      "Topic 16:\n",
      "parking blocked space sidewalk traffic blocking request opened sign http iphone cecelia 80 car bayarea repair closed residential landscaping lane pmlohzdgyh st 16th open311 accident 101 case nb invalid description\n",
      "\n",
      "Topic 17:\n",
      "ufe0f u2764 beach ocean u2600 u263a u0001f60d u0001f64f u0001f602 u0001f44c home triangle u0001f43e baker u0001f4af love u0001f44d u26a1 u0001f3e1 loving 43015 best https twin u2714 1amsf peaks miss u0001f49b u0001f618\n",
      "\n",
      "Topic 18:\n",
      "heights bernal hill potrero pacific just diamond district photo posted https nob financial sf portola bernalheights boulevard center potholes defects sunset fog west teller gates yr sanfrancisco telegraph jobs pet\n",
      "\n",
      "Topic 19:\n",
      "https u2026 sf sanfrancisco just day love today amp happy new photo best california good night time coffee like great tonight birthday art life posted city morning thanks summer amazing\n"
     ]
    }
   ],
   "source": [
    "describe_nmf_results(docmatrix_alltwts20, W_altwt20, H_alltwt20, featurenames_alltwt20 )\n"
   ]
  },
  {
   "cell_type": "markdown",
   "metadata": {},
   "source": [
    "m\n",
    "\n",
    "###Now Turn These documents into Maps"
   ]
  },
  {
   "cell_type": "code",
   "execution_count": 379,
   "metadata": {
    "collapsed": false
   },
   "outputs": [
    {
     "data": {
      "text/plain": [
       "0     2229\n",
       "1      697\n",
       "2      308\n",
       "4      270\n",
       "5      122\n",
       "3       92\n",
       "6       31\n",
       "8       18\n",
       "7       14\n",
       "9        5\n",
       "12       4\n",
       "11       3\n",
       "14       2\n",
       "dtype: int64"
      ]
     },
     "execution_count": 379,
     "metadata": {},
     "output_type": "execute_result"
    }
   ],
   "source": [
    "#get the top cluster location for each geoid from the W matrix\n",
    "geoid_cluster_labels15 = W_sklearn15.argsort( )[::-1][:, 0]\n",
    "dftxt15clust = dftxt.copy()\n",
    "dftxt15clust['cluster'] = geoid_cluster_labels15\n",
    "dftxt15clust.cluster.value_counts()"
   ]
  },
  {
   "cell_type": "code",
   "execution_count": 377,
   "metadata": {
    "collapsed": false
   },
   "outputs": [
    {
     "data": {
      "text/plain": [
       "0    1749\n",
       "1     605\n",
       "3     390\n",
       "2     291\n",
       "7     240\n",
       "6     147\n",
       "4     141\n",
       "5     102\n",
       "8      95\n",
       "9      35\n",
       "dtype: int64"
      ]
     },
     "execution_count": 377,
     "metadata": {},
     "output_type": "execute_result"
    }
   ],
   "source": [
    "#get the top cluster location for each geoid from the W matrix\n",
    "geoid_cluster_labels = W_sklearn.argsort( )[::-1][:, 0]\n",
    "dftxt10clust = dftxt.copy()\n",
    "dftxt10clust['cluster'] = geoid_cluster_labels\n",
    "\n",
    "#The value count tells you how many geoids belong to each cluster. \n",
    "dftxt10clust.cluster.value_counts()\n",
    "\n"
   ]
  },
  {
   "cell_type": "code",
   "execution_count": 378,
   "metadata": {
    "collapsed": false
   },
   "outputs": [
    {
     "data": {
      "text/plain": [
       "0     2229\n",
       "1      697\n",
       "2      308\n",
       "4      270\n",
       "5      122\n",
       "3       92\n",
       "6       31\n",
       "8       18\n",
       "7       14\n",
       "9        5\n",
       "12       4\n",
       "11       3\n",
       "14       2\n",
       "dtype: int64"
      ]
     },
     "execution_count": 378,
     "metadata": {},
     "output_type": "execute_result"
    }
   ],
   "source": [
    "dftxt15clust.cluster.value_counts()"
   ]
  },
  {
   "cell_type": "markdown",
   "metadata": {},
   "source": [
    "####Retrieve the geo files"
   ]
  },
  {
   "cell_type": "code",
   "execution_count": 380,
   "metadata": {
    "collapsed": true
   },
   "outputs": [],
   "source": [
    "geodf = pd.read_csv('data/intermediate_data/sf_only_sql_shapes.csv')\n",
    "#format the dataframe\n",
    "geodf['geoid10'] = geodf.geoid10.astype('str')\n",
    "geodf.drop('Unnamed: 0', axis = 1, inplace = True)\n"
   ]
  },
  {
   "cell_type": "markdown",
   "metadata": {},
   "source": [
    "####Merge the dataframes of labeled clusters with the shape files"
   ]
  },
  {
   "cell_type": "code",
   "execution_count": 381,
   "metadata": {
    "collapsed": true
   },
   "outputs": [],
   "source": [
    "#ned to format the geoid column for merging\n",
    "dftxt10clust['geoid10'] =dftxt10clust['geoid10'].apply(lambda x: x[1:])\n",
    "dftxt15clust['geoid10'] =dftxt15clust['geoid10'].apply(lambda x: x[1:])"
   ]
  },
  {
   "cell_type": "code",
   "execution_count": 383,
   "metadata": {
    "collapsed": true
   },
   "outputs": [],
   "source": [
    "\n",
    "df10clust = pd.merge(geodf, dftxt10clust, on='geoid10', how='outer')\n",
    "df15clust = pd.merge(geodf, dftxt15clust, on='geoid10', how='outer')"
   ]
  },
  {
   "cell_type": "code",
   "execution_count": 384,
   "metadata": {
    "collapsed": false
   },
   "outputs": [],
   "source": [
    "#drop shape files missing tweets and clusters \n",
    "df15clust.dropna(inplace = True)\n",
    "df10clust.dropna(inplace = True)"
   ]
  },
  {
   "cell_type": "code",
   "execution_count": null,
   "metadata": {
    "collapsed": true
   },
   "outputs": [],
   "source": []
  },
  {
   "cell_type": "code",
   "execution_count": 399,
   "metadata": {
    "collapsed": true
   },
   "outputs": [],
   "source": [
    "#make a dictionary to code each cluster as belonging to a different 'feature' group \n",
    "nmf_10dict = {0: 'city', 1: 'buisness_a', 2:'city', 3: 'hire', 4: 'city', 5: 'city', 6: 'buisness_b', 7: 'city', 8: 'city', 9: 'park_a'}\n",
    "nmf_15dict = {0: 'city', 1: 'buisness_a', 2:'city', 3: 'city', 4: 'hire', 5: 'city', 6: 'city', 7: 'city', 8: 'city', 9: 'city', 10: 'city', 11:'park_a', 12: 'city', 13: 'park_b', 14: 'city'}\n",
    "\n",
    "nmf_20dict = {0: 'city', 1: 'buisness_a', 2:'city', 3: 'city', 4: 'hire', 5: 'city', 6: 'city', 7: 'park_a', 8: 'city', 9: 'city', 10: 'city', 11:'park_b', 12: 'city', 13: 'city', 14: 'city', 15:'city', 16: 'city', 17: 'city', 18:'buisness_b', 19:'park_c' }"
   ]
  },
  {
   "cell_type": "code",
   "execution_count": 386,
   "metadata": {
    "collapsed": false
   },
   "outputs": [],
   "source": [
    "#initialize a dictionary for color mapping. \n",
    "#This maps each label to a different color, while preserving unique colors for each cluster.\n",
    "color_dict = {\n",
    "'park_a' :['#A2CD5A'],\n",
    "'park_b' :['#BCEE68'],       \n",
    "'park_c' :['#CAFF70'],\n",
    "'buisness_a':['#E68A00'],\n",
    "'buisness_b':['#FFAD33'],\n",
    "'hire': ['#70B8FF'],\n",
    "'city': ['#A3C2C2']}"
   ]
  },
  {
   "cell_type": "code",
   "execution_count": 403,
   "metadata": {
    "collapsed": false
   },
   "outputs": [
    {
     "data": {
      "text/html": [
       "<div>\n",
       "<table border=\"1\" class=\"dataframe\">\n",
       "  <thead>\n",
       "    <tr style=\"text-align: right;\">\n",
       "      <th></th>\n",
       "      <th>geoid10</th>\n",
       "      <th>text</th>\n",
       "      <th>cluster</th>\n",
       "    </tr>\n",
       "  </thead>\n",
       "  <tbody>\n",
       "    <tr>\n",
       "      <th>0</th>\n",
       "      <td>060750101001000</td>\n",
       "      <td>[u'Acabo', u'de', u'publicar', u'una', u'foto'...</td>\n",
       "      <td>0</td>\n",
       "    </tr>\n",
       "    <tr>\n",
       "      <th>1</th>\n",
       "      <td>060750101001001</td>\n",
       "      <td>[u'a', u\"gentleman's\", u'quarters', u'at', u'#...</td>\n",
       "      <td>0</td>\n",
       "    </tr>\n",
       "    <tr>\n",
       "      <th>2</th>\n",
       "      <td>060750101001002</td>\n",
       "      <td>[u'Remember', u'why', u'you', u'started', u'ht...</td>\n",
       "      <td>0</td>\n",
       "    </tr>\n",
       "    <tr>\n",
       "      <th>3</th>\n",
       "      <td>060750101001004</td>\n",
       "      <td>[u'My', u'last', u'#SFO', u'post', u'\\U0001f62...</td>\n",
       "      <td>0</td>\n",
       "    </tr>\n",
       "    <tr>\n",
       "      <th>4</th>\n",
       "      <td>060750101001005</td>\n",
       "      <td>[u'I', u'want', u'one', u'for', u'my', u'birth...</td>\n",
       "      <td>9</td>\n",
       "    </tr>\n",
       "  </tbody>\n",
       "</table>\n",
       "</div>"
      ],
      "text/plain": [
       "           geoid10                                               text  cluster\n",
       "0  060750101001000  [u'Acabo', u'de', u'publicar', u'una', u'foto'...        0\n",
       "1  060750101001001  [u'a', u\"gentleman's\", u'quarters', u'at', u'#...        0\n",
       "2  060750101001002  [u'Remember', u'why', u'you', u'started', u'ht...        0\n",
       "3  060750101001004  [u'My', u'last', u'#SFO', u'post', u'\\U0001f62...        0\n",
       "4  060750101001005  [u'I', u'want', u'one', u'for', u'my', u'birth...        9"
      ]
     },
     "execution_count": 403,
     "metadata": {},
     "output_type": "execute_result"
    }
   ],
   "source": [
    "df_20.head()"
   ]
  },
  {
   "cell_type": "markdown",
   "metadata": {},
   "source": [
    "####Create geojason file"
   ]
  },
  {
   "cell_type": "code",
   "execution_count": 388,
   "metadata": {
    "collapsed": false
   },
   "outputs": [],
   "source": [
    "#assign a label to each cluster in the dataframe\n",
    "df10clust['label'] = df10clust[\"cluster\"].apply(lambda x:nmf_10dict[int(float(x))])\n",
    "#assign a color to each cluster  \n",
    "df10clust['hexcolor']=df10clust['label'].apply(lambda x : color_dict[x][0])\n",
    "\n",
    "#assign a label to each cluster in the dataframe\n",
    "df15clust['label'] = df15clust[\"cluster\"].apply(lambda x:nmf_15dict[int(float(x))])\n",
    "#assign a color to each cluster  \n",
    "df15clust['hexcolor']=df15clust['label'].apply(lambda x : color_dict[x][0])"
   ]
  },
  {
   "cell_type": "code",
   "execution_count": 404,
   "metadata": {
    "collapsed": false
   },
   "outputs": [],
   "source": [
    "df_20['geoid10'] =df_20['geoid10'].apply(lambda x: x[1:])\n",
    "df_20 = pd.merge(geodf, df_20, on='geoid10', how='outer')\n",
    "df_20.dropna(inplace = True)\n",
    "\n",
    "\n",
    "#assign a label to each cluster in the dataframe\n",
    "df_20['label'] = df_20[\"cluster\"].apply(lambda x:nmf_20dict[int(float(x))])\n",
    "#assign a color to each cluster  \n",
    "df_20['hexcolor']=df_20['label'].apply(lambda x : color_dict[x][0])\n",
    "\n",
    "\n"
   ]
  },
  {
   "cell_type": "code",
   "execution_count": 405,
   "metadata": {
    "collapsed": true
   },
   "outputs": [],
   "source": [
    "df_20.to_pickle('data/intermediate_data/nmf/nm_20df.pkl')\n",
    "dataframe_to_geojson(df_20, 'map_making/clusters/data/clustergeo_nmf20.json')"
   ]
  },
  {
   "cell_type": "code",
   "execution_count": 337,
   "metadata": {
    "collapsed": false
   },
   "outputs": [
    {
     "data": {
      "text/html": [
       "<div>\n",
       "<table border=\"1\" class=\"dataframe\">\n",
       "  <thead>\n",
       "    <tr style=\"text-align: right;\">\n",
       "      <th></th>\n",
       "      <th>geometry</th>\n",
       "      <th>geoid10</th>\n",
       "      <th>text</th>\n",
       "      <th>cluster</th>\n",
       "      <th>label</th>\n",
       "      <th>hexcolor</th>\n",
       "    </tr>\n",
       "  </thead>\n",
       "  <tbody>\n",
       "  </tbody>\n",
       "</table>\n",
       "</div>"
      ],
      "text/plain": [
       "Empty DataFrame\n",
       "Columns: [geometry, geoid10, text, cluster, label, hexcolor]\n",
       "Index: []"
      ]
     },
     "execution_count": 337,
     "metadata": {},
     "output_type": "execute_result"
    }
   ],
   "source": [
    "df15clust.head()"
   ]
  },
  {
   "cell_type": "code",
   "execution_count": 389,
   "metadata": {
    "collapsed": true
   },
   "outputs": [],
   "source": [
    "def add_properties_geo(row):\n",
    "    '''\n",
    "    INPUT: a row of a datafram.\n",
    "    OUTPUT: A geo_json with the properties cluster, label and hexcolor.'''\n",
    "    \n",
    "    #assign relevant columns as properties\n",
    "    geoid = row['geoid10']\n",
    "    hexcolor = row['hexcolor']\n",
    "    cluster = row['cluster']\n",
    "    label = row['label']\n",
    "    \n",
    "    geo_json = {\"type\": \"Feature\", \"geometry\": json.loads(row['geometry']),\\\n",
    "                \"properties\": {'geoid': geoid ,'label': label,\\\n",
    "                'cluster': cluster , 'hexcolor' : hexcolor}}\n",
    "    return geo_json\n",
    "\n",
    "def dataframe_to_geojson(df, outfilename):\n",
    "    '''\n",
    "    INPUT: dataframe with a count, geoid10, and list of tokens.\n",
    "    OUTPUT: A json geojason file dumped where the argument 'outfilename' specifies. \n",
    "    '''\n",
    "    #reassign numeric columns as strings for json formatting\n",
    "    df['geoid10'] = df['geoid10'].astype('str')\n",
    "    df[\"cluster\"] = df['cluster'].astype('str')\n",
    "    \n",
    "    #call function add_properties_geo on every row of the dataframe to create a geo_json.\n",
    "    list_to_export = []\n",
    "    for idx, row in df.iterrows():\n",
    "        list_to_export.append(add_properties_geo(row))\n",
    "    \n",
    "    #dump the geo_json to the output assigned by 'outfilename'\n",
    "    with open(outfilename, 'w') as outfile:\n",
    "        json.dump(list_to_export, outfile)"
   ]
  },
  {
   "cell_type": "code",
   "execution_count": 406,
   "metadata": {
    "collapsed": false
   },
   "outputs": [],
   "source": [
    "#save dataframes with all tokens for later analysis\n",
    "df10clust.to_pickle('data/intermediate_data/nmf/nmf10_df.pkl')\n",
    "df15clust.to_pickle('data/intermediate_data/nmf/nm_15df.pkl')\n",
    "\n",
    "dataframe_to_geojson(df10clust, 'map_making/clusters/data/clustergeo_nmf10.json')\n",
    "dataframe_to_geojson(df15clust, 'map_making/clusters/data/clustergeo_nmf15.json')"
   ]
  },
  {
   "cell_type": "code",
   "execution_count": 325,
   "metadata": {
    "collapsed": false
   },
   "outputs": [
    {
     "data": {
      "text/plain": [
       "array(['1.0', '0.0', '6.0', '5.0', '3.0', '2.0', '4.0', '7.0', '8.0', '9.0'], dtype=object)"
      ]
     },
     "execution_count": 325,
     "metadata": {},
     "output_type": "execute_result"
    }
   ],
   "source": [
    "df15clust.cluster.unique()"
   ]
  },
  {
   "cell_type": "markdown",
   "metadata": {},
   "source": [
    "#What are the Latent Features NMF Uncovers?:\n",
    "    \n",
    "\n",
    "### HIRING\n",
    "####20 CRITERIA\n",
    "\n",
    "Topic 4: 13\n",
    "hiring job careerarc veterans jobs hospitality sanfrancisco retail http ca starbucks latest click barista opening recommend fit apply shift want work supervisor great california sales health center manager financial nursing\n",
    "\n",
    "####15 CRITERIA\n",
    "Topic 4: 270\n",
    "hiring job careerarc veterans jobs hospitality sanfrancisco retail http ca starbucks latest click barista opening recommend fit apply shift want work supervisor great california sales health center manager financial nursing\n",
    "\n",
    "####10 CRITERIA\n",
    "Topic 3:390\n",
    "hiring job careerarc jobs veterans hospitality http sanfrancisco retail ca starbucks latest click barista opening apply recommend fit shift work want great supervisor california sales center health financial manager nursing\n",
    "\n",
    "\n",
    "###PARKS\n",
    "####20 CRITERIA\n",
    "Topic 7: 4\n",
    "park golden gate requests bridge lake https presidio dolores outsidelands national psa golf request glen marina ggp garden outside lands sanfrancisco opened manager area u0001f309 bay goldengatebridge day iphone recreation\n",
    "\n",
    "Topic 16: 65\n",
    "beach ocean sunset district baker sf oceanbeach north view taraval south day lands end 47th sutro parks4all bridge picnic u0001f30a marina u0001f309 sanfrancisco weekend california u2728 goldengate https fun china\n",
    "\n",
    "####15 CRITERIA\n",
    "Topic 11: 3\n",
    "park golden gate requests bridge https lake presidio dolores heights outsidelands national psa marina golf bay glen ggp garden sanfrancisco bernal lands request outside u0001f309 manager posted just sunset area\n",
    "\n",
    "####10 CRITERIA\n",
    "Topic 9: 35\n",
    "park golden gate requests bridge lake https http presidio dolores heights outsidelands national psa bay request glen marina golf ggp bernal garden sanfrancisco outside lands just opened manager day sunset\n",
    "\n",
    "###LOCAL BUISNESS\n",
    "####20 CRITERIA\n",
    "Topic 12: \n",
    "mission st district dolores meter cleaned https bay graffiti 24th 16th http sf booze taqueria night minna sanfrancisco scheduled amp request 19th valencia intersection pie eat morning brazil good capp\n",
    "\n",
    "Topic 17: 74\n",
    "just photo posted hill heights https u2014 drinking bernal potrero bay bridge house nob diamond ipa chinatown peaks twin like russian 21stamendment kite sf good pizza pacific sanfrancisco ale brewing\n",
    "\n",
    "Topic 1: 74\n",
    "san francisco ca https cafe restaurant market sf bar california muni coffee calif food chinatown 24hourfitness event center stop time station soma district metro neighborhoods house bay amp city island\n",
    "\n",
    "####15 CRITERIA\n",
    "Topic 1: 697\n",
    "san francisco ca https cafe restaurant market sf heights bar district muni california chinatown coffee food calif bay 24hourfitness event center stop house time station metro soma city neighborhoods amp\n",
    " \n",
    "####10 CRITERIA\n",
    " \n",
    "Topic 6:147\n",
    "san francisco ca https http cafe restaurant sf market heights muni bar district california chinatown stop coffee time calif food center bay event metro 24hourfitness station house soma city drinking\n",
    "\n",
    "Topic 1:0605\n",
    "https u2026 sf sanfrancisco ufe0f just day love today photo happy new u2764 amp good like best night mission coffee time california beach great tonight posted art morning life birthday\n",
    " \n",
    "###ONE HAPPY PERSON\n",
    "####20 CRITERIA\n",
    "\n",
    "Topic 14:  1\n",
    "https u2026 sf sanfrancisco love day today amp new happy coffee best night time good california tonight like great birthday art life thanks amazing morning city summer come bar don\n",
    "\n",
    "\n",
    "\n",
    "####15 CRITERIA\n",
    "Topic 13: -\n",
    "https u2026 sf sanfrancisco just day love today amp happy photo new good coffee night mission best like california time great tonight posted beach birthday art life morning thanks amazing\n",
    "\n",
    "####10 CRITERIA\n",
    "\n",
    "###City Buiness     \n",
    "\n",
    "####20 CRITERIA\n",
    "\n",
    "Topic 0: 2259\n",
    "street sidewalk cleaning request opened http st iphone android pickup completed open311 trash 98 description 10 leavenworth mattress dumped folsom chair comple furniture waste lombard large 3rd shotwell avenue debris\n",
    "\n",
    "Topic 18: 1\n",
    "parking blocked space sidewalk blocking traffic request opened http sign iphone residential cecelia car closed repair 80 open311 bayarea 16th lane case description pmlohzdgyh invalid accident st way 101 nb\n",
    "\n",
    "Topic 3: 6\n",
    "closed case resolved completed st request http graffiti intersection amp transferred tree 15 ses maintenance pickup market process issues duplicate 18th streetlight sewer flooding cleaned meter maximo psa property 10\n",
    "\n",
    "Topic 19: 88\n",
    "http tree maintenance sf drinking u2014 today request opened like new good way really u201d u201c open311 u2019s defects time potholes need iphone work streetlight repair public u0001f602 don sewer \n",
    "\n",
    "Topic 15:14\n",
    "garbage containers android st request opened http left oakdale bin serviced gough outreach overflowing city trash cans 3rd public 20th iphone noe naples rosa loose resolved 14th francisco buchanan dumped\n",
    "\n",
    "Topic 5: 7\n",
    "abandoned vehicles dpt gone arrival closed request 15 http 07 opened iphone case st parked 08 vehicle duplicate 28 car dr week bernal 03 35th shore ford 17th leavenworth playa\n",
    "\n",
    "Topic 11: 1\n",
    "st intersection unattended amp iphone neglected illegal postings request opened neighborhood http graffiti left blighted fulton anza church neighborhoods divisadero octavia page fell steiner webster 14th buchanan fillmore neigh neig\n",
    "\n",
    "Topic 2:44\n",
    "graffiti abatement report st opened request android http signal box iphone intersection pole van ness shelter amp 3rd coach stockton bus division washington sign market kirkland line gough corner folsom\n",
    "\n",
    "Topic 10:\n",
    "blvd geary iphone intersection amp shore request monterey bay opened alemany arguello defects http potholes sign presidio graffiti repair 37th signal box streetlight 12th closed neighborh anza case webster clement\n",
    "\n",
    "####15 CRITERIA\n",
    "Topic 0: 229\n",
    "street sidewalk cleaning request opened http st iphone android garbage trash pickup open311 completed 98 description 10 dumped leavenworth mattress folsom chair furniture comple 3rd waste lombard blocking avenue shotwell\n",
    "\n",
    "Topic 2:308\n",
    "st intersection unattended iphone amp neglected illegal postings request opened neighborhood http graffiti left blighted fulton anza church neighborhoods octavia divisadero page steiner fell 14th webster fillmore buchanan neigh neig\n",
    "\n",
    "Topic 3: 92\n",
    "closed case resolved completed st request http graffiti intersection amp transferred mission 15 pickup ses containers market process issues duplicate cleaned 18th meter streetlight sewer flooding psa maximo 17th 10\n",
    "\n",
    "Topic 5: 122\n",
    "abandoned vehicles dpt gone arrival closed request 15 http 07 opened iphone case st parked 08 vehicle duplicate 28 car bernal dr week 03 heights shore 35th ford 17th leavenworth\n",
    "\n",
    "Topic 6: 31\n",
    "ave intersection amp request bruno opened iphone case android closed http parking jose sidewalk van repair anza ness san ocean cabrillo oakdale potrero cleaning clement corner 45th 19th masonic lobos\n",
    "\n",
    "Topic 7: 14\n",
    "graffiti abatement report st request opened android http signal box iphone intersection mission pole van amp ness shelter 3rd bus coach stockton division market washington line sign kirkland gough dolores\n",
    "\n",
    "Topic 9: 5\n",
    "blvd geary iphone intersection amp shore request bay monterey opened alemany arguello defects http potholes graffiti sign presidio repair signal 37th closed box case 12th streetlight anza neighborh webster clement\n",
    "\n",
    "Topic 10:\n",
    "http parking space blocked drinking u2014 garbage containers traffic request sf opened repair new open311 like today good just way really sign u201d u201c u2019s blocking description defects photo time\n",
    "\n",
    "Topic 14:2\n",
    "tree maintenance request opened iphone http st trees way monterey dr topped public ses branch buchanan university broke lily letter scott 1021 open311 park winston page hitting electric diamond sent\n",
    "\n",
    "####10 CRITERIA\n",
    "Topic 8:95\n",
    "ave intersection amp blvd request opened http geary iphone bruno android closed parking case repair anza van ness sidewalk graffiti jose sign cabrillo san clement ocean oakdale traffic potrero illegal\n",
    "\n",
    "Topic 4:141\n",
    "abandoned vehicles dpt gone arrival closed http request 15 07 opened iphone case st parked 08 vehicle duplicate car 28 dr bernal week ave 03 heights shore 35th ford open311\n",
    "\n",
    "Topic 5: 102\n",
    "closed case resolved completed request st http graffiti intersection amp transferred tree mission maintenance 15 containers ses pickup issues market process meter cleaned duplicate streetlight sewer 18th flooding garbage repair\n",
    "\n",
    "Topic 2: 291\n",
    "st graffiti request opened intersection http iphone amp unattended neglected postings illegal abatement report neighborhood android left blighted fulton box signal neighborhoods church pole sign buchanan steiner fell mission anza\n",
    "\n",
    "\n",
    "###MISC\n",
    "\n",
    "Topic 6: 1\n",
    "ave intersection amp request bruno opened http case closed iphone android jose anza van ness repair san cabrillo potrero oakdale cleaning clement corner 19th 45th masonic sidewalk lobos silver ocean\n",
    "\n",
    "###UNICODE\n",
    "####20 CRITERIA\n",
    "Topic 13: 7\n",
    "u043e u0430 u0435 u043d u0442 u0438 u043a u0441 u0440 u0432 u043c u043b u0443 u043f u0434 u044b u0433 u044c u0431 u044f u0447 u0439 u0437 fillmore u044e castro u0448 u0436 https gt\n",
    "\n",
    "Topic 8:27\n",
    "ufe0f u2764 u2600 u263a u0001f60d u0001f64f home u0001f44c u0001f43e https u0001f602 u0001f3e1 love u0001f4af loving u26a1 u0001f44d u0001f3fb u2714 u0001f49b best u270c miss house u2615 u0001f618 periscope twin u2601 u0001f44f\n",
    "\n",
    "Topic 9:1109\n",
    "u0627 u0644 u064a u0648 u0645 u0646 u062a u0631 u0647 u0628 u0639 u062f u0643 u0633 u0642 u0641 u0634 u062d u0635 u0623 u0629 u062c u062e u0630 u0001f602 u0637 u0632 u061f u063a u06cc\n",
    "\n",
    "####15 CRITERIA\n",
    "Topic 8: 18\n",
    "u0627 u0644 u064a u0648 u0645 u0646 u062a u0631 u0647 u0628 u0639 u062f u0643 u0633 u0642 u0641 u0634 u062d u0635 u0623 u0629 u062c u062e u0630 u0001f602 u0637 u0632 u061f u063a u06cc\n",
    "\n",
    "Topic 12: 4\n",
    "ufe0f u2764 u043e u0430 u0435 u043d u0442 u0438 u043a u0441 u2600 u0440 u043c u0432 u263a beach u0443 u043b u0001f64f https u0001f60d u043f home u0434 u0001f43e u0001f44c u0001f3e1 loving u26a1 u0001f4af\n",
    "\n",
    "####10 CRITERIA\n",
    "\n",
    "Topic 7: 240\n",
    "u0627 u0644 u064a u0648 u0645 u0646 u062a u0631 u0647 u0628 u0639 u062f u0643 u0633 u0642 u0641 u0634 u062d u0635 u0623 u0629 u062c u062e u0630 u0001f602 u0637 u0632 u061f u063a ness\n",
    "\n",
    "##conclusions: \n",
    "clustering by tweets themselves was not particularly more informative, the clusters look very similar.\n",
    "\n",
    "As far as the number of latent features to draw out, six did not seem to seperate them into useful clusters.\n",
    "\n",
    "With ten latent features, I start to get categories:\n",
    "\n",
    "- <b>Parks</b>: tweets related to parks, oceans, outside\n",
    "- <b>Local Buisnesses</b>: tweets related to coffee, breweries, ect\n",
    "- <b>Hiring</b>: tweets related to open calls for jobs\n",
    "- <b>Graffiti/Trafic</b>: tweets related to grafitti, parking violations, potholes. Less related to freetime activities and more to maintence of city.\n",
    "\n",
    "For 10, 15, and 20 latent features, multiple geoids emerged from these subsections, with each of them parsing them slightly different. I think 15 is a nice balance."
   ]
  },
  {
   "cell_type": "code",
   "execution_count": null,
   "metadata": {
    "collapsed": true
   },
   "outputs": [],
   "source": []
  }
 ],
 "metadata": {
  "kernelspec": {
   "display_name": "Python 2",
   "language": "python",
   "name": "python2"
  },
  "language_info": {
   "codemirror_mode": {
    "name": "ipython",
    "version": 2
   },
   "file_extension": ".py",
   "mimetype": "text/x-python",
   "name": "python",
   "nbconvert_exporter": "python",
   "pygments_lexer": "ipython2",
   "version": "2.7.10"
  }
 },
 "nbformat": 4,
 "nbformat_minor": 0
}
