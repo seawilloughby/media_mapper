{
 "cells": [
  {
   "cell_type": "code",
   "execution_count": 147,
   "metadata": {
    "collapsed": false
   },
   "outputs": [],
   "source": [
    "import pandas as pd\n",
    "import media_mapper as mm\n",
    "import numpy as np\n",
    "from sklearn.cluster import KMeans\n",
    "import json\n",
    "import matplotlib.pyplot as plt\n",
    "%matplotlib inline"
   ]
  },
  {
   "cell_type": "code",
   "execution_count": 2,
   "metadata": {
    "collapsed": false
   },
   "outputs": [],
   "source": [
    "###get dataframe\n",
    "df = mm.pipeline.retrieve_sql_tweets('tweets_with_geoV6')"
   ]
  },
  {
   "cell_type": "code",
   "execution_count": 3,
   "metadata": {
    "collapsed": false
   },
   "outputs": [
    {
     "data": {
      "text/html": [
       "<div>\n",
       "<table border=\"1\" class=\"dataframe\">\n",
       "  <thead>\n",
       "    <tr style=\"text-align: right;\">\n",
       "      <th></th>\n",
       "      <th>timestamp_ms</th>\n",
       "      <th>geoid10</th>\n",
       "      <th>id</th>\n",
       "    </tr>\n",
       "  </thead>\n",
       "  <tbody>\n",
       "    <tr>\n",
       "      <th>0</th>\n",
       "      <td>1436990735491</td>\n",
       "      <td>060750615003006</td>\n",
       "      <td>621410300290592768</td>\n",
       "    </tr>\n",
       "    <tr>\n",
       "      <th>1</th>\n",
       "      <td>1437945824772</td>\n",
       "      <td>060750134001000</td>\n",
       "      <td>625416235082194944</td>\n",
       "    </tr>\n",
       "    <tr>\n",
       "      <th>2</th>\n",
       "      <td>1438041259509</td>\n",
       "      <td>060759804011003</td>\n",
       "      <td>625816517381332992</td>\n",
       "    </tr>\n",
       "    <tr>\n",
       "      <th>3</th>\n",
       "      <td>1437873474604</td>\n",
       "      <td>060750101001001</td>\n",
       "      <td>625112776483188736</td>\n",
       "    </tr>\n",
       "    <tr>\n",
       "      <th>4</th>\n",
       "      <td>1437929054749</td>\n",
       "      <td>060750604001007</td>\n",
       "      <td>625345896507666432</td>\n",
       "    </tr>\n",
       "  </tbody>\n",
       "</table>\n",
       "</div>"
      ],
      "text/plain": [
       "    timestamp_ms          geoid10                  id\n",
       "0  1436990735491  060750615003006  621410300290592768\n",
       "1  1437945824772  060750134001000  625416235082194944\n",
       "2  1438041259509  060759804011003  625816517381332992\n",
       "3  1437873474604  060750101001001  625112776483188736\n",
       "4  1437929054749  060750604001007  625345896507666432"
      ]
     },
     "execution_count": 3,
     "metadata": {},
     "output_type": "execute_result"
    }
   ],
   "source": [
    "df.head()"
   ]
  },
  {
   "cell_type": "markdown",
   "metadata": {},
   "source": [
    "##get a count for every day of the week, and hour of the day"
   ]
  },
  {
   "cell_type": "code",
   "execution_count": 4,
   "metadata": {
    "collapsed": false
   },
   "outputs": [],
   "source": [
    "#obtain hour and day of week variables\n",
    "df  =mm.pipeline.transform_timestamp(df, hour = True, DOW = True)"
   ]
  },
  {
   "cell_type": "code",
   "execution_count": 5,
   "metadata": {
    "collapsed": false
   },
   "outputs": [],
   "source": [
    "def tweet_rate_by_hour(df, dow = False):\n",
    "    '''Calculates tweets per hour from a dataframe with unqiue entries for tweets, \n",
    "    and a datetime column. Drops the id column.\n",
    "    If dow is false, will return a dataframe grouped only by hour. \n",
    "    If dow is true, will return a dataframe grouped by weekend(0) or weekday (1).'''\n",
    "    #column of ones serves as a counter for number of tweets during group bys\n",
    "    df['twt_cnt'] = 1\n",
    "    #group by hour, so we have the total tweets for every hour\n",
    "    df = df.groupby(['geoid10', 'date', 'hour']).agg(np.sum).reset_index().drop('id', 1)\n",
    "    #At this point, the twt_count is the number of tweets for every hour \n",
    "    df['twt_rate'] = df['twt_cnt']\n",
    "    if dow == False:\n",
    "        #groupby geoid and hour to get the average rate for every hour\n",
    "        df = df.groupby(['geoid10', 'hour']).agg(np.mean).reset_index()\n",
    "        df.drop('DOW', 1, inplace = True)\n",
    "        df.drop('twt_cnt', 1, inplace = True )  \n",
    "        df['hr_bin'] = pd.cut(df.hour, bins = 5, labels = ['latenight', 'dawn','morning','afternoon','evening'])\n",
    "        df = df.groupby(['geoid10', 'hr_bin']).agg(np.mean).reset_index().drop('hour', 1)\n",
    "        return df\n",
    "    if dow == True:\n",
    "        #group by date for the average tweet rate every day\n",
    "        df = df.groupby(['geoid10', 'date', 'DOW']).agg(np.mean).reset_index()\n",
    "        df.drop('hour',1, inplace = True)\n",
    "        df.drop('twt_cnt',1, inplace = True)    \n",
    "        df['wknd']=df['DOW'].where(df['DOW'] > 5) \n",
    "        df['wkday'] = df['wknd'].isnull().astype(int)\n",
    "        df.drop('DOW', 1, inplace = True)\n",
    "        df.drop('wknd', 1, inplace = True)\n",
    "        #final groupby to get an average count for week days or weekends \n",
    "        df = df.groupby(['geoid10', 'wkday']).agg(np.mean).reset_index()\n",
    "        return df\n",
    "    return df"
   ]
  },
  {
   "cell_type": "code",
   "execution_count": null,
   "metadata": {
    "collapsed": false
   },
   "outputs": [],
   "source": []
  },
  {
   "cell_type": "code",
   "execution_count": 6,
   "metadata": {
    "collapsed": false
   },
   "outputs": [],
   "source": [
    "def pivot_table(df, timevariable, column_prefix ):\n",
    "    '''Takes a dataframe with three columns: Geoid, measurement of tweets, and time variable.\n",
    "    Takes an argument of a column_prefix, which is used to name the new time variable columns.\n",
    "    Pivots the table to create a dataframe with geoid as the index, and the time variable as the features.\n",
    "    '''\n",
    "    df = df.pivot(index = 'geoid10', columns = timevariable)\n",
    "    df = df.reset_index(1)\n",
    "    df = df.rename(columns = lambda x: column_prefix + str(x))\n",
    "    df.columns = df.columns.droplevel()\n",
    "    return df"
   ]
  },
  {
   "cell_type": "code",
   "execution_count": 7,
   "metadata": {
    "collapsed": false
   },
   "outputs": [],
   "source": [
    "#get tweet rate by hour\n",
    "df_tr_wkdy = tweet_rate_by_hour(df, dow= True)\n",
    "#pivot table so DOW is columns\n",
    "df_tr_wkdy = pivot_table(df_tr_wkdy, 'wkday', column_prefix = 'wkday_')"
   ]
  },
  {
   "cell_type": "code",
   "execution_count": 8,
   "metadata": {
    "collapsed": false
   },
   "outputs": [
    {
     "data": {
      "text/html": [
       "<div>\n",
       "<table border=\"1\" class=\"dataframe\">\n",
       "  <thead>\n",
       "    <tr style=\"text-align: right;\">\n",
       "      <th>wkday</th>\n",
       "      <th>wkd_</th>\n",
       "      <th>wkd_0</th>\n",
       "      <th>wkd_1</th>\n",
       "    </tr>\n",
       "  </thead>\n",
       "  <tbody>\n",
       "    <tr>\n",
       "      <th>3790</th>\n",
       "      <td>060759809001128</td>\n",
       "      <td>1.0</td>\n",
       "      <td>1.083333</td>\n",
       "    </tr>\n",
       "    <tr>\n",
       "      <th>3791</th>\n",
       "      <td>060759809001129</td>\n",
       "      <td>NaN</td>\n",
       "      <td>1.000000</td>\n",
       "    </tr>\n",
       "    <tr>\n",
       "      <th>3792</th>\n",
       "      <td>060759809001134</td>\n",
       "      <td>1.0</td>\n",
       "      <td>1.000000</td>\n",
       "    </tr>\n",
       "    <tr>\n",
       "      <th>3793</th>\n",
       "      <td>060759901000002</td>\n",
       "      <td>1.0</td>\n",
       "      <td>NaN</td>\n",
       "    </tr>\n",
       "    <tr>\n",
       "      <th>3794</th>\n",
       "      <td>060759901000003</td>\n",
       "      <td>2.5</td>\n",
       "      <td>NaN</td>\n",
       "    </tr>\n",
       "  </tbody>\n",
       "</table>\n",
       "</div>"
      ],
      "text/plain": [
       "wkday             wkd_  wkd_0     wkd_1\n",
       "3790   060759809001128    1.0  1.083333\n",
       "3791   060759809001129    NaN  1.000000\n",
       "3792   060759809001134    1.0  1.000000\n",
       "3793   060759901000002    1.0       NaN\n",
       "3794   060759901000003    2.5       NaN"
      ]
     },
     "execution_count": 8,
     "metadata": {},
     "output_type": "execute_result"
    }
   ],
   "source": [
    "df_tr_wkdy.tail()"
   ]
  },
  {
   "cell_type": "code",
   "execution_count": 9,
   "metadata": {
    "collapsed": false
   },
   "outputs": [],
   "source": [
    "#get tweet rate by hour\n",
    "df_tr_hr = tweet_rate_by_hour(df)\n",
    "#pivot table so time of day is columns\n",
    "df_tr_hr = pivot_table(df_tr_hr, 'hr_bin', column_prefix = 'hrbin_')"
   ]
  },
  {
   "cell_type": "code",
   "execution_count": 10,
   "metadata": {
    "collapsed": false
   },
   "outputs": [
    {
     "data": {
      "text/html": [
       "<div>\n",
       "<table border=\"1\" class=\"dataframe\">\n",
       "  <thead>\n",
       "    <tr style=\"text-align: right;\">\n",
       "      <th>hr_bin</th>\n",
       "      <th>hrbin_</th>\n",
       "      <th>hrbin_afternoon</th>\n",
       "      <th>hrbin_dawn</th>\n",
       "      <th>hrbin_evening</th>\n",
       "      <th>hrbin_latenight</th>\n",
       "      <th>hrbin_morning</th>\n",
       "    </tr>\n",
       "  </thead>\n",
       "  <tbody>\n",
       "    <tr>\n",
       "      <th>0</th>\n",
       "      <td>060750101001000</td>\n",
       "      <td>1.566667</td>\n",
       "      <td>1.000000</td>\n",
       "      <td>1.497619</td>\n",
       "      <td>1.628571</td>\n",
       "      <td>1</td>\n",
       "    </tr>\n",
       "    <tr>\n",
       "      <th>1</th>\n",
       "      <td>060750101001001</td>\n",
       "      <td>2.148681</td>\n",
       "      <td>1.819597</td>\n",
       "      <td>3.529038</td>\n",
       "      <td>3.584762</td>\n",
       "      <td>1</td>\n",
       "    </tr>\n",
       "    <tr>\n",
       "      <th>2</th>\n",
       "      <td>060750101001002</td>\n",
       "      <td>NaN</td>\n",
       "      <td>NaN</td>\n",
       "      <td>NaN</td>\n",
       "      <td>1.000000</td>\n",
       "      <td>NaN</td>\n",
       "    </tr>\n",
       "    <tr>\n",
       "      <th>3</th>\n",
       "      <td>060750101001004</td>\n",
       "      <td>1.325000</td>\n",
       "      <td>1.232143</td>\n",
       "      <td>1.812762</td>\n",
       "      <td>2.202626</td>\n",
       "      <td>1</td>\n",
       "    </tr>\n",
       "    <tr>\n",
       "      <th>4</th>\n",
       "      <td>060750101001005</td>\n",
       "      <td>1.500000</td>\n",
       "      <td>1.000000</td>\n",
       "      <td>1.500000</td>\n",
       "      <td>1.000000</td>\n",
       "      <td>1</td>\n",
       "    </tr>\n",
       "  </tbody>\n",
       "</table>\n",
       "</div>"
      ],
      "text/plain": [
       "hr_bin           hrbin_  hrbin_afternoon  hrbin_dawn  hrbin_evening  \\\n",
       "0       060750101001000         1.566667    1.000000       1.497619   \n",
       "1       060750101001001         2.148681    1.819597       3.529038   \n",
       "2       060750101001002              NaN         NaN            NaN   \n",
       "3       060750101001004         1.325000    1.232143       1.812762   \n",
       "4       060750101001005         1.500000    1.000000       1.500000   \n",
       "\n",
       "hr_bin  hrbin_latenight  hrbin_morning  \n",
       "0              1.628571              1  \n",
       "1              3.584762              1  \n",
       "2              1.000000            NaN  \n",
       "3              2.202626              1  \n",
       "4              1.000000              1  "
      ]
     },
     "execution_count": 10,
     "metadata": {},
     "output_type": "execute_result"
    }
   ],
   "source": [
    "df_tr_hr.head()"
   ]
  },
  {
   "cell_type": "markdown",
   "metadata": {},
   "source": [
    "###merge dataframes for one matrix"
   ]
  },
  {
   "cell_type": "code",
   "execution_count": 11,
   "metadata": {
    "collapsed": false
   },
   "outputs": [],
   "source": [
    "dfk = pd.merge(df_tr_hr, df_tr_wkdy, left_on = 'hrbin_', right_on = 'wkd_').drop('wkd_', 1)"
   ]
  },
  {
   "cell_type": "code",
   "execution_count": 12,
   "metadata": {
    "collapsed": false
   },
   "outputs": [],
   "source": [
    "#fill missing values with zeroes \n",
    "dfk.fillna(0, inplace = True)"
   ]
  },
  {
   "cell_type": "code",
   "execution_count": 13,
   "metadata": {
    "collapsed": false
   },
   "outputs": [
    {
     "data": {
      "text/plain": [
       "['hrbin_',\n",
       " 'hrbin_afternoon',\n",
       " 'hrbin_dawn',\n",
       " 'hrbin_evening',\n",
       " 'hrbin_latenight',\n",
       " 'hrbin_morning',\n",
       " 'wkd_0',\n",
       " 'wkd_1']"
      ]
     },
     "execution_count": 13,
     "metadata": {},
     "output_type": "execute_result"
    }
   ],
   "source": [
    "dfk.columns.tolist()"
   ]
  },
  {
   "cell_type": "code",
   "execution_count": 14,
   "metadata": {
    "collapsed": false
   },
   "outputs": [],
   "source": [
    "k_array = dfk[['hrbin_afternoon','hrbin_dawn',\n",
    " 'hrbin_evening',\n",
    " 'hrbin_latenight',\n",
    " 'hrbin_morning',\n",
    " 'wkd_0',\n",
    " 'wkd_1']].values"
   ]
  },
  {
   "cell_type": "code",
   "execution_count": 15,
   "metadata": {
    "collapsed": false
   },
   "outputs": [
    {
     "data": {
      "text/plain": [
       "(3795, 7)"
      ]
     },
     "execution_count": 15,
     "metadata": {},
     "output_type": "execute_result"
    }
   ],
   "source": [
    "k_array.shape"
   ]
  },
  {
   "cell_type": "code",
   "execution_count": 16,
   "metadata": {
    "collapsed": false
   },
   "outputs": [],
   "source": [
    "kmeans = KMeans(n_clusters = 6)"
   ]
  },
  {
   "cell_type": "code",
   "execution_count": 17,
   "metadata": {
    "collapsed": false
   },
   "outputs": [
    {
     "data": {
      "text/plain": [
       "KMeans(copy_x=True, init='k-means++', max_iter=300, n_clusters=6, n_init=10,\n",
       "    n_jobs=1, precompute_distances='auto', random_state=None, tol=0.0001,\n",
       "    verbose=0)"
      ]
     },
     "execution_count": 17,
     "metadata": {},
     "output_type": "execute_result"
    }
   ],
   "source": [
    "kmeans.fit(X =k_array )"
   ]
  },
  {
   "cell_type": "code",
   "execution_count": 18,
   "metadata": {
    "collapsed": false
   },
   "outputs": [
    {
     "data": {
      "text/plain": [
       "(3795, 7)"
      ]
     },
     "execution_count": 18,
     "metadata": {},
     "output_type": "execute_result"
    }
   ],
   "source": [
    "k_array.shape"
   ]
  },
  {
   "cell_type": "code",
   "execution_count": 19,
   "metadata": {
    "collapsed": false
   },
   "outputs": [],
   "source": [
    "features = dfk.columns.tolist()[1:]\n",
    "geoids = dfk['hrbin_']"
   ]
  },
  {
   "cell_type": "code",
   "execution_count": 20,
   "metadata": {
    "collapsed": true
   },
   "outputs": [],
   "source": [
    "## 2. Print out the centroids."
   ]
  },
  {
   "cell_type": "code",
   "execution_count": 21,
   "metadata": {
    "collapsed": false
   },
   "outputs": [
    {
     "name": "stdout",
     "output_type": "stream",
     "text": [
      "cluster centers:\n",
      "[[  1.04345737   0.75056561   1.07498149   1.09614073   0.49188564\n",
      "    1.60507619   1.06730977]\n",
      " [ 83.58166667  86.95294118  84.99821429  88.72833333  84.97058824\n",
      "   82.62385321  62.68055556]\n",
      " [  0.4213016    0.18948981   0.48356415   0.44778998   0.16380134\n",
      "    0.24426934   0.94300179]\n",
      " [ 15.40285714  25.4         32.70857143  30.12         1.41666667\n",
      "   40.57142857   1.        ]\n",
      " [ 43.15833333   1.52333333  45.11785714  11.39916667   2.28546178\n",
      "   32.97701149   4.00548654]\n",
      " [  1.71802006   1.88350404   2.02686733   1.95857963   0.93675727\n",
      "    4.78074438   1.22297558]]\n"
     ]
    }
   ],
   "source": [
    "print \"cluster centers:\"\n",
    "print kmeans.cluster_centers_"
   ]
  },
  {
   "cell_type": "markdown",
   "metadata": {
    "collapsed": true
   },
   "source": [
    "# 3. Find the top 10 features for each cluster."
   ]
  },
  {
   "cell_type": "code",
   "execution_count": 22,
   "metadata": {
    "collapsed": false
   },
   "outputs": [],
   "source": [
    "top_centroids = kmeans.cluster_centers_.argsort()[:,-1:-11:-1]"
   ]
  },
  {
   "cell_type": "code",
   "execution_count": 23,
   "metadata": {
    "collapsed": false
   },
   "outputs": [
    {
     "name": "stdout",
     "output_type": "stream",
     "text": [
      "top features for each cluster:\n",
      "0\n",
      "[5 3 2 6 0 1 4]\n",
      "0: wkd_0, hrbin_latenight, hrbin_evening, wkd_1, hrbin_afternoon, hrbin_dawn, hrbin_morning\n",
      "1\n",
      "[3 1 2 4 0 5 6]\n",
      "1: hrbin_latenight, hrbin_dawn, hrbin_evening, hrbin_morning, hrbin_afternoon, wkd_0, wkd_1\n",
      "2\n",
      "[6 2 3 0 5 1 4]\n",
      "2: wkd_1, hrbin_evening, hrbin_latenight, hrbin_afternoon, wkd_0, hrbin_dawn, hrbin_morning\n",
      "3\n",
      "[5 2 3 1 0 4 6]\n",
      "3: wkd_0, hrbin_evening, hrbin_latenight, hrbin_dawn, hrbin_afternoon, hrbin_morning, wkd_1\n",
      "4\n",
      "[2 0 5 3 6 4 1]\n",
      "4: hrbin_evening, hrbin_afternoon, wkd_0, hrbin_latenight, wkd_1, hrbin_morning, hrbin_dawn\n",
      "5\n",
      "[5 2 3 1 0 6 4]\n",
      "5: wkd_0, hrbin_evening, hrbin_latenight, hrbin_dawn, hrbin_afternoon, wkd_1, hrbin_morning\n"
     ]
    }
   ],
   "source": [
    "print \"top features for each cluster:\"\n",
    "for num, centroid in enumerate(top_centroids):\n",
    "    print num\n",
    "    print centroid\n",
    "    print \"%d: %s\" % (num, \", \".join(features[i] for i in centroid))"
   ]
  },
  {
   "cell_type": "code",
   "execution_count": 24,
   "metadata": {
    "collapsed": false
   },
   "outputs": [],
   "source": [
    "assigned_cluster = kmeans.transform(k_array).argmin(axis=1)"
   ]
  },
  {
   "cell_type": "code",
   "execution_count": 25,
   "metadata": {
    "collapsed": false
   },
   "outputs": [
    {
     "data": {
      "text/plain": [
       "array([0, 5, 2, ..., 0, 2, 0])"
      ]
     },
     "execution_count": 25,
     "metadata": {},
     "output_type": "execute_result"
    }
   ],
   "source": [
    "assigned_cluster"
   ]
  },
  {
   "cell_type": "markdown",
   "metadata": {},
   "source": [
    "###print out 30 random geoids for each cluster"
   ]
  },
  {
   "cell_type": "code",
   "execution_count": 26,
   "metadata": {
    "collapsed": false
   },
   "outputs": [
    {
     "name": "stdout",
     "output_type": "stream",
     "text": [
      "1582 cluster # 0\n",
      "1 cluster # 1\n",
      "2094 cluster # 2\n",
      "1 cluster # 3\n",
      "1 cluster # 4\n",
      "116 cluster # 5\n"
     ]
    }
   ],
   "source": [
    "from collections import defaultdict\n",
    "geoidclust = defaultdict(int)\n",
    "clusters = defaultdict(list)\n",
    "for i in range(kmeans.n_clusters):\n",
    "    cluster = np.arange(0, k_array.shape[0])[assigned_cluster==i]\n",
    "    geoids = [dfk.ix[geoindx]['hrbin_'] for geoindx in cluster]\n",
    "    print len(geoids), 'cluster #', i\n",
    "    #make a dictionary of cluster as the key, and geoids as the list\n",
    "    clusters[i] = geoids\n",
    "    #second dictionary to quickly look up what cluster each geoid belongs to\n",
    "    for geo in geoids:\n",
    "        geoidclust[geo] = i\n",
    "   "
   ]
  },
  {
   "cell_type": "code",
   "execution_count": 82,
   "metadata": {
    "collapsed": false
   },
   "outputs": [
    {
     "data": {
      "text/plain": [
       "0"
      ]
     },
     "execution_count": 82,
     "metadata": {},
     "output_type": "execute_result"
    }
   ],
   "source": [
    "geoidclust['060750101001000']"
   ]
  },
  {
   "cell_type": "markdown",
   "metadata": {},
   "source": [
    "###How do they Map?"
   ]
  },
  {
   "cell_type": "code",
   "execution_count": 28,
   "metadata": {
    "collapsed": false
   },
   "outputs": [],
   "source": [
    "#add geocolumn \n",
    "dfk['geoid10'] = dfk['hrbin_']\n",
    "#add tweetcount as average value\n",
    "dfk['tweetcnt'] = dfk[['hrbin_afternoon',\n",
    " 'hrbin_dawn',\n",
    " 'hrbin_evening',\n",
    " 'hrbin_latenight',\n",
    " 'hrbin_morning',\n",
    " 'wkd_0',\n",
    " 'wkd_1']].mean(axis = 1)"
   ]
  },
  {
   "cell_type": "code",
   "execution_count": 39,
   "metadata": {
    "collapsed": false
   },
   "outputs": [],
   "source": [
    "def merge_shapes_with_dataframe(df):\n",
    "    '''imports sql shape files for san francisco. Adds them to a dataframe based on the shared 'geoid10' column.\n",
    "    Also assmes a 'tweetcnt' column. Returns the new dataframe'''\n",
    "    ###Retrieve the Shape Files for Each Block:\n",
    "    geodf = pd.read_csv('/Users/christy/Documents/root/repos/media_mapper/data_pipeline/data/intermediate_data/sf_only_sql_shapes.csv')\n",
    "    #format the dataframe\n",
    "    geodf['geoid10'] = geodf.geoid10.astype('str')\n",
    "    geodf.drop('Unnamed: 0', axis = 1, inplace = True)\n",
    "    \n",
    "    df['geoid10'] =df['geoid10'].apply(lambda x: x[1:])\n",
    "    #create a new dataframe \n",
    "    df = pd.merge(geodf, df, on='geoid10', how='outer')\n",
    "    #fill no tweets with a zero value\n",
    "    df.tweetcnt.fillna(0, inplace = True)\n",
    "    #drop empty hour columns\n",
    "    return df\n"
   ]
  },
  {
   "cell_type": "code",
   "execution_count": 41,
   "metadata": {
    "collapsed": false
   },
   "outputs": [],
   "source": [
    "#format geocolumn for mergind \n",
    "dfk['geoid10'] =dfk['geoid10'].apply(lambda x: x[1:])\n",
    "geodf = merge_shapes_with_dataframe(dfk)\n",
    "#optional color pallet\n",
    "colors = ['#c6f50f', '#66cdaa', '#ffa500', '#f67453', '#f6c653', '#ab9eba']\n",
    "#add color column based on values \n",
    "mapdf['hexcolor'] =mapdf[\"hrbin_\"].apply(lambda x:colors[geoidclust[x]].upper())\n",
    "mapdf['cluster'] = mapdf['hrbin_'].apply(lambda x: str(geoidclust[x]))\n"
   ]
  },
  {
   "cell_type": "code",
   "execution_count": 115,
   "metadata": {
    "collapsed": true
   },
   "outputs": [],
   "source": [
    "#right now I am not using the cluster color \n",
    "\n",
    "def add_properties_geo(row):\n",
    "    '''Creates the properties geoid, tweetcnt, cluster number'''\n",
    "    geoid = row['geoid10']\n",
    "    tweetrate = row['tweetcnt']\n",
    "    hexcolor = row['hexcolor']\n",
    "    cluster = row['cluster']\n",
    "    geo_json = {\"type\": \"Feature\", \"geometry\": json.loads(row['geometry']), \"properties\": {'geoid': geoid ,'tweetrate': tweetrate, 'cluster': cluster , 'hexcolor' : hexcolor}}\n",
    "    return geo_json\n",
    "\n",
    "def dataframe_to_geojson(df, outfilename):\n",
    "    '''Takes in a dataframe with a count, geoid10, and list of tokens. Dumps it into a json geojason file'''\n",
    "    df['geoid10'] = df['geoid10'].astype('str')\n",
    "    df[\"tweetcnt\"] = df['tweetcnt'].astype('str')\n",
    "    list_to_export = []\n",
    "    for idx, row in df.iterrows():\n",
    "        list_to_export.append(add_properties_geo(row))\n",
    "    with open(outfilename, 'w') as outfile:\n",
    "        json.dump(list_to_export, outfile)"
   ]
  },
  {
   "cell_type": "code",
   "execution_count": 117,
   "metadata": {
    "collapsed": false
   },
   "outputs": [
    {
     "name": "stderr",
     "output_type": "stream",
     "text": [
      "/Users/christy/miniconda/lib/python2.7/site-packages/IPython/kernel/__main__.py:12: SettingWithCopyWarning: \n",
      "A value is trying to be set on a copy of a slice from a DataFrame.\n",
      "Try using .loc[row_indexer,col_indexer] = value instead\n",
      "\n",
      "See the the caveats in the documentation: http://pandas.pydata.org/pandas-docs/stable/indexing.html#indexing-view-versus-copy\n",
      "/Users/christy/miniconda/lib/python2.7/site-packages/IPython/kernel/__main__.py:13: SettingWithCopyWarning: \n",
      "A value is trying to be set on a copy of a slice from a DataFrame.\n",
      "Try using .loc[row_indexer,col_indexer] = value instead\n",
      "\n",
      "See the the caveats in the documentation: http://pandas.pydata.org/pandas-docs/stable/indexing.html#indexing-view-versus-copy\n"
     ]
    }
   ],
   "source": [
    "dataframe_to_geojson(mapdf, 'map_making/clusters/data/clustergeo.json')"
   ]
  },
  {
   "cell_type": "markdown",
   "metadata": {},
   "source": [
    "### what did it cluster on?\n",
    "\n",
    "####Round 1:"
   ]
  },
  {
   "cell_type": "code",
   "execution_count": 140,
   "metadata": {
    "collapsed": false
   },
   "outputs": [
    {
     "data": {
      "text/plain": [
       "['060759804011003']"
      ]
     },
     "execution_count": 140,
     "metadata": {},
     "output_type": "execute_result"
    }
   ],
   "source": [
    "clusters[1]"
   ]
  },
  {
   "cell_type": "code",
   "execution_count": 137,
   "metadata": {
    "collapsed": false
   },
   "outputs": [
    {
     "name": "stdout",
     "output_type": "stream",
     "text": [
      "0 \n",
      " number of neighborhoods:  1582 \n",
      "hrbin_afternoon    1.043457\n",
      "hrbin_dawn         0.750566\n",
      "hrbin_evening      1.074981\n",
      "hrbin_latenight    1.096141\n",
      "hrbin_morning      0.491886\n",
      "wkd_0              1.605076\n",
      "wkd_1              1.067310\n",
      "dtype: float64 \n",
      "\n",
      "\n",
      "1 \n",
      " number of neighborhoods:  1 \n",
      "hrbin_afternoon    83.581667\n",
      "hrbin_dawn         86.952941\n",
      "hrbin_evening      84.998214\n",
      "hrbin_latenight    88.728333\n",
      "hrbin_morning      84.970588\n",
      "wkd_0              82.623853\n",
      "wkd_1              62.680556\n",
      "dtype: float64 \n",
      "\n",
      "\n",
      "2 \n",
      " number of neighborhoods:  2094 \n",
      "hrbin_afternoon    0.421302\n",
      "hrbin_dawn         0.189490\n",
      "hrbin_evening      0.483564\n",
      "hrbin_latenight    0.447790\n",
      "hrbin_morning      0.163801\n",
      "wkd_0              0.244269\n",
      "wkd_1              0.943002\n",
      "dtype: float64 \n",
      "\n",
      "\n",
      "3 \n",
      " number of neighborhoods:  1 \n",
      "hrbin_afternoon    15.402857\n",
      "hrbin_dawn         25.400000\n",
      "hrbin_evening      32.708571\n",
      "hrbin_latenight    30.120000\n",
      "hrbin_morning       1.416667\n",
      "wkd_0              40.571429\n",
      "wkd_1               1.000000\n",
      "dtype: float64 \n",
      "\n",
      "\n",
      "4 \n",
      " number of neighborhoods:  1 \n",
      "hrbin_afternoon    43.158333\n",
      "hrbin_dawn          1.523333\n",
      "hrbin_evening      45.117857\n",
      "hrbin_latenight    11.399167\n",
      "hrbin_morning       2.285462\n",
      "wkd_0              32.977011\n",
      "wkd_1               4.005487\n",
      "dtype: float64 \n",
      "\n",
      "\n",
      "5 \n",
      " number of neighborhoods:  116 \n",
      "hrbin_afternoon    1.718020\n",
      "hrbin_dawn         1.883504\n",
      "hrbin_evening      2.026867\n",
      "hrbin_latenight    1.958580\n",
      "hrbin_morning      0.936757\n",
      "wkd_0              4.780744\n",
      "wkd_1              1.222976\n",
      "dtype: float64 \n",
      "\n",
      "\n"
     ]
    }
   ],
   "source": [
    "for k, v in clusters.iteritems():\n",
    "    print k,'\\n number of neighborhoods: ', len(v), '\\n', dfk[dfk['hrbin_'].isin(v)].mean(),'\\n','\\n'"
   ]
  },
  {
   "cell_type": "markdown",
   "metadata": {},
   "source": [
    "wait. so how are these three clusters different?"
   ]
  },
  {
   "cell_type": "code",
   "execution_count": 180,
   "metadata": {
    "collapsed": false
   },
   "outputs": [
    {
     "data": {
      "text/plain": [
       "<matplotlib.axes._subplots.AxesSubplot at 0x11d9c8e50>"
      ]
     },
     "execution_count": 180,
     "metadata": {},
     "output_type": "execute_result"
    },
    {
     "data": {
      "image/png": "[encoded data removed]",
      "text/plain": [
       "<matplotlib.figure.Figure at 0x11d683b10>"
      ]
     },
     "metadata": {},
     "output_type": "display_data"
    }
   ],
   "source": [
    "fig, axes = plt.subplots(nrows=2, ncols=2)\n",
    "cluster5 = clusters[5]\n",
    "dfk[dfk['hrbin_'].isin(cluster5)].plot(kind = 'box', title = 'Cluster # 5', figsize = (20,8),ylim = (0,15),ax=axes[0,0])\n",
    "\n",
    "cluster5 = clusters[0]\n",
    "dfk[dfk['hrbin_'].isin(cluster5)].plot(kind = 'box', title = 'Cluster # 0', figsize = (20,8), ylim = (0,15), ax=axes[0,1])\n",
    "\n",
    "cluster5 = clusters[2]\n",
    "dfk[dfk['hrbin_'].isin(cluster5)].plot(kind = 'box', title = 'Cluster # 2', figsize = (20,8), ylim = (0,15), ax=axes[1,1])"
   ]
  },
  {
   "cell_type": "code",
   "execution_count": null,
   "metadata": {
    "collapsed": true
   },
   "outputs": [],
   "source": []
  }
 ],
 "metadata": {
  "kernelspec": {
   "display_name": "Python 2",
   "language": "python",
   "name": "python2"
  },
  "language_info": {
   "codemirror_mode": {
    "name": "ipython",
    "version": 2
   },
   "file_extension": ".py",
   "mimetype": "text/x-python",
   "name": "python",
   "nbconvert_exporter": "python",
   "pygments_lexer": "ipython2",
   "version": "2.7.10"
  }
 },
 "nbformat": 4,
 "nbformat_minor": 0
}
