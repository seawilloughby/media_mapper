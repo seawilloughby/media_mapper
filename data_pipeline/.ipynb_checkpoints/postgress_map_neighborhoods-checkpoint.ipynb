{
 "cells": [
  {
   "cell_type": "markdown",
   "metadata": {},
   "source": [
    "##Connect to database! \n",
    "###Get Neighborhood Data"
   ]
  },
  {
   "cell_type": "code",
   "execution_count": 6,
   "metadata": {
    "collapsed": true
   },
   "outputs": [],
   "source": [
    "#send_Example.py \n",
    "import pandas as pd\n",
    "import json\n",
    "import psycopg2\n",
    "import random"
   ]
  },
  {
   "cell_type": "code",
   "execution_count": null,
   "metadata": {
    "collapsed": true
   },
   "outputs": [],
   "source": [
    "conn_dict = {'dbname':'zipfiantwitter', 'user':'clwilloughby', 'password': '', 'host':'/tmp'}\n",
    "conn = psycopg2.connect(dbname=conn_dict['dbname'], user=conn_dict['user'], host='/tmp')\n",
    "cur = conn.cursor()\n",
    "\n",
    "map_query = \"\"\"\n",
    "        SELECT\n",
    "                DISTINCT\n",
    "                ST_asGEOJSON(wkb_geometry) geometry\n",
    "                , sfn.geoid10\n",
    "\n",
    "                FROM sf_neighb sfn\n",
    "                ;\"\"\"\n",
    "\n",
    "df = pd.read_sql(map_query, conn)\n"
   ]
  },
  {
   "cell_type": "markdown",
   "metadata": {},
   "source": [
    "###Get a Random Color For Each Neighborhood\n",
    "####Later will encode information by color and hue"
   ]
  },
  {
   "cell_type": "code",
   "execution_count": 7,
   "metadata": {
    "collapsed": true
   },
   "outputs": [],
   "source": [
    "def getrandom_color(df, color_file):\n",
    "    '''takes in a dataframe of gemoetry and geoid, and a list of hex colors\n",
    "    Creates a new colomn of shape colors. Returns the new dataframe.'''\n",
    "    #import the colors csv\n",
    "    cdf = pd.read_csv('colors.csv')\n",
    "    cdf.dropna(inplace = True)\n",
    "    #make it a list\n",
    "    colors = cdf['#9966CC'].tolist() \n",
    "    num_col = df.shape[0] \n",
    "    df['hexcolors'] = [random.choice(colors) for i in xrange(num_col)]\n",
    "    return df"
   ]
  },
  {
   "cell_type": "code",
   "execution_count": 8,
   "metadata": {
    "collapsed": false
   },
   "outputs": [
    {
     "ename": "NameError",
     "evalue": "name 'df' is not defined",
     "output_type": "error",
     "traceback": [
      "\u001b[0;31m---------------------------------------------------------------------------\u001b[0m",
      "\u001b[0;31mNameError\u001b[0m                                 Traceback (most recent call last)",
      "\u001b[0;32m<ipython-input-8-349e751fd4ec>\u001b[0m in \u001b[0;36m<module>\u001b[0;34m()\u001b[0m\n\u001b[0;32m----> 1\u001b[0;31m \u001b[0mdf_col\u001b[0m \u001b[0;34m=\u001b[0m \u001b[0mgetrandom_color\u001b[0m\u001b[0;34m(\u001b[0m\u001b[0mdf\u001b[0m\u001b[0;34m,\u001b[0m \u001b[0;34m'colors.csv'\u001b[0m\u001b[0;34m)\u001b[0m\u001b[0;34m\u001b[0m\u001b[0m\n\u001b[0m",
      "\u001b[0;31mNameError\u001b[0m: name 'df' is not defined"
     ]
    }
   ],
   "source": [
    "df_col = getrandom_color(df, 'colors.csv')\n",
    "print df_col.head()"
   ]
  },
  {
   "cell_type": "markdown",
   "metadata": {},
   "source": [
    "###Convert DataFrame to JsonFile for Mapping"
   ]
  },
  {
   "cell_type": "code",
   "execution_count": null,
   "metadata": {
    "collapsed": true
   },
   "outputs": [],
   "source": [
    "def add_properties_geo(row):\n",
    "    geoid = row['geoid10']\n",
    "    hexcolor = row['hexcolors']\n",
    "    geo_json = {\"type\": \"Feature\", \"geometry\": json.loads(row['geometry']),  \"properties\": {'geoid': geoid , 'hexcolor' : hexcolor }}\n",
    "    return geo_json\n",
    "\n",
    "list_to_export = [(add_properties_geo(row) for idx, row in df_col.iterrows()]\n",
    "\n",
    "with open('mini_test.json', 'w') as outfile:\n",
    "    json.dump(list_to_export, outfile)"
   ]
  }
 ],
 "metadata": {
  "kernelspec": {
   "display_name": "Python 2",
   "language": "python",
   "name": "python2"
  },
  "language_info": {
   "codemirror_mode": {
    "name": "ipython",
    "version": 2
   },
   "file_extension": ".py",
   "mimetype": "text/x-python",
   "name": "python",
   "nbconvert_exporter": "python",
   "pygments_lexer": "ipython2",
   "version": "2.7.10"
  }
 },
 "nbformat": 4,
 "nbformat_minor": 0
}
